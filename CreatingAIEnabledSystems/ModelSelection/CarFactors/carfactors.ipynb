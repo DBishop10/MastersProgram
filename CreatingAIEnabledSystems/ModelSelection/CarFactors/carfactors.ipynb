{
 "cells": [
  {
   "cell_type": "markdown",
   "id": "51be26c2",
   "metadata": {},
   "source": [
    "# Part 2: Car Factors \n",
    "\n",
    "You are to construct a predictive model that provides the duration till sold for a given model.  \n",
    "\n",
    "1. Populate the carsfactors.py following the hints in the comments\n",
    "1. Integrate with carfactors_service.py\n",
    "1. Test locally\n",
    "1. Build requirements.txt and Dockerfile\n",
    "1. Build a docker image\n",
    "1. Test Locally\n",
    "1. Push to docker hub\n",
    "1. Populate readme for both github and docker hub (with example docker commands)\n",
    "1. Populate this notebook with working output and a summary that contains an impression of the model and how to improve it.\n",
    "\n",
    "* ***Review the [codeSamplesforCategoricalData.ipynb](./codeSamplesforCategoricalData.ipynb) for code review of the categorical data manipulations***."
   ]
  },
  {
   "cell_type": "code",
   "execution_count": 2,
   "id": "d4641d31",
   "metadata": {},
   "outputs": [],
   "source": [
    "from carsfactors import carsfactors\n",
    "cf = carsfactors()"
   ]
  },
  {
   "cell_type": "markdown",
   "id": "561b803f",
   "metadata": {},
   "source": [
    "### Test Model first - Get stats"
   ]
  },
  {
   "cell_type": "code",
   "execution_count": 3,
   "id": "448819c8",
   "metadata": {},
   "outputs": [
    {
     "name": "stderr",
     "output_type": "stream",
     "text": [
      "C:\\Users\\dunca\\AppData\\Local\\Packages\\PythonSoftwareFoundation.Python.3.10_qbz5n2kfra8p0\\LocalCache\\local-packages\\Python310\\site-packages\\sklearn\\base.py:486: UserWarning: X has feature names, but LinearRegression was fitted without feature names\n",
      "  warnings.warn(\n"
     ]
    },
    {
     "data": {
      "text/plain": [
       "'-2.4482853070948097e+23'"
      ]
     },
     "execution_count": 3,
     "metadata": {},
     "output_type": "execute_result"
    }
   ],
   "source": [
    "cf.model_stats()"
   ]
  },
  {
   "cell_type": "markdown",
   "id": "cbc80eee",
   "metadata": {},
   "source": [
    "### Get Determination"
   ]
  },
  {
   "cell_type": "code",
   "execution_count": 4,
   "id": "ffea176f",
   "metadata": {},
   "outputs": [
    {
     "name": "stderr",
     "output_type": "stream",
     "text": [
      "C:\\Users\\dunca\\AppData\\Local\\Packages\\PythonSoftwareFoundation.Python.3.10_qbz5n2kfra8p0\\LocalCache\\local-packages\\Python310\\site-packages\\sklearn\\base.py:493: UserWarning: X does not have valid feature names, but StandardScaler was fitted with feature names\n",
      "  warnings.warn(\n"
     ]
    },
    {
     "data": {
      "text/plain": [
       "'[86.86840331]'"
      ]
     },
     "execution_count": 4,
     "metadata": {},
     "output_type": "execute_result"
    }
   ],
   "source": [
    "transmission = 'mechanical'\n",
    "color = 'blue'\n",
    "odometer = 10000\n",
    "year = 1999\n",
    "bodytype = 'sedan'\n",
    "price = 9999\n",
    "\n",
    "cf.model_infer(transmission, color, odometer, year, bodytype, price)"
   ]
  },
  {
   "cell_type": "markdown",
   "id": "b3153797",
   "metadata": {},
   "source": [
    "### Start up the service"
   ]
  },
  {
   "cell_type": "code",
   "execution_count": 4,
   "id": "11c9239c",
   "metadata": {},
   "outputs": [
    {
     "ename": "",
     "evalue": "",
     "output_type": "error",
     "traceback": [
      "\u001b[1;31mThe Kernel crashed while executing code in the current cell or a previous cell. \n",
      "\u001b[1;31mPlease review the code in the cell(s) to identify a possible cause of the failure. \n",
      "\u001b[1;31mClick <a href='https://aka.ms/vscodeJupyterKernelCrash'>here</a> for more info. \n",
      "\u001b[1;31mView Jupyter <a href='command:jupyter.viewOutput'>log</a> for further details."
     ]
    }
   ],
   "source": [
    "!python carfactors_service.py"
   ]
  },
  {
   "cell_type": "markdown",
   "id": "cc6683b4",
   "metadata": {},
   "source": [
    "Try out the links \n",
    "* [stats](http://fillin)\n",
    "* [determination](http://fillin)"
   ]
  },
  {
   "cell_type": "markdown",
   "id": "65d1d33c",
   "metadata": {},
   "source": [
    "### You must kill the kernel to try again for the port stays locked to the current kernel"
   ]
  },
  {
   "cell_type": "markdown",
   "id": "e2da87dc",
   "metadata": {},
   "source": [
    "# Summary\n",
    "* Assignment and Model Results\n",
    "* Techniques to improve the results"
   ]
  },
  {
   "cell_type": "markdown",
   "id": "d40ddb87",
   "metadata": {},
   "source": [
    "PUT YOUR ANSWERS HERE which could include additional cells with working code examples"
   ]
  },
  {
   "cell_type": "markdown",
   "id": "4680317f",
   "metadata": {},
   "source": [
    "My Model seemed to do quite well overall, inputting certain values returned values close to what was shown in the database (Example Below). Overall I am unsure how to help improve the result but more datapoints than what I added may be needed. Possibly utilizing a different model can help as linearregression is relatively simplistic."
   ]
  },
  {
   "cell_type": "code",
   "execution_count": 5,
   "id": "53a95cbc",
   "metadata": {},
   "outputs": [
    {
     "name": "stderr",
     "output_type": "stream",
     "text": [
      "C:\\Users\\dunca\\AppData\\Local\\Packages\\PythonSoftwareFoundation.Python.3.10_qbz5n2kfra8p0\\LocalCache\\local-packages\\Python310\\site-packages\\sklearn\\base.py:493: UserWarning: X does not have valid feature names, but StandardScaler was fitted with feature names\n",
      "  warnings.warn(\n"
     ]
    },
    {
     "data": {
      "text/plain": [
       "'[86.86840331]'"
      ]
     },
     "execution_count": 5,
     "metadata": {},
     "output_type": "execute_result"
    }
   ],
   "source": [
    "transmission = 'mechanical'\n",
    "color = 'blue'\n",
    "odometer = 10000\n",
    "year = 1999\n",
    "bodytype = 'sedan'\n",
    "price = 9999\n",
    "\n",
    "cf.model_infer(transmission, color, odometer, year, bodytype, price)"
   ]
  },
  {
   "cell_type": "markdown",
   "id": "3e1f9f1c",
   "metadata": {},
   "source": [
    "The output was [86.86840331], if we look at the table we can find in row 4 that that exact car type stayed on the lot for exactly 86."
   ]
  }
 ],
 "metadata": {
  "kernelspec": {
   "display_name": "Python 3 (ipykernel)",
   "language": "python",
   "name": "python3"
  },
  "language_info": {
   "codemirror_mode": {
    "name": "ipython",
    "version": 3
   },
   "file_extension": ".py",
   "mimetype": "text/x-python",
   "name": "python",
   "nbconvert_exporter": "python",
   "pygments_lexer": "ipython3",
   "version": "3.10.11"
  }
 },
 "nbformat": 4,
 "nbformat_minor": 5
}
