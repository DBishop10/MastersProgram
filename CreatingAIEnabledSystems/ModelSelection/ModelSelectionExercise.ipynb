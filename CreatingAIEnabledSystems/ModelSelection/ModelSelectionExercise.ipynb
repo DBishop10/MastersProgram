{
 "cells": [
  {
   "cell_type": "markdown",
   "id": "f5e74f69",
   "metadata": {},
   "source": [
    "# Assignment Overview\n",
    "\n",
    "Links to the notes discussed in the video\n",
    "* [Model Selection Overview](./ModelSelect.pdf)\n",
    "* [Model Types](./ModelType.pdf)\n",
    "* [Model Decision Factors](./ModelDecisionFactors.pdf)\n",
    "* [Generalization Techiques](./Generalization.pdf)\n",
    "\n",
    "The assignment consists of two parts requiring you to select appropriate models with associated code/text.\n",
    "\n",
    "1. Determine challenge and relevant model for two distinct situations (fill out this notebook). \n",
    "1. Address the data code needed and the model for [car factors](./CarFactors/carfactors.ipynb) contained in the subdirectory, CarFactors.\n",
    "\n",
    "* ***Check the rubric in Canvas*** to make sure you understand the requirements and the assocated weights grading"
   ]
  },
  {
   "cell_type": "markdown",
   "id": "c82e1ef1",
   "metadata": {},
   "source": [
    "# Part 1: Speed Dating Model Selection\n",
    "\n",
    "You are to explore the data set on speed dating and construct two models that provide some insight such as grouping or predictions.  The models must come from different model areas such as listed as categories in the [ModelTypes](./ModelTypes.pdf) document.  You must justify your answer considering the data and the prediction value.\n",
    "\n",
    "The data is contained in [SpeedDatingData.csv](SpeedDatingData.csv).  The values are detailed in [SpeedDatingKey.md](./SpeedDatingKey.md).  The directory also contains the original key document - SpeedDatingDataKey.docx but jupyter lab is unable to render it.  You are free to render it outside of jupyter lab if something didn't translater clearly.  The open source tool [pandoc](https://pandoc.org/installing.html) was used to perform the translation.  It is useful for almost any translation and works in all major operating systems"
   ]
  },
  {
   "cell_type": "markdown",
   "id": "2c116d3c",
   "metadata": {},
   "source": [
    "# Model 1"
   ]
  },
  {
   "cell_type": "markdown",
   "id": "b047fd95",
   "metadata": {},
   "source": [
    "## Outline the challenge "
   ]
  },
  {
   "cell_type": "markdown",
   "id": "eeebb3c8",
   "metadata": {},
   "source": [
    "Based on the dataset the most obvious challenge is predicting match outcomes"
   ]
  },
  {
   "cell_type": "markdown",
   "id": "62a75a5b",
   "metadata": {},
   "source": [
    "### Select the features and their justification "
   ]
  },
  {
   "cell_type": "markdown",
   "id": "93701e4a",
   "metadata": {},
   "source": [
    "Ther are many features I think could help a machine learning model determine if a match will be successful or not. \\\n",
    "Age (age): In many relationships age plays a huge factor in success \\\n",
    "Race (race): similar backgrounds may play into compatibility \\\n",
    "Imortance of Race (imprace): Lets the model know if it should consider race a big factor or not for each person\\\n",
    "Field of Study (field_cd): Similar academic interests may help compatability\\\n",
    "Interest Correlation (int_corr): Can point out if the people enjoy the same hobbies\\\n",
    "Preferances(pf_o_att): Gives an overview on what a person prioritizes in a partner.\\\n",
    "Partner assessment(attr_o): Shows what the partner rated the other which matters a lot in a match\\\n",
    "Decision (dec): Determines likelyhood of wanting to see someone again, ie if they enjoyed the night enough to go out a second time\\\n",
    "Like (like): Helps show how much a participant liked their partner\\\n",
    "Match (match): Target variable"
   ]
  },
  {
   "cell_type": "markdown",
   "id": "9001fe91",
   "metadata": {},
   "source": [
    "### Note necessary feature processing such as getting rid of empty cells etc."
   ]
  },
  {
   "cell_type": "markdown",
   "id": "82ab6884",
   "metadata": {},
   "source": [
    "It may be useful to Nromalize certain features such as preference scores incase people didnt fully follow the correct input range. Creating a few new rows may also help speed up or improve the algorithm, these could consist of Preference match (ratio between participant preferance and partners attributes) and Age Difference. For certain variables such as attr_o it may be useful to use a mean or median value to fill in any gaps."
   ]
  },
  {
   "cell_type": "markdown",
   "id": "0d0eab57",
   "metadata": {},
   "source": [
    "### Model Selection"
   ]
  },
  {
   "cell_type": "markdown",
   "id": "96786b1f",
   "metadata": {},
   "source": [
    "Outline the rationale for selecting the model noting how its capabilities address your challenge"
   ]
  },
  {
   "cell_type": "markdown",
   "id": "f42b66af",
   "metadata": {},
   "source": [
    "I think the best model for this probelm would be the Random Forest Model. This is because it is an ensemble of decision trees. It is capale of handling a mix of both numerical and categorical data which is very prevelant in the csv. "
   ]
  },
  {
   "cell_type": "code",
   "execution_count": null,
   "id": "74e514e1",
   "metadata": {},
   "outputs": [],
   "source": [
    "from sklearn.ensemble import RandomForestClassifier\n",
    "from sklearn.model_selection import train_test_split\n",
    "import pandas as pd\n",
    "\n",
    "df = pd.read_csv(\"SpeedDatingData.csv\") #Assume this has been preprocessed based on specs mentioned earlier\n",
    "\n",
    "X = df.drop('match', axis=1) \n",
    "y = df['match']\n",
    "\n",
    "X_train, X_test, y_train, y_test = train_test_split(X, y, test_size=0.2, random_state=42, stratify=y)\n",
    "\n",
    "random_forest_model = RandomForestClassifier(n_estimators=100, max_depth=None, min_samples_split=2, random_state=42) \n",
    "\n",
    "random_forest_model.fit(X_train, y_train)"
   ]
  },
  {
   "cell_type": "markdown",
   "id": "3b647cf8",
   "metadata": {},
   "source": [
    "# Model 2"
   ]
  },
  {
   "cell_type": "markdown",
   "id": "0a91609a",
   "metadata": {},
   "source": [
    "## Outline the challenge"
   ]
  },
  {
   "cell_type": "markdown",
   "id": "7066e049",
   "metadata": {},
   "source": [
    "Another challenge that can be solved is analyzing participants preferences and recommending potential matches. While similar to the previous challenge this isn't directly predicting if someone will be a match instead this will be an algorithm that looks at the data and returns a list of potential partners that may end up being a match. "
   ]
  },
  {
   "cell_type": "markdown",
   "id": "ecdab22d",
   "metadata": {},
   "source": [
    "### Select the features and their justification"
   ]
  },
  {
   "cell_type": "markdown",
   "id": "c51e2164",
   "metadata": {},
   "source": [
    "Preference Scores (attr1_1): This gives an overview on the partners preferance of all 6 attributes \\\n",
    "shar1_1: Shows if there are shared interests between the individuals which is pretty important in if they will be a good potential partner \\\n",
    "int_corr: How many interests the participants share between them. \\\n",
    "imprace: Does Race matter to the participant, makes a major difference in outcome \\\n",
    "imprelig: Importance of religion, muhc like race it makes a major difference in outcome \\\n",
    "age: What age is the participant, can affect what age they may be looking to date \\\n",
    "race and samerace: Can make a difference, especially if imprace is high \\\n",
    "goal: Why someone attends a speed dating event can affect on the prefered partner \\\n",
    "sports, tvsports, museums, and gaming: All of these can affect how compatable people are, you wouldnt want someone who enjoys gaming to match up with someone who cant stand gaming but would prefer to play sports (Not exclusive but tends to be a factor in a relationship)"
   ]
  },
  {
   "cell_type": "markdown",
   "id": "ecce9215",
   "metadata": {},
   "source": [
    "### Model Selection"
   ]
  },
  {
   "cell_type": "markdown",
   "id": "115f9e4f",
   "metadata": {},
   "source": [
    "Outline the rationale for selecting the model noting how its capabilities address your challenge"
   ]
  },
  {
   "cell_type": "markdown",
   "id": "ab66d07e",
   "metadata": {},
   "source": [
    "Gradient Boosting is a great choice for this challenge. Gradient Boosting is adept at capturing non-linear relationships and interactions between features. This can help give us very accurate outputs as not many of our features are truly a linear thing. As it iterates on previous trees it may find links between categories that we may not ever have noticed and utilize them to give a good output."
   ]
  },
  {
   "cell_type": "code",
   "execution_count": 1,
   "id": "d2cb42d3",
   "metadata": {},
   "outputs": [],
   "source": [
    "from sklearn.ensemble import GradientBoostingClassifier\n",
    "from sklearn.model_selection import train_test_split\n",
    "import pandas as pd\n",
    "\n",
    "df = pd.read_csv(\"SpeedDatingData.csv\") #Assume this has been preprocessed based on specs mentioned earlier\n",
    "\n",
    "X = compatibility_df.drop('high_compatibility', axis=1) \n",
    "y = compatibility_df['high_compatibility']\n",
    "\n",
    "X_train, X_test, y_train, y_test = train_test_split(X, y, test_size=0.2, random_state=42, stratify=y)\n",
    "\n",
    "gradient_boosting_model = GradientBoostingClassifier(n_estimators=100, learning_rate=0.1, max_depth=3, random_state=42)\n",
    "\n",
    "gradient_boosting_model.fit(X_train, y_train)"
   ]
  }
 ],
 "metadata": {
  "kernelspec": {
   "display_name": "Python 3 (ipykernel)",
   "language": "python",
   "name": "python3"
  },
  "language_info": {
   "codemirror_mode": {
    "name": "ipython",
    "version": 3
   },
   "file_extension": ".py",
   "mimetype": "text/x-python",
   "name": "python",
   "nbconvert_exporter": "python",
   "pygments_lexer": "ipython3",
   "version": "3.8.10"
  }
 },
 "nbformat": 4,
 "nbformat_minor": 5
}
