{
 "cells": [
  {
   "cell_type": "code",
   "execution_count": 6,
   "id": "d0c2f167",
   "metadata": {},
   "outputs": [],
   "source": [
    "import pandas as pd\n",
    "userbase_df = pd.read_csv('data/userbase.csv')\n",
    "responded_df = pd.read_csv('data/responded.csv')"
   ]
  },
  {
   "cell_type": "code",
   "execution_count": 9,
   "id": "c3a13f1b",
   "metadata": {},
   "outputs": [
    {
     "name": "stdout",
     "output_type": "stream",
     "text": [
      "[18, 19, 20, 21, 22, 23, 24, 25, 26, 27, 28, 29, 30, 31, 32, 33, 34, 35, 36, 37, 38, 39, 40, 41, 42, 43, 44, 45, 46, 47, 48, 49, 50, 51, 52, 53, 54, 55, 56, 57, 58, 59, 60, 61, 62, 63]\n",
      "[0, 1, 2, 3, 4, 5, 6, 7, 8, 9, 10, 11, 12, 13, 14, 15, 16, 17, 18, 19, 20, 21, 22, 23, 24, 25, 26, 27, 28, 29, 30, 31, 32, 33, 34, 35, 36, 38]\n"
     ]
    }
   ],
   "source": [
    "list1 = userbase_df['Age'].unique().tolist()\n",
    "list2 = userbase_df['Tenure'].unique().tolist()\n",
    "list1.sort()\n",
    "list2.sort()\n",
    "print(list1)\n",
    "print(list2)"
   ]
  },
  {
   "cell_type": "code",
   "execution_count": 8,
   "id": "8e7837bd",
   "metadata": {},
   "outputs": [
    {
     "name": "stdout",
     "output_type": "stream",
     "text": [
      "       Responded_Date  Customer_ID  SubjectLine_ID\n",
      "230250     2016-01-22          107               1\n",
      "246990     2016-01-09          107               1\n"
     ]
    }
   ],
   "source": [
    "print(responded_df.loc[responded_df['Customer_ID'] == 107])"
   ]
  },
  {
   "cell_type": "code",
   "execution_count": 10,
   "id": "39691269",
   "metadata": {},
   "outputs": [
    {
     "name": "stdout",
     "output_type": "stream",
     "text": [
      "        Customer_ID Gender Type              Email_Address  Age  Tenure\n",
      "317376       317377      F    C  TdqktmJMwWwLq@hotmail.com   24      10\n"
     ]
    }
   ],
   "source": [
    "print(userbase_df.loc[userbase_df['Customer_ID'] == 317377])"
   ]
  },
  {
   "cell_type": "code",
   "execution_count": null,
   "id": "c60eee39",
   "metadata": {},
   "outputs": [],
   "source": []
  }
 ],
 "metadata": {
  "kernelspec": {
   "display_name": "Python 3 (ipykernel)",
   "language": "python",
   "name": "python3"
  },
  "language_info": {
   "codemirror_mode": {
    "name": "ipython",
    "version": 3
   },
   "file_extension": ".py",
   "mimetype": "text/x-python",
   "name": "python",
   "nbconvert_exporter": "python",
   "pygments_lexer": "ipython3",
   "version": "3.8.10"
  }
 },
 "nbformat": 4,
 "nbformat_minor": 5
}
