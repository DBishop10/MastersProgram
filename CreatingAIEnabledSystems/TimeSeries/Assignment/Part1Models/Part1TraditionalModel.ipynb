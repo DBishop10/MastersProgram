{
 "cells": [
  {
   "cell_type": "markdown",
   "id": "c82b9d1c",
   "metadata": {},
   "source": [
    "# Traditional Model"
   ]
  },
  {
   "cell_type": "code",
   "execution_count": 1,
   "id": "cc9ab994",
   "metadata": {},
   "outputs": [],
   "source": [
    "import os\n",
    "os.chdir('../../')"
   ]
  },
  {
   "cell_type": "code",
   "execution_count": 2,
   "id": "b2fae17d",
   "metadata": {},
   "outputs": [],
   "source": [
    "import pandas as pd\n",
    "import numpy as np\n",
    "from numpy.random import randn\n",
    "from math import radians, sin, cos, sqrt, asin\n",
    "from sklearn.preprocessing import StandardScaler\n",
    "from sklearn.preprocessing import LabelEncoder"
   ]
  },
  {
   "cell_type": "code",
   "execution_count": 3,
   "id": "67ea9138",
   "metadata": {},
   "outputs": [],
   "source": [
    "from data_pipeline import Pipeline"
   ]
  },
  {
   "cell_type": "code",
   "execution_count": 4,
   "id": "31b3bd89",
   "metadata": {},
   "outputs": [],
   "source": [
    "df = pd.read_csv('data/CreditCardFraudFourYears.csv')"
   ]
  },
  {
   "cell_type": "code",
   "execution_count": 5,
   "id": "f977b1f6",
   "metadata": {},
   "outputs": [],
   "source": [
    "pipeline = Pipeline()\n",
    "transformed_df = pipeline.transform(df)"
   ]
  },
  {
   "cell_type": "code",
   "execution_count": 6,
   "id": "0ace9c62",
   "metadata": {},
   "outputs": [
    {
     "data": {
      "text/html": [
       "<div>\n",
       "<style scoped>\n",
       "    .dataframe tbody tr th:only-of-type {\n",
       "        vertical-align: middle;\n",
       "    }\n",
       "\n",
       "    .dataframe tbody tr th {\n",
       "        vertical-align: top;\n",
       "    }\n",
       "\n",
       "    .dataframe thead th {\n",
       "        text-align: right;\n",
       "    }\n",
       "</style>\n",
       "<table border=\"1\" class=\"dataframe\">\n",
       "  <thead>\n",
       "    <tr style=\"text-align: right;\">\n",
       "      <th></th>\n",
       "      <th>total_daily_transactions</th>\n",
       "      <th>total_daily_fraud_transactions</th>\n",
       "      <th>hour_0</th>\n",
       "      <th>hour_1</th>\n",
       "      <th>hour_2</th>\n",
       "      <th>hour_3</th>\n",
       "      <th>hour_4</th>\n",
       "      <th>hour_5</th>\n",
       "      <th>hour_6</th>\n",
       "      <th>hour_7</th>\n",
       "      <th>...</th>\n",
       "      <th>hour_20</th>\n",
       "      <th>hour_21</th>\n",
       "      <th>hour_22</th>\n",
       "      <th>hour_23</th>\n",
       "      <th>is_public_holiday</th>\n",
       "      <th>activity_level</th>\n",
       "      <th>is_payday</th>\n",
       "      <th>day_of_week</th>\n",
       "      <th>month</th>\n",
       "      <th>weekday_vs_weekend</th>\n",
       "    </tr>\n",
       "    <tr>\n",
       "      <th>trans_date</th>\n",
       "      <th></th>\n",
       "      <th></th>\n",
       "      <th></th>\n",
       "      <th></th>\n",
       "      <th></th>\n",
       "      <th></th>\n",
       "      <th></th>\n",
       "      <th></th>\n",
       "      <th></th>\n",
       "      <th></th>\n",
       "      <th></th>\n",
       "      <th></th>\n",
       "      <th></th>\n",
       "      <th></th>\n",
       "      <th></th>\n",
       "      <th></th>\n",
       "      <th></th>\n",
       "      <th></th>\n",
       "      <th></th>\n",
       "      <th></th>\n",
       "      <th></th>\n",
       "    </tr>\n",
       "  </thead>\n",
       "  <tbody>\n",
       "    <tr>\n",
       "      <th>2018-01-01</th>\n",
       "      <td>1016</td>\n",
       "      <td>0</td>\n",
       "      <td>89</td>\n",
       "      <td>88</td>\n",
       "      <td>97</td>\n",
       "      <td>76</td>\n",
       "      <td>82</td>\n",
       "      <td>82</td>\n",
       "      <td>73</td>\n",
       "      <td>95</td>\n",
       "      <td>...</td>\n",
       "      <td>0</td>\n",
       "      <td>0</td>\n",
       "      <td>0</td>\n",
       "      <td>0</td>\n",
       "      <td>False</td>\n",
       "      <td>6070.808071</td>\n",
       "      <td>False</td>\n",
       "      <td>1</td>\n",
       "      <td>1</td>\n",
       "      <td>0</td>\n",
       "    </tr>\n",
       "    <tr>\n",
       "      <th>2018-01-02</th>\n",
       "      <td>1193</td>\n",
       "      <td>0</td>\n",
       "      <td>101</td>\n",
       "      <td>116</td>\n",
       "      <td>107</td>\n",
       "      <td>105</td>\n",
       "      <td>89</td>\n",
       "      <td>110</td>\n",
       "      <td>90</td>\n",
       "      <td>85</td>\n",
       "      <td>...</td>\n",
       "      <td>0</td>\n",
       "      <td>0</td>\n",
       "      <td>0</td>\n",
       "      <td>0</td>\n",
       "      <td>False</td>\n",
       "      <td>6165.922883</td>\n",
       "      <td>False</td>\n",
       "      <td>2</td>\n",
       "      <td>1</td>\n",
       "      <td>0</td>\n",
       "    </tr>\n",
       "    <tr>\n",
       "      <th>2018-01-03</th>\n",
       "      <td>1131</td>\n",
       "      <td>0</td>\n",
       "      <td>77</td>\n",
       "      <td>96</td>\n",
       "      <td>91</td>\n",
       "      <td>98</td>\n",
       "      <td>83</td>\n",
       "      <td>106</td>\n",
       "      <td>92</td>\n",
       "      <td>96</td>\n",
       "      <td>...</td>\n",
       "      <td>0</td>\n",
       "      <td>0</td>\n",
       "      <td>0</td>\n",
       "      <td>0</td>\n",
       "      <td>False</td>\n",
       "      <td>6084.626879</td>\n",
       "      <td>False</td>\n",
       "      <td>3</td>\n",
       "      <td>1</td>\n",
       "      <td>0</td>\n",
       "    </tr>\n",
       "    <tr>\n",
       "      <th>2018-01-04</th>\n",
       "      <td>1170</td>\n",
       "      <td>0</td>\n",
       "      <td>72</td>\n",
       "      <td>106</td>\n",
       "      <td>95</td>\n",
       "      <td>106</td>\n",
       "      <td>105</td>\n",
       "      <td>99</td>\n",
       "      <td>121</td>\n",
       "      <td>93</td>\n",
       "      <td>...</td>\n",
       "      <td>0</td>\n",
       "      <td>0</td>\n",
       "      <td>0</td>\n",
       "      <td>0</td>\n",
       "      <td>False</td>\n",
       "      <td>6034.745299</td>\n",
       "      <td>False</td>\n",
       "      <td>4</td>\n",
       "      <td>1</td>\n",
       "      <td>0</td>\n",
       "    </tr>\n",
       "    <tr>\n",
       "      <th>2018-01-05</th>\n",
       "      <td>1851</td>\n",
       "      <td>7</td>\n",
       "      <td>150</td>\n",
       "      <td>159</td>\n",
       "      <td>153</td>\n",
       "      <td>134</td>\n",
       "      <td>140</td>\n",
       "      <td>152</td>\n",
       "      <td>155</td>\n",
       "      <td>152</td>\n",
       "      <td>...</td>\n",
       "      <td>0</td>\n",
       "      <td>0</td>\n",
       "      <td>0</td>\n",
       "      <td>1</td>\n",
       "      <td>False</td>\n",
       "      <td>6116.927607</td>\n",
       "      <td>False</td>\n",
       "      <td>5</td>\n",
       "      <td>1</td>\n",
       "      <td>0</td>\n",
       "    </tr>\n",
       "  </tbody>\n",
       "</table>\n",
       "<p>5 rows × 32 columns</p>\n",
       "</div>"
      ],
      "text/plain": [
       "            total_daily_transactions  total_daily_fraud_transactions  hour_0  \\\n",
       "trans_date                                                                     \n",
       "2018-01-01                      1016                               0      89   \n",
       "2018-01-02                      1193                               0     101   \n",
       "2018-01-03                      1131                               0      77   \n",
       "2018-01-04                      1170                               0      72   \n",
       "2018-01-05                      1851                               7     150   \n",
       "\n",
       "            hour_1  hour_2  hour_3  hour_4  hour_5  hour_6  hour_7  ...  \\\n",
       "trans_date                                                          ...   \n",
       "2018-01-01      88      97      76      82      82      73      95  ...   \n",
       "2018-01-02     116     107     105      89     110      90      85  ...   \n",
       "2018-01-03      96      91      98      83     106      92      96  ...   \n",
       "2018-01-04     106      95     106     105      99     121      93  ...   \n",
       "2018-01-05     159     153     134     140     152     155     152  ...   \n",
       "\n",
       "            hour_20  hour_21  hour_22  hour_23  is_public_holiday  \\\n",
       "trans_date                                                          \n",
       "2018-01-01        0        0        0        0              False   \n",
       "2018-01-02        0        0        0        0              False   \n",
       "2018-01-03        0        0        0        0              False   \n",
       "2018-01-04        0        0        0        0              False   \n",
       "2018-01-05        0        0        0        1              False   \n",
       "\n",
       "            activity_level  is_payday  day_of_week  month  weekday_vs_weekend  \n",
       "trans_date                                                                     \n",
       "2018-01-01     6070.808071      False            1      1                   0  \n",
       "2018-01-02     6165.922883      False            2      1                   0  \n",
       "2018-01-03     6084.626879      False            3      1                   0  \n",
       "2018-01-04     6034.745299      False            4      1                   0  \n",
       "2018-01-05     6116.927607      False            5      1                   0  \n",
       "\n",
       "[5 rows x 32 columns]"
      ]
     },
     "execution_count": 6,
     "metadata": {},
     "output_type": "execute_result"
    }
   ],
   "source": [
    "transformed_df.head()"
   ]
  },
  {
   "cell_type": "code",
   "execution_count": 8,
   "id": "a9717df4",
   "metadata": {},
   "outputs": [
    {
     "data": {
      "text/plain": [
       "total_daily_transactions          float64\n",
       "total_daily_fraud_transactions    float64\n",
       "hour_0                            float64\n",
       "hour_1                            float64\n",
       "hour_2                            float64\n",
       "hour_3                            float64\n",
       "hour_4                            float64\n",
       "hour_5                            float64\n",
       "hour_6                            float64\n",
       "hour_7                            float64\n",
       "hour_8                            float64\n",
       "hour_9                            float64\n",
       "hour_10                           float64\n",
       "hour_11                           float64\n",
       "hour_12                           float64\n",
       "hour_13                           float64\n",
       "hour_14                           float64\n",
       "hour_15                           float64\n",
       "hour_16                           float64\n",
       "hour_17                           float64\n",
       "hour_18                           float64\n",
       "hour_19                           float64\n",
       "hour_20                           float64\n",
       "hour_21                           float64\n",
       "hour_22                           float64\n",
       "hour_23                           float64\n",
       "is_public_holiday                 float64\n",
       "activity_level                    float64\n",
       "is_payday                         float64\n",
       "day_of_week                       float64\n",
       "month                             float64\n",
       "weekday_vs_weekend                float64\n",
       "dtype: object"
      ]
     },
     "execution_count": 8,
     "metadata": {},
     "output_type": "execute_result"
    }
   ],
   "source": [
    "for column in transformed_df.columns:\n",
    "    if pd.api.types.is_bool_dtype(transformed_df[column]):\n",
    "        transformed_df[column] = transformed_df[column].astype(int)\n",
    "    if pd.api.types.is_integer_dtype(transformed_df[column]):\n",
    "        transformed_df[column] = transformed_df[column].astype(float)\n",
    "transformed_df.dtypes"
   ]
  },
  {
   "cell_type": "code",
   "execution_count": 13,
   "id": "c8faa8ce",
   "metadata": {},
   "outputs": [
    {
     "data": {
      "text/plain": [
       "Index(['total_daily_transactions', 'total_daily_fraud_transactions', 'hour_0',\n",
       "       'hour_1', 'hour_2', 'hour_3', 'hour_4', 'hour_5', 'hour_6', 'hour_7',\n",
       "       'hour_8', 'hour_9', 'hour_10', 'hour_11', 'hour_12', 'hour_13',\n",
       "       'hour_14', 'hour_15', 'hour_16', 'hour_17', 'hour_18', 'hour_19',\n",
       "       'hour_20', 'hour_21', 'hour_22', 'hour_23', 'is_public_holiday',\n",
       "       'activity_level', 'is_payday', 'day_of_week', 'month',\n",
       "       'weekday_vs_weekend'],\n",
       "      dtype='object')"
      ]
     },
     "execution_count": 13,
     "metadata": {},
     "output_type": "execute_result"
    }
   ],
   "source": [
    "transformed_df.columns"
   ]
  },
  {
   "cell_type": "code",
   "execution_count": 9,
   "id": "71879341",
   "metadata": {},
   "outputs": [
    {
     "name": "stdout",
     "output_type": "stream",
     "text": [
      "2021-12-31 00:00:00\n"
     ]
    }
   ],
   "source": [
    "split_idx = int(len(transformed_df) * 0.8)\n",
    "\n",
    "split_date = transformed_df.index[split_idx]\n",
    "print(split_date)"
   ]
  },
  {
   "cell_type": "code",
   "execution_count": 10,
   "id": "3b75f609",
   "metadata": {},
   "outputs": [
    {
     "name": "stdout",
     "output_type": "stream",
     "text": [
      "(Timestamp('2018-01-01 00:00:00'), Timestamp('2021-12-31 00:00:00'), 1461) (Timestamp('2022-01-01 00:00:00'), Timestamp('2022-12-31 00:00:00'), 365)\n",
      "Training set range: 2018-01-01 00:00:00 to 2021-12-31 00:00:00\n",
      "Test set range: 2022-01-01 00:00:00 to 2022-12-31 00:00:00\n",
      "Training set size: 1461\n",
      "Test set size: 365\n"
     ]
    }
   ],
   "source": [
    "from sklearn.model_selection import train_test_split\n",
    "\n",
    "train = transformed_df.loc[transformed_df.index <= split_date]\n",
    "test = transformed_df.loc[transformed_df.index > split_date]\n",
    "\n",
    "train_info = (train.index.min(), train.index.max(), len(train))\n",
    "test_info = (test.index.min(), test.index.max(), len(test))\n",
    "\n",
    "print(train_info, test_info)\n",
    "\n",
    "print(f'Training set range: {train.index.min()} to {train.index.max()}')\n",
    "print(f'Test set range: {test.index.min()} to {test.index.max()}')\n",
    "print(f'Training set size: {len(train)}')\n",
    "print(f'Test set size: {len(test)}')"
   ]
  },
  {
   "cell_type": "code",
   "execution_count": 11,
   "id": "d86d14e1",
   "metadata": {},
   "outputs": [
    {
     "name": "stdout",
     "output_type": "stream",
     "text": [
      "ADF Statistic: -5.922929\n",
      "p-value: 0.000000\n"
     ]
    }
   ],
   "source": [
    "from statsmodels.tsa.stattools import adfuller\n",
    "\n",
    "result = adfuller(train['total_daily_transactions'])\n",
    "print('ADF Statistic: %f' % result[0])\n",
    "print('p-value: %f' % result[1])"
   ]
  },
  {
   "cell_type": "code",
   "execution_count": 14,
   "id": "07fe99ec",
   "metadata": {},
   "outputs": [
    {
     "name": "stderr",
     "output_type": "stream",
     "text": [
      "/usr/local/lib/python3.8/dist-packages/statsmodels/tsa/base/tsa_model.py:473: ValueWarning: No frequency information was provided, so inferred frequency D will be used.\n",
      "  self._init_dates(dates, freq)\n",
      "/usr/local/lib/python3.8/dist-packages/statsmodels/tsa/base/tsa_model.py:473: ValueWarning: No frequency information was provided, so inferred frequency D will be used.\n",
      "  self._init_dates(dates, freq)\n",
      "/usr/local/lib/python3.8/dist-packages/statsmodels/base/model.py:607: ConvergenceWarning: Maximum Likelihood optimization failed to converge. Check mle_retvals\n",
      "  warnings.warn(\"Maximum Likelihood optimization failed to \"\n"
     ]
    },
    {
     "name": "stdout",
     "output_type": "stream",
     "text": [
      "                                      SARIMAX Results                                       \n",
      "============================================================================================\n",
      "Dep. Variable:             total_daily_transactions   No. Observations:                 1461\n",
      "Model:             SARIMAX(0, 1, 3)x(1, 0, [1], 12)   Log Likelihood         -9735553733.638\n",
      "Date:                              Fri, 05 Apr 2024   AIC                    19471107539.276\n",
      "Time:                                      16:55:07   BIC                    19471107729.579\n",
      "Sample:                                  01-01-2018   HQIC                   19471107610.267\n",
      "                                       - 12-31-2021                                         \n",
      "Covariance Type:                                opg                                         \n",
      "======================================================================================\n",
      "                         coef    std err          z      P>|z|      [0.025      0.975]\n",
      "--------------------------------------------------------------------------------------\n",
      "hour_0                 1.0000   1.92e-14   5.21e+13      0.000       1.000       1.000\n",
      "hour_1                 1.0000   1.76e-14   5.68e+13      0.000       1.000       1.000\n",
      "hour_2                 1.0000   4.07e-15   2.46e+14      0.000       1.000       1.000\n",
      "hour_3                 1.0000   4.27e-15   2.34e+14      0.000       1.000       1.000\n",
      "hour_4                 1.0000   1.88e-14   5.33e+13      0.000       1.000       1.000\n",
      "hour_5                 1.0000   1.03e-14   9.67e+13      0.000       1.000       1.000\n",
      "hour_6                 1.0000   2.66e-14   3.76e+13      0.000       1.000       1.000\n",
      "hour_7                 1.0000   1.22e-14   8.23e+13      0.000       1.000       1.000\n",
      "hour_8                 1.0000   1.17e-14   8.55e+13      0.000       1.000       1.000\n",
      "hour_9                 1.0000   1.78e-14    5.6e+13      0.000       1.000       1.000\n",
      "hour_10                1.0000   1.79e-14   5.59e+13      0.000       1.000       1.000\n",
      "hour_11                1.0000   1.81e-14   5.53e+13      0.000       1.000       1.000\n",
      "hour_12                1.0000   8.63e-17   1.16e+16      0.000       1.000       1.000\n",
      "hour_13                1.0000   7.01e-17   1.43e+16      0.000       1.000       1.000\n",
      "hour_14                1.0000   7.62e-17   1.31e+16      0.000       1.000       1.000\n",
      "hour_15                1.0000   4.83e-17   2.07e+16      0.000       1.000       1.000\n",
      "hour_16                1.0000   6.64e-17   1.51e+16      0.000       1.000       1.000\n",
      "hour_17                1.0000   7.28e-17   1.37e+16      0.000       1.000       1.000\n",
      "hour_18                1.0000   5.12e-17   1.95e+16      0.000       1.000       1.000\n",
      "hour_19                1.0000   5.51e-17   1.81e+16      0.000       1.000       1.000\n",
      "hour_20                1.0000   8.67e-17   1.15e+16      0.000       1.000       1.000\n",
      "hour_21                1.0000   6.44e-17   1.55e+16      0.000       1.000       1.000\n",
      "hour_22                1.0000   6.27e-17   1.59e+16      0.000       1.000       1.000\n",
      "hour_23                1.0000   7.48e-17   1.34e+16      0.000       1.000       1.000\n",
      "is_public_holiday   1.279e-13   1.58e-20   8.09e+06      0.000    1.28e-13    1.28e-13\n",
      "activity_level      3.608e-16   1.65e-14      0.022      0.983    -3.2e-14    3.27e-14\n",
      "is_payday          -3.411e-13   2.42e-16  -1407.296      0.000   -3.42e-13   -3.41e-13\n",
      "day_of_week         2.132e-14   6.24e-15      3.415      0.001    9.08e-15    3.36e-14\n",
      "month              -7.283e-14   2.59e-16   -281.500      0.000   -7.33e-14   -7.23e-14\n",
      "weekday_vs_weekend -3.979e-13   3.06e-20   -1.3e+07      0.000   -3.98e-13   -3.98e-13\n",
      "ma.L1                 -0.5829   4.53e-24  -1.29e+23      0.000      -0.583      -0.583\n",
      "ma.L2                 -0.1200   2.07e-23  -5.79e+21      0.000      -0.120      -0.120\n",
      "ma.L3                 -0.0127   2.08e-23   -6.1e+20      0.000      -0.013      -0.013\n",
      "ar.S.L12              -0.1496   7.29e-24  -2.05e+22      0.000      -0.150      -0.150\n",
      "ma.S.L12               0.1613   7.16e-24   2.25e+22      0.000       0.161       0.161\n",
      "sigma2                  1e-10   2.52e-19   3.98e+08      0.000       1e-10       1e-10\n",
      "======================================================================================\n",
      "Ljung-Box (L1) (Q):                      0.00   Jarque-Bera (JB):         127274367.39\n",
      "Prob(Q):                                 0.98   Prob(JB):                         0.00\n",
      "Heteroskedasticity (H): 533592112799054144.00   Skew:                           -37.97\n",
      "Prob(H) (two-sided):                     0.00   Kurtosis:                      1447.44\n",
      "======================================================================================\n",
      "\n",
      "Warnings:\n",
      "[1] Covariance matrix calculated using the outer product of gradients (complex-step).\n",
      "[2] Covariance matrix is singular or near-singular, with condition number 6.87e+35. Standard errors may be unstable.\n"
     ]
    }
   ],
   "source": [
    "from statsmodels.tsa.statespace.sarimax import SARIMAX\n",
    "\n",
    "p, d, q = 0,1,3 \n",
    "P, D, Q, m = 1,0,1,12\n",
    "\n",
    "exog_data = transformed_df[['hour_0',\n",
    "       'hour_1', 'hour_2', 'hour_3', 'hour_4', 'hour_5', 'hour_6', 'hour_7',\n",
    "       'hour_8', 'hour_9', 'hour_10', 'hour_11', 'hour_12', 'hour_13',\n",
    "       'hour_14', 'hour_15', 'hour_16', 'hour_17', 'hour_18', 'hour_19',\n",
    "       'hour_20', 'hour_21', 'hour_22', 'hour_23', 'is_public_holiday',\n",
    "       'is_payday', 'day_of_week', 'month', 'weekday_vs_weekend']]\n",
    "        \n",
    "\n",
    "model = SARIMAX(train['total_daily_transactions'],\n",
    "                exog=train[exog_data.columns],\n",
    "                order=(p, d, q),\n",
    "                seasonal_order=(P, D, Q, m))\n",
    "results = model.fit()\n",
    "\n",
    "print(results.summary())"
   ]
  },
  {
   "cell_type": "code",
   "execution_count": 15,
   "id": "2948aba4",
   "metadata": {},
   "outputs": [
    {
     "data": {
      "image/png": "[encoded data removed]",
      "text/plain": [
       "<Figure size 720x432 with 1 Axes>"
      ]
     },
     "metadata": {
      "needs_background": "light"
     },
     "output_type": "display_data"
    }
   ],
   "source": [
    "forecast = results.get_forecast(steps=365, exog=test[exog_data.columns])\n",
    "mean_forecast = forecast.predicted_mean\n",
    "conf_int = forecast.conf_int()\n",
    "\n",
    "\n",
    "import matplotlib.pyplot as plt\n",
    "\n",
    "plt.figure(figsize=(10, 6))\n",
    "plt.plot(train['total_daily_transactions'].index.to_pydatetime(), train['total_daily_transactions'].values, label='observed')\n",
    "\n",
    "plt.plot(mean_forecast.index.to_pydatetime(), mean_forecast.values, color='r', label='forecast')\n",
    "\n",
    "plt.plot(test['total_daily_transactions'].index.to_pydatetime(), test['total_daily_transactions'].values, color='g', label='actual')\n",
    "\n",
    "plt.fill_between(mean_forecast.index.to_pydatetime(), conf_int.iloc[:, 0], conf_int.iloc[:, 1], color='pink', alpha=0.5)\n",
    "\n",
    "plt.xlabel('Date')\n",
    "plt.ylabel('Transactions')\n",
    "plt.legend()\n",
    "plt.show()"
   ]
  },
  {
   "cell_type": "code",
   "execution_count": 18,
   "id": "af0a0a91",
   "metadata": {},
   "outputs": [],
   "source": [
    "# Create a DataFrame\n",
    "results_df = pd.DataFrame({\n",
    "    'Date': test.index,  # Assuming the index of `test` DataFrame has the dates\n",
    "    'Actual_Transactions': test['total_daily_transactions'].values,\n",
    "    'Predicted_Transactions': mean_forecast.values\n",
    "})\n",
    "\n",
    "results_df.to_csv('p1tm.csv')"
   ]
  },
  {
   "cell_type": "code",
   "execution_count": null,
   "id": "e82db222",
   "metadata": {},
   "outputs": [],
   "source": []
  }
 ],
 "metadata": {
  "kernelspec": {
   "display_name": "Python 3 (ipykernel)",
   "language": "python",
   "name": "python3"
  },
  "language_info": {
   "codemirror_mode": {
    "name": "ipython",
    "version": 3
   },
   "file_extension": ".py",
   "mimetype": "text/x-python",
   "name": "python",
   "nbconvert_exporter": "python",
   "pygments_lexer": "ipython3",
   "version": "3.8.10"
  }
 },
 "nbformat": 4,
 "nbformat_minor": 5
}
