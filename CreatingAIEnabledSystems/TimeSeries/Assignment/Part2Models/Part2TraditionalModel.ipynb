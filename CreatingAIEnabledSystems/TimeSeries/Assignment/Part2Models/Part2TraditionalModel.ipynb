{
 "cells": [
  {
   "cell_type": "markdown",
   "id": "aa24403a",
   "metadata": {},
   "source": [
    "# Traditional Model"
   ]
  },
  {
   "cell_type": "code",
   "execution_count": 1,
   "id": "665d380c",
   "metadata": {},
   "outputs": [],
   "source": [
    "import os\n",
    "os.chdir('../../')"
   ]
  },
  {
   "cell_type": "code",
   "execution_count": 2,
   "id": "ed7a922f",
   "metadata": {},
   "outputs": [],
   "source": [
    "import pandas as pd\n",
    "import numpy as np\n",
    "from numpy.random import randn\n",
    "from math import radians, sin, cos, sqrt, asin\n",
    "from sklearn.preprocessing import StandardScaler\n",
    "from sklearn.preprocessing import LabelEncoder"
   ]
  },
  {
   "cell_type": "code",
   "execution_count": 3,
   "id": "a3787370",
   "metadata": {},
   "outputs": [],
   "source": [
    "from data_pipeline import Pipeline"
   ]
  },
  {
   "cell_type": "code",
   "execution_count": 4,
   "id": "b01e2f23",
   "metadata": {},
   "outputs": [],
   "source": [
    "df = pd.read_csv('data/CreditCardFraudFourYears.csv')"
   ]
  },
  {
   "cell_type": "code",
   "execution_count": 5,
   "id": "10a2291f",
   "metadata": {},
   "outputs": [],
   "source": [
    "pipeline = Pipeline()\n",
    "transformed_df = pipeline.transform(df)"
   ]
  },
  {
   "cell_type": "code",
   "execution_count": 6,
   "id": "ea69b859",
   "metadata": {},
   "outputs": [
    {
     "data": {
      "text/plain": [
       "total_daily_transactions          float64\n",
       "total_daily_fraud_transactions    float64\n",
       "hour_0                            float64\n",
       "hour_1                            float64\n",
       "hour_2                            float64\n",
       "hour_3                            float64\n",
       "hour_4                            float64\n",
       "hour_5                            float64\n",
       "hour_6                            float64\n",
       "hour_7                            float64\n",
       "hour_8                            float64\n",
       "hour_9                            float64\n",
       "hour_10                           float64\n",
       "hour_11                           float64\n",
       "hour_12                           float64\n",
       "hour_13                           float64\n",
       "hour_14                           float64\n",
       "hour_15                           float64\n",
       "hour_16                           float64\n",
       "hour_17                           float64\n",
       "hour_18                           float64\n",
       "hour_19                           float64\n",
       "hour_20                           float64\n",
       "hour_21                           float64\n",
       "hour_22                           float64\n",
       "hour_23                           float64\n",
       "is_public_holiday                 float64\n",
       "activity_level                    float64\n",
       "is_payday                         float64\n",
       "day_of_week                       float64\n",
       "month                             float64\n",
       "weekday_vs_weekend                float64\n",
       "dtype: object"
      ]
     },
     "execution_count": 6,
     "metadata": {},
     "output_type": "execute_result"
    }
   ],
   "source": [
    "for column in transformed_df.columns:\n",
    "    if pd.api.types.is_bool_dtype(transformed_df[column]):\n",
    "        transformed_df[column] = transformed_df[column].astype(int)\n",
    "    if pd.api.types.is_integer_dtype(transformed_df[column]):\n",
    "        transformed_df[column] = transformed_df[column].astype(float)\n",
    "transformed_df.dtypes"
   ]
  },
  {
   "cell_type": "code",
   "execution_count": 8,
   "id": "c2456994",
   "metadata": {},
   "outputs": [
    {
     "name": "stdout",
     "output_type": "stream",
     "text": [
      "2021-12-31 00:00:00\n"
     ]
    }
   ],
   "source": [
    "split_idx = int(len(transformed_df) * 0.8)\n",
    "\n",
    "split_date = transformed_df.index[split_idx]\n",
    "print(split_date)"
   ]
  },
  {
   "cell_type": "code",
   "execution_count": 10,
   "id": "5657bc95",
   "metadata": {},
   "outputs": [
    {
     "name": "stdout",
     "output_type": "stream",
     "text": [
      "(Timestamp('2018-01-01 00:00:00'), Timestamp('2021-12-31 00:00:00'), 1461) (Timestamp('2022-01-01 00:00:00'), Timestamp('2022-12-31 00:00:00'), 365)\n",
      "Training set range: 2018-01-01 00:00:00 to 2021-12-31 00:00:00\n",
      "Test set range: 2022-01-01 00:00:00 to 2022-12-31 00:00:00\n",
      "Training set size: 1461\n",
      "Test set size: 365\n"
     ]
    }
   ],
   "source": [
    "from sklearn.model_selection import train_test_split\n",
    "\n",
    "train = transformed_df.loc[transformed_df.index <= split_date]\n",
    "test = transformed_df.loc[transformed_df.index > split_date]\n",
    "\n",
    "train_info = (train.index.min(), train.index.max(), len(train))\n",
    "test_info = (test.index.min(), test.index.max(), len(test))\n",
    "\n",
    "print(train_info, test_info)\n",
    "\n",
    "print(f'Training set range: {train.index.min()} to {train.index.max()}')\n",
    "print(f'Test set range: {test.index.min()} to {test.index.max()}')\n",
    "print(f'Training set size: {len(train)}')\n",
    "print(f'Test set size: {len(test)}')"
   ]
  },
  {
   "cell_type": "code",
   "execution_count": 11,
   "id": "7b23a26d",
   "metadata": {},
   "outputs": [
    {
     "name": "stdout",
     "output_type": "stream",
     "text": [
      "ADF Statistic: -18.271246\n",
      "p-value: 0.000000\n"
     ]
    }
   ],
   "source": [
    "from statsmodels.tsa.stattools import adfuller\n",
    "\n",
    "result = adfuller(train['total_daily_fraud_transactions'])\n",
    "print('ADF Statistic: %f' % result[0])\n",
    "print('p-value: %f' % result[1])"
   ]
  },
  {
   "cell_type": "code",
   "execution_count": 33,
   "id": "c074d0cb",
   "metadata": {},
   "outputs": [
    {
     "name": "stderr",
     "output_type": "stream",
     "text": [
      "/usr/local/lib/python3.8/dist-packages/statsmodels/tsa/base/tsa_model.py:473: ValueWarning: No frequency information was provided, so inferred frequency D will be used.\n",
      "  self._init_dates(dates, freq)\n",
      "/usr/local/lib/python3.8/dist-packages/statsmodels/tsa/base/tsa_model.py:473: ValueWarning: No frequency information was provided, so inferred frequency D will be used.\n",
      "  self._init_dates(dates, freq)\n"
     ]
    },
    {
     "name": "stdout",
     "output_type": "stream",
     "text": [
      "                                     SARIMAX Results                                      \n",
      "==========================================================================================\n",
      "Dep. Variable:     total_daily_fraud_transactions   No. Observations:                 1461\n",
      "Model:                           SARIMAX(0, 0, 1)   Log Likelihood               -4376.542\n",
      "Date:                            Fri, 05 Apr 2024   AIC                           8819.084\n",
      "Time:                                    18:25:51   BIC                           8993.551\n",
      "Sample:                                01-01-2018   HQIC                          8884.165\n",
      "                                     - 12-31-2021                                         \n",
      "Covariance Type:                              opg                                         \n",
      "============================================================================================\n",
      "                               coef    std err          z      P>|z|      [0.025      0.975]\n",
      "--------------------------------------------------------------------------------------------\n",
      "total_daily_transactions    -0.0046      0.000    -16.270      0.000      -0.005      -0.004\n",
      "hour_0                       0.0328      0.011      2.910      0.004       0.011       0.055\n",
      "hour_1                       0.0142      0.012      1.186      0.236      -0.009       0.038\n",
      "hour_2                       0.0160      0.012      1.389      0.165      -0.007       0.039\n",
      "hour_3                       0.0229      0.012      1.958      0.050   -1.94e-05       0.046\n",
      "hour_4                      -0.0015      0.012     -0.122      0.903      -0.025       0.022\n",
      "hour_5                      -0.0094      0.011     -0.837      0.403      -0.031       0.013\n",
      "hour_6                       0.0081      0.011      0.709      0.478      -0.014       0.030\n",
      "hour_7                      -0.0030      0.012     -0.244      0.807      -0.027       0.021\n",
      "hour_8                      -0.0075      0.011     -0.666      0.505      -0.030       0.015\n",
      "hour_9                      -0.0035      0.011     -0.319      0.750      -0.025       0.018\n",
      "hour_10                     -0.0036      0.013     -0.287      0.774      -0.028       0.021\n",
      "hour_11                     -0.0026      0.011     -0.235      0.814      -0.024       0.019\n",
      "hour_12                     -0.0034      0.012     -0.294      0.769      -0.026       0.019\n",
      "hour_13                     -0.0117      0.012     -0.998      0.318      -0.035       0.011\n",
      "hour_14                      0.0232      0.011      2.200      0.028       0.003       0.044\n",
      "hour_15                      0.0070      0.011      0.648      0.517      -0.014       0.028\n",
      "hour_16                     -0.0228      0.011     -2.066      0.039      -0.044      -0.001\n",
      "hour_17                   5.976e-05      0.011      0.006      0.996      -0.021       0.021\n",
      "hour_18                      0.0129      0.011      1.168      0.243      -0.009       0.035\n",
      "hour_19                     -0.0222      0.010     -2.219      0.026      -0.042      -0.003\n",
      "hour_20                     -0.0075      0.012     -0.611      0.541      -0.032       0.017\n",
      "hour_21                      0.0124      0.010      1.185      0.236      -0.008       0.033\n",
      "hour_22                      0.0465      0.012      3.964      0.000       0.023       0.069\n",
      "hour_23                      0.0257      0.011      2.395      0.017       0.005       0.047\n",
      "is_public_holiday           -0.4968      0.964     -0.515      0.606      -2.386       1.392\n",
      "activity_level               0.0006      0.000      5.737      0.000       0.000       0.001\n",
      "is_payday                    0.2325      0.488      0.476      0.634      -0.724       1.189\n",
      "day_of_week                  0.2254      0.139      1.626      0.104      -0.046       0.497\n",
      "month                       -0.0640      0.071     -0.895      0.371      -0.204       0.076\n",
      "weekday_vs_weekend          -0.6634      0.594     -1.116      0.264      -1.828       0.501\n",
      "ma.L1                        0.4904      0.025     19.573      0.000       0.441       0.539\n",
      "sigma2                      23.8100      0.870     27.369      0.000      22.105      25.515\n",
      "===================================================================================\n",
      "Ljung-Box (L1) (Q):                   1.93   Jarque-Bera (JB):               443.17\n",
      "Prob(Q):                              0.16   Prob(JB):                         0.00\n",
      "Heteroskedasticity (H):               0.99   Skew:                             1.10\n",
      "Prob(H) (two-sided):                  0.87   Kurtosis:                         4.56\n",
      "===================================================================================\n",
      "\n",
      "Warnings:\n",
      "[1] Covariance matrix calculated using the outer product of gradients (complex-step).\n",
      "[2] Covariance matrix is singular or near-singular, with condition number 2.45e+18. Standard errors may be unstable.\n"
     ]
    }
   ],
   "source": [
    "from statsmodels.tsa.statespace.sarimax import SARIMAX\n",
    "\n",
    "p, d, q = 0,0,1 \n",
    "P, D, Q, m = 0,0,0,365\n",
    "\n",
    "exog_data = transformed_df[['total_daily_transactions', 'hour_0', \n",
    "       'hour_1', 'hour_2', 'hour_3', 'hour_4', 'hour_5', 'hour_6', 'hour_7',\n",
    "       'hour_8', 'hour_9', 'hour_10', 'hour_11', 'hour_12', 'hour_13',\n",
    "       'hour_14', 'hour_15', 'hour_16', 'hour_17', 'hour_18', 'hour_19',\n",
    "       'hour_20', 'hour_21', 'hour_22', 'hour_23', 'is_public_holiday',\n",
    "       'is_payday', 'day_of_week', 'month','weekday_vs_weekend']]\n",
    "        \n",
    "\n",
    "model = SARIMAX(train['total_daily_fraud_transactions'],\n",
    "                exog=train[exog_data.columns],\n",
    "                order=(p, d, q),\n",
    "                seasonal_order=(P, D, Q, m))\n",
    "results = model.fit()\n",
    "print(results.summary())"
   ]
  },
  {
   "cell_type": "code",
   "execution_count": 34,
   "id": "dc0e94e8",
   "metadata": {},
   "outputs": [
    {
     "data": {
      "image/png": "[encoded data removed]",
      "text/plain": [
       "<Figure size 720x432 with 1 Axes>"
      ]
     },
     "metadata": {
      "needs_background": "light"
     },
     "output_type": "display_data"
    }
   ],
   "source": [
    "forecast = results.get_forecast(steps=365, exog=test[exog_data.columns])\n",
    "mean_forecast = forecast.predicted_mean\n",
    "conf_int = forecast.conf_int()\n",
    "\n",
    "import matplotlib.pyplot as plt\n",
    "\n",
    "plt.figure(figsize=(10, 6))\n",
    "plt.plot(train['total_daily_fraud_transactions'].index.to_pydatetime(), train['total_daily_fraud_transactions'].values, label='observed')\n",
    "\n",
    "plt.plot(mean_forecast.index.to_pydatetime(), mean_forecast.values, color='r', label='forecast')\n",
    "\n",
    "plt.plot(test['total_daily_fraud_transactions'].index.to_pydatetime(), test['total_daily_fraud_transactions'].values, color='g', label='actual')\n",
    "\n",
    "plt.xlabel('Date')\n",
    "plt.ylabel('Transactions')\n",
    "plt.legend()\n",
    "plt.show()"
   ]
  },
  {
   "cell_type": "code",
   "execution_count": null,
   "id": "4bac9058",
   "metadata": {},
   "outputs": [],
   "source": []
  }
 ],
 "metadata": {
  "kernelspec": {
   "display_name": "Python 3 (ipykernel)",
   "language": "python",
   "name": "python3"
  },
  "language_info": {
   "codemirror_mode": {
    "name": "ipython",
    "version": 3
   },
   "file_extension": ".py",
   "mimetype": "text/x-python",
   "name": "python",
   "nbconvert_exporter": "python",
   "pygments_lexer": "ipython3",
   "version": "3.8.10"
  }
 },
 "nbformat": 4,
 "nbformat_minor": 5
}
