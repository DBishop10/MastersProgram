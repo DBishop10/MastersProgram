{
 "cells": [
  {
   "cell_type": "markdown",
   "id": "45f70ff5",
   "metadata": {},
   "source": [
    "# Traditional Model"
   ]
  },
  {
   "cell_type": "code",
   "execution_count": 1,
   "id": "5cd8130d",
   "metadata": {},
   "outputs": [],
   "source": [
    "import os\n",
    "os.chdir('../../')"
   ]
  },
  {
   "cell_type": "code",
   "execution_count": 2,
   "id": "774e0cf0",
   "metadata": {},
   "outputs": [],
   "source": [
    "import pandas as pd\n",
    "import numpy as np\n",
    "from numpy.random import randn\n",
    "from math import radians, sin, cos, sqrt, asin\n",
    "from sklearn.preprocessing import StandardScaler\n",
    "from sklearn.preprocessing import LabelEncoder"
   ]
  },
  {
   "cell_type": "code",
   "execution_count": 3,
   "id": "e81711cd",
   "metadata": {},
   "outputs": [],
   "source": [
    "from data_pipeline import Pipeline"
   ]
  },
  {
   "cell_type": "code",
   "execution_count": 4,
   "id": "592f18f2",
   "metadata": {},
   "outputs": [],
   "source": [
    "df = pd.read_csv('data/CreditCardFraudFourYears.csv')"
   ]
  },
  {
   "cell_type": "code",
   "execution_count": 5,
   "id": "c12dd802",
   "metadata": {},
   "outputs": [],
   "source": [
    "pipeline = Pipeline()\n",
    "transformed_df = pipeline.transform(df)"
   ]
  },
  {
   "cell_type": "code",
   "execution_count": 12,
   "id": "c8fdb6dc",
   "metadata": {},
   "outputs": [],
   "source": [
    "transformed_df['end_of_month'] = transformed_df.index.is_month_end.astype(int)"
   ]
  },
  {
   "cell_type": "code",
   "execution_count": 17,
   "id": "2e103aa3",
   "metadata": {},
   "outputs": [
    {
     "data": {
      "text/plain": [
       "total_daily_transactions          float64\n",
       "total_daily_fraud_transactions    float64\n",
       "hour_0                            float64\n",
       "hour_1                            float64\n",
       "hour_2                            float64\n",
       "hour_3                            float64\n",
       "hour_4                            float64\n",
       "hour_5                            float64\n",
       "hour_6                            float64\n",
       "hour_7                            float64\n",
       "hour_8                            float64\n",
       "hour_9                            float64\n",
       "hour_10                           float64\n",
       "hour_11                           float64\n",
       "hour_12                           float64\n",
       "hour_13                           float64\n",
       "hour_14                           float64\n",
       "hour_15                           float64\n",
       "hour_16                           float64\n",
       "hour_17                           float64\n",
       "hour_18                           float64\n",
       "hour_19                           float64\n",
       "hour_20                           float64\n",
       "hour_21                           float64\n",
       "hour_22                           float64\n",
       "hour_23                           float64\n",
       "is_public_holiday                 float64\n",
       "activity_level                    float64\n",
       "is_payday                         float64\n",
       "day_of_week                       float64\n",
       "month                             float64\n",
       "weekday_vs_weekend                float64\n",
       "end_of_month                      float64\n",
       "dtype: object"
      ]
     },
     "execution_count": 17,
     "metadata": {},
     "output_type": "execute_result"
    }
   ],
   "source": [
    "for column in transformed_df.columns:\n",
    "    if pd.api.types.is_bool_dtype(transformed_df[column]):\n",
    "        transformed_df[column] = transformed_df[column].astype(int)\n",
    "    if pd.api.types.is_integer_dtype(transformed_df[column]):\n",
    "        transformed_df[column] = transformed_df[column].astype(float)\n",
    "transformed_df.dtypes"
   ]
  },
  {
   "cell_type": "code",
   "execution_count": 18,
   "id": "20828d70",
   "metadata": {},
   "outputs": [
    {
     "name": "stdout",
     "output_type": "stream",
     "text": [
      "2021-12-31 00:00:00\n"
     ]
    }
   ],
   "source": [
    "split_idx = int(len(transformed_df) * 0.8)\n",
    "\n",
    "split_date = transformed_df.index[split_idx]\n",
    "print(split_date)"
   ]
  },
  {
   "cell_type": "code",
   "execution_count": 19,
   "id": "a4c9e2e8",
   "metadata": {},
   "outputs": [
    {
     "name": "stdout",
     "output_type": "stream",
     "text": [
      "(Timestamp('2018-01-01 00:00:00'), Timestamp('2021-12-31 00:00:00'), 1461) (Timestamp('2022-01-01 00:00:00'), Timestamp('2022-12-31 00:00:00'), 365)\n",
      "Training set range: 2018-01-01 00:00:00 to 2021-12-31 00:00:00\n",
      "Test set range: 2022-01-01 00:00:00 to 2022-12-31 00:00:00\n",
      "Training set size: 1461\n",
      "Test set size: 365\n"
     ]
    }
   ],
   "source": [
    "from sklearn.model_selection import train_test_split\n",
    "\n",
    "train = transformed_df.loc[transformed_df.index <= split_date]\n",
    "test = transformed_df.loc[transformed_df.index > split_date]\n",
    "\n",
    "train_info = (train.index.min(), train.index.max(), len(train))\n",
    "test_info = (test.index.min(), test.index.max(), len(test))\n",
    "\n",
    "print(train_info, test_info)\n",
    "\n",
    "print(f'Training set range: {train.index.min()} to {train.index.max()}')\n",
    "print(f'Test set range: {test.index.min()} to {test.index.max()}')\n",
    "print(f'Training set size: {len(train)}')\n",
    "print(f'Test set size: {len(test)}')"
   ]
  },
  {
   "cell_type": "code",
   "execution_count": 20,
   "id": "5ad2b638",
   "metadata": {},
   "outputs": [
    {
     "name": "stdout",
     "output_type": "stream",
     "text": [
      "ADF Statistic: -5.922929\n",
      "p-value: 0.000000\n"
     ]
    }
   ],
   "source": [
    "from statsmodels.tsa.stattools import adfuller\n",
    "\n",
    "result = adfuller(train['total_daily_transactions'])\n",
    "print('ADF Statistic: %f' % result[0])\n",
    "print('p-value: %f' % result[1])"
   ]
  },
  {
   "cell_type": "code",
   "execution_count": 21,
   "id": "39eff142",
   "metadata": {},
   "outputs": [
    {
     "name": "stderr",
     "output_type": "stream",
     "text": [
      "/usr/local/lib/python3.8/dist-packages/statsmodels/tsa/base/tsa_model.py:473: ValueWarning: No frequency information was provided, so inferred frequency D will be used.\n",
      "  self._init_dates(dates, freq)\n",
      "/usr/local/lib/python3.8/dist-packages/statsmodels/tsa/base/tsa_model.py:473: ValueWarning: No frequency information was provided, so inferred frequency D will be used.\n",
      "  self._init_dates(dates, freq)\n",
      "/usr/local/lib/python3.8/dist-packages/statsmodels/base/model.py:607: ConvergenceWarning: Maximum Likelihood optimization failed to converge. Check mle_retvals\n",
      "  warnings.warn(\"Maximum Likelihood optimization failed to \"\n"
     ]
    },
    {
     "name": "stdout",
     "output_type": "stream",
     "text": [
      "                                      SARIMAX Results                                       \n",
      "============================================================================================\n",
      "Dep. Variable:             total_daily_transactions   No. Observations:                 1461\n",
      "Model:             SARIMAX(0, 1, 3)x(1, 0, [1], 12)   Log Likelihood               15457.813\n",
      "Date:                              Fri, 05 Apr 2024   AIC                         -30841.626\n",
      "Time:                                      19:02:09   BIC                         -30646.037\n",
      "Sample:                                  01-01-2018   HQIC                        -30768.664\n",
      "                                       - 12-31-2021                                         \n",
      "Covariance Type:                                opg                                         \n",
      "======================================================================================\n",
      "                         coef    std err          z      P>|z|      [0.025      0.975]\n",
      "--------------------------------------------------------------------------------------\n",
      "hour_0                 1.0000   1.96e-20   5.11e+19      0.000       1.000       1.000\n",
      "hour_1                 1.0000   1.88e-20   5.32e+19      0.000       1.000       1.000\n",
      "hour_2                 1.0000   1.81e-20   5.53e+19      0.000       1.000       1.000\n",
      "hour_3                 1.0000   1.86e-20   5.38e+19      0.000       1.000       1.000\n",
      "hour_4                 1.0000   1.91e-20   5.23e+19      0.000       1.000       1.000\n",
      "hour_5                 1.0000   1.86e-20   5.36e+19      0.000       1.000       1.000\n",
      "hour_6                 1.0000   1.86e-20   5.36e+19      0.000       1.000       1.000\n",
      "hour_7                 1.0000   1.91e-20   5.23e+19      0.000       1.000       1.000\n",
      "hour_8                 1.0000   1.89e-20   5.29e+19      0.000       1.000       1.000\n",
      "hour_9                 1.0000   1.89e-20   5.29e+19      0.000       1.000       1.000\n",
      "hour_10                1.0000   1.93e-20   5.19e+19      0.000       1.000       1.000\n",
      "hour_11                1.0000   1.86e-20   5.37e+19      0.000       1.000       1.000\n",
      "hour_12                1.0000   2.49e-20   4.01e+19      0.000       1.000       1.000\n",
      "hour_13                1.0000   2.42e-20   4.13e+19      0.000       1.000       1.000\n",
      "hour_14                1.0000   2.44e-20   4.09e+19      0.000       1.000       1.000\n",
      "hour_15                1.0000   2.39e-20   4.18e+19      0.000       1.000       1.000\n",
      "hour_16                1.0000   2.51e-20   3.98e+19      0.000       1.000       1.000\n",
      "hour_17                1.0000   2.39e-20   4.18e+19      0.000       1.000       1.000\n",
      "hour_18                1.0000   2.44e-20   4.09e+19      0.000       1.000       1.000\n",
      "hour_19                1.0000   2.33e-20   4.28e+19      0.000       1.000       1.000\n",
      "hour_20                1.0000   2.47e-20   4.05e+19      0.000       1.000       1.000\n",
      "hour_21                1.0000   2.45e-20   4.08e+19      0.000       1.000       1.000\n",
      "hour_22                1.0000   2.46e-20   4.07e+19      0.000       1.000       1.000\n",
      "hour_23                1.0000   2.53e-20   3.95e+19      0.000       1.000       1.000\n",
      "is_public_holiday   1.137e-13   1.53e-23   7.45e+09      0.000    1.14e-13    1.14e-13\n",
      "activity_level      6.384e-16   1.92e-20   3.33e+04      0.000    6.38e-16    6.38e-16\n",
      "is_payday           4.547e-13   3.06e-23   1.49e+10      0.000    4.55e-13    4.55e-13\n",
      "day_of_week        -3.553e-14    1.4e-21  -2.54e+07      0.000   -3.55e-14   -3.55e-14\n",
      "month               3.553e-15   1.42e-23   2.51e+08      0.000    3.55e-15    3.55e-15\n",
      "weekday_vs_weekend  8.527e-13   3.28e-22    2.6e+09      0.000    8.53e-13    8.53e-13\n",
      "end_of_month       -7.816e-14   3.19e-24  -2.45e+10      0.000   -7.82e-14   -7.82e-14\n",
      "ma.L1                 -0.4581   5.07e-22  -9.03e+20      0.000      -0.458      -0.458\n",
      "ma.L2                 -0.1062    3.7e-23  -2.87e+21      0.000      -0.106      -0.106\n",
      "ma.L3                  0.0589   6.86e-24   8.58e+21      0.000       0.059       0.059\n",
      "ar.S.L12              -0.4189      1e-23  -4.19e+22      0.000      -0.419      -0.419\n",
      "ma.S.L12               0.4109   9.92e-24   4.14e+22      0.000       0.411       0.411\n",
      "sigma2                  1e-10   5.19e-11      1.927      0.054   -1.69e-12    2.02e-10\n",
      "===================================================================================\n",
      "Ljung-Box (L1) (Q):                  85.30   Jarque-Bera (JB):                22.77\n",
      "Prob(Q):                              0.00   Prob(JB):                         0.00\n",
      "Heteroskedasticity (H):               1.98   Skew:                            -0.23\n",
      "Prob(H) (two-sided):                  0.00   Kurtosis:                         3.40\n",
      "===================================================================================\n",
      "\n",
      "Warnings:\n",
      "[1] Covariance matrix calculated using the outer product of gradients (complex-step).\n",
      "[2] Covariance matrix is singular or near-singular, with condition number    inf. Standard errors may be unstable.\n"
     ]
    }
   ],
   "source": [
    "from statsmodels.tsa.statespace.sarimax import SARIMAX\n",
    "\n",
    "p, d, q = 0,1,3 \n",
    "P, D, Q, m = 1,0,1,12\n",
    "\n",
    "exog_data = transformed_df[['hour_0',\n",
    "       'hour_1', 'hour_2', 'hour_3', 'hour_4', 'hour_5', 'hour_6', 'hour_7',\n",
    "       'hour_8', 'hour_9', 'hour_10', 'hour_11', 'hour_12', 'hour_13',\n",
    "       'hour_14', 'hour_15', 'hour_16', 'hour_17', 'hour_18', 'hour_19',\n",
    "       'hour_20', 'hour_21', 'hour_22', 'hour_23', 'is_public_holiday',\n",
    "       'is_payday', 'day_of_week', 'month', 'weekday_vs_weekend', 'end_of_month']]\n",
    "        \n",
    "\n",
    "model = SARIMAX(train['total_daily_transactions'],\n",
    "                exog=train[exog_data.columns],\n",
    "                order=(p, d, q),\n",
    "                seasonal_order=(P, D, Q, m))\n",
    "results = model.fit()\n",
    "\n",
    "print(results.summary())"
   ]
  },
  {
   "cell_type": "code",
   "execution_count": 23,
   "id": "036fd629",
   "metadata": {},
   "outputs": [
    {
     "data": {
      "image/png": "[encoded data removed]",
      "text/plain": [
       "<Figure size 720x432 with 1 Axes>"
      ]
     },
     "metadata": {
      "needs_background": "light"
     },
     "output_type": "display_data"
    }
   ],
   "source": [
    "forecast = results.get_forecast(steps=365, exog=test[exog_data.columns])\n",
    "mean_forecast = forecast.predicted_mean\n",
    "conf_int = forecast.conf_int()\n",
    "\n",
    "\n",
    "import matplotlib.pyplot as plt\n",
    "\n",
    "plt.figure(figsize=(10, 6))\n",
    "plt.plot(train['total_daily_transactions'].index.to_pydatetime(), train['total_daily_transactions'].values, label='observed')\n",
    "\n",
    "plt.plot(mean_forecast.index.to_pydatetime(), mean_forecast.values, color='r', label='forecast')\n",
    "\n",
    "plt.plot(test['total_daily_transactions'].index.to_pydatetime(), test['total_daily_transactions'].values, color='g', label='actual')\n",
    "\n",
    "plt.fill_between(mean_forecast.index.to_pydatetime(), conf_int.iloc[:, 0], conf_int.iloc[:, 1], color='pink', alpha=0.5)\n",
    "\n",
    "plt.xlabel('Date')\n",
    "plt.ylabel('Transactions')\n",
    "plt.legend()\n",
    "plt.show()"
   ]
  },
  {
   "cell_type": "code",
   "execution_count": 26,
   "id": "593d59a0",
   "metadata": {},
   "outputs": [],
   "source": [
    "results_df = pd.DataFrame({\n",
    "    'Date': test.index,\n",
    "    'Actual_Transactions': test['total_daily_transactions'].values,\n",
    "    'Predicted_Transactions': mean_forecast.values\n",
    "})\n",
    "\n",
    "results_df.to_csv('p3tm.csv')"
   ]
  },
  {
   "cell_type": "code",
   "execution_count": null,
   "id": "80e1492b",
   "metadata": {},
   "outputs": [],
   "source": []
  }
 ],
 "metadata": {
  "kernelspec": {
   "display_name": "Python 3 (ipykernel)",
   "language": "python",
   "name": "python3"
  },
  "language_info": {
   "codemirror_mode": {
    "name": "ipython",
    "version": 3
   },
   "file_extension": ".py",
   "mimetype": "text/x-python",
   "name": "python",
   "nbconvert_exporter": "python",
   "pygments_lexer": "ipython3",
   "version": "3.8.10"
  }
 },
 "nbformat": 4,
 "nbformat_minor": 5
}
