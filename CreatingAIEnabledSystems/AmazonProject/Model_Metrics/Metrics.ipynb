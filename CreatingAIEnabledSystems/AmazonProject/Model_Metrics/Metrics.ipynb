{
 "cells": [
  {
   "cell_type": "code",
   "execution_count": 1,
   "id": "7e2c0288",
   "metadata": {},
   "outputs": [],
   "source": [
    "import os\n",
    "os.chdir('../')"
   ]
  },
  {
   "cell_type": "code",
   "execution_count": 2,
   "id": "4259f5ee",
   "metadata": {},
   "outputs": [
    {
     "name": "stderr",
     "output_type": "stream",
     "text": [
      "[nltk_data] Downloading package punkt to /root/nltk_data...\n",
      "[nltk_data]   Package punkt is already up-to-date!\n",
      "[nltk_data] Downloading package stopwords to /root/nltk_data...\n",
      "[nltk_data]   Package stopwords is already up-to-date!\n"
     ]
    }
   ],
   "source": [
    "from sklearn.metrics import mean_absolute_error, mean_squared_error, r2_score\n",
    "from sklearn.model_selection import train_test_split\n",
    "import seaborn as sns\n",
    "import matplotlib.pyplot as plt\n",
    "from data_pipeline import Pipeline\n",
    "import pandas as pd"
   ]
  },
  {
   "cell_type": "code",
   "execution_count": 3,
   "id": "03e356ed",
   "metadata": {},
   "outputs": [],
   "source": [
    "def calculate_metrics(y_true, y_pred):\n",
    "    \"\"\"\n",
    "    Calculate performance metrics for classification.\n",
    "\n",
    "    Parameters:\n",
    "    - y_true: The true labels.\n",
    "    - y_pred: The predicted labels by the model.\n",
    "\n",
    "    Returns:\n",
    "    A dictionary with the calculated metrics.\n",
    "    \"\"\"\n",
    "    metrics = {\n",
    "        'MAE': mean_absolute_error(y_true, y_pred),\n",
    "        'MSE': mean_squared_error(y_true, y_pred),\n",
    "        'RMSE': mean_squared_error(y_true, y_pred, squared=False),  # squared=False to get RMSE\n",
    "        'R^2': r2_score(y_true, y_pred)\n",
    "    }\n",
    "    return metrics"
   ]
  },
  {
   "cell_type": "code",
   "execution_count": 4,
   "id": "05408840",
   "metadata": {},
   "outputs": [
    {
     "name": "stderr",
     "output_type": "stream",
     "text": [
      "/tmp/ipykernel_1574/1828681962.py:1: DtypeWarning: Columns (18,25) have mixed types. Specify dtype option on import or set low_memory=False.\n",
      "  df = pd.read_csv('amazon_movie_reviews.csv')\n"
     ]
    }
   ],
   "source": [
    "df = pd.read_csv('amazon_movie_reviews.csv') "
   ]
  },
  {
   "cell_type": "code",
   "execution_count": 5,
   "id": "df650616",
   "metadata": {},
   "outputs": [
    {
     "name": "stdout",
     "output_type": "stream",
     "text": [
      "5000\n"
     ]
    }
   ],
   "source": [
    "n_samples = 5000 \n",
    "min_count = df['rating'].value_counts().min()  # Find the minimum count to ensure we don't sample more than available\n",
    "n_samples = min(n_samples, min_count)  # Adjust n_samples to the feasible maximum\n",
    "print(n_samples)\n",
    "# Perform stratified sampling\n",
    "df = df.groupby('rating').apply(lambda x: x.sample(n_samples)).reset_index(drop=True)"
   ]
  },
  {
   "cell_type": "code",
   "execution_count": 6,
   "id": "f233fcb5",
   "metadata": {},
   "outputs": [],
   "source": [
    "pipeline = Pipeline()\n",
    "transformed_data = pipeline.transform(df)"
   ]
  },
  {
   "cell_type": "code",
   "execution_count": 7,
   "id": "7194f649",
   "metadata": {},
   "outputs": [],
   "source": [
    "X = transformed_data.drop(['rating', 'polarity'], axis=1)  # Drop the rating and polarity to avoid leakage\n",
    "y = transformed_data['polarity']"
   ]
  },
  {
   "cell_type": "code",
   "execution_count": 8,
   "id": "ab554072",
   "metadata": {},
   "outputs": [],
   "source": [
    "X_train, X_test, y_train, y_test = train_test_split(X, y, test_size=0.2, random_state=42)"
   ]
  },
  {
   "cell_type": "code",
   "execution_count": 9,
   "id": "31f30a69",
   "metadata": {},
   "outputs": [
    {
     "name": "stdout",
     "output_type": "stream",
     "text": [
      "23311    0.500000\n",
      "23623    0.000000\n",
      "1020    -0.400000\n",
      "12645    0.144231\n",
      "1533     0.000000\n",
      "           ...   \n",
      "21575    0.468750\n",
      "5390    -0.100000\n",
      "860      0.037179\n",
      "15795    0.119572\n",
      "23654    0.750000\n",
      "Name: polarity, Length: 20000, dtype: float64\n"
     ]
    }
   ],
   "source": [
    "print(y_train)"
   ]
  },
  {
   "cell_type": "code",
   "execution_count": 10,
   "id": "cb8105bb",
   "metadata": {},
   "outputs": [
    {
     "name": "stdout",
     "output_type": "stream",
     "text": [
      "       helpful_vote  verified_purchase  review_length  word_count  \\\n",
      "23311     -0.133816                  1             22           4   \n",
      "23623     -0.133816                  1             79          15   \n",
      "1020      -0.133816                  1             28           3   \n",
      "12645     -0.133816                  1            601         106   \n",
      "1533      -0.133816                  1              8           1   \n",
      "...             ...                ...            ...         ...   \n",
      "21575     -0.047053                  1             82          13   \n",
      "5390       0.299999                  1            200          36   \n",
      "860        0.733814                  1            473          81   \n",
      "15795     -0.133816                  1            937         162   \n",
      "23654     -0.133816                  1             80          14   \n",
      "\n",
      "       unique_word_count  punctuation_count  subjectivity         0         1  \\\n",
      "23311                  4                  2      0.600000  8.988703  9.002715   \n",
      "23623                 14                  5      0.000000  9.148232  8.470695   \n",
      "1020                   3                  2      0.650000  8.878348  8.608407   \n",
      "12645                 91                 34      0.430983  9.188431  8.563267   \n",
      "1533                   1                  0      0.000000 -3.226246  8.445962   \n",
      "...                  ...                ...           ...       ...       ...   \n",
      "21575                 13                  2      0.660000  9.179330  8.203350   \n",
      "5390                  30                 14      0.875000  9.061353  8.691260   \n",
      "860                   64                 34      0.606410  9.281469  8.669325   \n",
      "15795                118                 31      0.645350  8.985940  8.721514   \n",
      "23654                 14                  4      0.675000  9.051502  8.614261   \n",
      "\n",
      "              2  ...        40        41        42        43        44  \\\n",
      "23311  8.686647  ...  0.018017  6.622757  5.135447  4.779805  6.058890   \n",
      "23623  8.686937  ... -0.117249  6.663494  4.991555  4.853878  6.329531   \n",
      "1020   8.817034  ...  0.540729  6.410420  5.333170  4.155463  6.278843   \n",
      "12645  8.885328  ...  1.020257  6.512114  5.250666  4.971070  5.576967   \n",
      "1533   8.703182  ...  0.138691  6.567882  5.257288  4.895331  5.352872   \n",
      "...         ...  ...       ...       ...       ...       ...       ...   \n",
      "21575  8.853716  ...  0.432916  7.111212  5.077690  4.563047  6.343540   \n",
      "5390   8.691444  ...  0.227902  6.776755  5.258461  4.862282  5.932166   \n",
      "860    9.003385  ...  0.162613  6.807379  5.148685  5.073689  6.095216   \n",
      "15795  8.664228  ...  0.444491  6.456787  5.214247  4.800490  5.943243   \n",
      "23654  8.759409  ...  0.546458  6.178699  5.317186  4.763980  5.650077   \n",
      "\n",
      "             45         46        47        48        49  \n",
      "23311  5.785149  10.087728  5.129496  7.711828  6.898948  \n",
      "23623  5.538120  10.843584  4.958614  7.123159  7.468163  \n",
      "1020   5.354352  10.026100  4.526425  8.188445  7.229748  \n",
      "12645  5.840784  10.362447  4.782023  7.759842  7.711973  \n",
      "1533   5.005023  11.564876  4.107769  7.403211  7.634942  \n",
      "...         ...        ...       ...       ...       ...  \n",
      "21575  6.075190  10.733296  4.904609  7.783833  7.358475  \n",
      "5390   5.486703  10.415848  4.937254  7.190802  7.409635  \n",
      "860    5.388899  10.525310  4.904497  7.243960  7.410526  \n",
      "15795  5.621694  10.472133  4.682700  7.358033  7.515371  \n",
      "23654  5.473196  10.012084  5.054033  7.469338  6.910454  \n",
      "\n",
      "[20000 rows x 107 columns]\n"
     ]
    }
   ],
   "source": [
    "print(X_train)"
   ]
  },
  {
   "cell_type": "code",
   "execution_count": 11,
   "id": "76835f69",
   "metadata": {},
   "outputs": [
    {
     "name": "stdout",
     "output_type": "stream",
     "text": [
      "Metrics for Ridge Regression:\n",
      "MAE: 0.1903\n",
      "MSE: 0.0654\n",
      "RMSE: 0.2558\n",
      "R^2: 0.4285\n",
      "Metrics for Lasso Regression:\n",
      "MAE: 0.2485\n",
      "MSE: 0.1095\n",
      "RMSE: 0.3309\n",
      "R^2: 0.0438\n",
      "Metrics for Random Forest Regressor:\n",
      "MAE: 0.1475\n",
      "MSE: 0.0461\n",
      "RMSE: 0.2146\n",
      "R^2: 0.5976\n",
      "Metrics for SVR:\n",
      "MAE: 0.2313\n",
      "MSE: 0.0964\n",
      "RMSE: 0.3105\n",
      "R^2: 0.1579\n"
     ]
    }
   ],
   "source": [
    "from sklearn.linear_model import LinearRegression, Ridge, Lasso\n",
    "from sklearn.svm import SVR\n",
    "from sklearn.ensemble import RandomForestRegressor\n",
    "from sklearn.model_selection import train_test_split\n",
    "\n",
    "# Define regression models\n",
    "models = {\n",
    "#     \"Linear Regression\": LinearRegression(),\n",
    "    \"Ridge Regression\": Ridge(alpha=0.5, solver='auto'),\n",
    "    \"Lasso Regression\": Lasso(alpha=0.1, max_iter=10000, tol=0.0001),\n",
    "    \"Random Forest Regressor\": RandomForestRegressor(n_estimators=50),\n",
    "    \"SVR\": SVR(C=1.0, epsilon=0.1)\n",
    "}\n",
    "\n",
    "# Train and evaluate each model\n",
    "results = {}\n",
    "for name, model in models.items():\n",
    "    model.fit(X_train, y_train)  # Train the model\n",
    "    y_pred = model.predict(X_test)  # Predict on the test data\n",
    "    metrics = calculate_metrics(y_test, y_pred)  # Use the regression metrics function defined earlier\n",
    "    results[name] = metrics\n",
    "    print(f\"Metrics for {name}:\")\n",
    "    for metric, value in metrics.items():\n",
    "        print(f\"{metric}: {value:.4f}\")"
   ]
  },
  {
   "cell_type": "code",
   "execution_count": 12,
   "id": "63267bc3",
   "metadata": {},
   "outputs": [
    {
     "data": {
      "image/png": "[encoded data removed]",
      "text/plain": [
       "<Figure size 1008x576 with 4 Axes>"
      ]
     },
     "metadata": {
      "needs_background": "light"
     },
     "output_type": "display_data"
    }
   ],
   "source": [
    "import matplotlib.pyplot as plt\n",
    "import seaborn as sns\n",
    "\n",
    "def plot_results(results):\n",
    "    # Convert the results dictionary to a DataFrame for easier plotting\n",
    "    metrics_df = pd.DataFrame(results).T  # Transpose to get models as rows\n",
    "    metrics_df = metrics_df.reset_index()\n",
    "    metrics_df.rename(columns={'index': 'Model'}, inplace=True)\n",
    "\n",
    "    # Set up the matplotlib figure\n",
    "    plt.figure(figsize=(14, 8))\n",
    "\n",
    "    # Create a subplot for each metric\n",
    "    for i, metric in enumerate(['MAE', 'MSE', 'RMSE', 'R^2'], 1):\n",
    "        plt.subplot(2, 2, i)\n",
    "        sns.barplot(x='Model', y=metric, data=metrics_df)\n",
    "        plt.title(f'{metric.capitalize()} Comparison')\n",
    "        plt.ylabel(metric.capitalize())\n",
    "        plt.xlabel('Model')\n",
    "        plt.xticks(rotation=45)  # Rotate model names for better readability\n",
    "\n",
    "    plt.tight_layout()\n",
    "    plt.show()\n",
    "\n",
    "# Assuming 'results' is the dictionary with your model metrics\n",
    "plot_results(results)"
   ]
  },
  {
   "cell_type": "markdown",
   "id": "dae72685",
   "metadata": {},
   "source": [
    "Overall my models performance was less than ideal. However, with that said I am still thinking the Random Forest Regressor will be useful. I think this for a few reasons. The Big thing to keep in mind is that this is predicting a number from -1 to 1, with 6 digits after the decimal. While it may not have been insanely accurate I believe the model will still be capable of understanding the sentiment of the review. Not only that but I did only train it on 50 estimators, moving it up will more than likely help the performance. Besides that we can see that it outperformed in every category that I tested for. "
   ]
  },
  {
   "cell_type": "code",
   "execution_count": null,
   "id": "523b2c12",
   "metadata": {},
   "outputs": [],
   "source": []
  }
 ],
 "metadata": {
  "kernelspec": {
   "display_name": "Python 3 (ipykernel)",
   "language": "python",
   "name": "python3"
  },
  "language_info": {
   "codemirror_mode": {
    "name": "ipython",
    "version": 3
   },
   "file_extension": ".py",
   "mimetype": "text/x-python",
   "name": "python",
   "nbconvert_exporter": "python",
   "pygments_lexer": "ipython3",
   "version": "3.8.10"
  }
 },
 "nbformat": 4,
 "nbformat_minor": 5
}
