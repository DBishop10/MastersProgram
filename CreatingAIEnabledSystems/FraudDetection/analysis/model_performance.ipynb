{
 "cells": [
  {
   "cell_type": "code",
   "execution_count": 2,
   "id": "e86ff951",
   "metadata": {},
   "outputs": [],
   "source": [
    "import os\n",
    "os.chdir('../')"
   ]
  },
  {
   "cell_type": "code",
   "execution_count": 5,
   "id": "f3d159ea",
   "metadata": {},
   "outputs": [
    {
     "name": "stdout",
     "output_type": "stream",
     "text": [
      "0.24.2\n"
     ]
    }
   ],
   "source": [
    "from data_pipeline import ETL_Pipeline\n",
    "from dataset import Fraud_Dataset\n",
    "from metrics import Metrics \n",
    "import sklearn\n",
    "print(sklearn.__version__)"
   ]
  },
  {
   "cell_type": "code",
   "execution_count": 3,
   "id": "b9793121",
   "metadata": {},
   "outputs": [],
   "source": [
    "pipeline = ETL_Pipeline()\n",
    "metrics = Metrics()\n",
    "\n",
    "raw_data = pipeline.extract('transactions.csv')\n",
    "\n",
    "transformed_data = pipeline.transform(raw_data)\n",
    "\n",
    "pipeline.load(transformed_data, 'transformed_transactions.csv')"
   ]
  },
  {
   "cell_type": "code",
   "execution_count": 4,
   "id": "9fa696f7",
   "metadata": {},
   "outputs": [
    {
     "ename": "NameError",
     "evalue": "name 'transformed_data' is not defined",
     "output_type": "error",
     "traceback": [
      "\u001b[0;31m---------------------------------------------------------------------------\u001b[0m",
      "\u001b[0;31mNameError\u001b[0m                                 Traceback (most recent call last)",
      "\u001b[0;32m/tmp/ipykernel_795/2253701242.py\u001b[0m in \u001b[0;36m<module>\u001b[0;34m\u001b[0m\n\u001b[1;32m      3\u001b[0m \u001b[0;32mimport\u001b[0m \u001b[0mpandas\u001b[0m \u001b[0;32mas\u001b[0m \u001b[0mpd\u001b[0m\u001b[0;34m\u001b[0m\u001b[0;34m\u001b[0m\u001b[0m\n\u001b[1;32m      4\u001b[0m \u001b[0;34m\u001b[0m\u001b[0m\n\u001b[0;32m----> 5\u001b[0;31m \u001b[0mfraud_dataset\u001b[0m \u001b[0;34m=\u001b[0m \u001b[0mFraud_Dataset\u001b[0m\u001b[0;34m(\u001b[0m\u001b[0mtransformed_data\u001b[0m\u001b[0;34m)\u001b[0m\u001b[0;34m\u001b[0m\u001b[0;34m\u001b[0m\u001b[0m\n\u001b[0m\u001b[1;32m      6\u001b[0m \u001b[0;34m\u001b[0m\u001b[0m\n\u001b[1;32m      7\u001b[0m \u001b[0mmodel\u001b[0m \u001b[0;34m=\u001b[0m \u001b[0mLogisticRegression\u001b[0m\u001b[0;34m(\u001b[0m\u001b[0mmax_iter\u001b[0m\u001b[0;34m=\u001b[0m\u001b[0;36m1000\u001b[0m\u001b[0;34m)\u001b[0m\u001b[0;34m\u001b[0m\u001b[0;34m\u001b[0m\u001b[0m\n",
      "\u001b[0;31mNameError\u001b[0m: name 'transformed_data' is not defined"
     ]
    }
   ],
   "source": [
    "from sklearn.linear_model import LogisticRegression\n",
    "from sklearn.metrics import accuracy_score\n",
    "import pandas as pd\n",
    "\n",
    "fraud_dataset = Fraud_Dataset(transformed_data)\n",
    "\n",
    "model = LogisticRegression(max_iter=1000)\n",
    "\n",
    "for fold, (train_data, validation_data) in enumerate(fraud_dataset.get_kfold_datasets()):\n",
    "    X_train, y_train = train_data.drop('is_fraud', axis=1), train_data['is_fraud']\n",
    "    X_val, y_val = validation_data.drop('is_fraud', axis=1), validation_data['is_fraud']\n",
    "    \n",
    "    model.fit(X_train, y_train)\n",
    "    \n",
    "    y_pred = model.predict(X_val)\n",
    "    y_pred_proba = model.predict_proba(X_val)[:, 1]  \n",
    "\n",
    "    metrics = Metrics()\n",
    "    metrics.generate_report(y_val, y_pred, y_pred_proba, 'analysis/')"
   ]
  },
  {
   "cell_type": "code",
   "execution_count": 4,
   "id": "9bbfd872",
   "metadata": {},
   "outputs": [
    {
     "name": "stdout",
     "output_type": "stream",
     "text": [
      "Report successfully written to analysis/results/metrics_report.txt\n",
      "Report successfully written to analysis/results/metrics_report.txt\n",
      "Report successfully written to analysis/results/metrics_report.txt\n",
      "Report successfully written to analysis/results/metrics_report.txt\n",
      "Report successfully written to analysis/results/metrics_report.txt\n"
     ]
    }
   ],
   "source": [
    "from sklearn.ensemble import RandomForestClassifier\n",
    "\n",
    "fraud_dataset = Fraud_Dataset(transformed_data)\n",
    "\n",
    "random_forest_model = RandomForestClassifier(n_estimators=100, random_state=42)\n",
    "\n",
    "for fold, (train_data, validation_data) in enumerate(fraud_dataset.get_kfold_datasets()):\n",
    "    X_train, y_train = train_data.drop('is_fraud', axis=1), train_data['is_fraud']\n",
    "    X_val, y_val = validation_data.drop('is_fraud', axis=1), validation_data['is_fraud']\n",
    "    \n",
    "    random_forest_model.fit(X_train, y_train)\n",
    "    \n",
    "    y_pred_rf = random_forest_model.predict(X_val)\n",
    "    y_pred_proba_rf = random_forest_model.predict_proba(X_val)[:, 1]\n",
    "    \n",
    "    metrics.generate_report(y_val, y_pred_rf, y_pred_proba_rf, 'analysis/results')"
   ]
  },
  {
   "cell_type": "code",
   "execution_count": 5,
   "id": "55c93369",
   "metadata": {},
   "outputs": [
    {
     "name": "stdout",
     "output_type": "stream",
     "text": [
      "Report successfully written to analysis/results/metrics_report.txt\n",
      "Report successfully written to analysis/results/metrics_report.txt\n",
      "Report successfully written to analysis/results/metrics_report.txt\n",
      "Report successfully written to analysis/results/metrics_report.txt\n",
      "Report successfully written to analysis/results/metrics_report.txt\n"
     ]
    }
   ],
   "source": [
    "from sklearn.ensemble import GradientBoostingClassifier\n",
    "\n",
    "fraud_dataset = Fraud_Dataset(transformed_data)\n",
    "\n",
    "gradient_boosting_model = GradientBoostingClassifier(n_estimators=100, learning_rate=0.1, random_state=42)\n",
    "\n",
    "for fold, (train_data, validation_data) in enumerate(fraud_dataset.get_kfold_datasets()):\n",
    "    X_train, y_train = train_data.drop('is_fraud', axis=1), train_data['is_fraud']\n",
    "    X_val, y_val = validation_data.drop('is_fraud', axis=1), validation_data['is_fraud']\n",
    "    \n",
    "    gradient_boosting_model.fit(X_train, y_train)\n",
    "    \n",
    "    y_pred_gb = gradient_boosting_model.predict(X_val)\n",
    "    y_pred_proba_gb = gradient_boosting_model.predict_proba(X_val)[:, 1]\n",
    "    \n",
    "    metrics.generate_report(y_val, y_pred_gb, y_pred_proba_gb, 'analysis/results')"
   ]
  },
  {
   "cell_type": "markdown",
   "id": "435769ae",
   "metadata": {},
   "source": [
    "## Conclusions\n",
    "\n",
    "I chose three different models to test on my data, the linear regression, Random Forest Classifier, and Gradient Boosting Classifier. I chose these three as linear regression is more or less my \"Staple\" model type that gives me a good baseline. I chose the other two however as they both handle skewed datasets quite well. For each of these 5 metrics reports were generated based on k-folds, and I kept what I thought was the best performing ones, most metric reports were fairly consistent.\n",
    "\n",
    "### Linear Regression\n",
    "\n",
    "This model performed horribly. At first I assumed it had performed well as the accuracy in earlier testing was at 99%. This was quickly proven wrong by looking at the outputted metrics report `LogReg_metrics_report.txt`. This shows that Precision, Recall, and Sensitivity were all at 0%. This shows me that more than likely the model labeled everything as not_fraud, which works for the skewed dataset but is not what we want.\n",
    "\n",
    "### Random Forest Classifier\n",
    "\n",
    "This model performed the best out of the group based on the metrics I gave it. As this model handles skewed datasets well this is not too much of a surprise. We do unfortunately have Recall and Sensitivity at 74.11%, which isn't much better than the initial model baseline given to us, but our Precision score was at 95.74% which is lightyears ahead of the original model.\n",
    "\n",
    "### Gradient Boosting Classifier\n",
    "\n",
    "This model also performed quite well out of the three. However, while looking over the metrics they were inconsistent with Recall being as low as 50% and as high as 71%. While this model still performs alright, overall it is not doing too much better than the baseline model, except in Precision where it recieved a score of 89.90%.\n",
    "\n",
    "### Which Model Did I Choose?\n",
    "\n",
    "I decided to go with Random Forest Classifier as it performed the best out of the three models while still being the most consistent. Gradient Boosting Classifier Varied too much between k-folds for me to feel comfortable utilizing it."
   ]
  },
  {
   "cell_type": "code",
   "execution_count": null,
   "id": "7003ed11",
   "metadata": {},
   "outputs": [],
   "source": []
  }
 ],
 "metadata": {
  "kernelspec": {
   "display_name": "Python 3 (ipykernel)",
   "language": "python",
   "name": "python3"
  },
  "language_info": {
   "codemirror_mode": {
    "name": "ipython",
    "version": 3
   },
   "file_extension": ".py",
   "mimetype": "text/x-python",
   "name": "python",
   "nbconvert_exporter": "python",
   "pygments_lexer": "ipython3",
   "version": "3.8.10"
  }
 },
 "nbformat": 4,
 "nbformat_minor": 5
}
