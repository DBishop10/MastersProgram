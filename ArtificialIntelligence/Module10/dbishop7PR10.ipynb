{
 "cells": [
  {
   "cell_type": "markdown",
   "metadata": {},
   "source": [
    "# Module 10 - Programming Assignment\n",
    "\n",
    "## Directions\n",
    "\n",
    "1. Change the name of this file to be your JHED id as in `jsmith299.ipynb`. Because sure you use your JHED ID (it's made out of your name and not your student id which is just letters and numbers).\n",
    "2. Make sure the notebook you submit is cleanly and fully executed. I do not grade unexecuted notebooks.\n",
    "3. Submit your notebook back in Blackboard where you downloaded this file.\n",
    "\n",
    "*Provide the output **exactly** as requested*"
   ]
  },
  {
   "cell_type": "markdown",
   "metadata": {},
   "source": [
    "# Forward Planner\n",
    "\n",
    "## Unify\n",
    "\n",
    "Use the accompanying `unification.py` file for unification. For this assignment, you're almost certainly going to want to be able to:\n",
    "\n",
    "1. specify the problem in terms of S-expressions.\n",
    "2. parse them.\n",
    "3. work with the parsed versions.\n",
    "\n",
    "`parse` and `unification` work exactly like the programming assignment for last time."
   ]
  },
  {
   "cell_type": "code",
   "execution_count": 1,
   "metadata": {},
   "outputs": [],
   "source": [
    "from unification import parse, unification\n",
    "from typing import List, Dict, Any, Set, Tuple\n",
    "from copy import deepcopy"
   ]
  },
  {
   "cell_type": "markdown",
   "metadata": {},
   "source": [
    "## Forward Planner\n",
    "\n",
    "In this assigment, you're going to implement a Forward Planner. What does that mean? If you look in your book, you will not find pseudocode for a forward planner. It just says \"use state space search\" but this is less than helpful and it's a bit more complicated than that. **(but please please do not try to implement STRIPS or GraphPlan...that is wrong).**\n",
    "\n",
    "At a high level, a forward planner takes the current state of the world $S_0$ and attempts to derive a plan, basically by Depth First Search. We have all the ingredients we said we would need in Module 1: states, actions, a transition function and a goal test. We have a set of predicates that describe a state (and therefore all possible states), we have actions and we have, at least, an implicit transition function: applying an action in a state causes the state to change as described by the add and delete lists.\n",
    "\n",
    "Let's say we have a drill that's an item, two places such as home and store, and we know that I'm at home and the drill is at the store and I want to go buy a drill (have it be at home). We might represent that as:\n",
    "\n",
    "<code>\n",
    "start_state = [\n",
    "    \"(item Saw)\",\n",
    "    \"(item Drill)\",\n",
    "    \"(place Home)\",\n",
    "    \"(place Store)\",\n",
    "    \"(place Bank)\",\n",
    "    \"(agent Me)\",\n",
    "    \"(at Me Home)\",\n",
    "    \"(at Saw Store)\",\n",
    "    \"(at Drill Store)\",\n",
    "    \"(at Money Bank)\"\n",
    "]\n",
    "</code>\n",
    "\n",
    "And we have a goal state:\n",
    "\n",
    "<code>\n",
    "goal = [\n",
    "    \"(item Saw)\",\n",
    "    \"(item Drill)\",\n",
    "    \"(place Home)\",\n",
    "    \"(place Store)\",\n",
    "    \"(place Bank)\",\n",
    "    \"(agent Me)\",\n",
    "    \"(at Me Home)\",\n",
    "    \"(at Drill Me)\",\n",
    "    \"(at Saw Store)\",\n",
    "    \"(at Money Bank)\"\n",
    "]\n",
    "</code>\n",
    "\n",
    "The actions/operators are:\n",
    "\n",
    "<code>\n",
    "actions = {\n",
    "    \"drive\": {\n",
    "        \"action\": \"(drive ?agent ?from ?to)\",\n",
    "        \"conditions\": [\n",
    "            \"(agent ?agent)\",\n",
    "            \"(place ?from)\",\n",
    "            \"(place ?to)\",\n",
    "            \"(at ?agent ?from)\"\n",
    "        ],\n",
    "        \"add\": [\n",
    "            \"(at ?agent ?to)\"\n",
    "        ],\n",
    "        \"delete\": [\n",
    "            \"(at ?agent ?from)\"\n",
    "        ]\n",
    "    },\n",
    "    \"buy\": {\n",
    "        \"action\": \"(buy ?purchaser ?seller ?item)\",\n",
    "        \"conditions\": [\n",
    "            \"(item ?item)\",\n",
    "            \"(place ?seller)\",\n",
    "            \"(agent ?purchaser)\",\n",
    "            \"(at ?item ?seller)\",\n",
    "            \"(at ?purchaser ?seller)\"\n",
    "        ],\n",
    "        \"add\": [\n",
    "            \"(at ?item ?purchaser)\"\n",
    "        ],\n",
    "        \"delete\": [\n",
    "            \"(at ?item ?seller)\"\n",
    "        ]\n",
    "    }\n",
    "}\n",
    "</code>\n",
    "\n",
    "These will all need to be parsed from s-expressions to the underlying Python representation before you can use them. You might as well do it at the start of your algorithm, once. The order of the conditions is *not* arbitrary. It is much, much better for the unification and backtracking if you have the \"type\" predicates (item, place, agent) before the more complex ones. Trust me on this.\n",
    "\n",
    "As for the algorithm itself, there is going to be an *outer* level of search and an *inner* level of search.\n",
    "\n",
    "The *outer* level of search that is exactly what I describe here: you have a state, you generate successor states by applying actions to the current state, you examine those successor states as we did at the first week of the semester and if one is the goal you stop, if you see a repeat state, you put it on the explored list (you should implement graph search not tree search). What could be simpler?\n",
    "\n",
    "It turns out the Devil is in the details. There is an *inner* level of search hidden in \"you generate successor states by applying actions to the current state\". Where?\n",
    "\n",
    "How do you know if an action applies in a state? Only if the preconditions successfully unify with the current state. That seems easy enough...you check each predicate in the conditions to see if it unifies with the current state and if it does, you use the substitution list on the action, the add and delete lists and create the successor state based on them.\n",
    "\n",
    "Except for one small problem...there may be more than one way to unify an action with the current state. You must essentially search for all successful unifications of the candidate action and the current state. This is where my question through the semester appliesm, \"how would you modify state space search to return all the paths to the goal?\"\n",
    "\n",
    "Unification can be seen as state space search by trying to unify the first precondition with the current state, progressively working your way through the precondition list. If you fail at any point, you may need to backtrack because there might have been another unification of that predicate that would succeed. Similarly, as already mentioned, there may be more than one.\n",
    "\n",
    "So...by using unification and a properly defined <code>successors</code> function, you should be able to apply graph based search to the problem and return a \"path\" through the states from the initial state to the goal. You'll definitely want to use graph-based search since <code>( drive Me Store), (drive Me Home), (drive Me Store), (drive Me Home), (drive Me Store), (buy Me Store Drill), (drive Me Home)</code> is a valid plan.\n",
    "\n",
    "Your function should return the plan...a list of actions, fully instantiated, for the agent to do in order: [a1, a2, a3]. If you pass an extra intermediate=True parameter, it should also return the resulting state of each action: [s0, a1, s1, a2, s2, a3, s3].\n",
    "\n",
    "-----"
   ]
  },
  {
   "cell_type": "markdown",
   "metadata": {},
   "source": [
    "(you can just overwrite that one and add as many others as you need). Remember to follow the **Guidelines**.\n",
    "\n",
    "\n",
    "-----\n",
    "\n",
    "So you need to implement `forward_planner` as described above. `start_state`, `goal` and `actions` should all have the layout above and be s-expressions.\n",
    "\n",
    "Your implementation should return the plan as a **List of instantiated actions**. If `debug=True`, you should print out the intermediate states of the plan as well."
   ]
  },
  {
   "cell_type": "markdown",
   "metadata": {},
   "source": [
    "## expression_to_string <a id=\"expression_to_string\"></a>\n",
    "**Description:**\n",
    "This function converts a nested expression into a formatted string in the form of an S-expression. It goes through each part of the expression step-by-step, keeping the nested data in the right structure. This is important so that we can understand the problem without needing another format and so other functions can use the string version of the expression.\n",
    "\n",
    "**Parameters:**\n",
    "- `expr` (`Any`): The input expression to be converted to string\n",
    "\n",
    "**Returns:**\n",
    "- A string formatted as an S-expression."
   ]
  },
  {
   "cell_type": "code",
   "execution_count": 2,
   "metadata": {},
   "outputs": [],
   "source": [
    "def expression_to_string(expr: Any) -> str:\n",
    "    return '(' + ' '.join(map(lambda e: e if isinstance(e, str) else expression_to_string(e), expr)) + ')'"
   ]
  },
  {
   "cell_type": "code",
   "execution_count": 3,
   "metadata": {},
   "outputs": [],
   "source": [
    "assert expression_to_string([\"move\", \"agent\", \"location\"]) == \"(move agent location)\"  # Simple expression with a single level\n",
    "\n",
    "assert expression_to_string([\"buy\", \"agent\", [\"item\", \"drill\"]]) == \"(buy agent (item drill))\"  # Nested expression with multiple levels\n",
    "\n",
    "assert expression_to_string([\"drive\", [\"agent\", \"me\"], [\"from\", \"home\"], [\"to\", \"store\"]]) == \"(drive (agent me) (from home) (to store))\"  # Complex expression with varied nesting"
   ]
  },
  {
   "cell_type": "markdown",
   "metadata": {},
   "source": [
    "## `initialize_start` <a id=\"initialize_start\"></a>\n",
    "\n",
    "**Description:**  \n",
    "This function initializes the start state, actions, and goal by parsing each S-expression string into a structured format format that’s easier to use in the rest of the code. It converts the `start_state` and `goal` into lists of parsed expressions and transforms `actions` into a dictionary. Finally, it returns the parsed start state, actions, and a set of goal expressions as strings, making it easier to compare them during the search. This setup helps keep the code simpler, as handling some functions with just plain lists can be frustrating.\n",
    "\n",
    "**Parameters:**  \n",
    "- `start_state` (`List[str]`): A list of S-expression strings representing the initial state.\n",
    "- `actions` (`Dict[str, Dict[str, Any]]`): A dictionary of actions, where each action has conditions, add, and delete lists specified as S-expressions.\n",
    "- `goal` (`List[str]`): A list of S-expression strings representing the goal state.\n",
    "\n",
    "**Returns:**  \n",
    "- A tuple with three elements:\n",
    "  - `start_parsed` (`List[Any]`): The parsed initial state as structured expressions.\n",
    "  - `actions_parsed` (`Dict[str, Dict[str, Any]]`): The parsed actions dictionary.\n",
    "  - `set_goal` (`Set[str]`): A set of goal expressions in string format for easier comparison."
   ]
  },
  {
   "cell_type": "code",
   "execution_count": 4,
   "metadata": {},
   "outputs": [],
   "source": [
    "def initialize_start(start_state: List[str], actions: Dict[str, Dict[str, Any]], goal: List[str]) -> Tuple[List[Any], Dict[str, Dict[str, Any]], Set[str]]:\n",
    "    start_parsed: List[Any] = [parse(singular_state) for singular_state in start_state]\n",
    "    actions_parsed:  Dict[str, Dict[str, Any]] = {action_name: { key: [parse(expression) for expression in value] if isinstance(value, list) else parse(value)\n",
    "                for key, value in action_details.items()\n",
    "            }\n",
    "            for action_name, action_details in actions.items()\n",
    "        }\n",
    "    goal_parsed: List[Any] =  [parse(expression) for expression in goal]\n",
    "    set_goal: Set[str] = set(expression_to_string(stmt) for stmt in goal_parsed)\n",
    "\n",
    "    return start_parsed, actions_parsed, set_goal"
   ]
  },
  {
   "cell_type": "code",
   "execution_count": 5,
   "metadata": {},
   "outputs": [],
   "source": [
    "start_state1 = [\"(agent Me)\", \"(at Me Home)\"]\n",
    "actions1 = {\n",
    "    \"move\": {\n",
    "        \"action\": \"(move ?agent ?from ?to)\",\n",
    "        \"conditions\": [\"(agent ?agent)\", \"(at ?agent ?from)\"],\n",
    "        \"add\": [\"(at ?agent ?to)\"],\n",
    "        \"delete\": [\"(at ?agent ?from)\"]\n",
    "    }\n",
    "}\n",
    "goal1 = [\"(at Me Store)\", \"(agent Me)\"]\n",
    "\n",
    "start_parsed, actions_parsed, set_goal = initialize_start(start_state1, actions1, goal1)\n",
    "assert (start_parsed == [['agent', 'Me'], ['at', 'Me', 'Home']])  # Should parse each start state expression\n",
    "assert (\"move\" in actions_parsed and \"action\" in actions_parsed[\"move\"])  # Should parse each action into a callable dictionary\n",
    "assert (set_goal == {'(at Me Store)', '(agent Me)'}) # Goal correctly parsed to set"
   ]
  },
  {
   "cell_type": "markdown",
   "metadata": {},
   "source": [
    "## `substitute` <a id=\"substitute\"></a>\n",
    "\n",
    "**Description:**  \n",
    "This function applies a substitution dictionary to an expression, replacing variables in the expression with values from the dictionary. If the expression is a list (meaning it’s a structured or nested S-expression), the function applies the substitution to each part of the list one by one. This function is key for setting specific values for variables in an action’s conditions, add lists, and delete lists in the forward planner.\n",
    "\n",
    "**Parameters:**  \n",
    "- `expression` (`Any`): The expression to which substitutions should be applied. It can be a single variable, a nested list, or an S-expression.\n",
    "- `sub` (`Dict[str, Any]`): A dictionary containing variable substitutions, where each key is a variable to be replaced and the value is the replacement.\n",
    "\n",
    "**Returns:**  \n",
    "- The expression with variables replaced according to the substitution dictionary."
   ]
  },
  {
   "cell_type": "code",
   "execution_count": 6,
   "metadata": {},
   "outputs": [],
   "source": [
    "def substitute(expression: Any, sub: Dict[str, Any]) -> Any:\n",
    "    return [sub.get(e, e) if isinstance(e, str) else substitute(e, sub) for e in expression] if isinstance(expression, list) else sub.get(expression, expression)"
   ]
  },
  {
   "cell_type": "code",
   "execution_count": 7,
   "metadata": {},
   "outputs": [],
   "source": [
    "expression1 = [\"move\", \"?agent\", \"?from\", \"?to\"]\n",
    "sub1 = {\"?agent\": \"Me\", \"?from\": \"Home\", \"?to\": \"Store\"}\n",
    "assert substitute(expression1, sub1) == [\"move\", \"Me\", \"Home\", \"Store\"]  # Simple Substitution\n",
    "\n",
    "expression2 = [\"drive\", [\"agent\", \"?agent\"], [\"from\", \"?from\"], [\"to\", \"?to\"]]\n",
    "sub2 = {\"?agent\": \"Me\", \"?from\": \"Home\", \"?to\": \"Store\"}\n",
    "assert substitute(expression2, sub2) == [\"drive\", [\"agent\", \"Me\"], [\"from\", \"Home\"], [\"to\", \"Store\"]]  # Substitution in nested lists\n",
    "\n",
    "expression3 = [\"pickup\", \"?agent\", \"?item\"]\n",
    "sub3 = {\"?other\": \"Unknown\"} \n",
    "assert substitute(expression3, sub3) == [\"pickup\", \"?agent\", \"?item\"]  # No substitution should happen"
   ]
  },
  {
   "cell_type": "markdown",
   "metadata": {},
   "source": [
    "## `generate_new_state` <a id=\"generate_new_state\"></a>\n",
    "\n",
    "**Description:**  \n",
    "This function generates a new state by applying an action's `add` and `delete` effects to the current state. It first applies the substitutions to both the `add` and `delete` lists of the action. Then, it removes any expressions in the `delete` list from the current state and adds the expressions in the `add` list to form the new state. This function is essential for updating the state after applying an action within the forward planner.\n",
    "\n",
    "**Parameters:**  \n",
    "- `current_states` (`List[Any]`): The current state represented as a list of expressions.\n",
    "- `action_data` (`Dict[str, List[Any]]`): A dictionary containing the action's `add` and `delete` lists, which specify what expressions to add to and remove from the state.\n",
    "- `subs` (`Dict[str, Any]`): A dictionary of substitutions, mapping variables to specific values.\n",
    "\n",
    "**Returns:**  \n",
    "- A list representing the new state after applying the action's `add` and `delete` effects."
   ]
  },
  {
   "cell_type": "code",
   "execution_count": 8,
   "metadata": {},
   "outputs": [],
   "source": [
    "def generate_new_state(current_states, action_data, subs):\n",
    "    added = list(map(lambda add: substitute(add, subs), action_data['add']))\n",
    "    removed = list(map(lambda rem: substitute(rem, subs), action_data['delete']))\n",
    "    return list(filter(lambda state: state not in removed, current_states)) + added"
   ]
  },
  {
   "cell_type": "code",
   "execution_count": 9,
   "metadata": {},
   "outputs": [],
   "source": [
    "current_state1 = [\"(at Me Home)\", \"(has Money)\"]\n",
    "action_data1 = {\n",
    "    \"add\": [\"(at Me Store)\"],\n",
    "    \"delete\": [\"(at Me Home)\"]\n",
    "}\n",
    "subs1 = {}\n",
    "assert generate_new_state(current_state1, action_data1, subs1) == [\"(has Money)\", \"(at Me Store)\"]  # Home removed, Store added\n",
    "\n",
    "current_state2 = [\"(at Me Home)\", \"(item Drill)\", \"(at Drill Store)\"]\n",
    "action_data2 = {\n",
    "    \"add\": [\"(at Drill Me)\"],\n",
    "    \"delete\": [\"(at Drill Store)\"]\n",
    "}\n",
    "subs2 = {\"Drill\": \"Drill\"}\n",
    "assert generate_new_state(current_state2, action_data2, subs2) == [\"(at Me Home)\", \"(item Drill)\", \"(at Drill Me)\"]  # Store removed, Me added\n",
    "\n",
    "current_state3 = [\"(at Me Home)\", \"(has Money)\"]\n",
    "action_data3 = {\n",
    "    \"add\": [],\n",
    "    \"delete\": []\n",
    "}\n",
    "subs3 = {}\n",
    "assert generate_new_state(current_state3, action_data3, subs3) == [\"(at Me Home)\", \"(has Money)\"]  # No changes if add and delete lists are empty, also doesnt crash"
   ]
  },
  {
   "cell_type": "markdown",
   "metadata": {},
   "source": [
    "## `find_applicable_actions` <a id=\"find_applicable_actions\"></a>\n",
    "\n",
    "**Description:**  \n",
    "This function identifies all possible substitutions that make an action's conditions applicable to the current state. It attempts to unify each condition with elements in the current state, the generates all valid states. If the conditions unify successfully with the state elements, the function returns a list of possible substitutions that would satisfy the action's preconditions. This is crucial in the forward planner to determine which actions can be applied in a given state.\n",
    "\n",
    "**Parameters:**  \n",
    "- `conditions` (`List[Any]`): A list of conditions for an action, represented as expressions that must be unified with elements in the current state.\n",
    "- `current_state` (`List[Any]`): The current state represented as a list of expressions, used to check if the conditions of an action can be met.\n",
    "\n",
    "**Returns:**  \n",
    "- A list of dictionaries, where each dictionary contains substitutions that unify the action’s conditions with the current state."
   ]
  },
  {
   "cell_type": "code",
   "execution_count": 10,
   "metadata": {},
   "outputs": [],
   "source": [
    "def find_applicable_actions(conditions: List[Any], current_state: List[Any]) -> List[Dict[str, Any]]:\n",
    "    possible_actions: List[Dict[str, Any]] = []\n",
    "    \n",
    "    unification_attempts: List[Dict[str, Any]] = [{\"substitutions\": {}, \"remaining_conditions\": deepcopy(conditions)}]\n",
    "    while unification_attempts:\n",
    "        stack_entry = unification_attempts.pop()\n",
    "        subs = stack_entry[\"substitutions\"]\n",
    "        conds_left = stack_entry[\"remaining_conditions\"]\n",
    "        \n",
    "        for state_elem in current_state:\n",
    "            temp_subs = unification(conds_left[0], state_elem)\n",
    "            if temp_subs is not False:\n",
    "                reverse_existing = {v: k for k, v in subs.items()}\n",
    "                \n",
    "                if not any(reverse_existing.get(v) != k for k, v in temp_subs.items() if v in reverse_existing):\n",
    "                    temp_subs.update(subs)\n",
    "                    \n",
    "                    if len(conds_left) == 1:\n",
    "                        possible_actions.append(temp_subs)\n",
    "                    else:\n",
    "                        unification_attempts.append({\"substitutions\": temp_subs, \"remaining_conditions\": [substitute(c, temp_subs) for c in conds_left[1:]]})\n",
    "    \n",
    "    return possible_actions"
   ]
  },
  {
   "cell_type": "code",
   "execution_count": 11,
   "metadata": {},
   "outputs": [],
   "source": [
    "conditions1 = [['agent', '?agent'], ['place', '?from'], ['place', '?to'], ['at', '?agent', '?from']]\n",
    "current_state1 = [['at', 'Me', 'Home'], ['agent', 'Me'], ['place', 'Store'], ['place', 'Home']]\n",
    "assert find_applicable_actions(conditions1, current_state1) == [{'?to': 'Store', '?from': 'Home', '?agent': 'Me'}]  #Should set to Store from Home\n",
    "\n",
    "conditions2 = [['agent', '?agent'], ['place', '?from'], ['place', '?to'], ['at', '?agent', '?from']]\n",
    "current_state2 = [['at', 'Me', 'Home'], ['agent', 'Me'], ['place', 'Store'], ['place', 'Home'], ['place', 'Bank']]\n",
    "result2 = find_applicable_actions(conditions2, current_state2)\n",
    "expected_result2 = [{'?to': 'Bank', '?from': 'Home', '?agent': 'Me'}, {'?to': 'Store', '?from': 'Home', '?agent': 'Me'}] #Should also be able to go to Bank\n",
    "assert result2 == expected_result2  \n",
    "\n",
    "conditions3 = [\"(at ?agent Park)\"]\n",
    "current_state3 = [\"(at Me Home)\", \"(at You Store)\"]\n",
    "assert find_applicable_actions(conditions3, current_state3) == []  # Conditions not met, cant do any moves\n"
   ]
  },
  {
   "cell_type": "markdown",
   "metadata": {},
   "source": [
    "## `successors` <a id=\"successors\"></a>\n",
    "\n",
    "**Description:**  \n",
    "This function generates successor states by applying all applicable actions to the current state. For each action, it finds valid substitutions that satisfy the action’s preconditions using `find_applicable_actions`. Then, it generates the new state after applying each action’s `add` and `delete` effects. If the resulting state is not in the `explored` set, it is added to the list of successors. This is needed as it returns the new state, the substitutions used, and the action statement, allowing the forward planner to explore new possible states.\n",
    "\n",
    "**Parameters:**  \n",
    "- `state` (`List[Any]`): The current state represented as a list of expressions.\n",
    "- `actions` (`Dict[str, Dict[str, Any]]`): A dictionary of actions, where each action has conditions, add, and delete lists.\n",
    "- `explored` (`Set[Tuple[str, ...]]`): A set of previously visited states to avoid revisiting and looping.\n",
    "\n",
    "**Returns:**  \n",
    "- A list of tuples, where each tuple contains:\n",
    "  - `new_state` (`List[Any]`): The state resulting from applying an action.\n",
    "  - `sub` (`Dict[str, Any]`): The substitutions used to apply the action.\n",
    "  - `action_statement` (`Any`): The fully instantiated action statement."
   ]
  },
  {
   "cell_type": "code",
   "execution_count": 12,
   "metadata": {},
   "outputs": [],
   "source": [
    "def successors(state, actions, explored):\n",
    "    successors_list = []\n",
    "    for action_name, action_details in actions.items():\n",
    "        substitutions = find_applicable_actions(action_details['conditions'], state)\n",
    "        if substitutions:\n",
    "            for sub in substitutions:\n",
    "                new_state = generate_new_state(state, action_details, sub)\n",
    "                action_statement = substitute(action_details['action'], sub)\n",
    "                new_state_tuple = tuple(expression_to_string(stmt) for stmt in new_state)\n",
    "                if new_state_tuple not in explored:\n",
    "                    successors_list.append((new_state, sub, action_statement))\n",
    "    return successors_list"
   ]
  },
  {
   "cell_type": "code",
   "execution_count": 13,
   "metadata": {},
   "outputs": [],
   "source": [
    "state1 = ['at', 'Me', 'Home']\n",
    "actions1 = {\n",
    "    'drive': {\n",
    "        'action': ['drive', '?agent', '?from', '?to'],\n",
    "        'conditions': [['agent', '?agent'], ['place', '?from'], ['place', '?to'], ['at', '?agent', '?from']], \n",
    "        'add': [['at', '?agent', '?to']], \n",
    "        'delete': [['at', '?agent', '?from']]\n",
    "        }\n",
    "}\n",
    "explored1 = set()\n",
    "result1 = successors(state1, actions1, explored1)\n",
    "assert len(result1) == 0  # No successors possible as no destination specified in the state\n",
    "\n",
    "state2 = [['at', 'Me', 'Home'], ['item', 'Drill'], ['place', 'Bank'],  ['agent', 'Me'],  ['place', 'Home']]\n",
    "actions2 = {\n",
    "    'drive': {\n",
    "        'action': ['drive', '?agent', '?from', '?to'],\n",
    "        'conditions': [['agent', '?agent'], ['place', '?from'], ['place', '?to'], ['at', '?agent', '?from']], \n",
    "        'add': [['at', '?agent', '?to']], \n",
    "        'delete': [['at', '?agent', '?from']]\n",
    "    }\n",
    "}\n",
    "explored2 = set()\n",
    "result2 = successors(state2, actions2, explored2)\n",
    "assert result2[0][1][\"?to\"] == \"Bank\"  # Substitution for destination\n",
    "\n",
    "state3 = [['at', 'Me', 'Home'], ['item', 'Drill'], ['place', 'Bank'],  ['agent', 'Me'],  ['place', 'Home']]\n",
    "actions3 = {\n",
    "    'drive': {\n",
    "        'action': ['drive', '?agent', '?from', '?to'],\n",
    "        'conditions': [['agent', '?agent'], ['place', '?from'], ['place', '?to'], ['at', '?agent', '?from']], \n",
    "        'add': [['at', '?agent', '?to']], \n",
    "        'delete': [['at', '?agent', '?from']]\n",
    "    }\n",
    "}\n",
    "explored3 = [('(item Drill)', '(place Bank)', '(agent Me)', '(place Home)', '(at Me Bank)'), ('(this shouldnt matter)')]\n",
    "assert successors(state3, actions3, explored3) == []  # No successors, state already explored\n"
   ]
  },
  {
   "cell_type": "markdown",
   "metadata": {},
   "source": [
    "## `forward_planner` <a id=\"forward_planner\"></a>\n",
    "\n",
    "**Description:**  \n",
    "This function implements a forward planner. It initializes the `start_state`, `actions`, and `goal_set` by parsing them. During each iteration, the function generates successor states and checks if the goal state has been reached. If the goal is achieved, it returns the sequence of actions required to reach the goal. If `debug=True`, the function also includes intermediate states in the output for better traceability. If no solution is found, it returns an empty list.\n",
    "\n",
    "**Parameters:**  \n",
    "- `start_state` (`List[str]`): A list of S-expression strings representing the initial state.\n",
    "- `goal` (`List[str]`): A list of S-expression strings representing the desired goal state.\n",
    "- `actions` (`Dict[str, Dict[str, Any]]`): A dictionary where each action includes conditions, add, and delete lists.\n",
    "- `debug` (`bool`): Optional; if set to `True`, the output will include the state at each action step.\n",
    "\n",
    "**Returns:**  \n",
    "- A list of action strings required to achieve the goal from the start state, or an empty list if no solution is found. If `debug=True`, intermediate states are also included in the output."
   ]
  },
  {
   "cell_type": "code",
   "execution_count": 14,
   "metadata": {},
   "outputs": [],
   "source": [
    "def forward_planner(start_state, goal, actions, debug=False):\n",
    "    start_state, actions, goal_set = initialize_start(start_state, actions, goal)\n",
    "    \n",
    "    explored: Set[Tuple[str, ...]] = set()\n",
    "    stack: List[Tuple[List[List[Any]], List[Any]]] = [([start_state], [])]    \n",
    "    plan_output = []\n",
    "\n",
    "    while stack:\n",
    "        path, plan = stack.pop()\n",
    "        current_state = path[-1] \n",
    "        \n",
    "        if goal_set == {expression_to_string(stmt) for stmt in current_state}:\n",
    "            for i, action in enumerate(plan):\n",
    "                if debug:\n",
    "                    plan_output.append(f\"{{'state': {[expression_to_string(st) for st in path[i]]}, 'action': {expression_to_string(action)}}}\")\n",
    "                else:\n",
    "                    plan_output.append(f\"{{'action': {expression_to_string(action)}}}\")\n",
    "            plan_output.append(f\"{{'final_state': {[expression_to_string(st) for st in path[-1]]}}}\")\n",
    "            return plan_output\n",
    "        \n",
    "        current_state_tuple = tuple(expression_to_string(stmt) for stmt in current_state)\n",
    "        explored.add(current_state_tuple)\n",
    "        \n",
    "        successors_list = successors(current_state, actions, explored)\n",
    "        \n",
    "        for new_state, sub, action_text in successors_list:\n",
    "            stack.append((path + [new_state], plan + [action_text]))\n",
    "    \n",
    "    return []  # No solution found"
   ]
  },
  {
   "cell_type": "code",
   "execution_count": 15,
   "metadata": {},
   "outputs": [],
   "source": [
    "start_state1 = [\"(at Me Home)\", \"(agent Me)\", \"(place Store)\", \"(place Home)\"]\n",
    "goal1 = [\"(at Me Store)\", \"(agent Me)\", \"(place Store)\", \"(place Home)\"]\n",
    "actions1 = {\n",
    "    \"drive\": {\n",
    "        \"action\": \"(drive ?agent ?from ?to)\",\n",
    "        \"conditions\": [\"(at ?agent ?from)\", \"(agent ?agent)\", \"(place ?to)\"],\n",
    "        \"add\": [\"(at ?agent ?to)\"],\n",
    "        \"delete\": [\"(at ?agent ?from)\"]\n",
    "    }\n",
    "}\n",
    "assert forward_planner(start_state1, goal1, actions1) == [\"{'action': (drive Me Home Store)}\", \\\n",
    "                                                           \"{'final_state': ['(agent Me)', '(place Store)', '(place Home)', '(at Me Store)']}\"] # Very Simple Solution\n",
    "\n",
    "start_state2 = [\"(at Me Home)\", \"(agent Me)\", \"(place Store)\", \"(place Home)\",  \"(item Drill)\", \"(at Drill Store)\"]\n",
    "goal2 = [\"(at Me Home)\", \"(agent Me)\", \"(place Store)\", \"(place Home)\", \"(item Drill)\", \"(at Drill Me)\"]\n",
    "actions2 = {\n",
    "    \"drive\": {\n",
    "        \"action\": \"(drive ?agent ?from ?to)\",\n",
    "        \"conditions\": [\"(agent ?agent)\", \"(at ?agent ?from)\", \"(place ?to)\"],\n",
    "        \"add\": [\"(at ?agent ?to)\"],\n",
    "        \"delete\": [\"(at ?agent ?from)\"]\n",
    "    },\n",
    "    \"buy\": {\n",
    "        \"action\": \"(buy ?purchaser ?seller ?item)\",\n",
    "        \"conditions\": [\"(at ?item ?seller)\", \"(at ?purchaser ?seller)\", \"(agent ?purchaser)\", \"(item ?item)\"],\n",
    "        \"add\": [\"(at ?item ?purchaser)\"],\n",
    "        \"delete\": [\"(at ?item ?seller)\"]\n",
    "    }\n",
    "}\n",
    "result2 = forward_planner(start_state2, goal2, actions2)\n",
    "assert result2 == [\"{'action': (drive Me Home Store)}\", \\\n",
    "     \"{'action': (buy Me Store Drill)}\", \\\n",
    "     \"{'action': (drive Me Store Home)}\", \\\n",
    "     \"{'final_state': ['(agent Me)', '(place Store)', '(place Home)', '(item Drill)', '(at Drill Me)', '(at Me Home)']}\"] # Multiple steps to solution\n",
    "\n",
    "start_state3 = [\"(at Me Home)\", \"(agent Me)\", \"(place Store)\", \"(place Home)\",  \"(item Drill)\", \"(at Drill Store)\"]\n",
    "goal3 = [\"(at Me Home)\", \"(agent Me)\", \"(place Store)\", \"(place Home)\", \"(item Drill)\", \"(at Drill Me)\"]\n",
    "actions3 = {\n",
    "    \"drive\": {\n",
    "        \"action\": \"(drive ?agent ?from ?to)\",\n",
    "        \"conditions\": [\"(at ?agent ?from)\", \"(place ?to)\"],\n",
    "        \"add\": [\"(at ?agent ?to)\"],\n",
    "        \"delete\": [\"(at ?agent ?from)\"]\n",
    "    }\n",
    "}\n",
    "assert forward_planner(start_state3, goal3, actions3) == []  # Goal unreachable as no way to purchase, should return []"
   ]
  },
  {
   "cell_type": "markdown",
   "metadata": {},
   "source": [
    "You will be solving the problem from above. Here is the start state:"
   ]
  },
  {
   "cell_type": "code",
   "execution_count": 16,
   "metadata": {},
   "outputs": [],
   "source": [
    "start_state = [\n",
    "    \"(item Saw)\",\n",
    "    \"(item Drill)\",\n",
    "    \"(place Home)\",\n",
    "    \"(place Store)\",\n",
    "    \"(place Bank)\",\n",
    "    \"(agent Me)\",\n",
    "    \"(at Me Home)\",\n",
    "    \"(at Saw Store)\",\n",
    "    \"(at Drill Store)\"\n",
    "]"
   ]
  },
  {
   "cell_type": "markdown",
   "metadata": {},
   "source": [
    "The goal state:"
   ]
  },
  {
   "cell_type": "code",
   "execution_count": 17,
   "metadata": {},
   "outputs": [],
   "source": [
    "goal = [\n",
    "    \"(item Saw)\",    \n",
    "    \"(item Drill)\",\n",
    "    \"(place Home)\",\n",
    "    \"(place Store)\",\n",
    "    \"(place Bank)\",    \n",
    "    \"(agent Me)\",\n",
    "    \"(at Me Home)\",\n",
    "    \"(at Drill Me)\",\n",
    "    \"(at Saw Store)\"    \n",
    "]"
   ]
  },
  {
   "cell_type": "markdown",
   "metadata": {},
   "source": [
    "and the actions/operators:"
   ]
  },
  {
   "cell_type": "code",
   "execution_count": 18,
   "metadata": {},
   "outputs": [],
   "source": [
    "actions = {\n",
    "    \"drive\": {\n",
    "        \"action\": \"(drive ?agent ?from ?to)\",\n",
    "        \"conditions\": [\n",
    "            \"(agent ?agent)\",\n",
    "            \"(place ?from)\",\n",
    "            \"(place ?to)\",\n",
    "            \"(at ?agent ?from)\"\n",
    "        ],\n",
    "        \"add\": [\n",
    "            \"(at ?agent ?to)\"\n",
    "        ],\n",
    "        \"delete\": [\n",
    "            \"(at ?agent ?from)\"\n",
    "        ]\n",
    "    },\n",
    "    \"buy\": {\n",
    "        \"action\": \"(buy ?purchaser ?seller ?item)\",\n",
    "        \"conditions\": [\n",
    "            \"(item ?item)\",\n",
    "            \"(place ?seller)\",\n",
    "            \"(agent ?purchaser)\",\n",
    "            \"(at ?item ?seller)\",\n",
    "            \"(at ?purchaser ?seller)\"\n",
    "        ],\n",
    "        \"add\": [\n",
    "            \"(at ?item ?purchaser)\"\n",
    "        ],\n",
    "        \"delete\": [\n",
    "            \"(at ?item ?seller)\"\n",
    "        ]\n",
    "    }\n",
    "}"
   ]
  },
  {
   "cell_type": "markdown",
   "metadata": {},
   "source": [
    "**Note** The facts for each state are really an ordered set. When comparing two states, you may need to convert them to a Set first."
   ]
  },
  {
   "cell_type": "code",
   "execution_count": 19,
   "metadata": {},
   "outputs": [],
   "source": [
    "plan = forward_planner( start_state, goal, actions)"
   ]
  },
  {
   "cell_type": "code",
   "execution_count": 20,
   "metadata": {},
   "outputs": [
    {
     "name": "stdout",
     "output_type": "stream",
     "text": [
      "{'action': (drive Me Home Store)}\n",
      "{'action': (buy Me Store Drill)}\n",
      "{'action': (drive Me Store Home)}\n",
      "{'final_state': ['(item Saw)', '(item Drill)', '(place Home)', '(place Store)', '(place Bank)', '(agent Me)', '(at Saw Store)', '(at Drill Me)', '(at Me Home)']}\n"
     ]
    }
   ],
   "source": [
    "for el in plan:\n",
    "    print(el)"
   ]
  },
  {
   "cell_type": "markdown",
   "metadata": {},
   "source": [
    "## Before You Submit...\n",
    "\n",
    "1. Did you provide output exactly as requested?\n",
    "2. Did you re-execute the entire notebook? (\"Restart Kernel and Rull All Cells...\")\n",
    "3. If you did not complete the assignment or had difficulty please explain what gave you the most difficulty in the Markdown cell below.\n",
    "4. Did you change the name of the file to `jhed_id.ipynb`?\n",
    "\n",
    "Do not submit any other files."
   ]
  },
  {
   "cell_type": "markdown",
   "metadata": {},
   "source": []
  }
 ],
 "metadata": {
  "kernelspec": {
   "display_name": "en605645",
   "language": "python",
   "name": "python3"
  },
  "language_info": {
   "codemirror_mode": {
    "name": "ipython",
    "version": 3
   },
   "file_extension": ".py",
   "mimetype": "text/x-python",
   "name": "python",
   "nbconvert_exporter": "python",
   "pygments_lexer": "ipython3",
   "version": "3.11.9"
  }
 },
 "nbformat": 4,
 "nbformat_minor": 2
}
