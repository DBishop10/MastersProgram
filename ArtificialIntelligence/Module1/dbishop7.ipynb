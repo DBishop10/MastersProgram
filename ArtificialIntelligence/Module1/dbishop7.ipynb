{
 "cells": [
  {
   "cell_type": "markdown",
   "metadata": {},
   "source": [
    "# Module 1 - Programming Assignment\n",
    "\n",
    "## General Directions\n",
    "\n",
    "1. You must follow the Programming Requirements outlined on Canvas.\n",
    "2. The Notebook should be cleanly and fully executed before submission.\n",
    "3. You should change the name of this file to be your JHED id. For example, `jsmith299.ipynb` although Canvas will change it to something else...\n",
    "4. You must follow the Programming Requirments for this course.\n",
    "\n",
    "<div style=\"background: lemonchiffon; margin:20px; padding: 20px;\">\n",
    "    <strong>Important</strong>\n",
    "    <p>\n",
    "        You should always read the entire assignment before beginning your work, so that you know in advance what the requested output will be and can plan your implementation accordingly.\n",
    "    </p>\n",
    "</div>\n",
    "\n",
    "<div style=\"color: white; background: #C83F49; margin:20px; padding: 20px;\">\n",
    "    <strong>Academic Integrity and Copyright</strong>\n",
    "    <p>You are not permitted to consult outside sources (Stackoverflow, YouTube, ChatGPT, etc.) or use \"code assistance\" (Co-Pilot, etc) to complete this assignment. By submitting this assignment for grading, you certify that the submission is 100% your own work, based on course materials, group interactions, instructor guidance. You agree to comply by the requirements set forth in the Syllabus, including, by reference, the JHU KSAS/WSE Graduate Academic Misconduct Policy.</p>\n",
    "    <p>Sharing this assignment either directly (e.g., email, github, homework site) or indirectly (e.g., ChatGPT, machine learning platform) is a violation of the copyright. Additionally, all such sharing is a violation the Graduate Academic Misconduct Policy (facilitating academic dishonesty is itself academic dishonesty), even after you graduate.</p>\n",
    "    <p>If you have questions or if you're unsure about the policy, ask via Canvas Inbox. In this case, being forgiven is <strong>not</strong> easier than getting permission and ignorance is not an excuse.</p>\n",
    "    <p>This assignment is copyright (&copy Johns Hopkins University &amp; Stephyn G. W. Butcher). All rights reserved.</p>\n",
    "</div>"
   ]
  },
  {
   "cell_type": "markdown",
   "metadata": {},
   "source": [
    "# State Space Search with A* Search\n",
    "\n",
    "You are going to implement the A\\* Search algorithm for navigation problems.\n",
    "\n",
    "\n",
    "## Motivation\n",
    "\n",
    "Search is often used for path-finding in video games. Although the characters in a video game often move in continuous spaces,\n",
    "it is trivial to layout a \"waypoint\" system as a kind of navigation grid over the continuous space. Then if the character needs\n",
    "to get from Point A to Point B, it does a line of sight (LOS) scan to find the nearest waypoint (let's call it Waypoint A) and\n",
    "finds the nearest, LOS waypoint to Point B (let's call it Waypoint B). The agent then does a A* search for Waypoint B from Waypoint A to find the shortest path. The entire path is thus Point A to Waypoint A to Waypoint B to Point B.\n",
    "\n",
    "We're going to simplify the problem by working in a grid world. The symbols that form the grid have a special meaning as they\n",
    "specify the type of the terrain and the cost to enter a grid cell with that type of terrain:\n",
    "\n",
    "```\n",
    "token   terrain    cost \n",
    "🌾       plains     1\n",
    "🌲       forest     3\n",
    "⛰       hills      5\n",
    "🐊       swamp      7\n",
    "🌋       mountains  impassible\n",
    "```\n",
    "\n",
    "We can think of the raw format of the map as being something like:\n",
    "\n",
    "```\n",
    "🌾🌾🌾🌾🌲🌾🌾\n",
    "🌾🌾🌾🌲🌲🌲🌾\n",
    "🌾⛰⛰⛰🌾🌾🌾\n",
    "🌾🌾⛰⛰🌾🌾🌾\n",
    "🌾🌾⛰🌾🌾🌲🌲\n",
    "🌾🌾🌾🌾🌲🌲🌲\n",
    "🌾🌾🌾🌾🌾🌾🌾\n",
    "```"
   ]
  },
  {
   "cell_type": "markdown",
   "metadata": {},
   "source": [
    "## The World\n",
    "\n",
    "Given a map like the one above, we can easily represent each row as a `List` and the entire map as `List of Lists`:"
   ]
  },
  {
   "cell_type": "code",
   "execution_count": 1,
   "metadata": {},
   "outputs": [],
   "source": [
    "full_world = [\n",
    "    ['🌾', '🌾', '🌾', '🌾', '🌾', '🌾', '🌾', '🌾', '🌾', '🌾', '🌾', '🌾', '🐊', '🌾', '🌾', '🌾', '🌾', '🌾', '🌾', '🌾', '🌾', '🌾', '🌾', '🌾', '⛰', '⛰', '⛰'], \n",
    "    ['🌾', '🌾', '🌾', '🌾', '🌾', '⛰', '⛰', '🌾', '🌾', '🌾', '🌾', '🐊', '🐊', '🐊', '🌾', '🌾', '🌾', '🌾', '🌾', '🌾', '🌾', '🌾', '🌾', '⛰', '🌋', '🌋', '⛰'], \n",
    "    ['🌾', '🌾', '🌾', '🌾', '🌾', '⛰', '⛰', '⛰', '🌾', '🌾', '🐊', '🐊', '🐊', '🐊', '🌾', '🌾', '🌋', '🌾', '🌾', '🌾', '⛰', '🌾', '🌾', '⛰', '⛰', '🌋', '🌾'], \n",
    "    ['🌾', '🌾', '🌾', '🌾', '⛰', '⛰', '🌋', '⛰', '⛰', '🐊', '🐊', '🐊', '🐊', '🐊', '🌾', '🌋', '🌋', '🌋', '🌋', '🌾', '⛰', '🌾', '🌾', '🌾', '⛰', '🌋', '🌾'], \n",
    "    ['🌾', '🌾', '🌋', '⛰', '⛰', '🌋', '🌋', '⛰', '⛰', '🐊', '🐊', '🐊', '🐊', '🐊', '🌋', '🌋', '🌲', '🌋', '🌋', '🌋', '⛰', '⛰', '🌾', '🌾', '⛰', '⛰', '🌾'], \n",
    "    ['🌲', '🌾', '🌋', '🌋', '🌋', '🌋', '⛰', '⛰', '⛰', '🐊', '🐊', '🐊', '🌾', '🌾', '🌾', '🌋', '🌲', '🌲', '🌋', '🌋', '⛰', '⛰', '🌾', '⛰', '⛰', '🌾', '🌾'], \n",
    "    ['🌲', '🌾', '🌲', '🌋', '🌋', '⛰', '⛰', '⛰', '🌾', '🌾', '🐊', '🌾', '🌾', '🌾', '🌾', '🌲', '🌲', '🌲', '🌲', '🌋', '🌋', '⛰', '⛰', '⛰', '🌾', '🌾', '🌾'], \n",
    "    ['🌲', '🌲', '🌲', '🌋', '🌲', '⛰', '🌾', '🌾', '🌾', '🌾', '🌾', '🌾', '⛰', '⛰', '🌲', '🌲', '🌲', '🌲', '🌲', '🌲', '🌋', '🌋', '⛰', '⛰', '🌾', '🌾', '🌾'], \n",
    "    ['🌲', '🌲', '🌲', '🌲', '🌲', '🌾', '🌾', '🌾', '🌾', '⛰', '⛰', '⛰', '⛰', '🌲', '🌲', '🌲', '🌲', '🌲', '🌲', '🌲', '🌲', '🌋', '⛰', '⛰', '🌾', '🌾', '🌾'], \n",
    "    ['🌲', '🌲', '🌲', '🌲', '🌾', '🌾', '🌾', '🌾', '🌾', '⛰', '⛰', '🌋', '🌋', '🌲', '🌲', '🌲', '🌲', '🌲', '🌲', '🌲', '🌲', '🌋', '🌋', '⛰', '🌾', '🌾', '🌾'], \n",
    "    ['🌲', '🌲', '🌲', '🌲', '🌾', '🌾', '🌾', '🌾', '🌾', '⛰', '🌋', '🌋', '🌋', '⛰', '🌲', '🌲', '🌲', '🌲', '🌲', '🌲', '🌲', '🌲', '🌋', '🌾', '🌾', '⛰', '🌾'], \n",
    "    ['🌲', '🌲', '🌲', '🌲', '🐊', '🌾', '⛰', '🌾', '🌾', '🌋', '🌋', '⛰', '⛰', '🌾', '⛰', '🌲', '🌲', '🌲', '🌲', '🌲', '🌲', '🌲', '🌋', '🌾', '🌋', '⛰', '🌾'], \n",
    "    ['🌲', '🌲', '🌲', '🐊', '🐊', '🐊', '🌋', '🌾', '⛰', '🌋', '🌋', '🌾', '🌾', '🌾', '⛰', '🌋', '🌲', '🌲', '🌲', '🌲', '🌲', '🌋', '🌋', '🌾', '🌋', '🌋', '⛰'], \n",
    "    ['🌲', '🌲', '🌲', '🐊', '🐊', '🐊', '🌋', '⛰', '⛰', '🌋', '⛰', '🌾', '🐊', '🌾', '⛰', '🌋', '🌲', '🌲', '🌲', '🌾', '🌾', '🌋', '🌾', '🌾', '🌋', '🌋', '⛰'], \n",
    "    ['🌲', '🌲', '🌲', '🌲', '🐊', '🐊', '🌋', '🌋', '🌋', '🌋', '🌾', '🌾', '🐊', '🌾', '⛰', '🌋', '🌋', '🌲', '🌾', '🌾', '🌋', '🌾', '🌾', '🌾', '⛰', '🌋', '⛰'], \n",
    "    ['🌾', '🌲', '🌲', '🌲', '🌲', '🐊', '🐊', '🌋', '🌋', '🌾', '🌾', '🌾', '🐊', '🐊', '🌾', '⛰', '🌋', '🌲', '🌾', '🌾', '🌾', '🌾', '🌾', '⛰', '⛰', '🌋', '⛰'], \n",
    "    ['🌾', '🌾', '🌲', '🌲', '🌲', '🐊', '🐊', '🌋', '🌾', '🌾', '🌾', '🐊', '🐊', '🐊', '🐊', '⛰', '🌋', '🌋', '🌾', '🌾', '🌾', '🌾', '🌾', '⛰', '🌋', '⛰', '⛰'], \n",
    "    ['🌾', '🌾', '🌋', '🌲', '🌲', '🌾', '🐊', '🐊', '🐊', '🌾', '🌾', '🐊', '🌾', '🐊', '🐊', '🌾', '🌾', '🌋', '⛰', '🌾', '🌾', '🌾', '⛰', '🌋', '🌋', '⛰', '🌾'], \n",
    "    ['🌾', '🌋', '🌋', '🌲', '🌾', '🌾', '🌾', '🐊', '🐊', '🐊', '🌾', '🌾', '🌾', '🐊', '🐊', '🐊', '🌾', '🌋', '⛰', '🌾', '🌾', '🌾', '⛰', '🌋', '🌾', '⛰', '🌾'], \n",
    "    ['🌾', '🌋', '🌋', '🌾', '🌾', '🌾', '🌾', '🐊', '🌾', '🌾', '⛰', '🌾', '🌾', '🌾', '🌾', '🌾', '🌋', '🌋', '🌾', '🌾', '🌾', '🌾', '🌾', '⛰', '🌋', '⛰', '🌾'], \n",
    "    ['🌾', '🌋', '⛰', '🌾', '🌾', '🌾', '🌾', '🌾', '🌾', '⛰', '🌋', '⛰', '⛰', '🌾', '🌾', '⛰', '🌋', '🌾', '🌾', '🌾', '🐊', '🐊', '🌾', '⛰', '🌋', '🌋', '🌾'], \n",
    "    ['🌾', '🌋', '⛰', '⛰', '⛰', '🌾', '🌾', '🌾', '⛰', '⛰', '🌋', '🌋', '🌋', '⛰', '⛰', '🌋', '🌋', '🌾', '🌾', '🌾', '🐊', '🐊', '🐊', '🌾', '⛰', '🌋', '⛰'], \n",
    "    ['🌾', '🌋', '⛰', '⛰', '🌋', '⛰', '🌾', '⛰', '⛰', '⛰', '🌋', '🌋', '⛰', '🌾', '🌋', '🌋', '🌾', '🌾', '🌾', '🌾', '🐊', '🐊', '🐊', '🐊', '⛰', '🌋', '⛰'], \n",
    "    ['🌾', '🌋', '🌋', '🌋', '🌋', '🌋', '⛰', '⛰', '⛰', '🌾', '⛰', '⛰', '🌾', '🌾', '⛰', '⛰', '🌾', '🌾', '🌾', '🐊', '🐊', '🐊', '🐊', '🐊', '🐊', '🐊', '⛰'], \n",
    "    ['🌾', '🌋', '🌋', '🌋', '🌋', '⛰', '🌾', '⛰', '🌾', '🌾', '🌾', '🌾', '🌾', '🌾', '🌾', '🌾', '🌾', '🌾', '🌾', '🐊', '🐊', '🐊', '🐊', '🐊', '🐊', '🐊', '🌾'], \n",
    "    ['🌾', '🌾', '⛰', '⛰', '⛰', '🌾', '🌾', '🌾', '🌾', '🌾', '🌾', '🌾', '🌾', '🌾', '🌾', '🌾', '🌾', '🌾', '🌾', '🐊', '🐊', '🐊', '🐊', '🐊', '🐊', '🐊', '🌾'], \n",
    "    ['🌾', '🌾', '⛰', '🌾', '🌾', '🌾', '🌾', '🌾', '🌾', '🌾', '🌾', '🌾', '🌾', '🌾', '🌾', '🌾', '🌾', '🌾', '🌾', '🐊', '🐊', '🐊', '🐊', '🐊', '🐊', '🐊', '🌾']\n",
    "]"
   ]
  },
  {
   "cell_type": "markdown",
   "metadata": {},
   "source": [
    "Note: emojis are not fixed width so here is a function that will print out a List of Lists of emojis in an HTML table."
   ]
  },
  {
   "cell_type": "code",
   "execution_count": 2,
   "metadata": {},
   "outputs": [],
   "source": [
    "from IPython.display import display_html\n",
    "\n",
    "def display_emoji_grid(emoji_grid):\n",
    "    \"\"\"\n",
    "    Display a List of Lists of emojis in a perfect grid (table) in a Jupyter Notebook.\n",
    "    \n",
    "    Parameters:\n",
    "    emoji_grid (list of list of str): A 2D list containing emojis to display in a grid.\n",
    "    \"\"\"\n",
    "    # Create HTML table\n",
    "    html = '<table style=\"border-collapse: collapse;\">'\n",
    "    \n",
    "    for row in emoji_grid:\n",
    "        html += '<tr>'\n",
    "        for emoji in row:\n",
    "            html += f'<td style=\"border: none; padding: 0px; text-align: center; font-size: 1em;\">{emoji}</td>'\n",
    "        html += '</tr>'\n",
    "    \n",
    "    html += '</table>'\n",
    "    \n",
    "    # Display the HTML table\n",
    "    display_html(html, raw=True)\n",
    "#"
   ]
  },
  {
   "cell_type": "code",
   "execution_count": 3,
   "metadata": {},
   "outputs": [
    {
     "data": {
      "text/html": [
       "<table style=\"border-collapse: collapse;\"><tr><td style=\"border: none; padding: 0px; text-align: center; font-size: 1em;\">🌾</td><td style=\"border: none; padding: 0px; text-align: center; font-size: 1em;\">🌾</td><td style=\"border: none; padding: 0px; text-align: center; font-size: 1em;\">🌾</td><td style=\"border: none; padding: 0px; text-align: center; font-size: 1em;\">🌾</td><td style=\"border: none; padding: 0px; text-align: center; font-size: 1em;\">🌾</td><td style=\"border: none; padding: 0px; text-align: center; font-size: 1em;\">🌾</td><td style=\"border: none; padding: 0px; text-align: center; font-size: 1em;\">🌾</td><td style=\"border: none; padding: 0px; text-align: center; font-size: 1em;\">🌾</td><td style=\"border: none; padding: 0px; text-align: center; font-size: 1em;\">🌾</td><td style=\"border: none; padding: 0px; text-align: center; font-size: 1em;\">🌾</td><td style=\"border: none; padding: 0px; text-align: center; font-size: 1em;\">🌾</td><td style=\"border: none; padding: 0px; text-align: center; font-size: 1em;\">🌾</td><td style=\"border: none; padding: 0px; text-align: center; font-size: 1em;\">🐊</td><td style=\"border: none; padding: 0px; text-align: center; font-size: 1em;\">🌾</td><td style=\"border: none; padding: 0px; text-align: center; font-size: 1em;\">🌾</td><td style=\"border: none; padding: 0px; text-align: center; font-size: 1em;\">🌾</td><td style=\"border: none; padding: 0px; text-align: center; font-size: 1em;\">🌾</td><td style=\"border: none; padding: 0px; text-align: center; font-size: 1em;\">🌾</td><td style=\"border: none; padding: 0px; text-align: center; font-size: 1em;\">🌾</td><td style=\"border: none; padding: 0px; text-align: center; font-size: 1em;\">🌾</td><td style=\"border: none; padding: 0px; text-align: center; font-size: 1em;\">🌾</td><td style=\"border: none; padding: 0px; text-align: center; font-size: 1em;\">🌾</td><td style=\"border: none; padding: 0px; text-align: center; font-size: 1em;\">🌾</td><td style=\"border: none; padding: 0px; text-align: center; font-size: 1em;\">🌾</td><td style=\"border: none; padding: 0px; text-align: center; font-size: 1em;\">⛰</td><td style=\"border: none; padding: 0px; text-align: center; font-size: 1em;\">⛰</td><td style=\"border: none; padding: 0px; text-align: center; font-size: 1em;\">⛰</td></tr><tr><td style=\"border: none; padding: 0px; text-align: center; font-size: 1em;\">🌾</td><td style=\"border: none; padding: 0px; text-align: center; font-size: 1em;\">🌾</td><td style=\"border: none; padding: 0px; text-align: center; font-size: 1em;\">🌾</td><td style=\"border: none; padding: 0px; text-align: center; font-size: 1em;\">🌾</td><td style=\"border: none; padding: 0px; text-align: center; font-size: 1em;\">🌾</td><td style=\"border: none; padding: 0px; text-align: center; font-size: 1em;\">⛰</td><td style=\"border: none; padding: 0px; text-align: center; font-size: 1em;\">⛰</td><td style=\"border: none; padding: 0px; text-align: center; font-size: 1em;\">🌾</td><td style=\"border: none; padding: 0px; text-align: center; font-size: 1em;\">🌾</td><td style=\"border: none; padding: 0px; text-align: center; font-size: 1em;\">🌾</td><td style=\"border: none; padding: 0px; text-align: center; font-size: 1em;\">🌾</td><td style=\"border: none; padding: 0px; text-align: center; font-size: 1em;\">🐊</td><td style=\"border: none; padding: 0px; text-align: center; font-size: 1em;\">🐊</td><td style=\"border: none; padding: 0px; text-align: center; font-size: 1em;\">🐊</td><td style=\"border: none; padding: 0px; text-align: center; font-size: 1em;\">🌾</td><td style=\"border: none; padding: 0px; text-align: center; font-size: 1em;\">🌾</td><td style=\"border: none; padding: 0px; text-align: center; font-size: 1em;\">🌾</td><td style=\"border: none; padding: 0px; text-align: center; font-size: 1em;\">🌾</td><td style=\"border: none; padding: 0px; text-align: center; font-size: 1em;\">🌾</td><td style=\"border: none; padding: 0px; text-align: center; font-size: 1em;\">🌾</td><td style=\"border: none; padding: 0px; text-align: center; font-size: 1em;\">🌾</td><td style=\"border: none; padding: 0px; text-align: center; font-size: 1em;\">🌾</td><td style=\"border: none; padding: 0px; text-align: center; font-size: 1em;\">🌾</td><td style=\"border: none; padding: 0px; text-align: center; font-size: 1em;\">⛰</td><td style=\"border: none; padding: 0px; text-align: center; font-size: 1em;\">🌋</td><td style=\"border: none; padding: 0px; text-align: center; font-size: 1em;\">🌋</td><td style=\"border: none; padding: 0px; text-align: center; font-size: 1em;\">⛰</td></tr><tr><td style=\"border: none; padding: 0px; text-align: center; font-size: 1em;\">🌾</td><td style=\"border: none; padding: 0px; text-align: center; font-size: 1em;\">🌾</td><td style=\"border: none; padding: 0px; text-align: center; font-size: 1em;\">🌾</td><td style=\"border: none; padding: 0px; text-align: center; font-size: 1em;\">🌾</td><td style=\"border: none; padding: 0px; text-align: center; font-size: 1em;\">🌾</td><td style=\"border: none; padding: 0px; text-align: center; font-size: 1em;\">⛰</td><td style=\"border: none; padding: 0px; text-align: center; font-size: 1em;\">⛰</td><td style=\"border: none; padding: 0px; text-align: center; font-size: 1em;\">⛰</td><td style=\"border: none; padding: 0px; text-align: center; font-size: 1em;\">🌾</td><td style=\"border: none; padding: 0px; text-align: center; font-size: 1em;\">🌾</td><td style=\"border: none; padding: 0px; text-align: center; font-size: 1em;\">🐊</td><td style=\"border: none; padding: 0px; text-align: center; font-size: 1em;\">🐊</td><td style=\"border: none; padding: 0px; text-align: center; font-size: 1em;\">🐊</td><td style=\"border: none; padding: 0px; text-align: center; font-size: 1em;\">🐊</td><td style=\"border: none; padding: 0px; text-align: center; font-size: 1em;\">🌾</td><td style=\"border: none; padding: 0px; text-align: center; font-size: 1em;\">🌾</td><td style=\"border: none; padding: 0px; text-align: center; font-size: 1em;\">🌋</td><td style=\"border: none; padding: 0px; text-align: center; font-size: 1em;\">🌾</td><td style=\"border: none; padding: 0px; text-align: center; font-size: 1em;\">🌾</td><td style=\"border: none; padding: 0px; text-align: center; font-size: 1em;\">🌾</td><td style=\"border: none; padding: 0px; text-align: center; font-size: 1em;\">⛰</td><td style=\"border: none; padding: 0px; text-align: center; font-size: 1em;\">🌾</td><td style=\"border: none; padding: 0px; text-align: center; font-size: 1em;\">🌾</td><td style=\"border: none; padding: 0px; text-align: center; font-size: 1em;\">⛰</td><td style=\"border: none; padding: 0px; text-align: center; font-size: 1em;\">⛰</td><td style=\"border: none; padding: 0px; text-align: center; font-size: 1em;\">🌋</td><td style=\"border: none; padding: 0px; text-align: center; font-size: 1em;\">🌾</td></tr><tr><td style=\"border: none; padding: 0px; text-align: center; font-size: 1em;\">🌾</td><td style=\"border: none; padding: 0px; text-align: center; font-size: 1em;\">🌾</td><td style=\"border: none; padding: 0px; text-align: center; font-size: 1em;\">🌾</td><td style=\"border: none; padding: 0px; text-align: center; font-size: 1em;\">🌾</td><td style=\"border: none; padding: 0px; text-align: center; font-size: 1em;\">⛰</td><td style=\"border: none; padding: 0px; text-align: center; font-size: 1em;\">⛰</td><td style=\"border: none; padding: 0px; text-align: center; font-size: 1em;\">🌋</td><td style=\"border: none; padding: 0px; text-align: center; font-size: 1em;\">⛰</td><td style=\"border: none; padding: 0px; text-align: center; font-size: 1em;\">⛰</td><td style=\"border: none; padding: 0px; text-align: center; font-size: 1em;\">🐊</td><td style=\"border: none; padding: 0px; text-align: center; font-size: 1em;\">🐊</td><td style=\"border: none; padding: 0px; text-align: center; font-size: 1em;\">🐊</td><td style=\"border: none; padding: 0px; text-align: center; font-size: 1em;\">🐊</td><td style=\"border: none; padding: 0px; text-align: center; font-size: 1em;\">🐊</td><td style=\"border: none; padding: 0px; text-align: center; font-size: 1em;\">🌾</td><td style=\"border: none; padding: 0px; text-align: center; font-size: 1em;\">🌋</td><td style=\"border: none; padding: 0px; text-align: center; font-size: 1em;\">🌋</td><td style=\"border: none; padding: 0px; text-align: center; font-size: 1em;\">🌋</td><td style=\"border: none; padding: 0px; text-align: center; font-size: 1em;\">🌋</td><td style=\"border: none; padding: 0px; text-align: center; font-size: 1em;\">🌾</td><td style=\"border: none; padding: 0px; text-align: center; font-size: 1em;\">⛰</td><td style=\"border: none; padding: 0px; text-align: center; font-size: 1em;\">🌾</td><td style=\"border: none; padding: 0px; text-align: center; font-size: 1em;\">🌾</td><td style=\"border: none; padding: 0px; text-align: center; font-size: 1em;\">🌾</td><td style=\"border: none; padding: 0px; text-align: center; font-size: 1em;\">⛰</td><td style=\"border: none; padding: 0px; text-align: center; font-size: 1em;\">🌋</td><td style=\"border: none; padding: 0px; text-align: center; font-size: 1em;\">🌾</td></tr><tr><td style=\"border: none; padding: 0px; text-align: center; font-size: 1em;\">🌾</td><td style=\"border: none; padding: 0px; text-align: center; font-size: 1em;\">🌾</td><td style=\"border: none; padding: 0px; text-align: center; font-size: 1em;\">🌋</td><td style=\"border: none; padding: 0px; text-align: center; font-size: 1em;\">⛰</td><td style=\"border: none; padding: 0px; text-align: center; font-size: 1em;\">⛰</td><td style=\"border: none; padding: 0px; text-align: center; font-size: 1em;\">🌋</td><td style=\"border: none; padding: 0px; text-align: center; font-size: 1em;\">🌋</td><td style=\"border: none; padding: 0px; text-align: center; font-size: 1em;\">⛰</td><td style=\"border: none; padding: 0px; text-align: center; font-size: 1em;\">⛰</td><td style=\"border: none; padding: 0px; text-align: center; font-size: 1em;\">🐊</td><td style=\"border: none; padding: 0px; text-align: center; font-size: 1em;\">🐊</td><td style=\"border: none; padding: 0px; text-align: center; font-size: 1em;\">🐊</td><td style=\"border: none; padding: 0px; text-align: center; font-size: 1em;\">🐊</td><td style=\"border: none; padding: 0px; text-align: center; font-size: 1em;\">🐊</td><td style=\"border: none; padding: 0px; text-align: center; font-size: 1em;\">🌋</td><td style=\"border: none; padding: 0px; text-align: center; font-size: 1em;\">🌋</td><td style=\"border: none; padding: 0px; text-align: center; font-size: 1em;\">🌲</td><td style=\"border: none; padding: 0px; text-align: center; font-size: 1em;\">🌋</td><td style=\"border: none; padding: 0px; text-align: center; font-size: 1em;\">🌋</td><td style=\"border: none; padding: 0px; text-align: center; font-size: 1em;\">🌋</td><td style=\"border: none; padding: 0px; text-align: center; font-size: 1em;\">⛰</td><td style=\"border: none; padding: 0px; text-align: center; font-size: 1em;\">⛰</td><td style=\"border: none; padding: 0px; text-align: center; font-size: 1em;\">🌾</td><td style=\"border: none; padding: 0px; text-align: center; font-size: 1em;\">🌾</td><td style=\"border: none; padding: 0px; text-align: center; font-size: 1em;\">⛰</td><td style=\"border: none; padding: 0px; text-align: center; font-size: 1em;\">⛰</td><td style=\"border: none; padding: 0px; text-align: center; font-size: 1em;\">🌾</td></tr><tr><td style=\"border: none; padding: 0px; text-align: center; font-size: 1em;\">🌲</td><td style=\"border: none; padding: 0px; text-align: center; font-size: 1em;\">🌾</td><td style=\"border: none; padding: 0px; text-align: center; font-size: 1em;\">🌋</td><td style=\"border: none; padding: 0px; text-align: center; font-size: 1em;\">🌋</td><td style=\"border: none; padding: 0px; text-align: center; font-size: 1em;\">🌋</td><td style=\"border: none; padding: 0px; text-align: center; font-size: 1em;\">🌋</td><td style=\"border: none; padding: 0px; text-align: center; font-size: 1em;\">⛰</td><td style=\"border: none; padding: 0px; text-align: center; font-size: 1em;\">⛰</td><td style=\"border: none; padding: 0px; text-align: center; font-size: 1em;\">⛰</td><td style=\"border: none; padding: 0px; text-align: center; font-size: 1em;\">🐊</td><td style=\"border: none; padding: 0px; text-align: center; font-size: 1em;\">🐊</td><td style=\"border: none; padding: 0px; text-align: center; font-size: 1em;\">🐊</td><td style=\"border: none; padding: 0px; text-align: center; font-size: 1em;\">🌾</td><td style=\"border: none; padding: 0px; text-align: center; font-size: 1em;\">🌾</td><td style=\"border: none; padding: 0px; text-align: center; font-size: 1em;\">🌾</td><td style=\"border: none; padding: 0px; text-align: center; font-size: 1em;\">🌋</td><td style=\"border: none; padding: 0px; text-align: center; font-size: 1em;\">🌲</td><td style=\"border: none; padding: 0px; text-align: center; font-size: 1em;\">🌲</td><td style=\"border: none; padding: 0px; text-align: center; font-size: 1em;\">🌋</td><td style=\"border: none; padding: 0px; text-align: center; font-size: 1em;\">🌋</td><td style=\"border: none; padding: 0px; text-align: center; font-size: 1em;\">⛰</td><td style=\"border: none; padding: 0px; text-align: center; font-size: 1em;\">⛰</td><td style=\"border: none; padding: 0px; text-align: center; font-size: 1em;\">🌾</td><td style=\"border: none; padding: 0px; text-align: center; font-size: 1em;\">⛰</td><td style=\"border: none; padding: 0px; text-align: center; font-size: 1em;\">⛰</td><td style=\"border: none; padding: 0px; text-align: center; font-size: 1em;\">🌾</td><td style=\"border: none; padding: 0px; text-align: center; font-size: 1em;\">🌾</td></tr><tr><td style=\"border: none; padding: 0px; text-align: center; font-size: 1em;\">🌲</td><td style=\"border: none; padding: 0px; text-align: center; font-size: 1em;\">🌾</td><td style=\"border: none; padding: 0px; text-align: center; font-size: 1em;\">🌲</td><td style=\"border: none; padding: 0px; text-align: center; font-size: 1em;\">🌋</td><td style=\"border: none; padding: 0px; text-align: center; font-size: 1em;\">🌋</td><td style=\"border: none; padding: 0px; text-align: center; font-size: 1em;\">⛰</td><td style=\"border: none; padding: 0px; text-align: center; font-size: 1em;\">⛰</td><td style=\"border: none; padding: 0px; text-align: center; font-size: 1em;\">⛰</td><td style=\"border: none; padding: 0px; text-align: center; font-size: 1em;\">🌾</td><td style=\"border: none; padding: 0px; text-align: center; font-size: 1em;\">🌾</td><td style=\"border: none; padding: 0px; text-align: center; font-size: 1em;\">🐊</td><td style=\"border: none; padding: 0px; text-align: center; font-size: 1em;\">🌾</td><td style=\"border: none; padding: 0px; text-align: center; font-size: 1em;\">🌾</td><td style=\"border: none; padding: 0px; text-align: center; font-size: 1em;\">🌾</td><td style=\"border: none; padding: 0px; text-align: center; font-size: 1em;\">🌾</td><td style=\"border: none; padding: 0px; text-align: center; font-size: 1em;\">🌲</td><td style=\"border: none; padding: 0px; text-align: center; font-size: 1em;\">🌲</td><td style=\"border: none; padding: 0px; text-align: center; font-size: 1em;\">🌲</td><td style=\"border: none; padding: 0px; text-align: center; font-size: 1em;\">🌲</td><td style=\"border: none; padding: 0px; text-align: center; font-size: 1em;\">🌋</td><td style=\"border: none; padding: 0px; text-align: center; font-size: 1em;\">🌋</td><td style=\"border: none; padding: 0px; text-align: center; font-size: 1em;\">⛰</td><td style=\"border: none; padding: 0px; text-align: center; font-size: 1em;\">⛰</td><td style=\"border: none; padding: 0px; text-align: center; font-size: 1em;\">⛰</td><td style=\"border: none; padding: 0px; text-align: center; font-size: 1em;\">🌾</td><td style=\"border: none; padding: 0px; text-align: center; font-size: 1em;\">🌾</td><td style=\"border: none; padding: 0px; text-align: center; font-size: 1em;\">🌾</td></tr><tr><td style=\"border: none; padding: 0px; text-align: center; font-size: 1em;\">🌲</td><td style=\"border: none; padding: 0px; text-align: center; font-size: 1em;\">🌲</td><td style=\"border: none; padding: 0px; text-align: center; font-size: 1em;\">🌲</td><td style=\"border: none; padding: 0px; text-align: center; font-size: 1em;\">🌋</td><td style=\"border: none; padding: 0px; text-align: center; font-size: 1em;\">🌲</td><td style=\"border: none; padding: 0px; text-align: center; font-size: 1em;\">⛰</td><td style=\"border: none; padding: 0px; text-align: center; font-size: 1em;\">🌾</td><td style=\"border: none; padding: 0px; text-align: center; font-size: 1em;\">🌾</td><td style=\"border: none; padding: 0px; text-align: center; font-size: 1em;\">🌾</td><td style=\"border: none; padding: 0px; text-align: center; font-size: 1em;\">🌾</td><td style=\"border: none; padding: 0px; text-align: center; font-size: 1em;\">🌾</td><td style=\"border: none; padding: 0px; text-align: center; font-size: 1em;\">🌾</td><td style=\"border: none; padding: 0px; text-align: center; font-size: 1em;\">⛰</td><td style=\"border: none; padding: 0px; text-align: center; font-size: 1em;\">⛰</td><td style=\"border: none; padding: 0px; text-align: center; font-size: 1em;\">🌲</td><td style=\"border: none; padding: 0px; text-align: center; font-size: 1em;\">🌲</td><td style=\"border: none; padding: 0px; text-align: center; font-size: 1em;\">🌲</td><td style=\"border: none; padding: 0px; text-align: center; font-size: 1em;\">🌲</td><td style=\"border: none; padding: 0px; text-align: center; font-size: 1em;\">🌲</td><td style=\"border: none; padding: 0px; text-align: center; font-size: 1em;\">🌲</td><td style=\"border: none; padding: 0px; text-align: center; font-size: 1em;\">🌋</td><td style=\"border: none; padding: 0px; text-align: center; font-size: 1em;\">🌋</td><td style=\"border: none; padding: 0px; text-align: center; font-size: 1em;\">⛰</td><td style=\"border: none; padding: 0px; text-align: center; font-size: 1em;\">⛰</td><td style=\"border: none; padding: 0px; text-align: center; font-size: 1em;\">🌾</td><td style=\"border: none; padding: 0px; text-align: center; font-size: 1em;\">🌾</td><td style=\"border: none; padding: 0px; text-align: center; font-size: 1em;\">🌾</td></tr><tr><td style=\"border: none; padding: 0px; text-align: center; font-size: 1em;\">🌲</td><td style=\"border: none; padding: 0px; text-align: center; font-size: 1em;\">🌲</td><td style=\"border: none; padding: 0px; text-align: center; font-size: 1em;\">🌲</td><td style=\"border: none; padding: 0px; text-align: center; font-size: 1em;\">🌲</td><td style=\"border: none; padding: 0px; text-align: center; font-size: 1em;\">🌲</td><td style=\"border: none; padding: 0px; text-align: center; font-size: 1em;\">🌾</td><td style=\"border: none; padding: 0px; text-align: center; font-size: 1em;\">🌾</td><td style=\"border: none; padding: 0px; text-align: center; font-size: 1em;\">🌾</td><td style=\"border: none; padding: 0px; text-align: center; font-size: 1em;\">🌾</td><td style=\"border: none; padding: 0px; text-align: center; font-size: 1em;\">⛰</td><td style=\"border: none; padding: 0px; text-align: center; font-size: 1em;\">⛰</td><td style=\"border: none; padding: 0px; text-align: center; font-size: 1em;\">⛰</td><td style=\"border: none; padding: 0px; text-align: center; font-size: 1em;\">⛰</td><td style=\"border: none; padding: 0px; text-align: center; font-size: 1em;\">🌲</td><td style=\"border: none; padding: 0px; text-align: center; font-size: 1em;\">🌲</td><td style=\"border: none; padding: 0px; text-align: center; font-size: 1em;\">🌲</td><td style=\"border: none; padding: 0px; text-align: center; font-size: 1em;\">🌲</td><td style=\"border: none; padding: 0px; text-align: center; font-size: 1em;\">🌲</td><td style=\"border: none; padding: 0px; text-align: center; font-size: 1em;\">🌲</td><td style=\"border: none; padding: 0px; text-align: center; font-size: 1em;\">🌲</td><td style=\"border: none; padding: 0px; text-align: center; font-size: 1em;\">🌲</td><td style=\"border: none; padding: 0px; text-align: center; font-size: 1em;\">🌋</td><td style=\"border: none; padding: 0px; text-align: center; font-size: 1em;\">⛰</td><td style=\"border: none; padding: 0px; text-align: center; font-size: 1em;\">⛰</td><td style=\"border: none; padding: 0px; text-align: center; font-size: 1em;\">🌾</td><td style=\"border: none; padding: 0px; text-align: center; font-size: 1em;\">🌾</td><td style=\"border: none; padding: 0px; text-align: center; font-size: 1em;\">🌾</td></tr><tr><td style=\"border: none; padding: 0px; text-align: center; font-size: 1em;\">🌲</td><td style=\"border: none; padding: 0px; text-align: center; font-size: 1em;\">🌲</td><td style=\"border: none; padding: 0px; text-align: center; font-size: 1em;\">🌲</td><td style=\"border: none; padding: 0px; text-align: center; font-size: 1em;\">🌲</td><td style=\"border: none; padding: 0px; text-align: center; font-size: 1em;\">🌾</td><td style=\"border: none; padding: 0px; text-align: center; font-size: 1em;\">🌾</td><td style=\"border: none; padding: 0px; text-align: center; font-size: 1em;\">🌾</td><td style=\"border: none; padding: 0px; text-align: center; font-size: 1em;\">🌾</td><td style=\"border: none; padding: 0px; text-align: center; font-size: 1em;\">🌾</td><td style=\"border: none; padding: 0px; text-align: center; font-size: 1em;\">⛰</td><td style=\"border: none; padding: 0px; text-align: center; font-size: 1em;\">⛰</td><td style=\"border: none; padding: 0px; text-align: center; font-size: 1em;\">🌋</td><td style=\"border: none; padding: 0px; text-align: center; font-size: 1em;\">🌋</td><td style=\"border: none; padding: 0px; text-align: center; font-size: 1em;\">🌲</td><td style=\"border: none; padding: 0px; text-align: center; font-size: 1em;\">🌲</td><td style=\"border: none; padding: 0px; text-align: center; font-size: 1em;\">🌲</td><td style=\"border: none; padding: 0px; text-align: center; font-size: 1em;\">🌲</td><td style=\"border: none; padding: 0px; text-align: center; font-size: 1em;\">🌲</td><td style=\"border: none; padding: 0px; text-align: center; font-size: 1em;\">🌲</td><td style=\"border: none; padding: 0px; text-align: center; font-size: 1em;\">🌲</td><td style=\"border: none; padding: 0px; text-align: center; font-size: 1em;\">🌲</td><td style=\"border: none; padding: 0px; text-align: center; font-size: 1em;\">🌋</td><td style=\"border: none; padding: 0px; text-align: center; font-size: 1em;\">🌋</td><td style=\"border: none; padding: 0px; text-align: center; font-size: 1em;\">⛰</td><td style=\"border: none; padding: 0px; text-align: center; font-size: 1em;\">🌾</td><td style=\"border: none; padding: 0px; text-align: center; font-size: 1em;\">🌾</td><td style=\"border: none; padding: 0px; text-align: center; font-size: 1em;\">🌾</td></tr><tr><td style=\"border: none; padding: 0px; text-align: center; font-size: 1em;\">🌲</td><td style=\"border: none; padding: 0px; text-align: center; font-size: 1em;\">🌲</td><td style=\"border: none; padding: 0px; text-align: center; font-size: 1em;\">🌲</td><td style=\"border: none; padding: 0px; text-align: center; font-size: 1em;\">🌲</td><td style=\"border: none; padding: 0px; text-align: center; font-size: 1em;\">🌾</td><td style=\"border: none; padding: 0px; text-align: center; font-size: 1em;\">🌾</td><td style=\"border: none; padding: 0px; text-align: center; font-size: 1em;\">🌾</td><td style=\"border: none; padding: 0px; text-align: center; font-size: 1em;\">🌾</td><td style=\"border: none; padding: 0px; text-align: center; font-size: 1em;\">🌾</td><td style=\"border: none; padding: 0px; text-align: center; font-size: 1em;\">⛰</td><td style=\"border: none; padding: 0px; text-align: center; font-size: 1em;\">🌋</td><td style=\"border: none; padding: 0px; text-align: center; font-size: 1em;\">🌋</td><td style=\"border: none; padding: 0px; text-align: center; font-size: 1em;\">🌋</td><td style=\"border: none; padding: 0px; text-align: center; font-size: 1em;\">⛰</td><td style=\"border: none; padding: 0px; text-align: center; font-size: 1em;\">🌲</td><td style=\"border: none; padding: 0px; text-align: center; font-size: 1em;\">🌲</td><td style=\"border: none; padding: 0px; text-align: center; font-size: 1em;\">🌲</td><td style=\"border: none; padding: 0px; text-align: center; font-size: 1em;\">🌲</td><td style=\"border: none; padding: 0px; text-align: center; font-size: 1em;\">🌲</td><td style=\"border: none; padding: 0px; text-align: center; font-size: 1em;\">🌲</td><td style=\"border: none; padding: 0px; text-align: center; font-size: 1em;\">🌲</td><td style=\"border: none; padding: 0px; text-align: center; font-size: 1em;\">🌲</td><td style=\"border: none; padding: 0px; text-align: center; font-size: 1em;\">🌋</td><td style=\"border: none; padding: 0px; text-align: center; font-size: 1em;\">🌾</td><td style=\"border: none; padding: 0px; text-align: center; font-size: 1em;\">🌾</td><td style=\"border: none; padding: 0px; text-align: center; font-size: 1em;\">⛰</td><td style=\"border: none; padding: 0px; text-align: center; font-size: 1em;\">🌾</td></tr><tr><td style=\"border: none; padding: 0px; text-align: center; font-size: 1em;\">🌲</td><td style=\"border: none; padding: 0px; text-align: center; font-size: 1em;\">🌲</td><td style=\"border: none; padding: 0px; text-align: center; font-size: 1em;\">🌲</td><td style=\"border: none; padding: 0px; text-align: center; font-size: 1em;\">🌲</td><td style=\"border: none; padding: 0px; text-align: center; font-size: 1em;\">🐊</td><td style=\"border: none; padding: 0px; text-align: center; font-size: 1em;\">🌾</td><td style=\"border: none; padding: 0px; text-align: center; font-size: 1em;\">⛰</td><td style=\"border: none; padding: 0px; text-align: center; font-size: 1em;\">🌾</td><td style=\"border: none; padding: 0px; text-align: center; font-size: 1em;\">🌾</td><td style=\"border: none; padding: 0px; text-align: center; font-size: 1em;\">🌋</td><td style=\"border: none; padding: 0px; text-align: center; font-size: 1em;\">🌋</td><td style=\"border: none; padding: 0px; text-align: center; font-size: 1em;\">⛰</td><td style=\"border: none; padding: 0px; text-align: center; font-size: 1em;\">⛰</td><td style=\"border: none; padding: 0px; text-align: center; font-size: 1em;\">🌾</td><td style=\"border: none; padding: 0px; text-align: center; font-size: 1em;\">⛰</td><td style=\"border: none; padding: 0px; text-align: center; font-size: 1em;\">🌲</td><td style=\"border: none; padding: 0px; text-align: center; font-size: 1em;\">🌲</td><td style=\"border: none; padding: 0px; text-align: center; font-size: 1em;\">🌲</td><td style=\"border: none; padding: 0px; text-align: center; font-size: 1em;\">🌲</td><td style=\"border: none; padding: 0px; text-align: center; font-size: 1em;\">🌲</td><td style=\"border: none; padding: 0px; text-align: center; font-size: 1em;\">🌲</td><td style=\"border: none; padding: 0px; text-align: center; font-size: 1em;\">🌲</td><td style=\"border: none; padding: 0px; text-align: center; font-size: 1em;\">🌋</td><td style=\"border: none; padding: 0px; text-align: center; font-size: 1em;\">🌾</td><td style=\"border: none; padding: 0px; text-align: center; font-size: 1em;\">🌋</td><td style=\"border: none; padding: 0px; text-align: center; font-size: 1em;\">⛰</td><td style=\"border: none; padding: 0px; text-align: center; font-size: 1em;\">🌾</td></tr><tr><td style=\"border: none; padding: 0px; text-align: center; font-size: 1em;\">🌲</td><td style=\"border: none; padding: 0px; text-align: center; font-size: 1em;\">🌲</td><td style=\"border: none; padding: 0px; text-align: center; font-size: 1em;\">🌲</td><td style=\"border: none; padding: 0px; text-align: center; font-size: 1em;\">🐊</td><td style=\"border: none; padding: 0px; text-align: center; font-size: 1em;\">🐊</td><td style=\"border: none; padding: 0px; text-align: center; font-size: 1em;\">🐊</td><td style=\"border: none; padding: 0px; text-align: center; font-size: 1em;\">🌋</td><td style=\"border: none; padding: 0px; text-align: center; font-size: 1em;\">🌾</td><td style=\"border: none; padding: 0px; text-align: center; font-size: 1em;\">⛰</td><td style=\"border: none; padding: 0px; text-align: center; font-size: 1em;\">🌋</td><td style=\"border: none; padding: 0px; text-align: center; font-size: 1em;\">🌋</td><td style=\"border: none; padding: 0px; text-align: center; font-size: 1em;\">🌾</td><td style=\"border: none; padding: 0px; text-align: center; font-size: 1em;\">🌾</td><td style=\"border: none; padding: 0px; text-align: center; font-size: 1em;\">🌾</td><td style=\"border: none; padding: 0px; text-align: center; font-size: 1em;\">⛰</td><td style=\"border: none; padding: 0px; text-align: center; font-size: 1em;\">🌋</td><td style=\"border: none; padding: 0px; text-align: center; font-size: 1em;\">🌲</td><td style=\"border: none; padding: 0px; text-align: center; font-size: 1em;\">🌲</td><td style=\"border: none; padding: 0px; text-align: center; font-size: 1em;\">🌲</td><td style=\"border: none; padding: 0px; text-align: center; font-size: 1em;\">🌲</td><td style=\"border: none; padding: 0px; text-align: center; font-size: 1em;\">🌲</td><td style=\"border: none; padding: 0px; text-align: center; font-size: 1em;\">🌋</td><td style=\"border: none; padding: 0px; text-align: center; font-size: 1em;\">🌋</td><td style=\"border: none; padding: 0px; text-align: center; font-size: 1em;\">🌾</td><td style=\"border: none; padding: 0px; text-align: center; font-size: 1em;\">🌋</td><td style=\"border: none; padding: 0px; text-align: center; font-size: 1em;\">🌋</td><td style=\"border: none; padding: 0px; text-align: center; font-size: 1em;\">⛰</td></tr><tr><td style=\"border: none; padding: 0px; text-align: center; font-size: 1em;\">🌲</td><td style=\"border: none; padding: 0px; text-align: center; font-size: 1em;\">🌲</td><td style=\"border: none; padding: 0px; text-align: center; font-size: 1em;\">🌲</td><td style=\"border: none; padding: 0px; text-align: center; font-size: 1em;\">🐊</td><td style=\"border: none; padding: 0px; text-align: center; font-size: 1em;\">🐊</td><td style=\"border: none; padding: 0px; text-align: center; font-size: 1em;\">🐊</td><td style=\"border: none; padding: 0px; text-align: center; font-size: 1em;\">🌋</td><td style=\"border: none; padding: 0px; text-align: center; font-size: 1em;\">⛰</td><td style=\"border: none; padding: 0px; text-align: center; font-size: 1em;\">⛰</td><td style=\"border: none; padding: 0px; text-align: center; font-size: 1em;\">🌋</td><td style=\"border: none; padding: 0px; text-align: center; font-size: 1em;\">⛰</td><td style=\"border: none; padding: 0px; text-align: center; font-size: 1em;\">🌾</td><td style=\"border: none; padding: 0px; text-align: center; font-size: 1em;\">🐊</td><td style=\"border: none; padding: 0px; text-align: center; font-size: 1em;\">🌾</td><td style=\"border: none; padding: 0px; text-align: center; font-size: 1em;\">⛰</td><td style=\"border: none; padding: 0px; text-align: center; font-size: 1em;\">🌋</td><td style=\"border: none; padding: 0px; text-align: center; font-size: 1em;\">🌲</td><td style=\"border: none; padding: 0px; text-align: center; font-size: 1em;\">🌲</td><td style=\"border: none; padding: 0px; text-align: center; font-size: 1em;\">🌲</td><td style=\"border: none; padding: 0px; text-align: center; font-size: 1em;\">🌾</td><td style=\"border: none; padding: 0px; text-align: center; font-size: 1em;\">🌾</td><td style=\"border: none; padding: 0px; text-align: center; font-size: 1em;\">🌋</td><td style=\"border: none; padding: 0px; text-align: center; font-size: 1em;\">🌾</td><td style=\"border: none; padding: 0px; text-align: center; font-size: 1em;\">🌾</td><td style=\"border: none; padding: 0px; text-align: center; font-size: 1em;\">🌋</td><td style=\"border: none; padding: 0px; text-align: center; font-size: 1em;\">🌋</td><td style=\"border: none; padding: 0px; text-align: center; font-size: 1em;\">⛰</td></tr><tr><td style=\"border: none; padding: 0px; text-align: center; font-size: 1em;\">🌲</td><td style=\"border: none; padding: 0px; text-align: center; font-size: 1em;\">🌲</td><td style=\"border: none; padding: 0px; text-align: center; font-size: 1em;\">🌲</td><td style=\"border: none; padding: 0px; text-align: center; font-size: 1em;\">🌲</td><td style=\"border: none; padding: 0px; text-align: center; font-size: 1em;\">🐊</td><td style=\"border: none; padding: 0px; text-align: center; font-size: 1em;\">🐊</td><td style=\"border: none; padding: 0px; text-align: center; font-size: 1em;\">🌋</td><td style=\"border: none; padding: 0px; text-align: center; font-size: 1em;\">🌋</td><td style=\"border: none; padding: 0px; text-align: center; font-size: 1em;\">🌋</td><td style=\"border: none; padding: 0px; text-align: center; font-size: 1em;\">🌋</td><td style=\"border: none; padding: 0px; text-align: center; font-size: 1em;\">🌾</td><td style=\"border: none; padding: 0px; text-align: center; font-size: 1em;\">🌾</td><td style=\"border: none; padding: 0px; text-align: center; font-size: 1em;\">🐊</td><td style=\"border: none; padding: 0px; text-align: center; font-size: 1em;\">🌾</td><td style=\"border: none; padding: 0px; text-align: center; font-size: 1em;\">⛰</td><td style=\"border: none; padding: 0px; text-align: center; font-size: 1em;\">🌋</td><td style=\"border: none; padding: 0px; text-align: center; font-size: 1em;\">🌋</td><td style=\"border: none; padding: 0px; text-align: center; font-size: 1em;\">🌲</td><td style=\"border: none; padding: 0px; text-align: center; font-size: 1em;\">🌾</td><td style=\"border: none; padding: 0px; text-align: center; font-size: 1em;\">🌾</td><td style=\"border: none; padding: 0px; text-align: center; font-size: 1em;\">🌋</td><td style=\"border: none; padding: 0px; text-align: center; font-size: 1em;\">🌾</td><td style=\"border: none; padding: 0px; text-align: center; font-size: 1em;\">🌾</td><td style=\"border: none; padding: 0px; text-align: center; font-size: 1em;\">🌾</td><td style=\"border: none; padding: 0px; text-align: center; font-size: 1em;\">⛰</td><td style=\"border: none; padding: 0px; text-align: center; font-size: 1em;\">🌋</td><td style=\"border: none; padding: 0px; text-align: center; font-size: 1em;\">⛰</td></tr><tr><td style=\"border: none; padding: 0px; text-align: center; font-size: 1em;\">🌾</td><td style=\"border: none; padding: 0px; text-align: center; font-size: 1em;\">🌲</td><td style=\"border: none; padding: 0px; text-align: center; font-size: 1em;\">🌲</td><td style=\"border: none; padding: 0px; text-align: center; font-size: 1em;\">🌲</td><td style=\"border: none; padding: 0px; text-align: center; font-size: 1em;\">🌲</td><td style=\"border: none; padding: 0px; text-align: center; font-size: 1em;\">🐊</td><td style=\"border: none; padding: 0px; text-align: center; font-size: 1em;\">🐊</td><td style=\"border: none; padding: 0px; text-align: center; font-size: 1em;\">🌋</td><td style=\"border: none; padding: 0px; text-align: center; font-size: 1em;\">🌋</td><td style=\"border: none; padding: 0px; text-align: center; font-size: 1em;\">🌾</td><td style=\"border: none; padding: 0px; text-align: center; font-size: 1em;\">🌾</td><td style=\"border: none; padding: 0px; text-align: center; font-size: 1em;\">🌾</td><td style=\"border: none; padding: 0px; text-align: center; font-size: 1em;\">🐊</td><td style=\"border: none; padding: 0px; text-align: center; font-size: 1em;\">🐊</td><td style=\"border: none; padding: 0px; text-align: center; font-size: 1em;\">🌾</td><td style=\"border: none; padding: 0px; text-align: center; font-size: 1em;\">⛰</td><td style=\"border: none; padding: 0px; text-align: center; font-size: 1em;\">🌋</td><td style=\"border: none; padding: 0px; text-align: center; font-size: 1em;\">🌲</td><td style=\"border: none; padding: 0px; text-align: center; font-size: 1em;\">🌾</td><td style=\"border: none; padding: 0px; text-align: center; font-size: 1em;\">🌾</td><td style=\"border: none; padding: 0px; text-align: center; font-size: 1em;\">🌾</td><td style=\"border: none; padding: 0px; text-align: center; font-size: 1em;\">🌾</td><td style=\"border: none; padding: 0px; text-align: center; font-size: 1em;\">🌾</td><td style=\"border: none; padding: 0px; text-align: center; font-size: 1em;\">⛰</td><td style=\"border: none; padding: 0px; text-align: center; font-size: 1em;\">⛰</td><td style=\"border: none; padding: 0px; text-align: center; font-size: 1em;\">🌋</td><td style=\"border: none; padding: 0px; text-align: center; font-size: 1em;\">⛰</td></tr><tr><td style=\"border: none; padding: 0px; text-align: center; font-size: 1em;\">🌾</td><td style=\"border: none; padding: 0px; text-align: center; font-size: 1em;\">🌾</td><td style=\"border: none; padding: 0px; text-align: center; font-size: 1em;\">🌲</td><td style=\"border: none; padding: 0px; text-align: center; font-size: 1em;\">🌲</td><td style=\"border: none; padding: 0px; text-align: center; font-size: 1em;\">🌲</td><td style=\"border: none; padding: 0px; text-align: center; font-size: 1em;\">🐊</td><td style=\"border: none; padding: 0px; text-align: center; font-size: 1em;\">🐊</td><td style=\"border: none; padding: 0px; text-align: center; font-size: 1em;\">🌋</td><td style=\"border: none; padding: 0px; text-align: center; font-size: 1em;\">🌾</td><td style=\"border: none; padding: 0px; text-align: center; font-size: 1em;\">🌾</td><td style=\"border: none; padding: 0px; text-align: center; font-size: 1em;\">🌾</td><td style=\"border: none; padding: 0px; text-align: center; font-size: 1em;\">🐊</td><td style=\"border: none; padding: 0px; text-align: center; font-size: 1em;\">🐊</td><td style=\"border: none; padding: 0px; text-align: center; font-size: 1em;\">🐊</td><td style=\"border: none; padding: 0px; text-align: center; font-size: 1em;\">🐊</td><td style=\"border: none; padding: 0px; text-align: center; font-size: 1em;\">⛰</td><td style=\"border: none; padding: 0px; text-align: center; font-size: 1em;\">🌋</td><td style=\"border: none; padding: 0px; text-align: center; font-size: 1em;\">🌋</td><td style=\"border: none; padding: 0px; text-align: center; font-size: 1em;\">🌾</td><td style=\"border: none; padding: 0px; text-align: center; font-size: 1em;\">🌾</td><td style=\"border: none; padding: 0px; text-align: center; font-size: 1em;\">🌾</td><td style=\"border: none; padding: 0px; text-align: center; font-size: 1em;\">🌾</td><td style=\"border: none; padding: 0px; text-align: center; font-size: 1em;\">🌾</td><td style=\"border: none; padding: 0px; text-align: center; font-size: 1em;\">⛰</td><td style=\"border: none; padding: 0px; text-align: center; font-size: 1em;\">🌋</td><td style=\"border: none; padding: 0px; text-align: center; font-size: 1em;\">⛰</td><td style=\"border: none; padding: 0px; text-align: center; font-size: 1em;\">⛰</td></tr><tr><td style=\"border: none; padding: 0px; text-align: center; font-size: 1em;\">🌾</td><td style=\"border: none; padding: 0px; text-align: center; font-size: 1em;\">🌾</td><td style=\"border: none; padding: 0px; text-align: center; font-size: 1em;\">🌋</td><td style=\"border: none; padding: 0px; text-align: center; font-size: 1em;\">🌲</td><td style=\"border: none; padding: 0px; text-align: center; font-size: 1em;\">🌲</td><td style=\"border: none; padding: 0px; text-align: center; font-size: 1em;\">🌾</td><td style=\"border: none; padding: 0px; text-align: center; font-size: 1em;\">🐊</td><td style=\"border: none; padding: 0px; text-align: center; font-size: 1em;\">🐊</td><td style=\"border: none; padding: 0px; text-align: center; font-size: 1em;\">🐊</td><td style=\"border: none; padding: 0px; text-align: center; font-size: 1em;\">🌾</td><td style=\"border: none; padding: 0px; text-align: center; font-size: 1em;\">🌾</td><td style=\"border: none; padding: 0px; text-align: center; font-size: 1em;\">🐊</td><td style=\"border: none; padding: 0px; text-align: center; font-size: 1em;\">🌾</td><td style=\"border: none; padding: 0px; text-align: center; font-size: 1em;\">🐊</td><td style=\"border: none; padding: 0px; text-align: center; font-size: 1em;\">🐊</td><td style=\"border: none; padding: 0px; text-align: center; font-size: 1em;\">🌾</td><td style=\"border: none; padding: 0px; text-align: center; font-size: 1em;\">🌾</td><td style=\"border: none; padding: 0px; text-align: center; font-size: 1em;\">🌋</td><td style=\"border: none; padding: 0px; text-align: center; font-size: 1em;\">⛰</td><td style=\"border: none; padding: 0px; text-align: center; font-size: 1em;\">🌾</td><td style=\"border: none; padding: 0px; text-align: center; font-size: 1em;\">🌾</td><td style=\"border: none; padding: 0px; text-align: center; font-size: 1em;\">🌾</td><td style=\"border: none; padding: 0px; text-align: center; font-size: 1em;\">⛰</td><td style=\"border: none; padding: 0px; text-align: center; font-size: 1em;\">🌋</td><td style=\"border: none; padding: 0px; text-align: center; font-size: 1em;\">🌋</td><td style=\"border: none; padding: 0px; text-align: center; font-size: 1em;\">⛰</td><td style=\"border: none; padding: 0px; text-align: center; font-size: 1em;\">🌾</td></tr><tr><td style=\"border: none; padding: 0px; text-align: center; font-size: 1em;\">🌾</td><td style=\"border: none; padding: 0px; text-align: center; font-size: 1em;\">🌋</td><td style=\"border: none; padding: 0px; text-align: center; font-size: 1em;\">🌋</td><td style=\"border: none; padding: 0px; text-align: center; font-size: 1em;\">🌲</td><td style=\"border: none; padding: 0px; text-align: center; font-size: 1em;\">🌾</td><td style=\"border: none; padding: 0px; text-align: center; font-size: 1em;\">🌾</td><td style=\"border: none; padding: 0px; text-align: center; font-size: 1em;\">🌾</td><td style=\"border: none; padding: 0px; text-align: center; font-size: 1em;\">🐊</td><td style=\"border: none; padding: 0px; text-align: center; font-size: 1em;\">🐊</td><td style=\"border: none; padding: 0px; text-align: center; font-size: 1em;\">🐊</td><td style=\"border: none; padding: 0px; text-align: center; font-size: 1em;\">🌾</td><td style=\"border: none; padding: 0px; text-align: center; font-size: 1em;\">🌾</td><td style=\"border: none; padding: 0px; text-align: center; font-size: 1em;\">🌾</td><td style=\"border: none; padding: 0px; text-align: center; font-size: 1em;\">🐊</td><td style=\"border: none; padding: 0px; text-align: center; font-size: 1em;\">🐊</td><td style=\"border: none; padding: 0px; text-align: center; font-size: 1em;\">🐊</td><td style=\"border: none; padding: 0px; text-align: center; font-size: 1em;\">🌾</td><td style=\"border: none; padding: 0px; text-align: center; font-size: 1em;\">🌋</td><td style=\"border: none; padding: 0px; text-align: center; font-size: 1em;\">⛰</td><td style=\"border: none; padding: 0px; text-align: center; font-size: 1em;\">🌾</td><td style=\"border: none; padding: 0px; text-align: center; font-size: 1em;\">🌾</td><td style=\"border: none; padding: 0px; text-align: center; font-size: 1em;\">🌾</td><td style=\"border: none; padding: 0px; text-align: center; font-size: 1em;\">⛰</td><td style=\"border: none; padding: 0px; text-align: center; font-size: 1em;\">🌋</td><td style=\"border: none; padding: 0px; text-align: center; font-size: 1em;\">🌾</td><td style=\"border: none; padding: 0px; text-align: center; font-size: 1em;\">⛰</td><td style=\"border: none; padding: 0px; text-align: center; font-size: 1em;\">🌾</td></tr><tr><td style=\"border: none; padding: 0px; text-align: center; font-size: 1em;\">🌾</td><td style=\"border: none; padding: 0px; text-align: center; font-size: 1em;\">🌋</td><td style=\"border: none; padding: 0px; text-align: center; font-size: 1em;\">🌋</td><td style=\"border: none; padding: 0px; text-align: center; font-size: 1em;\">🌾</td><td style=\"border: none; padding: 0px; text-align: center; font-size: 1em;\">🌾</td><td style=\"border: none; padding: 0px; text-align: center; font-size: 1em;\">🌾</td><td style=\"border: none; padding: 0px; text-align: center; font-size: 1em;\">🌾</td><td style=\"border: none; padding: 0px; text-align: center; font-size: 1em;\">🐊</td><td style=\"border: none; padding: 0px; text-align: center; font-size: 1em;\">🌾</td><td style=\"border: none; padding: 0px; text-align: center; font-size: 1em;\">🌾</td><td style=\"border: none; padding: 0px; text-align: center; font-size: 1em;\">⛰</td><td style=\"border: none; padding: 0px; text-align: center; font-size: 1em;\">🌾</td><td style=\"border: none; padding: 0px; text-align: center; font-size: 1em;\">🌾</td><td style=\"border: none; padding: 0px; text-align: center; font-size: 1em;\">🌾</td><td style=\"border: none; padding: 0px; text-align: center; font-size: 1em;\">🌾</td><td style=\"border: none; padding: 0px; text-align: center; font-size: 1em;\">🌾</td><td style=\"border: none; padding: 0px; text-align: center; font-size: 1em;\">🌋</td><td style=\"border: none; padding: 0px; text-align: center; font-size: 1em;\">🌋</td><td style=\"border: none; padding: 0px; text-align: center; font-size: 1em;\">🌾</td><td style=\"border: none; padding: 0px; text-align: center; font-size: 1em;\">🌾</td><td style=\"border: none; padding: 0px; text-align: center; font-size: 1em;\">🌾</td><td style=\"border: none; padding: 0px; text-align: center; font-size: 1em;\">🌾</td><td style=\"border: none; padding: 0px; text-align: center; font-size: 1em;\">🌾</td><td style=\"border: none; padding: 0px; text-align: center; font-size: 1em;\">⛰</td><td style=\"border: none; padding: 0px; text-align: center; font-size: 1em;\">🌋</td><td style=\"border: none; padding: 0px; text-align: center; font-size: 1em;\">⛰</td><td style=\"border: none; padding: 0px; text-align: center; font-size: 1em;\">🌾</td></tr><tr><td style=\"border: none; padding: 0px; text-align: center; font-size: 1em;\">🌾</td><td style=\"border: none; padding: 0px; text-align: center; font-size: 1em;\">🌋</td><td style=\"border: none; padding: 0px; text-align: center; font-size: 1em;\">⛰</td><td style=\"border: none; padding: 0px; text-align: center; font-size: 1em;\">🌾</td><td style=\"border: none; padding: 0px; text-align: center; font-size: 1em;\">🌾</td><td style=\"border: none; padding: 0px; text-align: center; font-size: 1em;\">🌾</td><td style=\"border: none; padding: 0px; text-align: center; font-size: 1em;\">🌾</td><td style=\"border: none; padding: 0px; text-align: center; font-size: 1em;\">🌾</td><td style=\"border: none; padding: 0px; text-align: center; font-size: 1em;\">🌾</td><td style=\"border: none; padding: 0px; text-align: center; font-size: 1em;\">⛰</td><td style=\"border: none; padding: 0px; text-align: center; font-size: 1em;\">🌋</td><td style=\"border: none; padding: 0px; text-align: center; font-size: 1em;\">⛰</td><td style=\"border: none; padding: 0px; text-align: center; font-size: 1em;\">⛰</td><td style=\"border: none; padding: 0px; text-align: center; font-size: 1em;\">🌾</td><td style=\"border: none; padding: 0px; text-align: center; font-size: 1em;\">🌾</td><td style=\"border: none; padding: 0px; text-align: center; font-size: 1em;\">⛰</td><td style=\"border: none; padding: 0px; text-align: center; font-size: 1em;\">🌋</td><td style=\"border: none; padding: 0px; text-align: center; font-size: 1em;\">🌾</td><td style=\"border: none; padding: 0px; text-align: center; font-size: 1em;\">🌾</td><td style=\"border: none; padding: 0px; text-align: center; font-size: 1em;\">🌾</td><td style=\"border: none; padding: 0px; text-align: center; font-size: 1em;\">🐊</td><td style=\"border: none; padding: 0px; text-align: center; font-size: 1em;\">🐊</td><td style=\"border: none; padding: 0px; text-align: center; font-size: 1em;\">🌾</td><td style=\"border: none; padding: 0px; text-align: center; font-size: 1em;\">⛰</td><td style=\"border: none; padding: 0px; text-align: center; font-size: 1em;\">🌋</td><td style=\"border: none; padding: 0px; text-align: center; font-size: 1em;\">🌋</td><td style=\"border: none; padding: 0px; text-align: center; font-size: 1em;\">🌾</td></tr><tr><td style=\"border: none; padding: 0px; text-align: center; font-size: 1em;\">🌾</td><td style=\"border: none; padding: 0px; text-align: center; font-size: 1em;\">🌋</td><td style=\"border: none; padding: 0px; text-align: center; font-size: 1em;\">⛰</td><td style=\"border: none; padding: 0px; text-align: center; font-size: 1em;\">⛰</td><td style=\"border: none; padding: 0px; text-align: center; font-size: 1em;\">⛰</td><td style=\"border: none; padding: 0px; text-align: center; font-size: 1em;\">🌾</td><td style=\"border: none; padding: 0px; text-align: center; font-size: 1em;\">🌾</td><td style=\"border: none; padding: 0px; text-align: center; font-size: 1em;\">🌾</td><td style=\"border: none; padding: 0px; text-align: center; font-size: 1em;\">⛰</td><td style=\"border: none; padding: 0px; text-align: center; font-size: 1em;\">⛰</td><td style=\"border: none; padding: 0px; text-align: center; font-size: 1em;\">🌋</td><td style=\"border: none; padding: 0px; text-align: center; font-size: 1em;\">🌋</td><td style=\"border: none; padding: 0px; text-align: center; font-size: 1em;\">🌋</td><td style=\"border: none; padding: 0px; text-align: center; font-size: 1em;\">⛰</td><td style=\"border: none; padding: 0px; text-align: center; font-size: 1em;\">⛰</td><td style=\"border: none; padding: 0px; text-align: center; font-size: 1em;\">🌋</td><td style=\"border: none; padding: 0px; text-align: center; font-size: 1em;\">🌋</td><td style=\"border: none; padding: 0px; text-align: center; font-size: 1em;\">🌾</td><td style=\"border: none; padding: 0px; text-align: center; font-size: 1em;\">🌾</td><td style=\"border: none; padding: 0px; text-align: center; font-size: 1em;\">🌾</td><td style=\"border: none; padding: 0px; text-align: center; font-size: 1em;\">🐊</td><td style=\"border: none; padding: 0px; text-align: center; font-size: 1em;\">🐊</td><td style=\"border: none; padding: 0px; text-align: center; font-size: 1em;\">🐊</td><td style=\"border: none; padding: 0px; text-align: center; font-size: 1em;\">🌾</td><td style=\"border: none; padding: 0px; text-align: center; font-size: 1em;\">⛰</td><td style=\"border: none; padding: 0px; text-align: center; font-size: 1em;\">🌋</td><td style=\"border: none; padding: 0px; text-align: center; font-size: 1em;\">⛰</td></tr><tr><td style=\"border: none; padding: 0px; text-align: center; font-size: 1em;\">🌾</td><td style=\"border: none; padding: 0px; text-align: center; font-size: 1em;\">🌋</td><td style=\"border: none; padding: 0px; text-align: center; font-size: 1em;\">⛰</td><td style=\"border: none; padding: 0px; text-align: center; font-size: 1em;\">⛰</td><td style=\"border: none; padding: 0px; text-align: center; font-size: 1em;\">🌋</td><td style=\"border: none; padding: 0px; text-align: center; font-size: 1em;\">⛰</td><td style=\"border: none; padding: 0px; text-align: center; font-size: 1em;\">🌾</td><td style=\"border: none; padding: 0px; text-align: center; font-size: 1em;\">⛰</td><td style=\"border: none; padding: 0px; text-align: center; font-size: 1em;\">⛰</td><td style=\"border: none; padding: 0px; text-align: center; font-size: 1em;\">⛰</td><td style=\"border: none; padding: 0px; text-align: center; font-size: 1em;\">🌋</td><td style=\"border: none; padding: 0px; text-align: center; font-size: 1em;\">🌋</td><td style=\"border: none; padding: 0px; text-align: center; font-size: 1em;\">⛰</td><td style=\"border: none; padding: 0px; text-align: center; font-size: 1em;\">🌾</td><td style=\"border: none; padding: 0px; text-align: center; font-size: 1em;\">🌋</td><td style=\"border: none; padding: 0px; text-align: center; font-size: 1em;\">🌋</td><td style=\"border: none; padding: 0px; text-align: center; font-size: 1em;\">🌾</td><td style=\"border: none; padding: 0px; text-align: center; font-size: 1em;\">🌾</td><td style=\"border: none; padding: 0px; text-align: center; font-size: 1em;\">🌾</td><td style=\"border: none; padding: 0px; text-align: center; font-size: 1em;\">🌾</td><td style=\"border: none; padding: 0px; text-align: center; font-size: 1em;\">🐊</td><td style=\"border: none; padding: 0px; text-align: center; font-size: 1em;\">🐊</td><td style=\"border: none; padding: 0px; text-align: center; font-size: 1em;\">🐊</td><td style=\"border: none; padding: 0px; text-align: center; font-size: 1em;\">🐊</td><td style=\"border: none; padding: 0px; text-align: center; font-size: 1em;\">⛰</td><td style=\"border: none; padding: 0px; text-align: center; font-size: 1em;\">🌋</td><td style=\"border: none; padding: 0px; text-align: center; font-size: 1em;\">⛰</td></tr><tr><td style=\"border: none; padding: 0px; text-align: center; font-size: 1em;\">🌾</td><td style=\"border: none; padding: 0px; text-align: center; font-size: 1em;\">🌋</td><td style=\"border: none; padding: 0px; text-align: center; font-size: 1em;\">🌋</td><td style=\"border: none; padding: 0px; text-align: center; font-size: 1em;\">🌋</td><td style=\"border: none; padding: 0px; text-align: center; font-size: 1em;\">🌋</td><td style=\"border: none; padding: 0px; text-align: center; font-size: 1em;\">🌋</td><td style=\"border: none; padding: 0px; text-align: center; font-size: 1em;\">⛰</td><td style=\"border: none; padding: 0px; text-align: center; font-size: 1em;\">⛰</td><td style=\"border: none; padding: 0px; text-align: center; font-size: 1em;\">⛰</td><td style=\"border: none; padding: 0px; text-align: center; font-size: 1em;\">🌾</td><td style=\"border: none; padding: 0px; text-align: center; font-size: 1em;\">⛰</td><td style=\"border: none; padding: 0px; text-align: center; font-size: 1em;\">⛰</td><td style=\"border: none; padding: 0px; text-align: center; font-size: 1em;\">🌾</td><td style=\"border: none; padding: 0px; text-align: center; font-size: 1em;\">🌾</td><td style=\"border: none; padding: 0px; text-align: center; font-size: 1em;\">⛰</td><td style=\"border: none; padding: 0px; text-align: center; font-size: 1em;\">⛰</td><td style=\"border: none; padding: 0px; text-align: center; font-size: 1em;\">🌾</td><td style=\"border: none; padding: 0px; text-align: center; font-size: 1em;\">🌾</td><td style=\"border: none; padding: 0px; text-align: center; font-size: 1em;\">🌾</td><td style=\"border: none; padding: 0px; text-align: center; font-size: 1em;\">🐊</td><td style=\"border: none; padding: 0px; text-align: center; font-size: 1em;\">🐊</td><td style=\"border: none; padding: 0px; text-align: center; font-size: 1em;\">🐊</td><td style=\"border: none; padding: 0px; text-align: center; font-size: 1em;\">🐊</td><td style=\"border: none; padding: 0px; text-align: center; font-size: 1em;\">🐊</td><td style=\"border: none; padding: 0px; text-align: center; font-size: 1em;\">🐊</td><td style=\"border: none; padding: 0px; text-align: center; font-size: 1em;\">🐊</td><td style=\"border: none; padding: 0px; text-align: center; font-size: 1em;\">⛰</td></tr><tr><td style=\"border: none; padding: 0px; text-align: center; font-size: 1em;\">🌾</td><td style=\"border: none; padding: 0px; text-align: center; font-size: 1em;\">🌋</td><td style=\"border: none; padding: 0px; text-align: center; font-size: 1em;\">🌋</td><td style=\"border: none; padding: 0px; text-align: center; font-size: 1em;\">🌋</td><td style=\"border: none; padding: 0px; text-align: center; font-size: 1em;\">🌋</td><td style=\"border: none; padding: 0px; text-align: center; font-size: 1em;\">⛰</td><td style=\"border: none; padding: 0px; text-align: center; font-size: 1em;\">🌾</td><td style=\"border: none; padding: 0px; text-align: center; font-size: 1em;\">⛰</td><td style=\"border: none; padding: 0px; text-align: center; font-size: 1em;\">🌾</td><td style=\"border: none; padding: 0px; text-align: center; font-size: 1em;\">🌾</td><td style=\"border: none; padding: 0px; text-align: center; font-size: 1em;\">🌾</td><td style=\"border: none; padding: 0px; text-align: center; font-size: 1em;\">🌾</td><td style=\"border: none; padding: 0px; text-align: center; font-size: 1em;\">🌾</td><td style=\"border: none; padding: 0px; text-align: center; font-size: 1em;\">🌾</td><td style=\"border: none; padding: 0px; text-align: center; font-size: 1em;\">🌾</td><td style=\"border: none; padding: 0px; text-align: center; font-size: 1em;\">🌾</td><td style=\"border: none; padding: 0px; text-align: center; font-size: 1em;\">🌾</td><td style=\"border: none; padding: 0px; text-align: center; font-size: 1em;\">🌾</td><td style=\"border: none; padding: 0px; text-align: center; font-size: 1em;\">🌾</td><td style=\"border: none; padding: 0px; text-align: center; font-size: 1em;\">🐊</td><td style=\"border: none; padding: 0px; text-align: center; font-size: 1em;\">🐊</td><td style=\"border: none; padding: 0px; text-align: center; font-size: 1em;\">🐊</td><td style=\"border: none; padding: 0px; text-align: center; font-size: 1em;\">🐊</td><td style=\"border: none; padding: 0px; text-align: center; font-size: 1em;\">🐊</td><td style=\"border: none; padding: 0px; text-align: center; font-size: 1em;\">🐊</td><td style=\"border: none; padding: 0px; text-align: center; font-size: 1em;\">🐊</td><td style=\"border: none; padding: 0px; text-align: center; font-size: 1em;\">🌾</td></tr><tr><td style=\"border: none; padding: 0px; text-align: center; font-size: 1em;\">🌾</td><td style=\"border: none; padding: 0px; text-align: center; font-size: 1em;\">🌾</td><td style=\"border: none; padding: 0px; text-align: center; font-size: 1em;\">⛰</td><td style=\"border: none; padding: 0px; text-align: center; font-size: 1em;\">⛰</td><td style=\"border: none; padding: 0px; text-align: center; font-size: 1em;\">⛰</td><td style=\"border: none; padding: 0px; text-align: center; font-size: 1em;\">🌾</td><td style=\"border: none; padding: 0px; text-align: center; font-size: 1em;\">🌾</td><td style=\"border: none; padding: 0px; text-align: center; font-size: 1em;\">🌾</td><td style=\"border: none; padding: 0px; text-align: center; font-size: 1em;\">🌾</td><td style=\"border: none; padding: 0px; text-align: center; font-size: 1em;\">🌾</td><td style=\"border: none; padding: 0px; text-align: center; font-size: 1em;\">🌾</td><td style=\"border: none; padding: 0px; text-align: center; font-size: 1em;\">🌾</td><td style=\"border: none; padding: 0px; text-align: center; font-size: 1em;\">🌾</td><td style=\"border: none; padding: 0px; text-align: center; font-size: 1em;\">🌾</td><td style=\"border: none; padding: 0px; text-align: center; font-size: 1em;\">🌾</td><td style=\"border: none; padding: 0px; text-align: center; font-size: 1em;\">🌾</td><td style=\"border: none; padding: 0px; text-align: center; font-size: 1em;\">🌾</td><td style=\"border: none; padding: 0px; text-align: center; font-size: 1em;\">🌾</td><td style=\"border: none; padding: 0px; text-align: center; font-size: 1em;\">🌾</td><td style=\"border: none; padding: 0px; text-align: center; font-size: 1em;\">🐊</td><td style=\"border: none; padding: 0px; text-align: center; font-size: 1em;\">🐊</td><td style=\"border: none; padding: 0px; text-align: center; font-size: 1em;\">🐊</td><td style=\"border: none; padding: 0px; text-align: center; font-size: 1em;\">🐊</td><td style=\"border: none; padding: 0px; text-align: center; font-size: 1em;\">🐊</td><td style=\"border: none; padding: 0px; text-align: center; font-size: 1em;\">🐊</td><td style=\"border: none; padding: 0px; text-align: center; font-size: 1em;\">🐊</td><td style=\"border: none; padding: 0px; text-align: center; font-size: 1em;\">🌾</td></tr><tr><td style=\"border: none; padding: 0px; text-align: center; font-size: 1em;\">🌾</td><td style=\"border: none; padding: 0px; text-align: center; font-size: 1em;\">🌾</td><td style=\"border: none; padding: 0px; text-align: center; font-size: 1em;\">⛰</td><td style=\"border: none; padding: 0px; text-align: center; font-size: 1em;\">🌾</td><td style=\"border: none; padding: 0px; text-align: center; font-size: 1em;\">🌾</td><td style=\"border: none; padding: 0px; text-align: center; font-size: 1em;\">🌾</td><td style=\"border: none; padding: 0px; text-align: center; font-size: 1em;\">🌾</td><td style=\"border: none; padding: 0px; text-align: center; font-size: 1em;\">🌾</td><td style=\"border: none; padding: 0px; text-align: center; font-size: 1em;\">🌾</td><td style=\"border: none; padding: 0px; text-align: center; font-size: 1em;\">🌾</td><td style=\"border: none; padding: 0px; text-align: center; font-size: 1em;\">🌾</td><td style=\"border: none; padding: 0px; text-align: center; font-size: 1em;\">🌾</td><td style=\"border: none; padding: 0px; text-align: center; font-size: 1em;\">🌾</td><td style=\"border: none; padding: 0px; text-align: center; font-size: 1em;\">🌾</td><td style=\"border: none; padding: 0px; text-align: center; font-size: 1em;\">🌾</td><td style=\"border: none; padding: 0px; text-align: center; font-size: 1em;\">🌾</td><td style=\"border: none; padding: 0px; text-align: center; font-size: 1em;\">🌾</td><td style=\"border: none; padding: 0px; text-align: center; font-size: 1em;\">🌾</td><td style=\"border: none; padding: 0px; text-align: center; font-size: 1em;\">🌾</td><td style=\"border: none; padding: 0px; text-align: center; font-size: 1em;\">🐊</td><td style=\"border: none; padding: 0px; text-align: center; font-size: 1em;\">🐊</td><td style=\"border: none; padding: 0px; text-align: center; font-size: 1em;\">🐊</td><td style=\"border: none; padding: 0px; text-align: center; font-size: 1em;\">🐊</td><td style=\"border: none; padding: 0px; text-align: center; font-size: 1em;\">🐊</td><td style=\"border: none; padding: 0px; text-align: center; font-size: 1em;\">🐊</td><td style=\"border: none; padding: 0px; text-align: center; font-size: 1em;\">🐊</td><td style=\"border: none; padding: 0px; text-align: center; font-size: 1em;\">🌾</td></tr></table>"
      ]
     },
     "metadata": {},
     "output_type": "display_data"
    }
   ],
   "source": [
    "display_emoji_grid(full_world)"
   ]
  },
  {
   "cell_type": "markdown",
   "metadata": {},
   "source": [
    "## Warning\n",
    "\n",
    "One implication of this representation is that (x, y) is world[ y][ x] so that (3, 2) is world[ 2][ 3] and world[ 7][ 9] is (9, 7). Yes, there are many ways to do this. I picked this representation because when you look at it, it *looks* like a regular x, y cartesian grid and it's easy to print out.\n",
    "\n",
    "It is often easier to begin your programming by operating on test input that has an obvious solution. If we had a small 7x7 world with the following characteristics:"
   ]
  },
  {
   "cell_type": "code",
   "execution_count": 4,
   "metadata": {},
   "outputs": [],
   "source": [
    "small_world = [\n",
    "    ['🌾', '🌲', '🌲', '🌲', '🌲', '🌲', '🌲'],\n",
    "    ['🌾', '🌲', '🌲', '🌲', '🌲', '🌲', '🌲'],\n",
    "    ['🌾', '🌲', '🌲', '🌲', '🌲', '🌲', '🌲'],\n",
    "    ['🌾', '🌾', '🌾', '🌾', '🌾', '🌾', '🌾'],\n",
    "    ['🌲', '🌲', '🌲', '🌲', '🌲', '🌲', '🌾'],\n",
    "    ['🌲', '🌲', '🌲', '🌲', '🌲', '🌲', '🌾'],\n",
    "    ['🌲', '🌲', '🌲', '🌲', '🌲', '🌲', '🌾']\n",
    "]"
   ]
  },
  {
   "cell_type": "markdown",
   "metadata": {},
   "source": [
    "**what do you expect the policy would be?** Think about it for a bit. This will help you with your programming and debugging."
   ]
  },
  {
   "cell_type": "markdown",
   "metadata": {},
   "source": [
    "## States and State Representation\n",
    "\n",
    "The canonical pieces of a State Space Search problem are the States, Actions, Transitions and Costs. \n",
    "\n",
    "We'll start with the state representation. For the navigation problem, a state is the current position of the agent, `(x,y)`. The entire set of possible states is implicitly represented by the world map."
   ]
  },
  {
   "cell_type": "markdown",
   "metadata": {},
   "source": [
    "## Actions and Transitions\n",
    "\n",
    "Next we need to specify the actions. In general, there are a number of different possible action sets in such a world. The agent might be constrained to move north/south/east/west or diagonal moves might be permitted as well (or really anything). When combined with the set of States, the *permissible* actions forms the Transition set.\n",
    "\n",
    "Rather than enumerate the Transition set directly, for this problem it's easier to calculate the available actions and transitions on the fly. This can be done by specifying a *movement model* as offsets to the current state and then checking to see which of the potential successor states are actually permitted. This can be done in the successor function mentioned in the pseudocode.\n",
    "\n",
    "One such example of a movement model is shown below."
   ]
  },
  {
   "cell_type": "code",
   "execution_count": 5,
   "metadata": {},
   "outputs": [],
   "source": [
    "MOVES = [(0,-1), (1,0), (0,1), (-1,0)]"
   ]
  },
  {
   "cell_type": "markdown",
   "metadata": {},
   "source": [
    "## Costs\n",
    "\n",
    "We can encode the costs described above in a `Dict`:"
   ]
  },
  {
   "cell_type": "code",
   "execution_count": 6,
   "metadata": {},
   "outputs": [],
   "source": [
    "COSTS = { '🌾': 1, '🌲': 3, '⛰': 5, '🐊': 7}"
   ]
  },
  {
   "cell_type": "markdown",
   "metadata": {},
   "source": [
    "## Specification\n",
    "\n",
    "You will implement a function called `a_star_search` that takes the parameters and returns the value as specified below. The return value is going to look like this:\n",
    "\n",
    "`[(0,1), (0,1), (0,1), (1,0), (1,0), (1,0), (1,0), (1,0), (1,0), (0,1), (0,1), (0,1)]`\n",
    "\n",
    "You should also implement a function called `pretty_print_path`. \n",
    "The `pretty_print_path` function prints an ASCII representation of the path generated by the `a_star_search` on top of the terrain map. \n",
    "For example, for the test world, it would print this:\n",
    "\n",
    "```\n",
    "⏬🌲🌲🌲🌲🌲🌲\n",
    "⏬🌲🌲🌲🌲🌲🌲\n",
    "⏬🌲🌲🌲🌲🌲🌲\n",
    "⏩⏩⏩⏩⏩⏩⏬\n",
    "🌲🌲🌲🌲🌲🌲⏬\n",
    "🌲🌲🌲🌲🌲🌲⏬\n",
    "🌲🌲🌲🌲🌲🌲🎁\n",
    "```\n",
    "\n",
    "using ⏩,⏪,⏫ ⏬ to represent actions and `🎁` to represent the goal. (Note the format of the output...there are no spaces, commas, or extraneous characters). You are printing the path over the terrain.\n",
    "This is an impure function (because it has side effects, the printing, before returning anything).\n",
    "\n",
    "* Do not print raw data structures\n",
    "* Do not insert unneeded/unrequested spaces\n",
    "* Use the provided emojis!\n",
    "* Use the provided `display_emoji_grid` function.\n",
    "\n",
    "### Additional comments\n",
    "\n",
    "As Python is an interpreted language, you're going to need to insert all of your functions *before* the actual `a_star_search` function implementation. \n",
    "Do not make unwarranted assumptions (for example, do not assume that the start is always (0, 0).\n",
    "Do not refer to global variables, pass them as parameters (functional programming).\n",
    "\n",
    "Simple and correct is better than inefficient and incorrect, or worse, incomplete.\n",
    "For example, you can use a simple List, with some helper functions, as a Stack or a Queue or a Priority Queue.\n",
    "Avoid the Python implementations of HeapQ, PriorityQueue implementation unless you are very sure about what you're doing as they require *immutable* keys."
   ]
  },
  {
   "cell_type": "code",
   "execution_count": 7,
   "metadata": {},
   "outputs": [],
   "source": [
    "from typing import List, Tuple, Dict, Callable\n",
    "from copy import deepcopy"
   ]
  },
  {
   "cell_type": "markdown",
   "metadata": {},
   "source": [
    "*add as many markdown and code cells here as you need for helper functions. We have added `heuristic` for you*"
   ]
  },
  {
   "cell_type": "markdown",
   "metadata": {},
   "source": [
    "<a id=\"get_possible_moves\"></a>\n",
    "## `get_possible_moves`\n",
    "\n",
    "This function calculates all possible moves from the current position in a given world grid. The possible moves are determined by adding predefined move directions to the current position coordinates. Once these new coordinates are generated they are then checked to ensure they are not out of bounds of the map.\n",
    "\n",
    "### Parameters:\n",
    "- `current_position` (Tuple[int, int]): The current position on the grid as (x, y) coordinates.\n",
    "- `world` (List[List[str]]): The grid represented as a list of lists of strings, where each string is an emoji representing the terrain.\n",
    "\n",
    "### Returns:\n",
    "- `possible_moves` (List[Tuple[int, int]]): A list of tuples representing the possible next moves."
   ]
  },
  {
   "cell_type": "code",
   "execution_count": 8,
   "metadata": {},
   "outputs": [],
   "source": [
    "def get_possible_moves(current_position: Tuple[int, int], world: List[List[str]]):\n",
    "    possible_moves: List[Tuple[int,int]] = []\n",
    "    for move in MOVES:\n",
    "        new_x, new_y = current_position[0] + move[0], current_position[1] + move[1]\n",
    "        if new_x >= 0 and new_y >= 0 and new_y < len(world) and new_x < len(world[0]):\n",
    "            possible_moves.append(move)\n",
    "    return possible_moves"
   ]
  },
  {
   "cell_type": "code",
   "execution_count": 9,
   "metadata": {},
   "outputs": [],
   "source": [
    "#Assertion Tests\n",
    "assert get_possible_moves((0, 0), small_world) == [(1, 0), (0, 1)] #Check in left corner\n",
    "assert get_possible_moves((3, 3), small_world) == [(0,-1), (1,0), (0,1), (-1,0)] #Check middle spot\n",
    "assert get_possible_moves((6, 6), small_world) == [(0,-1), (-1,0)] #Check right corner\n"
   ]
  },
  {
   "cell_type": "markdown",
   "metadata": {},
   "source": [
    "<a id=\"manhattan_distance\"></a>\n",
    "## `manhattan_distance`\n",
    "\n",
    "This function calculates the Manhattan distance between two points on a grid. The Manhattan distance is the sum of the absolute differences between the x and y coordinates of the two points.\n",
    "\n",
    "### Parameters:\n",
    "- `current` (Tuple[int, int]): The current position as (x, y) coordinates.\n",
    "- `goal` (Tuple[int, int]): The goal position as (x, y) coordinates.\n",
    "\n",
    "### Returns:\n",
    "- `distance` (int): The Manhattan distance between the start and goal positions."
   ]
  },
  {
   "cell_type": "code",
   "execution_count": 10,
   "metadata": {},
   "outputs": [],
   "source": [
    "def manhattan_distance(current: Tuple[int, int], goal: Tuple[int, int]):\n",
    "    return abs(current[0] - goal[0]) + abs(current[1] - goal[1])"
   ]
  },
  {
   "cell_type": "code",
   "execution_count": 11,
   "metadata": {},
   "outputs": [],
   "source": [
    "# assertions/unit tests\n",
    "assert manhattan_distance((0, 0), (6, 6)) == 12 # Normal distance from start for small map\n",
    "assert manhattan_distance((3, 3), (0, 0)) == 6 # Half distance from middle in small map\n",
    "assert manhattan_distance((6, 0), (0, 6)) == 12 # Same distance as first assert but split between two coordinates"
   ]
  },
  {
   "cell_type": "markdown",
   "metadata": {},
   "source": [
    "<a id=\"heuristic\"></a>\n",
    "## `heuristic`\n",
    "\n",
    "This function estimates the cost to reach the goal with a selected move on the grid. It considers the cost associated with moving onto different terrains (emojis), as well as the Manhattan distance to the goal. This function is used to guide the search algorithm toward the most promising paths. Also returns the move that results in the lowest estimated cost.\n",
    "\n",
    "\n",
    "### Parameters:\n",
    "- `current_position` (Tuple[int, int]): The current position on the grid as (x, y) coordinates.\n",
    "- `goal_position` (Tuple[int, int]): The goal position on the grid as (x, y) coordinates.\n",
    "- `world` (List[List[str]]): The grid represented as a list of lists of strings, where each string is an emoji representing the terrain.\n",
    "\n",
    "### Returns:\n",
    "- `move_cost` (int): The estimated cost to reach the goal with this move."
   ]
  },
  {
   "cell_type": "code",
   "execution_count": 12,
   "metadata": {},
   "outputs": [],
   "source": [
    "def heuristic(current_position: Tuple[int, int], move: Tuple[int, int], goal_position: Tuple[int, int], world: List[List[str]]):\n",
    "    new_position = (current_position[0] + move[0], current_position[1] + move[1])\n",
    "\n",
    "    # Calculate the Manhattan distance from the new position to the goal as a simple heuristic\n",
    "    manhattan_distance = abs(new_position[0] - goal_position[0]) + abs(new_position[1] - goal_position[1])\n",
    "\n",
    "    # Add any additional cost considerations based on the terrain at the new position\n",
    "    terrain_cost = COSTS.get(world[new_position[1]][new_position[0]], float('inf'))\n",
    "\n",
    "    move_cost: int = manhattan_distance + terrain_cost\n",
    "\n",
    "    # Return the combined heuristic cost\n",
    "    return move_cost"
   ]
  },
  {
   "cell_type": "code",
   "execution_count": 13,
   "metadata": {},
   "outputs": [],
   "source": [
    "# assertions/unit tests\n",
    "assert heuristic((0, 0), (0, 1), (6, 6), small_world) == 12 \n",
    "assert heuristic((3, 3), (1, 0), (6, 6), small_world) == 6 \n",
    "assert heuristic((6, 6), (0, -1), (0, 0), small_world) == 12"
   ]
  },
  {
   "cell_type": "markdown",
   "metadata": {},
   "source": [
    "<a id=\"a_star_search\"></a>\n",
    "## a_star_search\n",
    "\n",
    "The `a_star_search` function finds the optimal path from a starting point to a goal within a grid. This implementation of A* search evaluates possible paths by balancing the actual cost to reach a node and an estimated cost to reach the goal from that node. Utilizing this information \n",
    "\n",
    "* **world** List[List[str]]: the actual context for the navigation problem.\n",
    "* **start** Tuple[int, int]: the starting location of the bot, `(x, y)`.\n",
    "* **goal** Tuple[int, int]: the desired goal position for the bot, `(x, y)`.\n",
    "* **costs** Dict[str, int]: is a `Dict` of costs for each type of terrain in **world**.\n",
    "* **moves** List[Tuple[int, int]]: the legal movement model expressed in offsets in **world**.\n",
    "* **heuristic** Callable: is a heuristic function, $h(n)$.\n",
    "\n",
    "\n",
    "**returns** List[Tuple[int, int]]: the offsets needed to get from start state to the goal as a `List`.\n"
   ]
  },
  {
   "cell_type": "code",
   "execution_count": 14,
   "metadata": {},
   "outputs": [],
   "source": [
    "def a_star_search( world: List[List[str]], start: Tuple[int, int], goal: Tuple[int, int], costs: Dict[str, int], moves: List[Tuple[int, int]], heuristic: Callable) -> List[Tuple[int, int]]:\n",
    "    open_set: List[Tuple[int, Tuple[int, int]]] = [(0, start)]  # List of (f_score, position)\n",
    "    came_from: Dict[Tuple[int, int], Tuple[int, int] | None] = {start: None}  # Track the path\n",
    "    came_by_move: Dict[Tuple[int, int], Tuple[int, int] | None] = {}  # Track the move used to get to each position\n",
    "    g_score: Dict[Tuple[int, int], float] = {start: 0}  # Cost from start to each position\n",
    "    f_score: Dict[Tuple[int, int], float] = {start: heuristic(start, (0, 0), goal, world)}  # Initial heuristic cost for the start\n",
    "\n",
    "    while open_set:\n",
    "        # Sort the open set to find the position with the lowest f_score\n",
    "        open_set.sort(key=lambda x: x[0])\n",
    "        current_f, current_position = open_set.pop(0)  # Pop the element with the lowest f_score\n",
    "\n",
    "        if current_position == goal:\n",
    "            # Reconstruct path using moves\n",
    "            move_path: List[Tuple[int, int]] = []\n",
    "            while current_position != start:\n",
    "                move = came_by_move[current_position]\n",
    "                move_path.append(move)\n",
    "                current_position = (current_position[0] - move[0], current_position[1] - move[1])\n",
    "            return move_path[::-1]  # Return the move sequence in correct order\n",
    "\n",
    "        possible_moves = get_possible_moves(current_position, world)\n",
    "\n",
    "        for move in possible_moves:\n",
    "            # Calculate the new position from this move\n",
    "            new_position = (current_position[0] + move[0], current_position[1] + move[1])\n",
    "            x, y = new_position\n",
    "            tentative_g_score = g_score[current_position] + costs.get(world[y][x], float('inf'))\n",
    "\n",
    "            if new_position not in g_score or tentative_g_score < g_score[new_position]:\n",
    "                came_from[new_position] = current_position\n",
    "                came_by_move[new_position] = move  # Track the move that led to this position\n",
    "                g_score[new_position] = tentative_g_score\n",
    "                f_score[new_position] = tentative_g_score + heuristic(current_position, move, goal, world)\n",
    "                open_set.append((f_score[new_position], new_position))\n",
    "\n",
    "    return None  # Return None if no path is found"
   ]
  },
  {
   "cell_type": "code",
   "execution_count": 15,
   "metadata": {},
   "outputs": [],
   "source": [
    "#Assertion Tests\n",
    "sample_grid = [\n",
    "    ['🌾', '🌾', '🌾'],\n",
    "    ['🌾', '⛰', '🌾'],\n",
    "    ['🌾', '🌾', '🌾']\n",
    "]\n",
    "\n",
    "assert a_star_search(sample_grid, (0, 0), (1, 0), COSTS, MOVES, heuristic) == [(1, 0)] #Make one move to goal\n",
    "assert a_star_search(sample_grid, (0, 0), (2, 2), COSTS, MOVES, heuristic) == [(1, 0), (1, 0), (0, 1), (0, 1)] #Make a full path\n",
    "assert a_star_search(sample_grid, (2, 2), (10, 10), COSTS, MOVES, heuristic) == None  # Assuming out of bounds or unreachable"
   ]
  },
  {
   "cell_type": "markdown",
   "metadata": {},
   "source": [
    "## pretty_print_path\n",
    "\n",
    "The `pretty_print` function takes a 2D grid of terrain types, each represented by an emoji, and visually displays it in a structured format. It  overlays a path, generated by the `a_star_search` function, to show the route from start to goal on the grid. \n",
    "\n",
    "* **world** List[List[str]]: the world (terrain map) for the path to be printed upon.\n",
    "* **path** List[Tuple[int, int]]: the path from start to goal, in offsets.\n",
    "* **start** Tuple[int, int]: the starting location for the path.\n",
    "* **goal** Tuple[int, int]: the goal location for the path.\n",
    "* **costs** Dict[str, int]: the costs for each action.\n",
    "\n",
    "**returns** int - The path cost."
   ]
  },
  {
   "cell_type": "code",
   "execution_count": 16,
   "metadata": {},
   "outputs": [],
   "source": [
    "def pretty_print_path( world: List[List[str]], path: List[Tuple[int, int]], start: Tuple[int, int], goal: Tuple[int, int], costs: Dict[str, int]) -> int:\n",
    "    moves_to_emoji: Dict[Tuple[int, int], str] = {\n",
    "        (1, 0): '⏩',   # Right\n",
    "        (-1, 0): '⏪',  # Left\n",
    "        (0, -1): '⏫',  # Up\n",
    "        (0, 1): '⏬'    # Down\n",
    "    }\n",
    "\n",
    "    # Copy the world grid to modify it as to not mess up grid for other runs\n",
    "    world_copy: List[List[str]] = [row[:] for row in world]\n",
    "\n",
    "    total_cost: int = 0\n",
    "\n",
    "    # Place the emojis along the path and calculate the total cost\n",
    "    current_position: Tuple[int, int] = start\n",
    "    for move in path:\n",
    "        emoji: str = moves_to_emoji.get(move, '❓')  # Get the correct emoji for the move, use ? if one isnt found somehow instead of crashing\n",
    "        world_copy[current_position[1]][current_position[0]] = emoji  # Place emoji at the current position\n",
    "\n",
    "        # Calculate the next position and update the total cost\n",
    "        next_position = (current_position[0] + move[0], current_position[1] + move[1])\n",
    "        total_cost += costs[world[next_position[1]][next_position[0]]]\n",
    "\n",
    "        # Update the current position\n",
    "        current_position = next_position\n",
    "\n",
    "    world_copy[goal[1]][goal[0]] = '🎁'  # Mark the goal position with a gift emoji\n",
    "\n",
    "    # Display the modified grid\n",
    "    display_emoji_grid(world_copy)\n",
    "\n",
    "    # Return the total cost of the path\n",
    "    return total_cost"
   ]
  },
  {
   "cell_type": "code",
   "execution_count": 17,
   "metadata": {},
   "outputs": [
    {
     "data": {
      "text/html": [
       "<table style=\"border-collapse: collapse;\"><tr><td style=\"border: none; padding: 0px; text-align: center; font-size: 1em;\">🌾</td><td style=\"border: none; padding: 0px; text-align: center; font-size: 1em;\">🌾</td><td style=\"border: none; padding: 0px; text-align: center; font-size: 1em;\">🌾</td></tr><tr><td style=\"border: none; padding: 0px; text-align: center; font-size: 1em;\">🌾</td><td style=\"border: none; padding: 0px; text-align: center; font-size: 1em;\">⛰</td><td style=\"border: none; padding: 0px; text-align: center; font-size: 1em;\">🌾</td></tr><tr><td style=\"border: none; padding: 0px; text-align: center; font-size: 1em;\">🌾</td><td style=\"border: none; padding: 0px; text-align: center; font-size: 1em;\">🌾</td><td style=\"border: none; padding: 0px; text-align: center; font-size: 1em;\">🎁</td></tr></table>"
      ]
     },
     "metadata": {},
     "output_type": "display_data"
    },
    {
     "data": {
      "text/html": [
       "<table style=\"border-collapse: collapse;\"><tr><td style=\"border: none; padding: 0px; text-align: center; font-size: 1em;\">⏬</td><td style=\"border: none; padding: 0px; text-align: center; font-size: 1em;\">🌾</td><td style=\"border: none; padding: 0px; text-align: center; font-size: 1em;\">🌾</td></tr><tr><td style=\"border: none; padding: 0px; text-align: center; font-size: 1em;\">🌾</td><td style=\"border: none; padding: 0px; text-align: center; font-size: 1em;\">⛰</td><td style=\"border: none; padding: 0px; text-align: center; font-size: 1em;\">🌾</td></tr><tr><td style=\"border: none; padding: 0px; text-align: center; font-size: 1em;\">🌾</td><td style=\"border: none; padding: 0px; text-align: center; font-size: 1em;\">🌾</td><td style=\"border: none; padding: 0px; text-align: center; font-size: 1em;\">🎁</td></tr></table>"
      ]
     },
     "metadata": {},
     "output_type": "display_data"
    },
    {
     "data": {
      "text/html": [
       "<table style=\"border-collapse: collapse;\"><tr><td style=\"border: none; padding: 0px; text-align: center; font-size: 1em;\">⏩</td><td style=\"border: none; padding: 0px; text-align: center; font-size: 1em;\">⏩</td><td style=\"border: none; padding: 0px; text-align: center; font-size: 1em;\">⏬</td></tr><tr><td style=\"border: none; padding: 0px; text-align: center; font-size: 1em;\">🌾</td><td style=\"border: none; padding: 0px; text-align: center; font-size: 1em;\">⛰</td><td style=\"border: none; padding: 0px; text-align: center; font-size: 1em;\">⏬</td></tr><tr><td style=\"border: none; padding: 0px; text-align: center; font-size: 1em;\">🌾</td><td style=\"border: none; padding: 0px; text-align: center; font-size: 1em;\">🌾</td><td style=\"border: none; padding: 0px; text-align: center; font-size: 1em;\">🎁</td></tr></table>"
      ]
     },
     "metadata": {},
     "output_type": "display_data"
    }
   ],
   "source": [
    "# Assertion Tests\n",
    "sample_grid = [\n",
    "    ['🌾', '🌾', '🌾'],\n",
    "    ['🌾', '⛰', '🌾'],\n",
    "    ['🌾', '🌾', '🌾']\n",
    "]\n",
    "\n",
    "sample_start = (0, 0)\n",
    "sample_goal = (len(sample_grid[0]) - 1, len(sample_grid) - 1)\n",
    "sample_path = a_star_search(sample_grid, sample_start, sample_goal, COSTS, MOVES, heuristic)\n",
    "\n",
    "assert pretty_print_path(sample_grid, [], sample_start, sample_goal, COSTS) == 0 # Check goal emoji added\n",
    "assert pretty_print_path(sample_grid, [(0,1)], sample_start, sample_goal, COSTS) == 1 # One move down\n",
    "assert pretty_print_path(sample_grid, sample_path, sample_start, sample_goal, COSTS) == 4 # Full Path printing"
   ]
  },
  {
   "cell_type": "markdown",
   "metadata": {},
   "source": [
    "\n",
    "<div style=\"background: lemonchiffon; margin:20px; padding: 20px;\">\n",
    "    <strong>Important</strong>\n",
    "    <p>\n",
    "        Does your output of pretty_print_path really look like the specification? Go check again.\n",
    "    </p>\n",
    "</div>"
   ]
  },
  {
   "cell_type": "markdown",
   "metadata": {},
   "source": [
    "## Problems"
   ]
  },
  {
   "cell_type": "markdown",
   "metadata": {},
   "source": [
    "## Problem 1. \n",
    "\n",
    "Execute `a_star_search` and `pretty_print_path` for the `small_world`.\n",
    "\n",
    "If you change any values while developing your code, make sure you change them back! (Better yet, don't do it. Copy them elsewhere and change the values, then delete those experiments)."
   ]
  },
  {
   "cell_type": "code",
   "execution_count": 18,
   "metadata": {},
   "outputs": [
    {
     "data": {
      "text/html": [
       "<table style=\"border-collapse: collapse;\"><tr><td style=\"border: none; padding: 0px; text-align: center; font-size: 1em;\">⏬</td><td style=\"border: none; padding: 0px; text-align: center; font-size: 1em;\">🌲</td><td style=\"border: none; padding: 0px; text-align: center; font-size: 1em;\">🌲</td><td style=\"border: none; padding: 0px; text-align: center; font-size: 1em;\">🌲</td><td style=\"border: none; padding: 0px; text-align: center; font-size: 1em;\">🌲</td><td style=\"border: none; padding: 0px; text-align: center; font-size: 1em;\">🌲</td><td style=\"border: none; padding: 0px; text-align: center; font-size: 1em;\">🌲</td></tr><tr><td style=\"border: none; padding: 0px; text-align: center; font-size: 1em;\">⏬</td><td style=\"border: none; padding: 0px; text-align: center; font-size: 1em;\">🌲</td><td style=\"border: none; padding: 0px; text-align: center; font-size: 1em;\">🌲</td><td style=\"border: none; padding: 0px; text-align: center; font-size: 1em;\">🌲</td><td style=\"border: none; padding: 0px; text-align: center; font-size: 1em;\">🌲</td><td style=\"border: none; padding: 0px; text-align: center; font-size: 1em;\">🌲</td><td style=\"border: none; padding: 0px; text-align: center; font-size: 1em;\">🌲</td></tr><tr><td style=\"border: none; padding: 0px; text-align: center; font-size: 1em;\">⏬</td><td style=\"border: none; padding: 0px; text-align: center; font-size: 1em;\">🌲</td><td style=\"border: none; padding: 0px; text-align: center; font-size: 1em;\">🌲</td><td style=\"border: none; padding: 0px; text-align: center; font-size: 1em;\">🌲</td><td style=\"border: none; padding: 0px; text-align: center; font-size: 1em;\">🌲</td><td style=\"border: none; padding: 0px; text-align: center; font-size: 1em;\">🌲</td><td style=\"border: none; padding: 0px; text-align: center; font-size: 1em;\">🌲</td></tr><tr><td style=\"border: none; padding: 0px; text-align: center; font-size: 1em;\">⏩</td><td style=\"border: none; padding: 0px; text-align: center; font-size: 1em;\">⏩</td><td style=\"border: none; padding: 0px; text-align: center; font-size: 1em;\">⏩</td><td style=\"border: none; padding: 0px; text-align: center; font-size: 1em;\">⏩</td><td style=\"border: none; padding: 0px; text-align: center; font-size: 1em;\">⏩</td><td style=\"border: none; padding: 0px; text-align: center; font-size: 1em;\">⏩</td><td style=\"border: none; padding: 0px; text-align: center; font-size: 1em;\">⏬</td></tr><tr><td style=\"border: none; padding: 0px; text-align: center; font-size: 1em;\">🌲</td><td style=\"border: none; padding: 0px; text-align: center; font-size: 1em;\">🌲</td><td style=\"border: none; padding: 0px; text-align: center; font-size: 1em;\">🌲</td><td style=\"border: none; padding: 0px; text-align: center; font-size: 1em;\">🌲</td><td style=\"border: none; padding: 0px; text-align: center; font-size: 1em;\">🌲</td><td style=\"border: none; padding: 0px; text-align: center; font-size: 1em;\">🌲</td><td style=\"border: none; padding: 0px; text-align: center; font-size: 1em;\">⏬</td></tr><tr><td style=\"border: none; padding: 0px; text-align: center; font-size: 1em;\">🌲</td><td style=\"border: none; padding: 0px; text-align: center; font-size: 1em;\">🌲</td><td style=\"border: none; padding: 0px; text-align: center; font-size: 1em;\">🌲</td><td style=\"border: none; padding: 0px; text-align: center; font-size: 1em;\">🌲</td><td style=\"border: none; padding: 0px; text-align: center; font-size: 1em;\">🌲</td><td style=\"border: none; padding: 0px; text-align: center; font-size: 1em;\">🌲</td><td style=\"border: none; padding: 0px; text-align: center; font-size: 1em;\">⏬</td></tr><tr><td style=\"border: none; padding: 0px; text-align: center; font-size: 1em;\">🌲</td><td style=\"border: none; padding: 0px; text-align: center; font-size: 1em;\">🌲</td><td style=\"border: none; padding: 0px; text-align: center; font-size: 1em;\">🌲</td><td style=\"border: none; padding: 0px; text-align: center; font-size: 1em;\">🌲</td><td style=\"border: none; padding: 0px; text-align: center; font-size: 1em;\">🌲</td><td style=\"border: none; padding: 0px; text-align: center; font-size: 1em;\">🌲</td><td style=\"border: none; padding: 0px; text-align: center; font-size: 1em;\">🎁</td></tr></table>"
      ]
     },
     "metadata": {},
     "output_type": "display_data"
    },
    {
     "name": "stdout",
     "output_type": "stream",
     "text": [
      "total path cost: 12\n",
      "[(0, 1), (0, 1), (0, 1), (1, 0), (1, 0), (1, 0), (1, 0), (1, 0), (1, 0), (0, 1), (0, 1), (0, 1)]\n"
     ]
    }
   ],
   "source": [
    "small_start = (0, 0)\n",
    "small_goal = (len(small_world[0]) - 1, len(small_world) - 1)\n",
    "small_path = a_star_search(small_world, small_start, small_goal, COSTS, MOVES, heuristic)\n",
    "small_path_cost = pretty_print_path(small_world, small_path, small_start, small_goal, COSTS)\n",
    "print(f\"total path cost: {small_path_cost}\")\n",
    "print(small_path)"
   ]
  },
  {
   "cell_type": "markdown",
   "metadata": {},
   "source": [
    "## Problem 2\n",
    "\n",
    "Execute `a_star_search` and `print_path` for the `full_world`"
   ]
  },
  {
   "cell_type": "code",
   "execution_count": 19,
   "metadata": {},
   "outputs": [
    {
     "data": {
      "text/html": [
       "<table style=\"border-collapse: collapse;\"><tr><td style=\"border: none; padding: 0px; text-align: center; font-size: 1em;\">⏩</td><td style=\"border: none; padding: 0px; text-align: center; font-size: 1em;\">⏩</td><td style=\"border: none; padding: 0px; text-align: center; font-size: 1em;\">⏩</td><td style=\"border: none; padding: 0px; text-align: center; font-size: 1em;\">⏩</td><td style=\"border: none; padding: 0px; text-align: center; font-size: 1em;\">⏩</td><td style=\"border: none; padding: 0px; text-align: center; font-size: 1em;\">⏩</td><td style=\"border: none; padding: 0px; text-align: center; font-size: 1em;\">⏩</td><td style=\"border: none; padding: 0px; text-align: center; font-size: 1em;\">⏩</td><td style=\"border: none; padding: 0px; text-align: center; font-size: 1em;\">⏩</td><td style=\"border: none; padding: 0px; text-align: center; font-size: 1em;\">⏩</td><td style=\"border: none; padding: 0px; text-align: center; font-size: 1em;\">⏩</td><td style=\"border: none; padding: 0px; text-align: center; font-size: 1em;\">⏩</td><td style=\"border: none; padding: 0px; text-align: center; font-size: 1em;\">⏩</td><td style=\"border: none; padding: 0px; text-align: center; font-size: 1em;\">⏩</td><td style=\"border: none; padding: 0px; text-align: center; font-size: 1em;\">⏩</td><td style=\"border: none; padding: 0px; text-align: center; font-size: 1em;\">⏩</td><td style=\"border: none; padding: 0px; text-align: center; font-size: 1em;\">⏩</td><td style=\"border: none; padding: 0px; text-align: center; font-size: 1em;\">⏩</td><td style=\"border: none; padding: 0px; text-align: center; font-size: 1em;\">⏩</td><td style=\"border: none; padding: 0px; text-align: center; font-size: 1em;\">⏩</td><td style=\"border: none; padding: 0px; text-align: center; font-size: 1em;\">⏩</td><td style=\"border: none; padding: 0px; text-align: center; font-size: 1em;\">⏩</td><td style=\"border: none; padding: 0px; text-align: center; font-size: 1em;\">⏬</td><td style=\"border: none; padding: 0px; text-align: center; font-size: 1em;\">🌾</td><td style=\"border: none; padding: 0px; text-align: center; font-size: 1em;\">⛰</td><td style=\"border: none; padding: 0px; text-align: center; font-size: 1em;\">⛰</td><td style=\"border: none; padding: 0px; text-align: center; font-size: 1em;\">⛰</td></tr><tr><td style=\"border: none; padding: 0px; text-align: center; font-size: 1em;\">🌾</td><td style=\"border: none; padding: 0px; text-align: center; font-size: 1em;\">🌾</td><td style=\"border: none; padding: 0px; text-align: center; font-size: 1em;\">🌾</td><td style=\"border: none; padding: 0px; text-align: center; font-size: 1em;\">🌾</td><td style=\"border: none; padding: 0px; text-align: center; font-size: 1em;\">🌾</td><td style=\"border: none; padding: 0px; text-align: center; font-size: 1em;\">⛰</td><td style=\"border: none; padding: 0px; text-align: center; font-size: 1em;\">⛰</td><td style=\"border: none; padding: 0px; text-align: center; font-size: 1em;\">🌾</td><td style=\"border: none; padding: 0px; text-align: center; font-size: 1em;\">🌾</td><td style=\"border: none; padding: 0px; text-align: center; font-size: 1em;\">🌾</td><td style=\"border: none; padding: 0px; text-align: center; font-size: 1em;\">🌾</td><td style=\"border: none; padding: 0px; text-align: center; font-size: 1em;\">🐊</td><td style=\"border: none; padding: 0px; text-align: center; font-size: 1em;\">🐊</td><td style=\"border: none; padding: 0px; text-align: center; font-size: 1em;\">🐊</td><td style=\"border: none; padding: 0px; text-align: center; font-size: 1em;\">🌾</td><td style=\"border: none; padding: 0px; text-align: center; font-size: 1em;\">🌾</td><td style=\"border: none; padding: 0px; text-align: center; font-size: 1em;\">🌾</td><td style=\"border: none; padding: 0px; text-align: center; font-size: 1em;\">🌾</td><td style=\"border: none; padding: 0px; text-align: center; font-size: 1em;\">🌾</td><td style=\"border: none; padding: 0px; text-align: center; font-size: 1em;\">🌾</td><td style=\"border: none; padding: 0px; text-align: center; font-size: 1em;\">🌾</td><td style=\"border: none; padding: 0px; text-align: center; font-size: 1em;\">🌾</td><td style=\"border: none; padding: 0px; text-align: center; font-size: 1em;\">⏬</td><td style=\"border: none; padding: 0px; text-align: center; font-size: 1em;\">⛰</td><td style=\"border: none; padding: 0px; text-align: center; font-size: 1em;\">🌋</td><td style=\"border: none; padding: 0px; text-align: center; font-size: 1em;\">🌋</td><td style=\"border: none; padding: 0px; text-align: center; font-size: 1em;\">⛰</td></tr><tr><td style=\"border: none; padding: 0px; text-align: center; font-size: 1em;\">🌾</td><td style=\"border: none; padding: 0px; text-align: center; font-size: 1em;\">🌾</td><td style=\"border: none; padding: 0px; text-align: center; font-size: 1em;\">🌾</td><td style=\"border: none; padding: 0px; text-align: center; font-size: 1em;\">🌾</td><td style=\"border: none; padding: 0px; text-align: center; font-size: 1em;\">🌾</td><td style=\"border: none; padding: 0px; text-align: center; font-size: 1em;\">⛰</td><td style=\"border: none; padding: 0px; text-align: center; font-size: 1em;\">⛰</td><td style=\"border: none; padding: 0px; text-align: center; font-size: 1em;\">⛰</td><td style=\"border: none; padding: 0px; text-align: center; font-size: 1em;\">🌾</td><td style=\"border: none; padding: 0px; text-align: center; font-size: 1em;\">🌾</td><td style=\"border: none; padding: 0px; text-align: center; font-size: 1em;\">🐊</td><td style=\"border: none; padding: 0px; text-align: center; font-size: 1em;\">🐊</td><td style=\"border: none; padding: 0px; text-align: center; font-size: 1em;\">🐊</td><td style=\"border: none; padding: 0px; text-align: center; font-size: 1em;\">🐊</td><td style=\"border: none; padding: 0px; text-align: center; font-size: 1em;\">🌾</td><td style=\"border: none; padding: 0px; text-align: center; font-size: 1em;\">🌾</td><td style=\"border: none; padding: 0px; text-align: center; font-size: 1em;\">🌋</td><td style=\"border: none; padding: 0px; text-align: center; font-size: 1em;\">🌾</td><td style=\"border: none; padding: 0px; text-align: center; font-size: 1em;\">🌾</td><td style=\"border: none; padding: 0px; text-align: center; font-size: 1em;\">🌾</td><td style=\"border: none; padding: 0px; text-align: center; font-size: 1em;\">⛰</td><td style=\"border: none; padding: 0px; text-align: center; font-size: 1em;\">🌾</td><td style=\"border: none; padding: 0px; text-align: center; font-size: 1em;\">⏬</td><td style=\"border: none; padding: 0px; text-align: center; font-size: 1em;\">⛰</td><td style=\"border: none; padding: 0px; text-align: center; font-size: 1em;\">⛰</td><td style=\"border: none; padding: 0px; text-align: center; font-size: 1em;\">🌋</td><td style=\"border: none; padding: 0px; text-align: center; font-size: 1em;\">🌾</td></tr><tr><td style=\"border: none; padding: 0px; text-align: center; font-size: 1em;\">🌾</td><td style=\"border: none; padding: 0px; text-align: center; font-size: 1em;\">🌾</td><td style=\"border: none; padding: 0px; text-align: center; font-size: 1em;\">🌾</td><td style=\"border: none; padding: 0px; text-align: center; font-size: 1em;\">🌾</td><td style=\"border: none; padding: 0px; text-align: center; font-size: 1em;\">⛰</td><td style=\"border: none; padding: 0px; text-align: center; font-size: 1em;\">⛰</td><td style=\"border: none; padding: 0px; text-align: center; font-size: 1em;\">🌋</td><td style=\"border: none; padding: 0px; text-align: center; font-size: 1em;\">⛰</td><td style=\"border: none; padding: 0px; text-align: center; font-size: 1em;\">⛰</td><td style=\"border: none; padding: 0px; text-align: center; font-size: 1em;\">🐊</td><td style=\"border: none; padding: 0px; text-align: center; font-size: 1em;\">🐊</td><td style=\"border: none; padding: 0px; text-align: center; font-size: 1em;\">🐊</td><td style=\"border: none; padding: 0px; text-align: center; font-size: 1em;\">🐊</td><td style=\"border: none; padding: 0px; text-align: center; font-size: 1em;\">🐊</td><td style=\"border: none; padding: 0px; text-align: center; font-size: 1em;\">🌾</td><td style=\"border: none; padding: 0px; text-align: center; font-size: 1em;\">🌋</td><td style=\"border: none; padding: 0px; text-align: center; font-size: 1em;\">🌋</td><td style=\"border: none; padding: 0px; text-align: center; font-size: 1em;\">🌋</td><td style=\"border: none; padding: 0px; text-align: center; font-size: 1em;\">🌋</td><td style=\"border: none; padding: 0px; text-align: center; font-size: 1em;\">🌾</td><td style=\"border: none; padding: 0px; text-align: center; font-size: 1em;\">⛰</td><td style=\"border: none; padding: 0px; text-align: center; font-size: 1em;\">🌾</td><td style=\"border: none; padding: 0px; text-align: center; font-size: 1em;\">⏩</td><td style=\"border: none; padding: 0px; text-align: center; font-size: 1em;\">⏬</td><td style=\"border: none; padding: 0px; text-align: center; font-size: 1em;\">⛰</td><td style=\"border: none; padding: 0px; text-align: center; font-size: 1em;\">🌋</td><td style=\"border: none; padding: 0px; text-align: center; font-size: 1em;\">🌾</td></tr><tr><td style=\"border: none; padding: 0px; text-align: center; font-size: 1em;\">🌾</td><td style=\"border: none; padding: 0px; text-align: center; font-size: 1em;\">🌾</td><td style=\"border: none; padding: 0px; text-align: center; font-size: 1em;\">🌋</td><td style=\"border: none; padding: 0px; text-align: center; font-size: 1em;\">⛰</td><td style=\"border: none; padding: 0px; text-align: center; font-size: 1em;\">⛰</td><td style=\"border: none; padding: 0px; text-align: center; font-size: 1em;\">🌋</td><td style=\"border: none; padding: 0px; text-align: center; font-size: 1em;\">🌋</td><td style=\"border: none; padding: 0px; text-align: center; font-size: 1em;\">⛰</td><td style=\"border: none; padding: 0px; text-align: center; font-size: 1em;\">⛰</td><td style=\"border: none; padding: 0px; text-align: center; font-size: 1em;\">🐊</td><td style=\"border: none; padding: 0px; text-align: center; font-size: 1em;\">🐊</td><td style=\"border: none; padding: 0px; text-align: center; font-size: 1em;\">🐊</td><td style=\"border: none; padding: 0px; text-align: center; font-size: 1em;\">🐊</td><td style=\"border: none; padding: 0px; text-align: center; font-size: 1em;\">🐊</td><td style=\"border: none; padding: 0px; text-align: center; font-size: 1em;\">🌋</td><td style=\"border: none; padding: 0px; text-align: center; font-size: 1em;\">🌋</td><td style=\"border: none; padding: 0px; text-align: center; font-size: 1em;\">🌲</td><td style=\"border: none; padding: 0px; text-align: center; font-size: 1em;\">🌋</td><td style=\"border: none; padding: 0px; text-align: center; font-size: 1em;\">🌋</td><td style=\"border: none; padding: 0px; text-align: center; font-size: 1em;\">🌋</td><td style=\"border: none; padding: 0px; text-align: center; font-size: 1em;\">⛰</td><td style=\"border: none; padding: 0px; text-align: center; font-size: 1em;\">⛰</td><td style=\"border: none; padding: 0px; text-align: center; font-size: 1em;\">🌾</td><td style=\"border: none; padding: 0px; text-align: center; font-size: 1em;\">⏩</td><td style=\"border: none; padding: 0px; text-align: center; font-size: 1em;\">⏩</td><td style=\"border: none; padding: 0px; text-align: center; font-size: 1em;\">⏩</td><td style=\"border: none; padding: 0px; text-align: center; font-size: 1em;\">⏬</td></tr><tr><td style=\"border: none; padding: 0px; text-align: center; font-size: 1em;\">🌲</td><td style=\"border: none; padding: 0px; text-align: center; font-size: 1em;\">🌾</td><td style=\"border: none; padding: 0px; text-align: center; font-size: 1em;\">🌋</td><td style=\"border: none; padding: 0px; text-align: center; font-size: 1em;\">🌋</td><td style=\"border: none; padding: 0px; text-align: center; font-size: 1em;\">🌋</td><td style=\"border: none; padding: 0px; text-align: center; font-size: 1em;\">🌋</td><td style=\"border: none; padding: 0px; text-align: center; font-size: 1em;\">⛰</td><td style=\"border: none; padding: 0px; text-align: center; font-size: 1em;\">⛰</td><td style=\"border: none; padding: 0px; text-align: center; font-size: 1em;\">⛰</td><td style=\"border: none; padding: 0px; text-align: center; font-size: 1em;\">🐊</td><td style=\"border: none; padding: 0px; text-align: center; font-size: 1em;\">🐊</td><td style=\"border: none; padding: 0px; text-align: center; font-size: 1em;\">🐊</td><td style=\"border: none; padding: 0px; text-align: center; font-size: 1em;\">🌾</td><td style=\"border: none; padding: 0px; text-align: center; font-size: 1em;\">🌾</td><td style=\"border: none; padding: 0px; text-align: center; font-size: 1em;\">🌾</td><td style=\"border: none; padding: 0px; text-align: center; font-size: 1em;\">🌋</td><td style=\"border: none; padding: 0px; text-align: center; font-size: 1em;\">🌲</td><td style=\"border: none; padding: 0px; text-align: center; font-size: 1em;\">🌲</td><td style=\"border: none; padding: 0px; text-align: center; font-size: 1em;\">🌋</td><td style=\"border: none; padding: 0px; text-align: center; font-size: 1em;\">🌋</td><td style=\"border: none; padding: 0px; text-align: center; font-size: 1em;\">⛰</td><td style=\"border: none; padding: 0px; text-align: center; font-size: 1em;\">⛰</td><td style=\"border: none; padding: 0px; text-align: center; font-size: 1em;\">🌾</td><td style=\"border: none; padding: 0px; text-align: center; font-size: 1em;\">⛰</td><td style=\"border: none; padding: 0px; text-align: center; font-size: 1em;\">⛰</td><td style=\"border: none; padding: 0px; text-align: center; font-size: 1em;\">🌾</td><td style=\"border: none; padding: 0px; text-align: center; font-size: 1em;\">⏬</td></tr><tr><td style=\"border: none; padding: 0px; text-align: center; font-size: 1em;\">🌲</td><td style=\"border: none; padding: 0px; text-align: center; font-size: 1em;\">🌾</td><td style=\"border: none; padding: 0px; text-align: center; font-size: 1em;\">🌲</td><td style=\"border: none; padding: 0px; text-align: center; font-size: 1em;\">🌋</td><td style=\"border: none; padding: 0px; text-align: center; font-size: 1em;\">🌋</td><td style=\"border: none; padding: 0px; text-align: center; font-size: 1em;\">⛰</td><td style=\"border: none; padding: 0px; text-align: center; font-size: 1em;\">⛰</td><td style=\"border: none; padding: 0px; text-align: center; font-size: 1em;\">⛰</td><td style=\"border: none; padding: 0px; text-align: center; font-size: 1em;\">🌾</td><td style=\"border: none; padding: 0px; text-align: center; font-size: 1em;\">🌾</td><td style=\"border: none; padding: 0px; text-align: center; font-size: 1em;\">🐊</td><td style=\"border: none; padding: 0px; text-align: center; font-size: 1em;\">🌾</td><td style=\"border: none; padding: 0px; text-align: center; font-size: 1em;\">🌾</td><td style=\"border: none; padding: 0px; text-align: center; font-size: 1em;\">🌾</td><td style=\"border: none; padding: 0px; text-align: center; font-size: 1em;\">🌾</td><td style=\"border: none; padding: 0px; text-align: center; font-size: 1em;\">🌲</td><td style=\"border: none; padding: 0px; text-align: center; font-size: 1em;\">🌲</td><td style=\"border: none; padding: 0px; text-align: center; font-size: 1em;\">🌲</td><td style=\"border: none; padding: 0px; text-align: center; font-size: 1em;\">🌲</td><td style=\"border: none; padding: 0px; text-align: center; font-size: 1em;\">🌋</td><td style=\"border: none; padding: 0px; text-align: center; font-size: 1em;\">🌋</td><td style=\"border: none; padding: 0px; text-align: center; font-size: 1em;\">⛰</td><td style=\"border: none; padding: 0px; text-align: center; font-size: 1em;\">⛰</td><td style=\"border: none; padding: 0px; text-align: center; font-size: 1em;\">⛰</td><td style=\"border: none; padding: 0px; text-align: center; font-size: 1em;\">🌾</td><td style=\"border: none; padding: 0px; text-align: center; font-size: 1em;\">🌾</td><td style=\"border: none; padding: 0px; text-align: center; font-size: 1em;\">⏬</td></tr><tr><td style=\"border: none; padding: 0px; text-align: center; font-size: 1em;\">🌲</td><td style=\"border: none; padding: 0px; text-align: center; font-size: 1em;\">🌲</td><td style=\"border: none; padding: 0px; text-align: center; font-size: 1em;\">🌲</td><td style=\"border: none; padding: 0px; text-align: center; font-size: 1em;\">🌋</td><td style=\"border: none; padding: 0px; text-align: center; font-size: 1em;\">🌲</td><td style=\"border: none; padding: 0px; text-align: center; font-size: 1em;\">⛰</td><td style=\"border: none; padding: 0px; text-align: center; font-size: 1em;\">🌾</td><td style=\"border: none; padding: 0px; text-align: center; font-size: 1em;\">🌾</td><td style=\"border: none; padding: 0px; text-align: center; font-size: 1em;\">🌾</td><td style=\"border: none; padding: 0px; text-align: center; font-size: 1em;\">🌾</td><td style=\"border: none; padding: 0px; text-align: center; font-size: 1em;\">🌾</td><td style=\"border: none; padding: 0px; text-align: center; font-size: 1em;\">🌾</td><td style=\"border: none; padding: 0px; text-align: center; font-size: 1em;\">⛰</td><td style=\"border: none; padding: 0px; text-align: center; font-size: 1em;\">⛰</td><td style=\"border: none; padding: 0px; text-align: center; font-size: 1em;\">🌲</td><td style=\"border: none; padding: 0px; text-align: center; font-size: 1em;\">🌲</td><td style=\"border: none; padding: 0px; text-align: center; font-size: 1em;\">🌲</td><td style=\"border: none; padding: 0px; text-align: center; font-size: 1em;\">🌲</td><td style=\"border: none; padding: 0px; text-align: center; font-size: 1em;\">🌲</td><td style=\"border: none; padding: 0px; text-align: center; font-size: 1em;\">🌲</td><td style=\"border: none; padding: 0px; text-align: center; font-size: 1em;\">🌋</td><td style=\"border: none; padding: 0px; text-align: center; font-size: 1em;\">🌋</td><td style=\"border: none; padding: 0px; text-align: center; font-size: 1em;\">⛰</td><td style=\"border: none; padding: 0px; text-align: center; font-size: 1em;\">⛰</td><td style=\"border: none; padding: 0px; text-align: center; font-size: 1em;\">🌾</td><td style=\"border: none; padding: 0px; text-align: center; font-size: 1em;\">🌾</td><td style=\"border: none; padding: 0px; text-align: center; font-size: 1em;\">⏬</td></tr><tr><td style=\"border: none; padding: 0px; text-align: center; font-size: 1em;\">🌲</td><td style=\"border: none; padding: 0px; text-align: center; font-size: 1em;\">🌲</td><td style=\"border: none; padding: 0px; text-align: center; font-size: 1em;\">🌲</td><td style=\"border: none; padding: 0px; text-align: center; font-size: 1em;\">🌲</td><td style=\"border: none; padding: 0px; text-align: center; font-size: 1em;\">🌲</td><td style=\"border: none; padding: 0px; text-align: center; font-size: 1em;\">🌾</td><td style=\"border: none; padding: 0px; text-align: center; font-size: 1em;\">🌾</td><td style=\"border: none; padding: 0px; text-align: center; font-size: 1em;\">🌾</td><td style=\"border: none; padding: 0px; text-align: center; font-size: 1em;\">🌾</td><td style=\"border: none; padding: 0px; text-align: center; font-size: 1em;\">⛰</td><td style=\"border: none; padding: 0px; text-align: center; font-size: 1em;\">⛰</td><td style=\"border: none; padding: 0px; text-align: center; font-size: 1em;\">⛰</td><td style=\"border: none; padding: 0px; text-align: center; font-size: 1em;\">⛰</td><td style=\"border: none; padding: 0px; text-align: center; font-size: 1em;\">🌲</td><td style=\"border: none; padding: 0px; text-align: center; font-size: 1em;\">🌲</td><td style=\"border: none; padding: 0px; text-align: center; font-size: 1em;\">🌲</td><td style=\"border: none; padding: 0px; text-align: center; font-size: 1em;\">🌲</td><td style=\"border: none; padding: 0px; text-align: center; font-size: 1em;\">🌲</td><td style=\"border: none; padding: 0px; text-align: center; font-size: 1em;\">🌲</td><td style=\"border: none; padding: 0px; text-align: center; font-size: 1em;\">🌲</td><td style=\"border: none; padding: 0px; text-align: center; font-size: 1em;\">🌲</td><td style=\"border: none; padding: 0px; text-align: center; font-size: 1em;\">🌋</td><td style=\"border: none; padding: 0px; text-align: center; font-size: 1em;\">⛰</td><td style=\"border: none; padding: 0px; text-align: center; font-size: 1em;\">⛰</td><td style=\"border: none; padding: 0px; text-align: center; font-size: 1em;\">🌾</td><td style=\"border: none; padding: 0px; text-align: center; font-size: 1em;\">🌾</td><td style=\"border: none; padding: 0px; text-align: center; font-size: 1em;\">⏬</td></tr><tr><td style=\"border: none; padding: 0px; text-align: center; font-size: 1em;\">🌲</td><td style=\"border: none; padding: 0px; text-align: center; font-size: 1em;\">🌲</td><td style=\"border: none; padding: 0px; text-align: center; font-size: 1em;\">🌲</td><td style=\"border: none; padding: 0px; text-align: center; font-size: 1em;\">🌲</td><td style=\"border: none; padding: 0px; text-align: center; font-size: 1em;\">🌾</td><td style=\"border: none; padding: 0px; text-align: center; font-size: 1em;\">🌾</td><td style=\"border: none; padding: 0px; text-align: center; font-size: 1em;\">🌾</td><td style=\"border: none; padding: 0px; text-align: center; font-size: 1em;\">🌾</td><td style=\"border: none; padding: 0px; text-align: center; font-size: 1em;\">🌾</td><td style=\"border: none; padding: 0px; text-align: center; font-size: 1em;\">⛰</td><td style=\"border: none; padding: 0px; text-align: center; font-size: 1em;\">⛰</td><td style=\"border: none; padding: 0px; text-align: center; font-size: 1em;\">🌋</td><td style=\"border: none; padding: 0px; text-align: center; font-size: 1em;\">🌋</td><td style=\"border: none; padding: 0px; text-align: center; font-size: 1em;\">🌲</td><td style=\"border: none; padding: 0px; text-align: center; font-size: 1em;\">🌲</td><td style=\"border: none; padding: 0px; text-align: center; font-size: 1em;\">🌲</td><td style=\"border: none; padding: 0px; text-align: center; font-size: 1em;\">🌲</td><td style=\"border: none; padding: 0px; text-align: center; font-size: 1em;\">🌲</td><td style=\"border: none; padding: 0px; text-align: center; font-size: 1em;\">🌲</td><td style=\"border: none; padding: 0px; text-align: center; font-size: 1em;\">🌲</td><td style=\"border: none; padding: 0px; text-align: center; font-size: 1em;\">🌲</td><td style=\"border: none; padding: 0px; text-align: center; font-size: 1em;\">🌋</td><td style=\"border: none; padding: 0px; text-align: center; font-size: 1em;\">🌋</td><td style=\"border: none; padding: 0px; text-align: center; font-size: 1em;\">⛰</td><td style=\"border: none; padding: 0px; text-align: center; font-size: 1em;\">🌾</td><td style=\"border: none; padding: 0px; text-align: center; font-size: 1em;\">🌾</td><td style=\"border: none; padding: 0px; text-align: center; font-size: 1em;\">⏬</td></tr><tr><td style=\"border: none; padding: 0px; text-align: center; font-size: 1em;\">🌲</td><td style=\"border: none; padding: 0px; text-align: center; font-size: 1em;\">🌲</td><td style=\"border: none; padding: 0px; text-align: center; font-size: 1em;\">🌲</td><td style=\"border: none; padding: 0px; text-align: center; font-size: 1em;\">🌲</td><td style=\"border: none; padding: 0px; text-align: center; font-size: 1em;\">🌾</td><td style=\"border: none; padding: 0px; text-align: center; font-size: 1em;\">🌾</td><td style=\"border: none; padding: 0px; text-align: center; font-size: 1em;\">🌾</td><td style=\"border: none; padding: 0px; text-align: center; font-size: 1em;\">🌾</td><td style=\"border: none; padding: 0px; text-align: center; font-size: 1em;\">🌾</td><td style=\"border: none; padding: 0px; text-align: center; font-size: 1em;\">⛰</td><td style=\"border: none; padding: 0px; text-align: center; font-size: 1em;\">🌋</td><td style=\"border: none; padding: 0px; text-align: center; font-size: 1em;\">🌋</td><td style=\"border: none; padding: 0px; text-align: center; font-size: 1em;\">🌋</td><td style=\"border: none; padding: 0px; text-align: center; font-size: 1em;\">⛰</td><td style=\"border: none; padding: 0px; text-align: center; font-size: 1em;\">🌲</td><td style=\"border: none; padding: 0px; text-align: center; font-size: 1em;\">🌲</td><td style=\"border: none; padding: 0px; text-align: center; font-size: 1em;\">🌲</td><td style=\"border: none; padding: 0px; text-align: center; font-size: 1em;\">🌲</td><td style=\"border: none; padding: 0px; text-align: center; font-size: 1em;\">🌲</td><td style=\"border: none; padding: 0px; text-align: center; font-size: 1em;\">🌲</td><td style=\"border: none; padding: 0px; text-align: center; font-size: 1em;\">🌲</td><td style=\"border: none; padding: 0px; text-align: center; font-size: 1em;\">🌲</td><td style=\"border: none; padding: 0px; text-align: center; font-size: 1em;\">🌋</td><td style=\"border: none; padding: 0px; text-align: center; font-size: 1em;\">🌾</td><td style=\"border: none; padding: 0px; text-align: center; font-size: 1em;\">🌾</td><td style=\"border: none; padding: 0px; text-align: center; font-size: 1em;\">⛰</td><td style=\"border: none; padding: 0px; text-align: center; font-size: 1em;\">⏬</td></tr><tr><td style=\"border: none; padding: 0px; text-align: center; font-size: 1em;\">🌲</td><td style=\"border: none; padding: 0px; text-align: center; font-size: 1em;\">🌲</td><td style=\"border: none; padding: 0px; text-align: center; font-size: 1em;\">🌲</td><td style=\"border: none; padding: 0px; text-align: center; font-size: 1em;\">🌲</td><td style=\"border: none; padding: 0px; text-align: center; font-size: 1em;\">🐊</td><td style=\"border: none; padding: 0px; text-align: center; font-size: 1em;\">🌾</td><td style=\"border: none; padding: 0px; text-align: center; font-size: 1em;\">⛰</td><td style=\"border: none; padding: 0px; text-align: center; font-size: 1em;\">🌾</td><td style=\"border: none; padding: 0px; text-align: center; font-size: 1em;\">🌾</td><td style=\"border: none; padding: 0px; text-align: center; font-size: 1em;\">🌋</td><td style=\"border: none; padding: 0px; text-align: center; font-size: 1em;\">🌋</td><td style=\"border: none; padding: 0px; text-align: center; font-size: 1em;\">⛰</td><td style=\"border: none; padding: 0px; text-align: center; font-size: 1em;\">⛰</td><td style=\"border: none; padding: 0px; text-align: center; font-size: 1em;\">🌾</td><td style=\"border: none; padding: 0px; text-align: center; font-size: 1em;\">⛰</td><td style=\"border: none; padding: 0px; text-align: center; font-size: 1em;\">🌲</td><td style=\"border: none; padding: 0px; text-align: center; font-size: 1em;\">🌲</td><td style=\"border: none; padding: 0px; text-align: center; font-size: 1em;\">🌲</td><td style=\"border: none; padding: 0px; text-align: center; font-size: 1em;\">🌲</td><td style=\"border: none; padding: 0px; text-align: center; font-size: 1em;\">🌲</td><td style=\"border: none; padding: 0px; text-align: center; font-size: 1em;\">🌲</td><td style=\"border: none; padding: 0px; text-align: center; font-size: 1em;\">🌲</td><td style=\"border: none; padding: 0px; text-align: center; font-size: 1em;\">🌋</td><td style=\"border: none; padding: 0px; text-align: center; font-size: 1em;\">🌾</td><td style=\"border: none; padding: 0px; text-align: center; font-size: 1em;\">🌋</td><td style=\"border: none; padding: 0px; text-align: center; font-size: 1em;\">⛰</td><td style=\"border: none; padding: 0px; text-align: center; font-size: 1em;\">⏬</td></tr><tr><td style=\"border: none; padding: 0px; text-align: center; font-size: 1em;\">🌲</td><td style=\"border: none; padding: 0px; text-align: center; font-size: 1em;\">🌲</td><td style=\"border: none; padding: 0px; text-align: center; font-size: 1em;\">🌲</td><td style=\"border: none; padding: 0px; text-align: center; font-size: 1em;\">🐊</td><td style=\"border: none; padding: 0px; text-align: center; font-size: 1em;\">🐊</td><td style=\"border: none; padding: 0px; text-align: center; font-size: 1em;\">🐊</td><td style=\"border: none; padding: 0px; text-align: center; font-size: 1em;\">🌋</td><td style=\"border: none; padding: 0px; text-align: center; font-size: 1em;\">🌾</td><td style=\"border: none; padding: 0px; text-align: center; font-size: 1em;\">⛰</td><td style=\"border: none; padding: 0px; text-align: center; font-size: 1em;\">🌋</td><td style=\"border: none; padding: 0px; text-align: center; font-size: 1em;\">🌋</td><td style=\"border: none; padding: 0px; text-align: center; font-size: 1em;\">🌾</td><td style=\"border: none; padding: 0px; text-align: center; font-size: 1em;\">🌾</td><td style=\"border: none; padding: 0px; text-align: center; font-size: 1em;\">🌾</td><td style=\"border: none; padding: 0px; text-align: center; font-size: 1em;\">⛰</td><td style=\"border: none; padding: 0px; text-align: center; font-size: 1em;\">🌋</td><td style=\"border: none; padding: 0px; text-align: center; font-size: 1em;\">🌲</td><td style=\"border: none; padding: 0px; text-align: center; font-size: 1em;\">🌲</td><td style=\"border: none; padding: 0px; text-align: center; font-size: 1em;\">🌲</td><td style=\"border: none; padding: 0px; text-align: center; font-size: 1em;\">🌲</td><td style=\"border: none; padding: 0px; text-align: center; font-size: 1em;\">🌲</td><td style=\"border: none; padding: 0px; text-align: center; font-size: 1em;\">🌋</td><td style=\"border: none; padding: 0px; text-align: center; font-size: 1em;\">🌋</td><td style=\"border: none; padding: 0px; text-align: center; font-size: 1em;\">🌾</td><td style=\"border: none; padding: 0px; text-align: center; font-size: 1em;\">🌋</td><td style=\"border: none; padding: 0px; text-align: center; font-size: 1em;\">🌋</td><td style=\"border: none; padding: 0px; text-align: center; font-size: 1em;\">⏬</td></tr><tr><td style=\"border: none; padding: 0px; text-align: center; font-size: 1em;\">🌲</td><td style=\"border: none; padding: 0px; text-align: center; font-size: 1em;\">🌲</td><td style=\"border: none; padding: 0px; text-align: center; font-size: 1em;\">🌲</td><td style=\"border: none; padding: 0px; text-align: center; font-size: 1em;\">🐊</td><td style=\"border: none; padding: 0px; text-align: center; font-size: 1em;\">🐊</td><td style=\"border: none; padding: 0px; text-align: center; font-size: 1em;\">🐊</td><td style=\"border: none; padding: 0px; text-align: center; font-size: 1em;\">🌋</td><td style=\"border: none; padding: 0px; text-align: center; font-size: 1em;\">⛰</td><td style=\"border: none; padding: 0px; text-align: center; font-size: 1em;\">⛰</td><td style=\"border: none; padding: 0px; text-align: center; font-size: 1em;\">🌋</td><td style=\"border: none; padding: 0px; text-align: center; font-size: 1em;\">⛰</td><td style=\"border: none; padding: 0px; text-align: center; font-size: 1em;\">🌾</td><td style=\"border: none; padding: 0px; text-align: center; font-size: 1em;\">🐊</td><td style=\"border: none; padding: 0px; text-align: center; font-size: 1em;\">🌾</td><td style=\"border: none; padding: 0px; text-align: center; font-size: 1em;\">⛰</td><td style=\"border: none; padding: 0px; text-align: center; font-size: 1em;\">🌋</td><td style=\"border: none; padding: 0px; text-align: center; font-size: 1em;\">🌲</td><td style=\"border: none; padding: 0px; text-align: center; font-size: 1em;\">🌲</td><td style=\"border: none; padding: 0px; text-align: center; font-size: 1em;\">🌲</td><td style=\"border: none; padding: 0px; text-align: center; font-size: 1em;\">🌾</td><td style=\"border: none; padding: 0px; text-align: center; font-size: 1em;\">🌾</td><td style=\"border: none; padding: 0px; text-align: center; font-size: 1em;\">🌋</td><td style=\"border: none; padding: 0px; text-align: center; font-size: 1em;\">🌾</td><td style=\"border: none; padding: 0px; text-align: center; font-size: 1em;\">🌾</td><td style=\"border: none; padding: 0px; text-align: center; font-size: 1em;\">🌋</td><td style=\"border: none; padding: 0px; text-align: center; font-size: 1em;\">🌋</td><td style=\"border: none; padding: 0px; text-align: center; font-size: 1em;\">⏬</td></tr><tr><td style=\"border: none; padding: 0px; text-align: center; font-size: 1em;\">🌲</td><td style=\"border: none; padding: 0px; text-align: center; font-size: 1em;\">🌲</td><td style=\"border: none; padding: 0px; text-align: center; font-size: 1em;\">🌲</td><td style=\"border: none; padding: 0px; text-align: center; font-size: 1em;\">🌲</td><td style=\"border: none; padding: 0px; text-align: center; font-size: 1em;\">🐊</td><td style=\"border: none; padding: 0px; text-align: center; font-size: 1em;\">🐊</td><td style=\"border: none; padding: 0px; text-align: center; font-size: 1em;\">🌋</td><td style=\"border: none; padding: 0px; text-align: center; font-size: 1em;\">🌋</td><td style=\"border: none; padding: 0px; text-align: center; font-size: 1em;\">🌋</td><td style=\"border: none; padding: 0px; text-align: center; font-size: 1em;\">🌋</td><td style=\"border: none; padding: 0px; text-align: center; font-size: 1em;\">🌾</td><td style=\"border: none; padding: 0px; text-align: center; font-size: 1em;\">🌾</td><td style=\"border: none; padding: 0px; text-align: center; font-size: 1em;\">🐊</td><td style=\"border: none; padding: 0px; text-align: center; font-size: 1em;\">🌾</td><td style=\"border: none; padding: 0px; text-align: center; font-size: 1em;\">⛰</td><td style=\"border: none; padding: 0px; text-align: center; font-size: 1em;\">🌋</td><td style=\"border: none; padding: 0px; text-align: center; font-size: 1em;\">🌋</td><td style=\"border: none; padding: 0px; text-align: center; font-size: 1em;\">🌲</td><td style=\"border: none; padding: 0px; text-align: center; font-size: 1em;\">🌾</td><td style=\"border: none; padding: 0px; text-align: center; font-size: 1em;\">🌾</td><td style=\"border: none; padding: 0px; text-align: center; font-size: 1em;\">🌋</td><td style=\"border: none; padding: 0px; text-align: center; font-size: 1em;\">🌾</td><td style=\"border: none; padding: 0px; text-align: center; font-size: 1em;\">🌾</td><td style=\"border: none; padding: 0px; text-align: center; font-size: 1em;\">🌾</td><td style=\"border: none; padding: 0px; text-align: center; font-size: 1em;\">⛰</td><td style=\"border: none; padding: 0px; text-align: center; font-size: 1em;\">🌋</td><td style=\"border: none; padding: 0px; text-align: center; font-size: 1em;\">⏬</td></tr><tr><td style=\"border: none; padding: 0px; text-align: center; font-size: 1em;\">🌾</td><td style=\"border: none; padding: 0px; text-align: center; font-size: 1em;\">🌲</td><td style=\"border: none; padding: 0px; text-align: center; font-size: 1em;\">🌲</td><td style=\"border: none; padding: 0px; text-align: center; font-size: 1em;\">🌲</td><td style=\"border: none; padding: 0px; text-align: center; font-size: 1em;\">🌲</td><td style=\"border: none; padding: 0px; text-align: center; font-size: 1em;\">🐊</td><td style=\"border: none; padding: 0px; text-align: center; font-size: 1em;\">🐊</td><td style=\"border: none; padding: 0px; text-align: center; font-size: 1em;\">🌋</td><td style=\"border: none; padding: 0px; text-align: center; font-size: 1em;\">🌋</td><td style=\"border: none; padding: 0px; text-align: center; font-size: 1em;\">🌾</td><td style=\"border: none; padding: 0px; text-align: center; font-size: 1em;\">🌾</td><td style=\"border: none; padding: 0px; text-align: center; font-size: 1em;\">🌾</td><td style=\"border: none; padding: 0px; text-align: center; font-size: 1em;\">🐊</td><td style=\"border: none; padding: 0px; text-align: center; font-size: 1em;\">🐊</td><td style=\"border: none; padding: 0px; text-align: center; font-size: 1em;\">🌾</td><td style=\"border: none; padding: 0px; text-align: center; font-size: 1em;\">⛰</td><td style=\"border: none; padding: 0px; text-align: center; font-size: 1em;\">🌋</td><td style=\"border: none; padding: 0px; text-align: center; font-size: 1em;\">🌲</td><td style=\"border: none; padding: 0px; text-align: center; font-size: 1em;\">🌾</td><td style=\"border: none; padding: 0px; text-align: center; font-size: 1em;\">🌾</td><td style=\"border: none; padding: 0px; text-align: center; font-size: 1em;\">🌾</td><td style=\"border: none; padding: 0px; text-align: center; font-size: 1em;\">🌾</td><td style=\"border: none; padding: 0px; text-align: center; font-size: 1em;\">🌾</td><td style=\"border: none; padding: 0px; text-align: center; font-size: 1em;\">⛰</td><td style=\"border: none; padding: 0px; text-align: center; font-size: 1em;\">⛰</td><td style=\"border: none; padding: 0px; text-align: center; font-size: 1em;\">🌋</td><td style=\"border: none; padding: 0px; text-align: center; font-size: 1em;\">⏬</td></tr><tr><td style=\"border: none; padding: 0px; text-align: center; font-size: 1em;\">🌾</td><td style=\"border: none; padding: 0px; text-align: center; font-size: 1em;\">🌾</td><td style=\"border: none; padding: 0px; text-align: center; font-size: 1em;\">🌲</td><td style=\"border: none; padding: 0px; text-align: center; font-size: 1em;\">🌲</td><td style=\"border: none; padding: 0px; text-align: center; font-size: 1em;\">🌲</td><td style=\"border: none; padding: 0px; text-align: center; font-size: 1em;\">🐊</td><td style=\"border: none; padding: 0px; text-align: center; font-size: 1em;\">🐊</td><td style=\"border: none; padding: 0px; text-align: center; font-size: 1em;\">🌋</td><td style=\"border: none; padding: 0px; text-align: center; font-size: 1em;\">🌾</td><td style=\"border: none; padding: 0px; text-align: center; font-size: 1em;\">🌾</td><td style=\"border: none; padding: 0px; text-align: center; font-size: 1em;\">🌾</td><td style=\"border: none; padding: 0px; text-align: center; font-size: 1em;\">🐊</td><td style=\"border: none; padding: 0px; text-align: center; font-size: 1em;\">🐊</td><td style=\"border: none; padding: 0px; text-align: center; font-size: 1em;\">🐊</td><td style=\"border: none; padding: 0px; text-align: center; font-size: 1em;\">🐊</td><td style=\"border: none; padding: 0px; text-align: center; font-size: 1em;\">⛰</td><td style=\"border: none; padding: 0px; text-align: center; font-size: 1em;\">🌋</td><td style=\"border: none; padding: 0px; text-align: center; font-size: 1em;\">🌋</td><td style=\"border: none; padding: 0px; text-align: center; font-size: 1em;\">🌾</td><td style=\"border: none; padding: 0px; text-align: center; font-size: 1em;\">🌾</td><td style=\"border: none; padding: 0px; text-align: center; font-size: 1em;\">🌾</td><td style=\"border: none; padding: 0px; text-align: center; font-size: 1em;\">🌾</td><td style=\"border: none; padding: 0px; text-align: center; font-size: 1em;\">🌾</td><td style=\"border: none; padding: 0px; text-align: center; font-size: 1em;\">⛰</td><td style=\"border: none; padding: 0px; text-align: center; font-size: 1em;\">🌋</td><td style=\"border: none; padding: 0px; text-align: center; font-size: 1em;\">⛰</td><td style=\"border: none; padding: 0px; text-align: center; font-size: 1em;\">⏬</td></tr><tr><td style=\"border: none; padding: 0px; text-align: center; font-size: 1em;\">🌾</td><td style=\"border: none; padding: 0px; text-align: center; font-size: 1em;\">🌾</td><td style=\"border: none; padding: 0px; text-align: center; font-size: 1em;\">🌋</td><td style=\"border: none; padding: 0px; text-align: center; font-size: 1em;\">🌲</td><td style=\"border: none; padding: 0px; text-align: center; font-size: 1em;\">🌲</td><td style=\"border: none; padding: 0px; text-align: center; font-size: 1em;\">🌾</td><td style=\"border: none; padding: 0px; text-align: center; font-size: 1em;\">🐊</td><td style=\"border: none; padding: 0px; text-align: center; font-size: 1em;\">🐊</td><td style=\"border: none; padding: 0px; text-align: center; font-size: 1em;\">🐊</td><td style=\"border: none; padding: 0px; text-align: center; font-size: 1em;\">🌾</td><td style=\"border: none; padding: 0px; text-align: center; font-size: 1em;\">🌾</td><td style=\"border: none; padding: 0px; text-align: center; font-size: 1em;\">🐊</td><td style=\"border: none; padding: 0px; text-align: center; font-size: 1em;\">🌾</td><td style=\"border: none; padding: 0px; text-align: center; font-size: 1em;\">🐊</td><td style=\"border: none; padding: 0px; text-align: center; font-size: 1em;\">🐊</td><td style=\"border: none; padding: 0px; text-align: center; font-size: 1em;\">🌾</td><td style=\"border: none; padding: 0px; text-align: center; font-size: 1em;\">🌾</td><td style=\"border: none; padding: 0px; text-align: center; font-size: 1em;\">🌋</td><td style=\"border: none; padding: 0px; text-align: center; font-size: 1em;\">⛰</td><td style=\"border: none; padding: 0px; text-align: center; font-size: 1em;\">🌾</td><td style=\"border: none; padding: 0px; text-align: center; font-size: 1em;\">🌾</td><td style=\"border: none; padding: 0px; text-align: center; font-size: 1em;\">🌾</td><td style=\"border: none; padding: 0px; text-align: center; font-size: 1em;\">⛰</td><td style=\"border: none; padding: 0px; text-align: center; font-size: 1em;\">🌋</td><td style=\"border: none; padding: 0px; text-align: center; font-size: 1em;\">🌋</td><td style=\"border: none; padding: 0px; text-align: center; font-size: 1em;\">⛰</td><td style=\"border: none; padding: 0px; text-align: center; font-size: 1em;\">⏬</td></tr><tr><td style=\"border: none; padding: 0px; text-align: center; font-size: 1em;\">🌾</td><td style=\"border: none; padding: 0px; text-align: center; font-size: 1em;\">🌋</td><td style=\"border: none; padding: 0px; text-align: center; font-size: 1em;\">🌋</td><td style=\"border: none; padding: 0px; text-align: center; font-size: 1em;\">🌲</td><td style=\"border: none; padding: 0px; text-align: center; font-size: 1em;\">🌾</td><td style=\"border: none; padding: 0px; text-align: center; font-size: 1em;\">🌾</td><td style=\"border: none; padding: 0px; text-align: center; font-size: 1em;\">🌾</td><td style=\"border: none; padding: 0px; text-align: center; font-size: 1em;\">🐊</td><td style=\"border: none; padding: 0px; text-align: center; font-size: 1em;\">🐊</td><td style=\"border: none; padding: 0px; text-align: center; font-size: 1em;\">🐊</td><td style=\"border: none; padding: 0px; text-align: center; font-size: 1em;\">🌾</td><td style=\"border: none; padding: 0px; text-align: center; font-size: 1em;\">🌾</td><td style=\"border: none; padding: 0px; text-align: center; font-size: 1em;\">🌾</td><td style=\"border: none; padding: 0px; text-align: center; font-size: 1em;\">🐊</td><td style=\"border: none; padding: 0px; text-align: center; font-size: 1em;\">🐊</td><td style=\"border: none; padding: 0px; text-align: center; font-size: 1em;\">🐊</td><td style=\"border: none; padding: 0px; text-align: center; font-size: 1em;\">🌾</td><td style=\"border: none; padding: 0px; text-align: center; font-size: 1em;\">🌋</td><td style=\"border: none; padding: 0px; text-align: center; font-size: 1em;\">⛰</td><td style=\"border: none; padding: 0px; text-align: center; font-size: 1em;\">🌾</td><td style=\"border: none; padding: 0px; text-align: center; font-size: 1em;\">🌾</td><td style=\"border: none; padding: 0px; text-align: center; font-size: 1em;\">🌾</td><td style=\"border: none; padding: 0px; text-align: center; font-size: 1em;\">⛰</td><td style=\"border: none; padding: 0px; text-align: center; font-size: 1em;\">🌋</td><td style=\"border: none; padding: 0px; text-align: center; font-size: 1em;\">🌾</td><td style=\"border: none; padding: 0px; text-align: center; font-size: 1em;\">⛰</td><td style=\"border: none; padding: 0px; text-align: center; font-size: 1em;\">⏬</td></tr><tr><td style=\"border: none; padding: 0px; text-align: center; font-size: 1em;\">🌾</td><td style=\"border: none; padding: 0px; text-align: center; font-size: 1em;\">🌋</td><td style=\"border: none; padding: 0px; text-align: center; font-size: 1em;\">🌋</td><td style=\"border: none; padding: 0px; text-align: center; font-size: 1em;\">🌾</td><td style=\"border: none; padding: 0px; text-align: center; font-size: 1em;\">🌾</td><td style=\"border: none; padding: 0px; text-align: center; font-size: 1em;\">🌾</td><td style=\"border: none; padding: 0px; text-align: center; font-size: 1em;\">🌾</td><td style=\"border: none; padding: 0px; text-align: center; font-size: 1em;\">🐊</td><td style=\"border: none; padding: 0px; text-align: center; font-size: 1em;\">🌾</td><td style=\"border: none; padding: 0px; text-align: center; font-size: 1em;\">🌾</td><td style=\"border: none; padding: 0px; text-align: center; font-size: 1em;\">⛰</td><td style=\"border: none; padding: 0px; text-align: center; font-size: 1em;\">🌾</td><td style=\"border: none; padding: 0px; text-align: center; font-size: 1em;\">🌾</td><td style=\"border: none; padding: 0px; text-align: center; font-size: 1em;\">🌾</td><td style=\"border: none; padding: 0px; text-align: center; font-size: 1em;\">🌾</td><td style=\"border: none; padding: 0px; text-align: center; font-size: 1em;\">🌾</td><td style=\"border: none; padding: 0px; text-align: center; font-size: 1em;\">🌋</td><td style=\"border: none; padding: 0px; text-align: center; font-size: 1em;\">🌋</td><td style=\"border: none; padding: 0px; text-align: center; font-size: 1em;\">🌾</td><td style=\"border: none; padding: 0px; text-align: center; font-size: 1em;\">🌾</td><td style=\"border: none; padding: 0px; text-align: center; font-size: 1em;\">🌾</td><td style=\"border: none; padding: 0px; text-align: center; font-size: 1em;\">🌾</td><td style=\"border: none; padding: 0px; text-align: center; font-size: 1em;\">🌾</td><td style=\"border: none; padding: 0px; text-align: center; font-size: 1em;\">⛰</td><td style=\"border: none; padding: 0px; text-align: center; font-size: 1em;\">🌋</td><td style=\"border: none; padding: 0px; text-align: center; font-size: 1em;\">⛰</td><td style=\"border: none; padding: 0px; text-align: center; font-size: 1em;\">⏬</td></tr><tr><td style=\"border: none; padding: 0px; text-align: center; font-size: 1em;\">🌾</td><td style=\"border: none; padding: 0px; text-align: center; font-size: 1em;\">🌋</td><td style=\"border: none; padding: 0px; text-align: center; font-size: 1em;\">⛰</td><td style=\"border: none; padding: 0px; text-align: center; font-size: 1em;\">🌾</td><td style=\"border: none; padding: 0px; text-align: center; font-size: 1em;\">🌾</td><td style=\"border: none; padding: 0px; text-align: center; font-size: 1em;\">🌾</td><td style=\"border: none; padding: 0px; text-align: center; font-size: 1em;\">🌾</td><td style=\"border: none; padding: 0px; text-align: center; font-size: 1em;\">🌾</td><td style=\"border: none; padding: 0px; text-align: center; font-size: 1em;\">🌾</td><td style=\"border: none; padding: 0px; text-align: center; font-size: 1em;\">⛰</td><td style=\"border: none; padding: 0px; text-align: center; font-size: 1em;\">🌋</td><td style=\"border: none; padding: 0px; text-align: center; font-size: 1em;\">⛰</td><td style=\"border: none; padding: 0px; text-align: center; font-size: 1em;\">⛰</td><td style=\"border: none; padding: 0px; text-align: center; font-size: 1em;\">🌾</td><td style=\"border: none; padding: 0px; text-align: center; font-size: 1em;\">🌾</td><td style=\"border: none; padding: 0px; text-align: center; font-size: 1em;\">⛰</td><td style=\"border: none; padding: 0px; text-align: center; font-size: 1em;\">🌋</td><td style=\"border: none; padding: 0px; text-align: center; font-size: 1em;\">🌾</td><td style=\"border: none; padding: 0px; text-align: center; font-size: 1em;\">🌾</td><td style=\"border: none; padding: 0px; text-align: center; font-size: 1em;\">🌾</td><td style=\"border: none; padding: 0px; text-align: center; font-size: 1em;\">🐊</td><td style=\"border: none; padding: 0px; text-align: center; font-size: 1em;\">🐊</td><td style=\"border: none; padding: 0px; text-align: center; font-size: 1em;\">🌾</td><td style=\"border: none; padding: 0px; text-align: center; font-size: 1em;\">⛰</td><td style=\"border: none; padding: 0px; text-align: center; font-size: 1em;\">🌋</td><td style=\"border: none; padding: 0px; text-align: center; font-size: 1em;\">🌋</td><td style=\"border: none; padding: 0px; text-align: center; font-size: 1em;\">⏬</td></tr><tr><td style=\"border: none; padding: 0px; text-align: center; font-size: 1em;\">🌾</td><td style=\"border: none; padding: 0px; text-align: center; font-size: 1em;\">🌋</td><td style=\"border: none; padding: 0px; text-align: center; font-size: 1em;\">⛰</td><td style=\"border: none; padding: 0px; text-align: center; font-size: 1em;\">⛰</td><td style=\"border: none; padding: 0px; text-align: center; font-size: 1em;\">⛰</td><td style=\"border: none; padding: 0px; text-align: center; font-size: 1em;\">🌾</td><td style=\"border: none; padding: 0px; text-align: center; font-size: 1em;\">🌾</td><td style=\"border: none; padding: 0px; text-align: center; font-size: 1em;\">🌾</td><td style=\"border: none; padding: 0px; text-align: center; font-size: 1em;\">⛰</td><td style=\"border: none; padding: 0px; text-align: center; font-size: 1em;\">⛰</td><td style=\"border: none; padding: 0px; text-align: center; font-size: 1em;\">🌋</td><td style=\"border: none; padding: 0px; text-align: center; font-size: 1em;\">🌋</td><td style=\"border: none; padding: 0px; text-align: center; font-size: 1em;\">🌋</td><td style=\"border: none; padding: 0px; text-align: center; font-size: 1em;\">⛰</td><td style=\"border: none; padding: 0px; text-align: center; font-size: 1em;\">⛰</td><td style=\"border: none; padding: 0px; text-align: center; font-size: 1em;\">🌋</td><td style=\"border: none; padding: 0px; text-align: center; font-size: 1em;\">🌋</td><td style=\"border: none; padding: 0px; text-align: center; font-size: 1em;\">🌾</td><td style=\"border: none; padding: 0px; text-align: center; font-size: 1em;\">🌾</td><td style=\"border: none; padding: 0px; text-align: center; font-size: 1em;\">🌾</td><td style=\"border: none; padding: 0px; text-align: center; font-size: 1em;\">🐊</td><td style=\"border: none; padding: 0px; text-align: center; font-size: 1em;\">🐊</td><td style=\"border: none; padding: 0px; text-align: center; font-size: 1em;\">🐊</td><td style=\"border: none; padding: 0px; text-align: center; font-size: 1em;\">🌾</td><td style=\"border: none; padding: 0px; text-align: center; font-size: 1em;\">⛰</td><td style=\"border: none; padding: 0px; text-align: center; font-size: 1em;\">🌋</td><td style=\"border: none; padding: 0px; text-align: center; font-size: 1em;\">⏬</td></tr><tr><td style=\"border: none; padding: 0px; text-align: center; font-size: 1em;\">🌾</td><td style=\"border: none; padding: 0px; text-align: center; font-size: 1em;\">🌋</td><td style=\"border: none; padding: 0px; text-align: center; font-size: 1em;\">⛰</td><td style=\"border: none; padding: 0px; text-align: center; font-size: 1em;\">⛰</td><td style=\"border: none; padding: 0px; text-align: center; font-size: 1em;\">🌋</td><td style=\"border: none; padding: 0px; text-align: center; font-size: 1em;\">⛰</td><td style=\"border: none; padding: 0px; text-align: center; font-size: 1em;\">🌾</td><td style=\"border: none; padding: 0px; text-align: center; font-size: 1em;\">⛰</td><td style=\"border: none; padding: 0px; text-align: center; font-size: 1em;\">⛰</td><td style=\"border: none; padding: 0px; text-align: center; font-size: 1em;\">⛰</td><td style=\"border: none; padding: 0px; text-align: center; font-size: 1em;\">🌋</td><td style=\"border: none; padding: 0px; text-align: center; font-size: 1em;\">🌋</td><td style=\"border: none; padding: 0px; text-align: center; font-size: 1em;\">⛰</td><td style=\"border: none; padding: 0px; text-align: center; font-size: 1em;\">🌾</td><td style=\"border: none; padding: 0px; text-align: center; font-size: 1em;\">🌋</td><td style=\"border: none; padding: 0px; text-align: center; font-size: 1em;\">🌋</td><td style=\"border: none; padding: 0px; text-align: center; font-size: 1em;\">🌾</td><td style=\"border: none; padding: 0px; text-align: center; font-size: 1em;\">🌾</td><td style=\"border: none; padding: 0px; text-align: center; font-size: 1em;\">🌾</td><td style=\"border: none; padding: 0px; text-align: center; font-size: 1em;\">🌾</td><td style=\"border: none; padding: 0px; text-align: center; font-size: 1em;\">🐊</td><td style=\"border: none; padding: 0px; text-align: center; font-size: 1em;\">🐊</td><td style=\"border: none; padding: 0px; text-align: center; font-size: 1em;\">🐊</td><td style=\"border: none; padding: 0px; text-align: center; font-size: 1em;\">🐊</td><td style=\"border: none; padding: 0px; text-align: center; font-size: 1em;\">⛰</td><td style=\"border: none; padding: 0px; text-align: center; font-size: 1em;\">🌋</td><td style=\"border: none; padding: 0px; text-align: center; font-size: 1em;\">⏬</td></tr><tr><td style=\"border: none; padding: 0px; text-align: center; font-size: 1em;\">🌾</td><td style=\"border: none; padding: 0px; text-align: center; font-size: 1em;\">🌋</td><td style=\"border: none; padding: 0px; text-align: center; font-size: 1em;\">🌋</td><td style=\"border: none; padding: 0px; text-align: center; font-size: 1em;\">🌋</td><td style=\"border: none; padding: 0px; text-align: center; font-size: 1em;\">🌋</td><td style=\"border: none; padding: 0px; text-align: center; font-size: 1em;\">🌋</td><td style=\"border: none; padding: 0px; text-align: center; font-size: 1em;\">⛰</td><td style=\"border: none; padding: 0px; text-align: center; font-size: 1em;\">⛰</td><td style=\"border: none; padding: 0px; text-align: center; font-size: 1em;\">⛰</td><td style=\"border: none; padding: 0px; text-align: center; font-size: 1em;\">🌾</td><td style=\"border: none; padding: 0px; text-align: center; font-size: 1em;\">⛰</td><td style=\"border: none; padding: 0px; text-align: center; font-size: 1em;\">⛰</td><td style=\"border: none; padding: 0px; text-align: center; font-size: 1em;\">🌾</td><td style=\"border: none; padding: 0px; text-align: center; font-size: 1em;\">🌾</td><td style=\"border: none; padding: 0px; text-align: center; font-size: 1em;\">⛰</td><td style=\"border: none; padding: 0px; text-align: center; font-size: 1em;\">⛰</td><td style=\"border: none; padding: 0px; text-align: center; font-size: 1em;\">🌾</td><td style=\"border: none; padding: 0px; text-align: center; font-size: 1em;\">🌾</td><td style=\"border: none; padding: 0px; text-align: center; font-size: 1em;\">🌾</td><td style=\"border: none; padding: 0px; text-align: center; font-size: 1em;\">🐊</td><td style=\"border: none; padding: 0px; text-align: center; font-size: 1em;\">🐊</td><td style=\"border: none; padding: 0px; text-align: center; font-size: 1em;\">🐊</td><td style=\"border: none; padding: 0px; text-align: center; font-size: 1em;\">🐊</td><td style=\"border: none; padding: 0px; text-align: center; font-size: 1em;\">🐊</td><td style=\"border: none; padding: 0px; text-align: center; font-size: 1em;\">🐊</td><td style=\"border: none; padding: 0px; text-align: center; font-size: 1em;\">🐊</td><td style=\"border: none; padding: 0px; text-align: center; font-size: 1em;\">⏬</td></tr><tr><td style=\"border: none; padding: 0px; text-align: center; font-size: 1em;\">🌾</td><td style=\"border: none; padding: 0px; text-align: center; font-size: 1em;\">🌋</td><td style=\"border: none; padding: 0px; text-align: center; font-size: 1em;\">🌋</td><td style=\"border: none; padding: 0px; text-align: center; font-size: 1em;\">🌋</td><td style=\"border: none; padding: 0px; text-align: center; font-size: 1em;\">🌋</td><td style=\"border: none; padding: 0px; text-align: center; font-size: 1em;\">⛰</td><td style=\"border: none; padding: 0px; text-align: center; font-size: 1em;\">🌾</td><td style=\"border: none; padding: 0px; text-align: center; font-size: 1em;\">⛰</td><td style=\"border: none; padding: 0px; text-align: center; font-size: 1em;\">🌾</td><td style=\"border: none; padding: 0px; text-align: center; font-size: 1em;\">🌾</td><td style=\"border: none; padding: 0px; text-align: center; font-size: 1em;\">🌾</td><td style=\"border: none; padding: 0px; text-align: center; font-size: 1em;\">🌾</td><td style=\"border: none; padding: 0px; text-align: center; font-size: 1em;\">🌾</td><td style=\"border: none; padding: 0px; text-align: center; font-size: 1em;\">🌾</td><td style=\"border: none; padding: 0px; text-align: center; font-size: 1em;\">🌾</td><td style=\"border: none; padding: 0px; text-align: center; font-size: 1em;\">🌾</td><td style=\"border: none; padding: 0px; text-align: center; font-size: 1em;\">🌾</td><td style=\"border: none; padding: 0px; text-align: center; font-size: 1em;\">🌾</td><td style=\"border: none; padding: 0px; text-align: center; font-size: 1em;\">🌾</td><td style=\"border: none; padding: 0px; text-align: center; font-size: 1em;\">🐊</td><td style=\"border: none; padding: 0px; text-align: center; font-size: 1em;\">🐊</td><td style=\"border: none; padding: 0px; text-align: center; font-size: 1em;\">🐊</td><td style=\"border: none; padding: 0px; text-align: center; font-size: 1em;\">🐊</td><td style=\"border: none; padding: 0px; text-align: center; font-size: 1em;\">🐊</td><td style=\"border: none; padding: 0px; text-align: center; font-size: 1em;\">🐊</td><td style=\"border: none; padding: 0px; text-align: center; font-size: 1em;\">🐊</td><td style=\"border: none; padding: 0px; text-align: center; font-size: 1em;\">⏬</td></tr><tr><td style=\"border: none; padding: 0px; text-align: center; font-size: 1em;\">🌾</td><td style=\"border: none; padding: 0px; text-align: center; font-size: 1em;\">🌾</td><td style=\"border: none; padding: 0px; text-align: center; font-size: 1em;\">⛰</td><td style=\"border: none; padding: 0px; text-align: center; font-size: 1em;\">⛰</td><td style=\"border: none; padding: 0px; text-align: center; font-size: 1em;\">⛰</td><td style=\"border: none; padding: 0px; text-align: center; font-size: 1em;\">🌾</td><td style=\"border: none; padding: 0px; text-align: center; font-size: 1em;\">🌾</td><td style=\"border: none; padding: 0px; text-align: center; font-size: 1em;\">🌾</td><td style=\"border: none; padding: 0px; text-align: center; font-size: 1em;\">🌾</td><td style=\"border: none; padding: 0px; text-align: center; font-size: 1em;\">🌾</td><td style=\"border: none; padding: 0px; text-align: center; font-size: 1em;\">🌾</td><td style=\"border: none; padding: 0px; text-align: center; font-size: 1em;\">🌾</td><td style=\"border: none; padding: 0px; text-align: center; font-size: 1em;\">🌾</td><td style=\"border: none; padding: 0px; text-align: center; font-size: 1em;\">🌾</td><td style=\"border: none; padding: 0px; text-align: center; font-size: 1em;\">🌾</td><td style=\"border: none; padding: 0px; text-align: center; font-size: 1em;\">🌾</td><td style=\"border: none; padding: 0px; text-align: center; font-size: 1em;\">🌾</td><td style=\"border: none; padding: 0px; text-align: center; font-size: 1em;\">🌾</td><td style=\"border: none; padding: 0px; text-align: center; font-size: 1em;\">🌾</td><td style=\"border: none; padding: 0px; text-align: center; font-size: 1em;\">🐊</td><td style=\"border: none; padding: 0px; text-align: center; font-size: 1em;\">🐊</td><td style=\"border: none; padding: 0px; text-align: center; font-size: 1em;\">🐊</td><td style=\"border: none; padding: 0px; text-align: center; font-size: 1em;\">🐊</td><td style=\"border: none; padding: 0px; text-align: center; font-size: 1em;\">🐊</td><td style=\"border: none; padding: 0px; text-align: center; font-size: 1em;\">🐊</td><td style=\"border: none; padding: 0px; text-align: center; font-size: 1em;\">🐊</td><td style=\"border: none; padding: 0px; text-align: center; font-size: 1em;\">⏬</td></tr><tr><td style=\"border: none; padding: 0px; text-align: center; font-size: 1em;\">🌾</td><td style=\"border: none; padding: 0px; text-align: center; font-size: 1em;\">🌾</td><td style=\"border: none; padding: 0px; text-align: center; font-size: 1em;\">⛰</td><td style=\"border: none; padding: 0px; text-align: center; font-size: 1em;\">🌾</td><td style=\"border: none; padding: 0px; text-align: center; font-size: 1em;\">🌾</td><td style=\"border: none; padding: 0px; text-align: center; font-size: 1em;\">🌾</td><td style=\"border: none; padding: 0px; text-align: center; font-size: 1em;\">🌾</td><td style=\"border: none; padding: 0px; text-align: center; font-size: 1em;\">🌾</td><td style=\"border: none; padding: 0px; text-align: center; font-size: 1em;\">🌾</td><td style=\"border: none; padding: 0px; text-align: center; font-size: 1em;\">🌾</td><td style=\"border: none; padding: 0px; text-align: center; font-size: 1em;\">🌾</td><td style=\"border: none; padding: 0px; text-align: center; font-size: 1em;\">🌾</td><td style=\"border: none; padding: 0px; text-align: center; font-size: 1em;\">🌾</td><td style=\"border: none; padding: 0px; text-align: center; font-size: 1em;\">🌾</td><td style=\"border: none; padding: 0px; text-align: center; font-size: 1em;\">🌾</td><td style=\"border: none; padding: 0px; text-align: center; font-size: 1em;\">🌾</td><td style=\"border: none; padding: 0px; text-align: center; font-size: 1em;\">🌾</td><td style=\"border: none; padding: 0px; text-align: center; font-size: 1em;\">🌾</td><td style=\"border: none; padding: 0px; text-align: center; font-size: 1em;\">🌾</td><td style=\"border: none; padding: 0px; text-align: center; font-size: 1em;\">🐊</td><td style=\"border: none; padding: 0px; text-align: center; font-size: 1em;\">🐊</td><td style=\"border: none; padding: 0px; text-align: center; font-size: 1em;\">🐊</td><td style=\"border: none; padding: 0px; text-align: center; font-size: 1em;\">🐊</td><td style=\"border: none; padding: 0px; text-align: center; font-size: 1em;\">🐊</td><td style=\"border: none; padding: 0px; text-align: center; font-size: 1em;\">🐊</td><td style=\"border: none; padding: 0px; text-align: center; font-size: 1em;\">🐊</td><td style=\"border: none; padding: 0px; text-align: center; font-size: 1em;\">🎁</td></tr></table>"
      ]
     },
     "metadata": {},
     "output_type": "display_data"
    },
    {
     "name": "stdout",
     "output_type": "stream",
     "text": [
      "total path cost: 98\n",
      "[(1, 0), (1, 0), (1, 0), (1, 0), (1, 0), (1, 0), (1, 0), (1, 0), (1, 0), (1, 0), (1, 0), (1, 0), (1, 0), (1, 0), (1, 0), (1, 0), (1, 0), (1, 0), (1, 0), (1, 0), (1, 0), (1, 0), (0, 1), (0, 1), (0, 1), (1, 0), (0, 1), (1, 0), (1, 0), (1, 0), (0, 1), (0, 1), (0, 1), (0, 1), (0, 1), (0, 1), (0, 1), (0, 1), (0, 1), (0, 1), (0, 1), (0, 1), (0, 1), (0, 1), (0, 1), (0, 1), (0, 1), (0, 1), (0, 1), (0, 1), (0, 1), (0, 1)]\n"
     ]
    }
   ],
   "source": [
    "full_start = (0, 0)\n",
    "full_goal = (len(full_world[0]) - 1, len(full_world) - 1)\n",
    "full_path = a_star_search(full_world, full_start, full_goal, COSTS, MOVES, heuristic)\n",
    "full_path_cost = pretty_print_path(full_world, full_path, full_start, full_goal, COSTS)\n",
    "print(f\"total path cost: {full_path_cost}\")\n",
    "print(full_path)"
   ]
  },
  {
   "cell_type": "markdown",
   "metadata": {},
   "source": [
    "## Comments\n",
    "\n",
    "(This is the place to leave me comments)"
   ]
  },
  {
   "cell_type": "markdown",
   "metadata": {},
   "source": [
    "## To think about for future assignments..."
   ]
  },
  {
   "cell_type": "markdown",
   "metadata": {},
   "source": [
    "This first assignment may not have been difficult for you if you've encountered A* search before in your Algorithms course. In preparation for future assignments that build on State Space Search, you can think about the following or even do an implementation if you like. You should **not** submit it as part of this assignment.\n",
    "\n",
    "In several future assignments, we will have a need for a \"plain ol'\" Depth First Search algorithm.\n",
    "\n",
    "1. Implement DFS Search to solve the problem presented in this programming assignment. Try to be as general as possible (don't hard code anything you can pass as a formal parameter).\n",
    "2. Can you implement DFS Search as a higher order function and supply your own `is_goal`, `successors`, and `path` functions? How do you handle *state*?\n",
    "3. Can you write a version of DFS that returns all the solutions?\n",
    "\n",
    "In one future assignment a Breadth First Search algorithm will be very handy. Can you implement a search algorithm that changes whether it uses DFS or BFS by parameterization?"
   ]
  },
  {
   "cell_type": "markdown",
   "metadata": {},
   "source": [
    "## Before You Submit...\n",
    "\n",
    "1. Did you provide output exactly as requested?\n",
    "2. Did you follow the Programming Requirements on Canvas?\n",
    "\n",
    "Do not submit any other files."
   ]
  },
  {
   "cell_type": "markdown",
   "metadata": {},
   "source": []
  }
 ],
 "metadata": {
  "kernelspec": {
   "display_name": "en605645",
   "language": "python",
   "name": "python3"
  },
  "language_info": {
   "codemirror_mode": {
    "name": "ipython",
    "version": 3
   },
   "file_extension": ".py",
   "mimetype": "text/x-python",
   "name": "python",
   "nbconvert_exporter": "python",
   "pygments_lexer": "ipython3",
   "version": "3.11.9"
  },
  "toc": {
   "colors": {
    "hover_highlight": "#DAA520",
    "navigate_num": "#000000",
    "navigate_text": "#333333",
    "running_highlight": "#FF0000",
    "selected_highlight": "#FFD700",
    "sidebar_border": "#EEEEEE",
    "wrapper_background": "#FFFFFF"
   },
   "moveMenuLeft": true,
   "nav_menu": {
    "height": "192px",
    "width": "252px"
   },
   "navigate_menu": true,
   "number_sections": true,
   "sideBar": true,
   "threshold": 4,
   "toc_cell": false,
   "toc_section_display": "block",
   "toc_window_display": false,
   "widenNotebook": false
  }
 },
 "nbformat": 4,
 "nbformat_minor": 4
}
