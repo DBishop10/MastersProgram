{
 "cells": [
  {
   "cell_type": "code",
   "execution_count": 1,
   "metadata": {},
   "outputs": [],
   "source": [
    "from IPython.display import display_html\n",
    "\n",
    "def display_emoji_grid(emoji_grid):\n",
    "    \"\"\"\n",
    "    Display a List of Lists of emojis in a perfect grid (table) in a Jupyter Notebook.\n",
    "    \n",
    "    Parameters:\n",
    "    emoji_grid (list of list of str): A 2D list containing emojis to display in a grid.\n",
    "    \"\"\"\n",
    "    # Create HTML table\n",
    "    html = '<table style=\"border-collapse: collapse;\">'\n",
    "    \n",
    "    for row in emoji_grid:\n",
    "        html += '<tr>'\n",
    "        for emoji in row:\n",
    "            html += f'<td style=\"border: none; padding: 0px; text-align: center; font-size: 1em;\">{emoji}</td>'\n",
    "        html += '</tr>'\n",
    "    \n",
    "    html += '</table>'\n",
    "    \n",
    "    # Display the HTML table\n",
    "    display_html(html, raw=True)\n",
    "#"
   ]
  },
  {
   "cell_type": "code",
   "execution_count": 15,
   "metadata": {},
   "outputs": [
    {
     "data": {
      "text/html": [
       "<table style=\"border-collapse: collapse;\"><tr><td style=\"border: none; padding: 0px; text-align: center; font-size: 1em;\">🌲</td><td style=\"border: none; padding: 0px; text-align: center; font-size: 1em;\">🌾</td><td style=\"border: none; padding: 0px; text-align: center; font-size: 1em;\">🌾</td><td style=\"border: none; padding: 0px; text-align: center; font-size: 1em;\">🌾</td><td style=\"border: none; padding: 0px; text-align: center; font-size: 1em;\">🌾</td></tr><tr><td style=\"border: none; padding: 0px; text-align: center; font-size: 1em;\">🌾</td><td style=\"border: none; padding: 0px; text-align: center; font-size: 1em;\">🐊</td><td style=\"border: none; padding: 0px; text-align: center; font-size: 1em;\">🌾</td><td style=\"border: none; padding: 0px; text-align: center; font-size: 1em;\">🌾</td><td style=\"border: none; padding: 0px; text-align: center; font-size: 1em;\">🌾</td></tr><tr><td style=\"border: none; padding: 0px; text-align: center; font-size: 1em;\">🌋</td><td style=\"border: none; padding: 0px; text-align: center; font-size: 1em;\">⛰</td><td style=\"border: none; padding: 0px; text-align: center; font-size: 1em;\">🌾</td><td style=\"border: none; padding: 0px; text-align: center; font-size: 1em;\">🌾</td><td style=\"border: none; padding: 0px; text-align: center; font-size: 1em;\">🌲</td></tr><tr><td style=\"border: none; padding: 0px; text-align: center; font-size: 1em;\">🌾</td><td style=\"border: none; padding: 0px; text-align: center; font-size: 1em;\">🌾</td><td style=\"border: none; padding: 0px; text-align: center; font-size: 1em;\">🌲</td><td style=\"border: none; padding: 0px; text-align: center; font-size: 1em;\">🌋</td><td style=\"border: none; padding: 0px; text-align: center; font-size: 1em;\">⛰</td></tr><tr><td style=\"border: none; padding: 0px; text-align: center; font-size: 1em;\">🐊</td><td style=\"border: none; padding: 0px; text-align: center; font-size: 1em;\">🌾</td><td style=\"border: none; padding: 0px; text-align: center; font-size: 1em;\">🌾</td><td style=\"border: none; padding: 0px; text-align: center; font-size: 1em;\">🌾</td><td style=\"border: none; padding: 0px; text-align: center; font-size: 1em;\">🌾</td></tr></table>"
      ]
     },
     "metadata": {},
     "output_type": "display_data"
    }
   ],
   "source": [
    "import random\n",
    "\n",
    "possible_emojis = { '🌾': 1, '🌲': 3, '⛰': 5, '🐊': 7,  '🌋': 10}\n",
    "\n",
    "# Extract emojis and their corresponding weights\n",
    "emojis = list(possible_emojis.keys())\n",
    "weights = list(possible_emojis.values())\n",
    "\n",
    "# Invert the weights: lower weights become higher and higher weights become lower\n",
    "inverse_weights = [1 / weight for weight in weights]\n",
    "\n",
    "def generate_world(rows, cols):\n",
    "    return [\n",
    "        random.choices(emojis, inverse_weights, k=cols)  # Generate a row with 'cols' number of emojis\n",
    "        for _ in range(rows)\n",
    "    ]\n",
    "\n",
    "# Example usage: Generate a world of 5x5\n",
    "world = generate_world(5, 5)\n",
    "\n",
    "display_emoji_grid(world)"
   ]
  }
 ],
 "metadata": {
  "kernelspec": {
   "display_name": "Python (en605645)",
   "language": "python",
   "name": "en605645"
  },
  "language_info": {
   "codemirror_mode": {
    "name": "ipython",
    "version": 3
   },
   "file_extension": ".py",
   "mimetype": "text/x-python",
   "name": "python",
   "nbconvert_exporter": "python",
   "pygments_lexer": "ipython3",
   "version": "3.11.9"
  }
 },
 "nbformat": 4,
 "nbformat_minor": 2
}
