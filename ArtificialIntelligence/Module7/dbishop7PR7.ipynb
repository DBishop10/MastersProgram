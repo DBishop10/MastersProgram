{
 "cells": [
  {
   "cell_type": "markdown",
   "metadata": {},
   "source": [
    "# Module 7 - Programming Assignment\n",
    "\n",
    "## Directions\n",
    "\n",
    "1. Change the name of this file to be your JHED id as in `jsmith299.ipynb`. Because sure you use your JHED ID (it's made out of your name and not your student id which is just letters and numbers).\n",
    "2. Make sure the notebook you submit is cleanly and fully executed. I do not grade unexecuted notebooks.\n",
    "3. Submit your notebook back in Blackboard where you downloaded this file.\n",
    "\n",
    "*Provide the output **exactly** as requested*"
   ]
  },
  {
   "cell_type": "markdown",
   "metadata": {},
   "source": [
    "# Unification\n",
    "\n",
    "This is actually Part I of a two part assignment. In a later module, you'll implement a Forward Planner. In order to do that, however, you need to have a unifier. It is important to note that you *only* need to implement a unifier. Although the module talked about resolution, you do not need to implement anything like \"standardizing apart\". From the unifier's point of view, that should already have been done.\n",
    "\n",
    "Unification is simply the *syntactic* balancing of expressions. There are only 3 kinds of expressions: constants, lists and (logic) variables. Constants and lists are only equal to each other if they're exactly the same thing or can be made to be the same thing by *binding* a value to a variable.\n",
    "\n",
    "It really is that simple...expressions must be literally the same (identical) except if one or the other (or both) has a variable in that \"spot\".\n",
    "\n",
    "## S-Expressions\n",
    "\n",
    "With that out of the way, we need a language with which to express our constants, variables and predicates and that language will be based on s-expressions.\n",
    "\n",
    "**constants** - There are two types of constants, values and predicates. Values should start with an uppercase letter. Fred is a constant value, so is Barney and Food. Predicates are named using lowercase letters. loves is a predicate and so is hates. This is only a convention. Secret: your code does not need to treat these two types of constants differently.\n",
    "\n",
    "**variables** - these are named using lowercase letters but always start with a question mark. ?x is a variable and so is ?yum. This is not a convention.\n",
    "\n",
    "**expressions (lists)** - these use the S-expression syntax a la LISP. (loves Fred Wilma) is an expression as is (friend-of Barney Fred) and (loves ?x ?y).\n",
    "\n",
    "## Parsing"
   ]
  },
  {
   "cell_type": "code",
   "execution_count": 1,
   "metadata": {},
   "outputs": [],
   "source": [
    "import tokenize\n",
    "from io import StringIO"
   ]
  },
  {
   "cell_type": "markdown",
   "metadata": {},
   "source": [
    "This uses the above libraries to build a Lisp structure based on atoms. It is adapted from [simple iterator parser](http://effbot.org/zone/simple-iterator-parser.htm) (deadlink). The first function is the `atom` function."
   ]
  },
  {
   "cell_type": "code",
   "execution_count": 2,
   "metadata": {},
   "outputs": [],
   "source": [
    "def atom( next, token):\n",
    "    if token[ 1] == '(':\n",
    "        out = []\n",
    "        token = next()\n",
    "        while token[ 1] != ')':\n",
    "            out.append( atom( next, token))\n",
    "            token = next()\n",
    "            if token[ 1] == ' ':\n",
    "                token = next()\n",
    "        return out\n",
    "    elif token[ 1] == '?':\n",
    "        token = next()\n",
    "        return \"?\" + token[ 1]\n",
    "    else:\n",
    "        return token[ 1]"
   ]
  },
  {
   "cell_type": "markdown",
   "metadata": {},
   "source": [
    "The next function is the actual `parse` function:"
   ]
  },
  {
   "cell_type": "code",
   "execution_count": 3,
   "metadata": {},
   "outputs": [],
   "source": [
    "def parse(exp):\n",
    "    src = StringIO(exp).readline\n",
    "    tokens = tokenize.generate_tokens(src)\n",
    "    return atom(tokens.__next__, tokens.__next__())"
   ]
  },
  {
   "cell_type": "markdown",
   "metadata": {},
   "source": [
    "**Note** there was a change between 2.7 and 3.0 that \"hid\" the next() function in the tokenizer."
   ]
  },
  {
   "cell_type": "markdown",
   "metadata": {},
   "source": [
    "From a Python perspective, we want to turn something like \"(loves Fred ?x)\" to [\"loves\" \"Fred\" \"?x\"] and then work with the second representation as a list of strings. The strings then have the syntactic meaning we gave them previously."
   ]
  },
  {
   "cell_type": "code",
   "execution_count": 4,
   "metadata": {},
   "outputs": [
    {
     "data": {
      "text/plain": [
       "'Fred'"
      ]
     },
     "execution_count": 4,
     "metadata": {},
     "output_type": "execute_result"
    }
   ],
   "source": [
    "parse(\"Fred\")"
   ]
  },
  {
   "cell_type": "code",
   "execution_count": 5,
   "metadata": {},
   "outputs": [
    {
     "data": {
      "text/plain": [
       "'?x'"
      ]
     },
     "execution_count": 5,
     "metadata": {},
     "output_type": "execute_result"
    }
   ],
   "source": [
    "parse( \"?x\")"
   ]
  },
  {
   "cell_type": "code",
   "execution_count": 6,
   "metadata": {},
   "outputs": [
    {
     "data": {
      "text/plain": [
       "['loves', 'Fred', '?x']"
      ]
     },
     "execution_count": 6,
     "metadata": {},
     "output_type": "execute_result"
    }
   ],
   "source": [
    "parse( \"(loves Fred ?x)\")"
   ]
  },
  {
   "cell_type": "code",
   "execution_count": 7,
   "metadata": {},
   "outputs": [
    {
     "data": {
      "text/plain": [
       "['father_of', 'Barney', ['son_of', 'Barney']]"
      ]
     },
     "execution_count": 7,
     "metadata": {},
     "output_type": "execute_result"
    }
   ],
   "source": [
    "parse( \"(father_of Barney (son_of Barney))\")"
   ]
  },
  {
   "cell_type": "markdown",
   "metadata": {},
   "source": [
    "## Unifier\n",
    "\n",
    "Now that that's out of the way, here is the imperative pseudocode for unification. This is a classic recursive program with a number of base cases. Students for some reason don't like it, try the algorithm in the book, can't get it to work and then come back to this pseudocode.\n",
    "\n",
    "Work through the algorithm by hand with your Self-Check examples if you need to but I'd suggest sticking with this implementation. It does work.\n",
    "\n",
    "Here is imperative pseudocode for the algorithm:\n",
    "\n",
    "```\n",
    "def unification( exp1, exp2):\n",
    "    # base cases\n",
    "    if exp1 and exp2 are constants or the empty list:\n",
    "        if exp1 = exp2 then return {}\n",
    "        else return FAIL\n",
    "    if exp1 is a variable:\n",
    "        if exp1 occurs in exp2 then return FAIL\n",
    "        else return {exp1/exp2}\n",
    "    if exp2 is a variable:\n",
    "        if exp2 occurs in exp1 then return FAIL\n",
    "        else return {exp2/exp1}\n",
    "\n",
    "    # inductive step\n",
    "    first1 = first element of exp1\n",
    "    first2 = first element of exp2\n",
    "    result1 = unification( first1, first2)\n",
    "    if result1 = FAIL then return FAIL\n",
    "    apply result1 to rest of exp1 and exp2\n",
    "    result2 = unification( rest of exp1, rest of exp2)\n",
    "    if result2 = FAIL then return FAIL\n",
    "    return composition of result1 and result2\n",
    "```\n",
    "\n",
    "`unification` can return...\n",
    "\n",
    "1. `None` (if unification completely fails)\n",
    "2. `{}` (the empty substitution list) or \n",
    "3. a substitution list that has variables as keys and substituted values as values, like {\"?x\": \"Fred\"}. \n",
    "\n",
    "Note that the middle case sometimes confuses people...\"Sam\" unifying with \"Sam\" is not a failure so you return {} because there were no variables so there were no substitutions. You do not need to further resolve variables. If a variable resolves to an expression that contains a variable, you don't need to do the substition.\n",
    "\n",
    "If you think of a typical database table, there is a column, row and value. This Tuple is a *relation* and in some uses of unification, the \"thing\" in the first spot...\"love\" above is called the relation. If you have a table of users with user_id, username and the value then the relation is:\n",
    "\n",
    "`(login ?user_id ?username)`\n",
    "\n",
    "*most* of the time, the relation name is specified. But it's not impossible for the relation name to be represented by a variable:\n",
    "\n",
    "`(?relation 12345 \"smooth_operator\")`\n",
    "\n",
    "Your code should handle this case (the pseudocode does handle this case so all  you have to do is not futz with it).\n",
    "\n",
    "Our type system is very simple. We can get by with just a few boolean functions. The first tests to see if an expression is a variable."
   ]
  },
  {
   "cell_type": "code",
   "execution_count": 8,
   "metadata": {},
   "outputs": [],
   "source": [
    "def is_variable( exp):\n",
    "    return isinstance( exp, str) and exp[ 0] == \"?\""
   ]
  },
  {
   "cell_type": "code",
   "execution_count": 9,
   "metadata": {},
   "outputs": [
    {
     "data": {
      "text/plain": [
       "False"
      ]
     },
     "execution_count": 9,
     "metadata": {},
     "output_type": "execute_result"
    }
   ],
   "source": [
    "is_variable( \"Fred\")"
   ]
  },
  {
   "cell_type": "code",
   "execution_count": 10,
   "metadata": {},
   "outputs": [
    {
     "data": {
      "text/plain": [
       "True"
      ]
     },
     "execution_count": 10,
     "metadata": {},
     "output_type": "execute_result"
    }
   ],
   "source": [
    "is_variable( \"?fred\")"
   ]
  },
  {
   "cell_type": "markdown",
   "metadata": {},
   "source": [
    "The second tests to see if an expression is a constant:"
   ]
  },
  {
   "cell_type": "code",
   "execution_count": 11,
   "metadata": {},
   "outputs": [],
   "source": [
    "def is_constant( exp):\n",
    "    return isinstance( exp, str) and not is_variable( exp)"
   ]
  },
  {
   "cell_type": "code",
   "execution_count": 12,
   "metadata": {},
   "outputs": [
    {
     "data": {
      "text/plain": [
       "True"
      ]
     },
     "execution_count": 12,
     "metadata": {},
     "output_type": "execute_result"
    }
   ],
   "source": [
    "is_constant( \"Fred\")"
   ]
  },
  {
   "cell_type": "code",
   "execution_count": 13,
   "metadata": {},
   "outputs": [
    {
     "data": {
      "text/plain": [
       "False"
      ]
     },
     "execution_count": 13,
     "metadata": {},
     "output_type": "execute_result"
    }
   ],
   "source": [
    "is_constant( \"?fred\")"
   ]
  },
  {
   "cell_type": "code",
   "execution_count": 14,
   "metadata": {},
   "outputs": [
    {
     "data": {
      "text/plain": [
       "False"
      ]
     },
     "execution_count": 14,
     "metadata": {},
     "output_type": "execute_result"
    }
   ],
   "source": [
    "is_constant( [\"loves\", \"Fred\", \"?wife\"])"
   ]
  },
  {
   "cell_type": "markdown",
   "metadata": {},
   "source": [
    "It might also be useful to know that:\n",
    "\n",
    "<code>\n",
    "type( \"a\")\n",
    "&lt;type 'str'>\n",
    "type( \"a\") == str\n",
    "True\n",
    "type( \"a\") == list\n",
    "False\n",
    "type( [\"a\"]) == list\n",
    "True\n",
    "</code>\n",
    "\n",
    "\n",
    "You need to write the `unification` function described above. It should work with two expressions of the type returned by `parse`. See `unify` for how it will be called. It should return the result of unification for the two expressions as detailed above and in the book. It does not have to make all the necessary substitions (for example, if ?y is bound to ?x and 1 is bound to ?y, ?x doesn't have to be replaced everywhere with 1. It's enough to return {\"?x\":\"?y\", \"?y\":1}. For an actual application, you would need to fix this!)\n",
    "\n",
    "-----"
   ]
  },
  {
   "cell_type": "markdown",
   "metadata": {},
   "source": [
    "## `apply_substitution` <a id=\"apply_substitution\"></a>\n",
    "\n",
    "**Description:**\n",
    "This function applies a given substitution to an expression (which can be either a list or a string) and returns the updated expression. If the expression contains variables, the function replaces them with their corresponding values from the substitution. This is a crucial part of the unification algorithm as it ensures that the substitutions are fully applied. Without this step, variables like `?x` may not be substituted correctly, leading to partial or incorrect unifications (e.g., `?y/son Barney` instead of `?y/son ?x`).\n",
    "\n",
    "**Parameters:**\n",
    "- `substitution` (`Dict`): A dictionary containing variable-value pairs, where each variable (key) is mapped to its substitution (value).\n",
    "- `expression` (`list` | `str`): The expression to which the substitution is applied. This can be a list or a string.\n",
    "\n",
    "**Returns:**\n",
    "- `expression` (`list` | `str`): The updated expression with the substitution applied. This will be a list if the original expression was a list, otherwise a string."
   ]
  },
  {
   "cell_type": "code",
   "execution_count": 15,
   "metadata": {},
   "outputs": [],
   "source": [
    "def apply_substitution(substitution, expression):\n",
    "    if isinstance(expression, list):\n",
    "        return [apply_substitution(substitution, sub_exp) for sub_exp in expression]\n",
    "    elif is_variable(expression) and expression in substitution:\n",
    "        return substitution[expression]\n",
    "    return expression"
   ]
  },
  {
   "cell_type": "code",
   "execution_count": 16,
   "metadata": {},
   "outputs": [],
   "source": [
    "assert(apply_substitution({'?x': 'Wilma'}, '?x') == 'Wilma') #Singular sub\n",
    "assert(apply_substitution({'?x': 'Wilma', '?y': 'Barney'}, ['?x', '?y']) == ['Wilma', 'Barney']) #Multiple Subs\n",
    "assert(apply_substitution({'?x': 'Wilma', '?y': 'Barney'}, ['?x', 'Barney', '?y']) == ['Wilma','Barney', 'Barney']) #Multiple subs with non substitution in the middle of it"
   ]
  },
  {
   "cell_type": "markdown",
   "metadata": {},
   "source": [
    "## `unification_base_case` <a id=\"unification_base_case\"></a>\n",
    "\n",
    "**Description:**\n",
    "This function handles the base case of the unification algorithm, performing simple checks to determine if two expressions can be unified (i.e., substituted with each other) or if unification fails. It is an essential step, as it prevents unification from proceeding with incompatible expressions. Without this step, the algorithm would either return incorrect results or be unable to unify properly.\n",
    "\n",
    "**Parameters:**\n",
    "- `exp1` (`list` | `str`): A part of the first expression in the unification process\n",
    "- `exp2` (`list` | `str`): A part of the second expression in the unification process\n",
    "\n",
    "**Returns:**\n",
    "- `None` or `Dict`: Returns `None` if unification fails (i.e., the expressions cannot be substituted). Returns an empty dictionary `{}` if both expressions are identical constants, or a dictionary with the substitution if a variable is unified with another expression."
   ]
  },
  {
   "cell_type": "code",
   "execution_count": 17,
   "metadata": {},
   "outputs": [],
   "source": [
    "def unification_base_case(exp1, exp2):\n",
    "    if is_constant(exp1) and is_constant(exp2):\n",
    "        return {} if exp1 == exp2 else None\n",
    "    if is_variable(exp1):\n",
    "        return None if exp1 in exp2 else {exp1: exp2}\n",
    "    if is_variable(exp2):\n",
    "        return None if exp2 in exp1 else {exp2: exp1}\n",
    "    return None"
   ]
  },
  {
   "cell_type": "code",
   "execution_count": 18,
   "metadata": {},
   "outputs": [],
   "source": [
    "assert(unification_base_case('Wilma', 'Wilma') == {}) #Same constant\n",
    "assert(unification_base_case('?x', 'Wilma') == {'?x': 'Wilma'}) #Simple substitution\n",
    "assert(unification_base_case({'?x', 'Barney'}, {'Wilma', '?y'}) == None) #Cant do this as it is a list, lists just return None to move the code along to the base case"
   ]
  },
  {
   "cell_type": "markdown",
   "metadata": {},
   "source": [
    "## `unification` <a id=\"unification\"></a>\n",
    "\n",
    "**Description:**\n",
    "This function implements the recursive step of the unification algorithm. It first checks whether the base case of unification can be applied using the `unification_base_case` function. If the base case fails, the function proceeds recursively, decomposing the expressions and attempting to unify their subcomponents. This allows for unification of more complex expressions by gradually breaking them down.\n",
    "\n",
    "**Parameters:**\n",
    "- `list_expression1` (`list` | `str`): A part or the entirety of the first expression in the unification process\n",
    "- `list_expression2` (`list` | `str`): A part or the entirety of the second expression in the unification process\n",
    "\n",
    "**Returns:**\n",
    "- `None` or `Dict`: Returns `None` if unification fails (i.e., the expressions cannot be unified). Returns a dictionary of variable-to-value substitutions if unification is successful."
   ]
  },
  {
   "cell_type": "code",
   "execution_count": 19,
   "metadata": {},
   "outputs": [],
   "source": [
    "def unification(list_expression1, list_expression2):\n",
    "    base_result = unification_base_case(list_expression1, list_expression2) # Split this out so this function would be under 20 lines\n",
    "    if base_result is not None:\n",
    "        return base_result\n",
    "    if isinstance(list_expression1, list) and isinstance(list_expression2, list):\n",
    "        if not list_expression1 and not list_expression2:\n",
    "            return {}\n",
    "        if not list_expression1 or not list_expression2: \n",
    "            return None\n",
    "        first1, first2 = list_expression1[0], list_expression2[0]\n",
    "        result1 = unification(first1, first2)\n",
    "        if result1 is None:\n",
    "            return None\n",
    "        rest1 = apply_substitution(result1, list_expression1[1:])\n",
    "        rest2 = apply_substitution(result1, list_expression2[1:])\n",
    "        result2 = unification(rest1, rest2)\n",
    "        if result2 is None:\n",
    "            return None\n",
    "        result1.update(result2)\n",
    "        return result1\n",
    "    return None"
   ]
  },
  {
   "cell_type": "code",
   "execution_count": 20,
   "metadata": {},
   "outputs": [],
   "source": [
    "assert(unification(['son', 'Barney', 'Barney'], ['daughter', 'Wilma', 'Pebbles']) == None) # Fail as Everything is constants that don't match\n",
    "assert(unification(['father', '?x', '?x'], ['father', 'Fred', 'Barney']) == None) # Cant reassign ?x\n",
    "assert(unification(['father', '?x'], ['father', 'Fred']) == {'?x': 'Fred'}) # Simple unification"
   ]
  },
  {
   "cell_type": "code",
   "execution_count": 21,
   "metadata": {},
   "outputs": [],
   "source": [
    "def list_check(parsed_expression):\n",
    "    if isinstance(parsed_expression, list):\n",
    "        return parsed_expression\n",
    "    return [parsed_expression]"
   ]
  },
  {
   "cell_type": "markdown",
   "metadata": {},
   "source": [
    "The `unification` pseudocode only takes lists so we have to make sure that we only pass a list.\n",
    "However, this has the side effect of making \"foo\" unify with [\"foo\"], at the start.\n",
    "That's ok."
   ]
  },
  {
   "cell_type": "code",
   "execution_count": 22,
   "metadata": {},
   "outputs": [],
   "source": [
    "def unify( s_expression1, s_expression2):\n",
    "    list_expression1 = list_check(parse(s_expression1))\n",
    "    list_expression2 = list_check(parse(s_expression2))\n",
    "    return unification( list_expression1, list_expression2)"
   ]
  },
  {
   "cell_type": "markdown",
   "metadata": {},
   "source": [
    "**Note** If you see the error,\n",
    "\n",
    "```\n",
    "tokenize.TokenError: ('EOF in multi-line statement', (2, 0))\n",
    "```\n",
    "You most likely have unbalanced parentheses in your s-expression.\n",
    "\n",
    "## Test Cases\n",
    "\n",
    "Use the expressions from the Self Check as your test cases..."
   ]
  },
  {
   "cell_type": "code",
   "execution_count": 23,
   "metadata": {},
   "outputs": [
    {
     "name": "stdout",
     "output_type": "stream",
     "text": [
      "actual = None\n",
      "expected = None\n",
      "\n",
      "\n",
      "actual = {}\n",
      "expected = {}\n",
      "\n",
      "\n",
      "actual = {'?x': 'Fred'}\n",
      "expected = {'?x': 'Fred'}\n",
      "\n",
      "\n",
      "actual = {'?y': 'Barney', '?x': 'Bam_Bam'}\n",
      "expected = {'?y': 'Barney', '?x': 'Bam_Bam'}\n",
      "\n",
      "\n",
      "actual = {'?x': 'Barney', '?y': 'Wilma'}\n",
      "expected = {'?x': 'Barney', '?y': 'Wilma'}\n",
      "\n",
      "\n",
      "actual = {'?y': 'Barney', '?x': ['son', 'Barney']}\n",
      "expected = {'?y': 'Barney', '?x': ['son', 'Barney']}\n",
      "\n",
      "\n",
      "actual = {'?y': 'Barney', '?x': ['son', 'Barney']}\n",
      "expected = {'?y': 'Barney', '?x': ['son', 'Barney']}\n",
      "\n",
      "\n",
      "actual = None\n",
      "expected = None\n",
      "\n",
      "\n",
      "actual = {'?x': 'Fred'}\n",
      "expected = {'?x': 'Fred'}\n",
      "\n",
      "\n",
      "actual = None\n",
      "expected = None\n",
      "\n",
      "\n"
     ]
    }
   ],
   "source": [
    "self_check_test_cases = [\n",
    "    ['(son Barney Barney)', '(daughter Wilma Pebbles)', None],\n",
    "    ['Pebbles', 'Pebbles', {}],\n",
    "    ['(quarry_worker Fred)', '(quarry_worker ?x)', {'?x': 'Fred'}],\n",
    "    ['(son Barney ?x)', '(son ?y Bam_Bam)', {'?y': 'Barney', '?x': 'Bam_Bam'}],\n",
    "    ['(married ?x ?y)', '(married Barney Wilma)', {'?x': 'Barney', '?y': 'Wilma'}],\n",
    "    ['(son Barney ?x)', '(son ?y (son Barney))', {'?y': 'Barney', '?x': ['son', 'Barney']}],\n",
    "    ['(son Barney ?x)', '(son ?y (son ?y))', {'?y': 'Barney', '?x': ['son', 'Barney']}],\n",
    "    ['(son Barney Bam_Bam)', '(son ?y (son Barney))', None],\n",
    "    ['(loves Fred Fred)', '(loves ?x ?x)', {'?x': 'Fred'}],\n",
    "    ['(future George Fred)', '(future ?y ?y)', None]\n",
    "]\n",
    "for case in self_check_test_cases:\n",
    "    exp1, exp2, expected = case\n",
    "    actual = unify(exp1, exp2)\n",
    "    print(f\"actual = {actual}\")\n",
    "    print(f\"expected = {expected}\")\n",
    "    print(\"\\n\")\n",
    "    assert expected == actual"
   ]
  },
  {
   "cell_type": "markdown",
   "metadata": {},
   "source": [
    "Now add at least **five (5)** additional test cases of your own making, explaining exactly what you are testing. They should not be testing the same things as the self check test cases above."
   ]
  },
  {
   "cell_type": "code",
   "execution_count": 24,
   "metadata": {},
   "outputs": [
    {
     "name": "stdout",
     "output_type": "stream",
     "text": [
      "Testing non-equal constants...\n",
      "actual = None\n",
      "expected = None\n",
      "\n",
      "\n",
      "Testing simple variable matching...\n",
      "actual = {'?x': 'Fred'}\n",
      "expected = {'?x': 'Fred'}\n",
      "\n",
      "\n",
      "Testing multiple variables...\n",
      "actual = {'?x': 'Fred', '?y': 'Barney'}\n",
      "expected = {'?x': 'Fred', '?y': 'Barney'}\n",
      "\n",
      "\n",
      "Testing variable matches constant...\n",
      "actual = {'?x': 'Pebbles'}\n",
      "expected = {'?x': 'Pebbles'}\n",
      "\n",
      "\n",
      "Testing non-unifiable due to recursion...\n",
      "actual = None\n",
      "expected = None\n",
      "\n",
      "\n",
      "Testing same variable but different constants...\n",
      "actual = None\n",
      "expected = None\n",
      "\n",
      "\n"
     ]
    }
   ],
   "source": [
    "new_test_cases = [\n",
    "    ['(son Barney Barney)', '(daughter Wilma Pebbles)', None, \"non-equal constants\"],\n",
    "    ['(loves ?x Wilma)', '(loves Fred Wilma)', {'?x': 'Fred'}, \"simple variable matching\"],\n",
    "    ['(father ?x ?y)', '(father Fred Barney)', {'?x': 'Fred', '?y': 'Barney'}, \"multiple variables\"],\n",
    "    ['(loves Fred ?x)', '(loves Fred Pebbles)', {'?x': 'Pebbles'}, \"variable matches constant\"],\n",
    "    ['(knows ?x ?y)', '(knows ?y ?x)', None, \"non-unifiable due to recursion\"],\n",
    "    ['(loves ?x ?x)', '(loves Fred Wilma)', None, \"same variable but different constants\"]\n",
    "\n",
    "]\n",
    "for case in new_test_cases:\n",
    "    exp1, exp2, expected, message = case\n",
    "    actual = unify(exp1, exp2)\n",
    "    print(f\"Testing {message}...\")\n",
    "    print(f\"actual = {actual}\")\n",
    "    print(f\"expected = {expected}\")\n",
    "    print(\"\\n\")\n",
    "    assert expected == actual"
   ]
  },
  {
   "cell_type": "markdown",
   "metadata": {},
   "source": [
    "## Before You Submit...\n",
    "\n",
    "1. Did you provide output exactly as requested?\n",
    "2. Did you re-execute the entire notebook? (\"Restart Kernel and Rull All Cells...\")\n",
    "3. If you did not complete the assignment or had difficulty please explain what gave you the most difficulty in the Markdown cell below.\n",
    "4. Did you change the name of the file to `jhed_id.ipynb`?\n",
    "\n",
    "Do not submit any other files."
   ]
  },
  {
   "cell_type": "markdown",
   "metadata": {},
   "source": [
    "```\n",
    "(blah foo ?x)\n",
    "(blah foo ?x)\n",
    "```"
   ]
  }
 ],
 "metadata": {
  "kernelspec": {
   "display_name": "en605645",
   "language": "python",
   "name": "python3"
  },
  "language_info": {
   "codemirror_mode": {
    "name": "ipython",
    "version": 3
   },
   "file_extension": ".py",
   "mimetype": "text/x-python",
   "name": "python",
   "nbconvert_exporter": "python",
   "pygments_lexer": "ipython3",
   "version": "3.11.9"
  },
  "toc": {
   "colors": {
    "hover_highlight": "#DAA520",
    "navigate_num": "#000000",
    "navigate_text": "#333333",
    "running_highlight": "#FF0000",
    "selected_highlight": "#FFD700",
    "sidebar_border": "#EEEEEE",
    "wrapper_background": "#FFFFFF"
   },
   "moveMenuLeft": true,
   "nav_menu": {
    "height": "120px",
    "width": "252px"
   },
   "navigate_menu": true,
   "number_sections": true,
   "sideBar": true,
   "threshold": 4,
   "toc_cell": false,
   "toc_section_display": "block",
   "toc_window_display": false,
   "widenNotebook": false
  }
 },
 "nbformat": 4,
 "nbformat_minor": 4
}
