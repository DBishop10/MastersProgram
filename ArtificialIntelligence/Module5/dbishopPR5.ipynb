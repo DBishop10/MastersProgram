{
 "cells": [
  {
   "cell_type": "markdown",
   "metadata": {},
   "source": [
    "# Module 5 - Programming Assignment\n",
    "\n",
    "## Directions\n",
    "\n",
    "1. Change the name of this file to be your JHED id as in `jsmith299.ipynb`. Because sure you use your JHED ID (it's made out of your name and not your student id which is just letters and numbers).\n",
    "2. Make sure the notebook you submit is cleanly and fully executed. I do not grade unexecuted notebooks.\n",
    "3. Submit your notebook back in Blackboard where you downloaded this file.\n",
    "\n",
    "*Provide the output **exactly** as requested*"
   ]
  },
  {
   "cell_type": "markdown",
   "metadata": {},
   "source": [
    "## Solving Normal Form Games"
   ]
  },
  {
   "cell_type": "code",
   "execution_count": 1,
   "metadata": {},
   "outputs": [],
   "source": [
    "from typing import List, Tuple, Dict, Callable\n",
    "from copy import deepcopy"
   ]
  },
  {
   "cell_type": "markdown",
   "metadata": {},
   "source": [
    "In the lecture we talked about the Prisoner's Dilemma game, shown here in Normal Form:\n",
    "\n",
    "Player 1 / Player 2  | Defect | Cooperate\n",
    "------------- | ------------- | -------------\n",
    "Defect  | -5, -5 | -1, -10\n",
    "Cooperate  | -10, -1 | -2, -2\n",
    "\n",
    "where the payoff to Player 1 is the left number and the payoff to Player 2 is the right number. We can represent each payoff cell as a Tuple: `(-5, -5)`, for example. We can represent each row as a List of Tuples: `[(-5, -5), (-1, -10)]` would be the first row and the entire table as a List of Lists:"
   ]
  },
  {
   "cell_type": "code",
   "execution_count": 2,
   "metadata": {},
   "outputs": [
    {
     "data": {
      "text/plain": [
       "[[(-5, -5), (-1, -10)], [(-10, -1), (-2, -2)]]"
      ]
     },
     "execution_count": 2,
     "metadata": {},
     "output_type": "execute_result"
    }
   ],
   "source": [
    "prisoners_dilemma = [\n",
    " [( -5, -5), (-1,-10)],\n",
    " [(-10, -1), (-2, -2)]]\n",
    "\n",
    "prisoners_dilemma"
   ]
  },
  {
   "cell_type": "markdown",
   "metadata": {},
   "source": [
    "in which case the strategies are represented by indices into the List of Lists. For example, `(Defect, Cooperate)` for the above game becomes `prisoners_dilemma[ 0][ 1]` and returns the payoff `(-1, -10)` because 0 is the first row of the table (\"Defect\" for Player 1) and 1 is the 2nd column of the row (\"Cooperate\" for Player 2).\n",
    "\n",
    "For this assignment, you are going write a function that uses Successive Elimination of Dominated Strategies (SEDS) to find the **pure strategy** Nash Equilibrium of a Normal Form Game. The function is called `solve_game`:\n",
    "\n",
    "```python\n",
    "def solve_game( game: List[List[Tuple]], weak=False) -> List[Tuple]:\n",
    "    pass # returns strategy indices of Nash equilibrium or None.\n",
    "```\n",
    "\n",
    "and it takes two parameters: the game, in a format that we described earlier and an optional boolean flag that controls whether the algorithm considers only **strongly dominated strategies** (the default will be false) or whether it should consider **weakly dominated strategies** as well.\n",
    "\n",
    "It should work with game matrices of any size and it will return the **strategy indices** of the Nash Equilibrium. If there is no **pure strategy** equilibrium that can be found using SEDS, return the empty List (`[]`).\n",
    "\n",
    "\n",
    "<div style=\"background: mistyrose; color: firebrick; border: 2px solid darkred; padding: 5px; margin: 10px;\">\n",
    "Do not return the payoff. That's not useful. Return the strategy indices, any other output is incorrect.\n",
    "</div>\n",
    "\n",
    "As before, you must provide your implementation in the space below, one Markdown cell for documentation and one Code cell for implementation, one function and assertations per Codecell.\n",
    "\n",
    "\n",
    "---"
   ]
  },
  {
   "cell_type": "markdown",
   "metadata": {},
   "source": [
    "## `Check Strong Domination` <a id=\"strong_domination\"></a>\n",
    "\n",
    "**Description:**\n",
    "This function determines whether one strategy strongly dominates another. Strong domination occurs when every element of the first strategy is less than the corresponding element of the second strategy, indicating a more preferable outcome in every scenario. This is necessary for our algorithm to work as it enables it to narrow down possible Nash Equilibriums.\n",
    "\n",
    "**Parameters:**\n",
    "- `strategy` (`List[int]`): A list representing a strategy with integer payoffs.\n",
    "- `other_strategy` (`List[int]`): Another\n",
    "\n",
    "**Returns:**\n",
    "- `strong_domination` (`Bool`): Returns `True` if the first strategy strongly dominates the second, otherwise `False`."
   ]
  },
  {
   "cell_type": "code",
   "execution_count": 3,
   "metadata": {},
   "outputs": [],
   "source": [
    "def check_strong_domination(strategy: List[int], other_strategy: List[int]) -> bool:\n",
    "    strong_domination = all(a < b for a, b in zip(strategy, other_strategy))\n",
    "    return strong_domination"
   ]
  },
  {
   "cell_type": "code",
   "execution_count": 4,
   "metadata": {},
   "outputs": [],
   "source": [
    "assert check_strong_domination([1, 2, 3], [2, 3, 4]) == True #Second Column should dominate first\n",
    "assert check_strong_domination([1, 2, 4], [2, 3, 4]) == False # Not a Strong Domination as 4 = 4\n",
    "assert check_strong_domination([2, 3, 4], [2, 3, 4]) == False # Not a Strong Domination as they are equal"
   ]
  },
  {
   "cell_type": "markdown",
   "metadata": {},
   "source": [
    "### Check Weak Domination <a id=\"weak_domination\"></a>\n",
    "\n",
    "**Description:**\n",
    "This function checks if one strategy weakly dominates another. Weak domination means that all elements of the first strategy are at least as good as the corresponding elements in the second strategy, with at least one element being strictly better and no elements being worse. This is necessary for our algorithm to work as it enables it to narrow down possible Nash Equilibriums.\n",
    "\n",
    "**Parameters:**\n",
    "- `strategy` (`List[int]`): A list representing a strategy with integer payoffs, where lower values indicate better outcomes.\n",
    "- `other_strategy` (`List[int]`): A list against which the first strategy is compared.\n",
    "\n",
    "**Returns:**\n",
    "- `bool`: Returns `True` if the first strategy weakly dominates the second, otherwise `False`.\n"
   ]
  },
  {
   "cell_type": "code",
   "execution_count": 5,
   "metadata": {},
   "outputs": [],
   "source": [
    "def check_weak_domination(strategy: List[int], other_strategy: List[int]) -> bool:\n",
    "    weak_domination = (any(a < b for a, b in zip(strategy, other_strategy)) and all(a <= b for a, b in zip(strategy, other_strategy)))\n",
    "    return weak_domination"
   ]
  },
  {
   "cell_type": "code",
   "execution_count": 6,
   "metadata": {},
   "outputs": [],
   "source": [
    "assert check_weak_domination([1, 2, 3], [1, 2, 4]) == True # Should be weakly dominated\n",
    "assert check_weak_domination([1, 3, 4], [1, 2, 4]) == False # Not weakly dominated as it checks 2nd to 1st\n",
    "assert check_weak_domination([2, 3, 4], [2, 3, 4]) == False # All equal is not a weak domination"
   ]
  },
  {
   "cell_type": "markdown",
   "metadata": {},
   "source": [
    "### Remove Dominated Rows <a id=\"remove_dominated_rows\"></a>\n",
    "\n",
    "**Description:**\n",
    "This function removes dominated rows from the game matrix. This process simplifies the game matrix by reducing the number of strategies, making the analysis more manageable.\n",
    "\n",
    "**Parameters:**\n",
    "- `game` (`List[List[Tuple[int, int]]]`): The game matrix, where each entry is a tuple representing the payoffs for two players.\n",
    "- `remaining_rows` (`List[int]`): List of indices of the rows that are still in the game.\n",
    "- `n` (`int`): The current number of active rows in the game matrix.\n",
    "- `m` (`int`): The number of columns in the game matrix.\n",
    "- `weak` (`bool`): A flag indicating whether to use weak domination (True) or strong domination (False) for elimination.\n",
    "\n",
    "**Returns:**\n",
    "- `Tuple[List[List[Tuple[int, int]]], List[int], int]`: A tuple containing the updated game matrix, the list of remaining row indices, and the new count of rows. All information is needed to ensure the solve_game returns original game board positions instead of reduced positions.\n"
   ]
  },
  {
   "cell_type": "code",
   "execution_count": 7,
   "metadata": {},
   "outputs": [],
   "source": [
    "def remove_dominated_rows(game: List[List[Tuple[int, int]]], remaining_rows: List[int], n: int, m: int, weak: bool) -> Tuple[List[List[Tuple[int, int]]], List[int], int]:\n",
    "    row_change = True\n",
    "    while row_change:\n",
    "        row_change = False\n",
    "        for i in range(n):\n",
    "            for j in range(n):\n",
    "                if i != j:\n",
    "                    current_row = [game[i][k][0] for k in range(m)]\n",
    "                    other_row = [game[j][k][0] for k in range(m)]\n",
    "                    if (weak and check_weak_domination(current_row, other_row)) or (not weak and check_strong_domination(current_row, other_row)):\n",
    "                        game.pop(i)\n",
    "                        remaining_rows.pop(i)\n",
    "                        n -= 1\n",
    "                        row_change = True\n",
    "                        break\n",
    "            if row_change:\n",
    "                break\n",
    "    return game, remaining_rows, n"
   ]
  },
  {
   "cell_type": "code",
   "execution_count": 8,
   "metadata": {},
   "outputs": [],
   "source": [
    "# Example game matrix for testing\n",
    "game_example = [\n",
    "    [(10, 10), (10, 6)],\n",
    "    [(2, 5), (3, 6)],\n",
    "    [(1, 4), (2, 7)]\n",
    "]\n",
    "\n",
    "remaining_rows_example = [0, 1, 2]\n",
    "game_updated, remaining_rows_updated, n_updated = remove_dominated_rows(game_example, remaining_rows_example, 3, 2, False)\n",
    "assert game_updated == [[(10, 10), (10, 6)]] # All rows except row 1 should be removed as the are strongly dominated\n",
    "\n",
    "game_example = [\n",
    "    [(10, 10), (10, 6)],\n",
    "    [(2, 5), (10, 6)],\n",
    "    [(1, 4), (2, 7)]\n",
    "]\n",
    "remaining_rows_example = [0, 1, 2]\n",
    "game_updated, remaining_rows_updated, n_updated = remove_dominated_rows(game_example, remaining_rows_example, 3, 2, True)\n",
    "assert game_updated == [[(10, 10), (10, 6)]] # All rows but first one shold be removed as they are weakly dominated\n",
    "\n",
    "game_example = [\n",
    "    [(1, 5), (2, 6)],\n",
    "    [(2, 5), (1, 6)],\n",
    "    [(1, 4), (2, 7)]\n",
    "]\n",
    "remaining_rows_example = [0, 1, 2]\n",
    "game_updated, remaining_rows_updated, n_updated = remove_dominated_rows(game_example, remaining_rows_example, 3, 2, False)\n",
    "assert game_updated == [\n",
    "    [(1, 5), (2, 6)],\n",
    "    [(2, 5), (1, 6)],\n",
    "    [(1, 4), (2, 7)]\n",
    "] # No row sould be removed"
   ]
  },
  {
   "cell_type": "markdown",
   "metadata": {},
   "source": [
    "### Remove Dominated Columns <a id=\"remove_dominated_cols\"></a>\n",
    "\n",
    "**Description:**\n",
    "This function removes dominated cols from the game matrix. This process simplifies the game matrix by reducing the number of strategies, making the analysis more manageable.\n",
    "\n",
    "**Parameters:**\n",
    "- `game` (`List[List[Tuple[int, int]]]`): The game matrix, where each entry is a tuple representing the payoffs for two players.\n",
    "- `remaining_rows` (`List[int]`): List of indices of the cols that are still in the game.\n",
    "- `n` (`int`): The current number of active cols in the game matrix.\n",
    "- `m` (`int`): The number of columns in the game matrix.\n",
    "- `weak` (`bool`): A flag indicating whether to use weak domination (True) or strong domination (False) for elimination.\n",
    "\n",
    "**Returns:**\n",
    "- `Tuple[List[List[Tuple[int, int]]], List[int], int]`: A tuple containing the updated game matrix, the list of remaining col indices, and the new count of cols. All information is needed to ensure the solve_game returns original game board positions instead of reduced positions.\n"
   ]
  },
  {
   "cell_type": "code",
   "execution_count": 9,
   "metadata": {},
   "outputs": [],
   "source": [
    "def remove_dominated_columns(game: List[List[Tuple[int, int]]], remaining_cols: List[int], n: int, m: int, weak: bool) -> Tuple[List[List[Tuple[int, int]]], List[int]]:\n",
    "    col_change = True\n",
    "    while col_change:\n",
    "        col_change = False\n",
    "        m = len(game[0]) if game else 0\n",
    "        for i in range(m):\n",
    "            for j in range(m):\n",
    "                if i != j:\n",
    "                    current_col = [game[k][i][1] for k in range(n)]\n",
    "                    other_col = [game[k][j][1] for k in range(n)]\n",
    "                    if (weak and check_weak_domination(current_col, other_col)) or (not weak and check_strong_domination(current_col, other_col)):\n",
    "                        for row in game:\n",
    "                            row.pop(i)\n",
    "                        remaining_cols.pop(i)\n",
    "                        col_change = True\n",
    "                        break\n",
    "            if col_change:\n",
    "                break\n",
    "    return game, remaining_cols"
   ]
  },
  {
   "cell_type": "code",
   "execution_count": 10,
   "metadata": {},
   "outputs": [],
   "source": [
    "game_example = [\n",
    "    [(10, 10), (2, 5), (1, 4)],\n",
    "    [(10, 10), (10, 6), (2, 7)]\n",
    "]\n",
    "\n",
    "remaining_cols_example = [0, 1, 2]\n",
    "game_updated, remaining_cols_updated = remove_dominated_columns(game_example, remaining_cols_example, 2, 3, False)\n",
    "assert game_updated == [[(10, 10)], [(10, 10)]]  # Columns 1 and 2 should be removed as they are strongly dominated by column 0\n",
    "\n",
    "game_example = [\n",
    "    [(1, 10), (2, 2), (3, 1)],\n",
    "    [(2, 10), (1, 10), (4, 2)]\n",
    "]\n",
    "remaining_cols_example = [0, 1, 2]\n",
    "game_updated, remaining_cols_updated = remove_dominated_columns(game_example, remaining_cols_example, 2, 3, True)\n",
    "assert game_updated == [[(1, 10)], [(2, 10)]]  # Columns 1 and 2 should be removed as they are weakly dominated by column 0\n",
    "\n",
    "game_example = [\n",
    "    [(1, 5), (2, 5), (3, 4)],\n",
    "    [(2, 5), (1, 6), (4, 7)]\n",
    "]\n",
    "remaining_cols_example = [0, 1, 2]\n",
    "game_updated, remaining_cols_updated = remove_dominated_columns(game_example, remaining_cols_example, 2, 3, False)\n",
    "assert game_updated == [\n",
    "    [(1, 5), (2, 5), (3, 4)],\n",
    "    [(2, 5), (1, 6), (4, 7)]\n",
    "]  # No column should be removed as no strong dominance is present\n"
   ]
  },
  {
   "cell_type": "markdown",
   "metadata": {},
   "source": [
    "### Eliminate Dominated Strategies <a id=\"eliminate_dominated_strategies\"></a>\n",
    "\n",
    "**Description:**\n",
    "The function removes rows and columns via whichever domination strategy we are utilizing. It is necessary for the solve game function as it enables us to know what columns and rows should be eliminated to narrow down our search.\n",
    "\n",
    "**Parameters:**\n",
    "- `game` (`List[List[Tuple[int, int]]]`): The game matrix, where each entry is a tuple representing the payoffs for two players.\n",
    "- `weak` (`bool`): A flag that indicates whether to use weak domination (`True`) or strong domination (`False`) for the elimination process.\n",
    "\n",
    "**Returns:**\n",
    "- `Tuple[List[List[Tuple[int, int]]], List[int], List[int]]`: A tuple containing the updated game matrix, the list of remaining row indices, and the list of remaining column indices.\n"
   ]
  },
  {
   "cell_type": "code",
   "execution_count": 11,
   "metadata": {},
   "outputs": [],
   "source": [
    "def eliminate_dominated_strategies(game: List[List[Tuple[int, int]]], weak: bool = False) -> Tuple[List[List[Tuple[int, int]]], List[int], List[int]]:\n",
    "    game_copy = deepcopy(game)\n",
    "    n = len(game_copy)\n",
    "    m = len(game_copy[0]) if game_copy else 0\n",
    "\n",
    "    remaining_rows = list(range(n))\n",
    "    remaining_cols = list(range(m))\n",
    "\n",
    "    game_copy, remaining_rows, n = remove_dominated_rows(game_copy, remaining_rows, n, m, weak)\n",
    "    game_copy, remaining_cols = remove_dominated_columns(game_copy, remaining_cols, n, m, weak)\n",
    "\n",
    "    return game_copy, remaining_rows, remaining_cols\n"
   ]
  },
  {
   "cell_type": "code",
   "execution_count": 12,
   "metadata": {},
   "outputs": [],
   "source": [
    "game_example = [\n",
    "    [(3, 1), (2, 6), (1, 2)],\n",
    "    [(2, 1), (4, 6), (1, 3)],\n",
    "    [(3, 1), (2, 6), (0, 2)]\n",
    "]\n",
    "\n",
    "eliminated_game, rows_remaining, cols_remaining = eliminate_dominated_strategies(game_example, weak=False)\n",
    "assert len(eliminated_game[0]) == 1 # The side two columns should be dominated by the middle column, so only 1 column should remain\n",
    "\n",
    "eliminated_game_weak, rows_remaining_weak, cols_remaining_weak = eliminate_dominated_strategies(game_example, weak=True)\n",
    "assert len(eliminated_game_weak) < len(eliminated_game) # Weak domination will remove another position compared to Strong domination \n",
    "\n",
    "assert len(cols_remaining) < len(game_example[0]) # Columns should be removed from this example"
   ]
  },
  {
   "cell_type": "markdown",
   "metadata": {},
   "source": [
    "### Is Nash Equilibrium <a id=\"is_nash_equilibrium\"></a>\n",
    "\n",
    "**Description:**\n",
    "This function checks if a specified pair of strategies in a game matrix is a Nash equilibrium. A Nash equilibrium occurs when each player's strategy is the best response to the other's, meaning no player can benefit by unilaterally changing their strategy. Required to \"solve\" the game.\n",
    "\n",
    "**Parameters:**\n",
    "- `game` (`List[List[Tuple[int, int]]]`): The game matrix where each cell contains a tuple representing the payoffs for Player 1 and Player 2, respectively.\n",
    "- `p1` (`int`): The index of Player 1's strategy.\n",
    "- `p2` (`int`): The index of Player 2's strategy.\n",
    "\n",
    "**Returns:**\n",
    "- `bool`: Returns `True` if the (p1, p2) strategy pair is a Nash equilibrium, otherwise `False`.\n"
   ]
  },
  {
   "cell_type": "code",
   "execution_count": 13,
   "metadata": {},
   "outputs": [],
   "source": [
    "def is_nash_equilibrium(game: List[List[Tuple[int, int]]], p1: int, p2: int) -> bool:\n",
    "    p1_payoff = game[p1][p2][0]\n",
    "    p2_payoff = game[p1][p2][1]\n",
    "\n",
    "    # Check if Player 1's strategy is the best response to Player 2's strategy\n",
    "    if any(game[i][p2][0] > p1_payoff for i in range(len(game))):\n",
    "        return False\n",
    "    \n",
    "    # Check if Player 2's strategy is the best response to Player 1's strategy\n",
    "    if any(game[p1][j][1] > p2_payoff for j in range(len(game[0]))):\n",
    "        return False\n",
    "\n",
    "    return True"
   ]
  },
  {
   "cell_type": "code",
   "execution_count": 14,
   "metadata": {},
   "outputs": [],
   "source": [
    "game_example = [\n",
    "    [(3, 3), (1, 2)],\n",
    "    [(2, 1), (0, 0)]\n",
    "]\n",
    "\n",
    "assert is_nash_equilibrium(game_example, 0, 0) == True # (0, 0) is nash equilibrium\n",
    "assert is_nash_equilibrium(game_example, 1, 1) == False # (1, 1) is not a nash equilibrium\n",
    "assert is_nash_equilibrium(game_example, 0, 1) == False # (0, 1) is not a nash equilibrium"
   ]
  },
  {
   "cell_type": "markdown",
   "metadata": {},
   "source": [
    "## solve_game <a id=\"solve_game\"></a>\n",
    "\n",
    "**Description:**\n",
    "This function simplifies a game matrix by eliminating dominated strategies and then checks for Nash equilibria in the reduced game matrix. A boolean determining the use of strong or weak domination can be passed in.\n",
    "\n",
    "**Parameters:**\n",
    "- `game` (`List[List[Tuple[int, int]]]`): The game matrix, where each cell contains a tuple representing the payoffs for Player 1 and Player 2, respectively.\n",
    "- `weak` (`bool`): A flag indicating whether to use weak domination (`True`) or strong domination (`False`) for the elimination process.\n",
    "\n",
    "**Returns:**\n",
    "- `List[Tuple[int, int]]`: A list of tuples where each tuple represents a pair of strategy indices `(row_index, col_index)` that form a Nash equilibrium in the original game matrix."
   ]
  },
  {
   "cell_type": "code",
   "execution_count": 15,
   "metadata": {},
   "outputs": [],
   "source": [
    "def solve_game(game: List[List[Tuple[int, int]]], weak: bool = False) -> List[Tuple[int, int]]:\n",
    "    reduced_game, remaining_rows, remaining_cols = eliminate_dominated_strategies(game, weak)\n",
    "    \n",
    "    # If nothing reduced we could techinally use State Space Search, but then its not really a SEDS or SEWDS solve\n",
    "    if reduced_game == game:\n",
    "        return []\n",
    "\n",
    "    # Now, check for Nash equilibria in the reduced game\n",
    "    equilibria = []\n",
    "    for p1 in range(len(reduced_game)):\n",
    "        for p2 in range(len(reduced_game[0])):\n",
    "            if is_nash_equilibrium(reduced_game, p1, p2):\n",
    "                # Map the reduced game indices back to the original game indices\n",
    "                equilibria.append((remaining_rows[p1], remaining_cols[p2]))\n",
    "\n",
    "    return equilibria"
   ]
  },
  {
   "cell_type": "code",
   "execution_count": 17,
   "metadata": {},
   "outputs": [],
   "source": [
    "prisoners_dilemma = [\n",
    "    [(-5, -5), (-1, -10)],\n",
    "    [(-10, -1), (-2, -2)]\n",
    "]\n",
    "\n",
    "matching_pennies = [\n",
    "    [(1, -1), (-1, 1)],\n",
    "    [(-1, 1), (1, -1)]\n",
    "]\n",
    "\n",
    "SEWDS_game = [\n",
    "    [(2, 2), (1, 4)],\n",
    "    [(2, 3), (4, 1)]\n",
    "]\n",
    "\n",
    "assert(solve_game(prisoners_dilemma, weak=False) == [(0,0)]) #Returns first choice as it is best\n",
    "assert(solve_game(SEWDS_game, weak=True) == [(1, 0)]) # Can get with SEWDS but not SEDS\n",
    "assert(solve_game(matching_pennies, weak=False) == [])# Returns nothing as there is not a pure equilibria\n"
   ]
  },
  {
   "cell_type": "markdown",
   "metadata": {},
   "source": [
    "## Additional Directions\n",
    "\n",
    "Create three games as described and according to the following:\n",
    "\n",
    "1. Your games must be created and solved \"by hand\".\n",
    "2. The strategy pairs must **not** be on the main diagonal (0, 0), (1, 1), or (2, 2). And the solution cannot be the same for both Game 1 and Game 2.\n",
    "3. Make sure you fill out the Markdown (\"?\") with your game as well as the solution (\"?\").\n",
    "4. Remember, **do not return the payoff**, return the strategy indices (a list of them)."
   ]
  },
  {
   "cell_type": "markdown",
   "metadata": {},
   "source": [
    "## Before you code...\n",
    "\n",
    "Solve the following game by hand using SEDS and weakly dominated strategies. \n",
    "The game has three (pure) Nash Equilibriums. \n",
    "You should find all of them.\n",
    "This will help you think about what you need to implement to make the algorithm work.\n",
    "**Hint**: You will need State Space Search from Module 1 and SEDS from Module 5 to get the full algorithm to work.\n",
    "\n",
    "| Player 1 / Player 2  | 0 | 1 | 2 |\n",
    "|----|----|----|----|\n",
    "|0  | 1/0 | 3/1 | 1/1 |\n",
    "|1  | 1/1 | 3/0 | 0/1 |\n",
    "|2  | 2/2 | 3/3 | 0/2 |\n",
    "\n",
    "**Solutions**: \n",
    "\n",
    "If player 1 uses 0, player 2's best strategy is 1 or 2\n",
    "\n",
    "If Player 1 uses 1, player 2's best strategy is either 0 or 2\n",
    "\n",
    "If player 1 uses 2, player 2's best strategy is 1\n",
    "\n",
    "player 2's best consistent strategy is 1. However we cannot remove any of these  via SEDS.\n",
    "\n",
    "If player 2 uses 0, player 1's best strategy is 2\n",
    "\n",
    "If player 2 uses 1, player 1's best strategy is 2\n",
    "\n",
    "If player 2 uses 2, player 1's best strategy is 2\n",
    "\n",
    "Player 1's best stratgy is 2, again however SEDS Cannot eliminate anything.\n",
    "\n",
    "We can then state space search the entire grid as we could not return anything and we get these solutions:\n",
    "\n",
    "(0, 1), (0, 2), (2, 1)\n",
    "\n",
    "With SEWDS we would be able to eliminate a lot:\n",
    "\n",
    "We would start by eliminating row 1 as row 0 weakly dominates it,\n",
    "\n",
    "However nethier of the other two rows can weakly dominate the other so we are lft with only row 0 and 2,\n",
    "\n",
    "Then we can eliminate column 0 as columns 1 dominates it, column 1 also dominates column 2.\n",
    "\n",
    "We are then left with (0,1) and (2, 1) as the only spaces left to check and both are equilibriums"
   ]
  },
  {
   "cell_type": "markdown",
   "metadata": {},
   "source": [
    "### Test Game 1. Create a 3x3 two player game\n",
    "\n",
    "**that can only be solved using the Successive Elimintation of Strongly Dominated Strategies**\n",
    "\n",
    "\n",
    "| Player 1 / Player 2  | 0 | 1 | 2 |\n",
    "|----|----|----|----|\n",
    "|0  | (4,2) | (3,5) | (2,5) |\n",
    "|1  | (2,3) | (1,1) | (1,1) |\n",
    "|2  | (0,4) | (2,1) | (3,2) |\n",
    "\n",
    "**Solution:** \n",
    "\n",
    "With SEDS we can start looking at each row.\n",
    "\n",
    "First we can eliminate row 1 and as it is strictly dominated by row 0. Neither of the other rows can be eliminated as they are not strictly dominated.\n",
    "\n",
    "So looking at columns, which none can be eliminated from. Thus we have to state space search and we find that (0, 1) is a solution.\n",
    "\n",
    "With SEWDS we see this:\n",
    "\n",
    "Row 1 is once again dominated and eliminated.\n",
    "\n",
    "With columns however we see that column 1 is eliminated as it is weakly dominated by column 2, thus eliminating our solution to this game.\n",
    "\n",
    "(0, 1)"
   ]
  },
  {
   "cell_type": "code",
   "execution_count": 20,
   "metadata": {},
   "outputs": [
    {
     "name": "stdout",
     "output_type": "stream",
     "text": [
      "[(0, 1)]\n"
     ]
    }
   ],
   "source": [
    "# New test game designed for SEDS-only solvability\n",
    "test_game_1 = [\n",
    "    [(4, 2), (3, 5), (2, 5)],\n",
    "    [(2, 3), (1, 1), (1, 1)],\n",
    "    [(0, 4), (2, 1), (3, 2)]\n",
    "]\n",
    "\n",
    "solution = solve_game(test_game_1)\n",
    "print(solution)"
   ]
  },
  {
   "cell_type": "code",
   "execution_count": 21,
   "metadata": {},
   "outputs": [],
   "source": [
    "assert solution == [(0, 1)] # insert your solution from above."
   ]
  },
  {
   "cell_type": "markdown",
   "metadata": {},
   "source": [
    "### Test Game 2. Create a 3x3 two player game\n",
    "\n",
    "**that can only be solved using the Successive Elimintation of Weakly Dominated Strategies**\n",
    "\n",
    "| Player 1 / Player 2  | 0 | 1 | 2 |\n",
    "|----|----|----|----|\n",
    "|0  | (3,2) | (2,4) | (4,3) |\n",
    "|1  | (4,3) | (1,1) | (3,2) |\n",
    "|2  | (2,4) | (2,3) | (3,1) ||\n",
    "\n",
    "**Solution:** (0,1), (1,0)\n",
    "\n",
    "With SEWDS:\n",
    "\n",
    "First we look at the rows, eliminate row 2 as it is dominated by row 0, no other rows can be eliminated.\n",
    "\n",
    "Then we move onto columns, No columns can be removed leaving us to state space search finding (0,1), (1,0).\n",
    "\n",
    "SEDS:\n",
    "\n",
    "Cannot remove any rows or columns, meaning only state space search would find something which is not really SEDS as it is still the entire game board."
   ]
  },
  {
   "cell_type": "code",
   "execution_count": 22,
   "metadata": {},
   "outputs": [],
   "source": [
    "test_game_2 =[[(3, 2), (2, 4), (4, 3)],\n",
    "    [(4, 3), (1, 1), (3, 2)],\n",
    "    [(2, 4), (2, 3), (3, 1)]]\n",
    "\n",
    "strong_solution = solve_game(test_game_2)\n",
    "weak_solution = solve_game(test_game_2, weak=True)"
   ]
  },
  {
   "cell_type": "code",
   "execution_count": 14,
   "metadata": {},
   "outputs": [],
   "source": [
    "assert strong_solution == []\n",
    "assert weak_solution == [(0,1), (1,0)] # insert your solution from above."
   ]
  },
  {
   "cell_type": "markdown",
   "metadata": {},
   "source": [
    "### Test Game 3. Create a 3x3 two player game\n",
    "\n",
    "**that cannot be solved using the Successive Elimintation of Dominated Strategies at all**\n",
    "\n",
    "| Player 1 / Player 2  | 0 | 1 | 2 |\n",
    "|----|----|----|----|\n",
    "|0  | (3,3) | (1,2) | (1,1) |\n",
    "|1  | (2,1) | (2,2) | (0,3) |\n",
    "|2  | (1,1) | (3,0) | (2,2) |\n",
    "\n",
    "**Solution:** None"
   ]
  },
  {
   "cell_type": "code",
   "execution_count": 23,
   "metadata": {},
   "outputs": [],
   "source": [
    "test_game_3 = [[(3,3), (1,2), (1,1)], [(2,1), (2,2), (0,3)], [(1,1), (3,0), (2,2)]]\n",
    "\n",
    "strong_solution = solve_game( test_game_3)\n",
    "weak_solution = solve_game( test_game_3, weak=True)"
   ]
  },
  {
   "cell_type": "code",
   "execution_count": 24,
   "metadata": {},
   "outputs": [],
   "source": [
    "assert strong_solution == []\n",
    "assert weak_solution == []"
   ]
  },
  {
   "cell_type": "markdown",
   "metadata": {},
   "source": [
    "### Test Game 4. Multiple Equilibria\n",
    "\n",
    "You solve the following game by hand, above.\n",
    "Now use your code to solve it.\n",
    "\n",
    "| Player 1 / Player 2  | 0 | 1 | 2 |\n",
    "|----|----|----|----|\n",
    "|0  | 1/0 | 3/1 | 1/1 |\n",
    "|1  | 1/1 | 3/0 | 0/1 |\n",
    "|2  | 2/2 | 3/3 | 0/2 |\n",
    "\n",
    "**Solutions:** (0, 1), (0, 2), (2, 1), but (0,2) cannot be found via SEDS or SEWDS, only with State Space Search, atleast that I could figure out"
   ]
  },
  {
   "cell_type": "code",
   "execution_count": 17,
   "metadata": {},
   "outputs": [],
   "source": [
    "test_game_4 = [\n",
    "[(1, 0), (3, 1), (1, 1)],\n",
    "[(1, 1), (3, 0), (0, 1)],\n",
    "[(2, 2), (3, 3), (0, 2)]]\n",
    "\n",
    "strong_solution = solve_game( test_game_4)\n",
    "weak_solution = solve_game( test_game_4, weak=True)"
   ]
  },
  {
   "cell_type": "code",
   "execution_count": 18,
   "metadata": {},
   "outputs": [],
   "source": [
    "assert strong_solution == []\n",
    "assert weak_solution == [(0, 1), (2, 1)] # put solution here"
   ]
  },
  {
   "cell_type": "markdown",
   "metadata": {},
   "source": [
    "## Before You Submit...\n",
    "\n",
    "1. Did you provide output exactly as requested? **Don't forget to fill out the Markdown tables with your games**.\n",
    "2. Did you re-execute the entire notebook? (\"Restart Kernel and Rull All Cells...\")\n",
    "3. If you did not complete the assignment or had difficulty please explain what gave you the most difficulty in the Markdown cell below.\n",
    "4. Did you change the name of the file to `jhed_id.ipynb`?\n",
    "\n",
    "Do not submit any other files."
   ]
  },
  {
   "cell_type": "markdown",
   "metadata": {},
   "source": [
    "## Difficulty\n",
    "\n",
    "To be honest, this was the most difficult project for me so far. I don't specifically know why but I could not grasp SEDS or SEWDS for a very long part of this project and felt like I was just guessing things to work. Even now while I completed the project I am unsure if I actually did it in the correct manner. I think I grasp both SEDS and SEWDS well enough. The biggest issue for me was the initial problem. At this point I am fairly certain that you can only find (0,2) with state space search and not SEDS or SEWDS. I personally could not find a path that either algorithm would have found (0,2) as I would always eliminate it, however if there was a way I would love to know it as I think that hindered me the most. Very interesting project and module however, honestly quite fun (especially with the tic tac toe stuff for the Self Check)."
   ]
  }
 ],
 "metadata": {
  "kernelspec": {
   "display_name": "Python (en605645)",
   "language": "python",
   "name": "en605645"
  },
  "language_info": {
   "codemirror_mode": {
    "name": "ipython",
    "version": 3
   },
   "file_extension": ".py",
   "mimetype": "text/x-python",
   "name": "python",
   "nbconvert_exporter": "python",
   "pygments_lexer": "ipython3",
   "version": "3.11.9"
  },
  "toc": {
   "colors": {
    "hover_highlight": "#DAA520",
    "navigate_num": "#000000",
    "navigate_text": "#333333",
    "running_highlight": "#FF0000",
    "selected_highlight": "#FFD700",
    "sidebar_border": "#EEEEEE",
    "wrapper_background": "#FFFFFF"
   },
   "moveMenuLeft": true,
   "nav_menu": {
    "height": "135px",
    "width": "252px"
   },
   "navigate_menu": true,
   "number_sections": true,
   "sideBar": true,
   "threshold": 4,
   "toc_cell": false,
   "toc_section_display": "block",
   "toc_window_display": false,
   "widenNotebook": false
  }
 },
 "nbformat": 4,
 "nbformat_minor": 4
}
