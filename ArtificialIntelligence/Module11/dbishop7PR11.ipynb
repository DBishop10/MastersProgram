{
 "cells": [
  {
   "cell_type": "markdown",
   "metadata": {},
   "source": [
    "# Module 11 - Programming Assignment\n",
    "\n",
    "## Directions\n",
    "\n",
    "1. Change the name of this file to be your JHED id as in `jsmith299.ipynb`. Because sure you use your JHED ID (it's made out of your name and not your student id which is just letters and numbers).\n",
    "2. Make sure the notebook you submit is cleanly and fully executed. I do not grade unexecuted notebooks.\n",
    "3. Submit your notebook back in Blackboard where you downloaded this file.\n",
    "\n",
    "*Provide the output **exactly** as requested*"
   ]
  },
  {
   "cell_type": "markdown",
   "metadata": {},
   "source": [
    "## Reinforcement Learning with Value Iteration\n",
    "\n",
    "These are the same maps from Module 1 but the \"physics\" of the world have changed. In Module 1, the world was deterministic. When the agent moved \"south\", it went \"south\". When it moved \"east\", it went \"east\". Now, the agent only succeeds in going where it wants to go *sometimes*. There is a probability distribution over the possible states so that when the agent moves \"south\", there is a small probability that it will go \"east\", \"north\", or \"west\" instead and have to move from there.\n",
    "\n",
    "There are a variety of ways to handle this problem. For example, if using A\\* search, if the agent finds itself off the solution, you can simply calculate a new solution from where the agent ended up. Although this sounds like a really bad idea, it has actually been shown to work really well in video games that use formal planning algorithms (which we will cover later). When these algorithms were first designed, this was unthinkable. Thank you, Moore's Law!\n",
    "\n",
    "Another approach is to use Reinforcement Learning which covers problems where there is some kind of general uncertainty in the actions. We're going to model that uncertainty a bit unrealistically here but it'll show you how the algorithm works.\n",
    "\n",
    "As far as RL is concerned, there are a variety of options there: model-based and model-free, Value Iteration, Q-Learning and SARSA. You are going to use Value Iteration."
   ]
  },
  {
   "cell_type": "markdown",
   "metadata": {},
   "source": [
    "## The World Representation\n",
    "\n",
    "As before, we're going to simplify the problem by working in a grid world. The symbols that form the grid have a special meaning as they specify the type of the terrain and the cost to enter a grid cell with that type of terrain:\n",
    "\n",
    "```\n",
    "token   terrain    cost \n",
    ".       plains     1\n",
    "*       forest     3\n",
    "^       hills      5\n",
    "~       swamp      7\n",
    "x       mountains  impassible\n",
    "```\n",
    "\n",
    "When you go from a plains node to a forest node it costs 3. When you go from a forest node to a plains node, it costs 1. You can think of the grid as a big graph. Each grid cell (terrain symbol) is a node and there are edges to the north, south, east and west (except at the edges).\n",
    "\n",
    "There are quite a few differences between A\\* Search and Reinforcement Learning but one of the most salient is that A\\* Search returns a plan of N steps that gets us from A to Z, for example, A->C->E->G.... Reinforcement Learning, on the other hand, returns  a *policy* that tells us the best thing to do in **every state.**\n",
    "\n",
    "For example, the policy might say that the best thing to do in A is go to C. However, we might find ourselves in D instead. But the policy covers this possibility, it might say, D->E. Trying this action might land us in C and the policy will say, C->E, etc. At least with offline learning, everything will be learned in advance (in online learning, you can only learn by doing and so you may act according to a known but suboptimal policy).\n",
    "\n",
    "Nevertheless, if you were asked for a \"best case\" plan from (0, 0) to (n-1, n-1), you could (and will) be able to read it off the policy because there is a best action for every state. You will be asked to provide this in your assignment."
   ]
  },
  {
   "cell_type": "markdown",
   "metadata": {},
   "source": [
    "We have the same costs as before. Note that we've negated them this time because RL requires negative costs and positive rewards:"
   ]
  },
  {
   "cell_type": "code",
   "execution_count": 1,
   "metadata": {},
   "outputs": [
    {
     "data": {
      "text/plain": [
       "{'.': -1, '*': -3, '^': -5, '~': -7}"
      ]
     },
     "execution_count": 1,
     "metadata": {},
     "output_type": "execute_result"
    }
   ],
   "source": [
    "costs = { '.': -1, '*': -3, '^': -5, '~': -7}\n",
    "costs"
   ]
  },
  {
   "cell_type": "markdown",
   "metadata": {},
   "source": [
    "and a list of offsets for `cardinal_moves`. You'll need to work this into your **actions**, A, parameter."
   ]
  },
  {
   "cell_type": "code",
   "execution_count": 2,
   "metadata": {},
   "outputs": [],
   "source": [
    "cardinal_moves = [(0,-1), (1,0), (0,1), (-1,0)]"
   ]
  },
  {
   "cell_type": "markdown",
   "metadata": {},
   "source": [
    "For Value Iteration, we require knowledge of the *transition* function, as a probability distribution.\n",
    "\n",
    "The transition function, T, for this problem is 0.70 for the desired direction, and 0.10 each for the other possible directions. That is, if the agent selects \"north\" then 70% of the time, it will go \"north\" but 10% of the time it will go \"east\", 10% of the time it will go \"west\", and 10% of the time it will go \"south\". If agent is at the edge of the map, it simply bounces back to the current state.\n",
    "\n",
    "You need to implement `value_iteration()` with the following parameters:\n",
    "\n",
    "+ world: a `List` of `List`s of terrain (this is S from S, A, T, gamma, R)\n",
    "+ costs: a `Dict` of costs by terrain (this is part of R)\n",
    "+ goal: A `Tuple` of (x, y) stating the goal state.\n",
    "+ reward: The reward for achieving the goal state.\n",
    "+ actions: a `List` of possible actions, A, as offsets.\n",
    "+ gamma: the discount rate\n",
    "\n",
    "you will return a policy: \n",
    "\n",
    "`{(x1, y1): action1, (x2, y2): action2, ...}`\n",
    "\n",
    "Remember...a policy is what to do in any state for all the states. Notice how this is different than A\\* search which only returns actions to take from the start to the goal. This also explains why reinforcement learning doesn't take a `start` state.\n",
    "\n",
    "You should also define a function `pretty_print_policy( cols, rows, policy)` that takes a policy and prints it out as a grid using \"^\" for up, \"<\" for left, \"v\" for down and \">\" for right. Use \"x\" for any mountain or other impassable square. Note that it doesn't need the `world` because the policy has a move for every state. However, you do need to know how big the grid is so you can pull the values out of the `Dict` that is returned.\n",
    "\n",
    "```\n",
    "vvvvvvv\n",
    "vvvvvvv\n",
    "vvvvvvv\n",
    ">>>>>>v\n",
    "^^^>>>v\n",
    "^^^>>>v\n",
    "^^^>>>G\n",
    "```\n",
    "\n",
    "(Note that that policy is completely made up and only illustrative of the desired output). Please print it out exactly as requested: **NO EXTRA SPACES OR LINES**.\n",
    "\n",
    "* If everything is otherwise the same, do you think that the path from (0,0) to the goal would be the same for both A\\* Search and Q-Learning?\n",
    "* What do you think if you have a map that looks like:\n",
    "\n",
    "```\n",
    "><>>^\n",
    ">>>>v\n",
    ">>>>v\n",
    ">>>>v\n",
    ">>>>G\n",
    "```\n",
    "\n",
    "has this converged? Is this a \"correct\" policy? What are the problems with this policy as it is?\n"
   ]
  },
  {
   "cell_type": "code",
   "execution_count": 3,
   "metadata": {},
   "outputs": [],
   "source": [
    "def read_world(filename):\n",
    "    result = []\n",
    "    with open(filename) as f:\n",
    "        for line in f.readlines():\n",
    "            if len(line) > 0:\n",
    "                result.append(list(line.strip()))\n",
    "    return result"
   ]
  },
  {
   "cell_type": "markdown",
   "metadata": {},
   "source": [
    "---"
   ]
  },
  {
   "cell_type": "code",
   "execution_count": 4,
   "metadata": {},
   "outputs": [],
   "source": [
    "from typing import List, Dict, Tuple"
   ]
  },
  {
   "cell_type": "markdown",
   "metadata": {},
   "source": [
    "## `initialize_reward_gradient` <a id=\"initialize_reward_gradient\"></a>\n",
    "\n",
    "**Description:**  \n",
    "This function initializes the reward gradiant. The reward gradiant helps accurately give the value iterator an easier time determining where to go as the further from goal you go the less reward you get. While this is not completely necessary for value iteration it does aid in it being able to converge easier overall.\n",
    "\n",
    "**Parameters:**  \n",
    "- `values` (`List[List[float]]`): An empty list of lists of values for the entire world \n",
    "- `goal` (`Tuple[int, int]`):  Where the goal is in the world\n",
    "- `max_reward` (`int`): Reward for reaching the goal\n",
    "- `decay` (`float`): How much the reward decays as we move further from goal\n",
    "\n",
    "**Returns:**  \n",
    "- No Explicit return here, instead we are just etting the values of values in a gradiant"
   ]
  },
  {
   "cell_type": "code",
   "execution_count": 5,
   "metadata": {},
   "outputs": [],
   "source": [
    "def initialize_reward_gradient(values: List[List[float]], goal: Tuple[int, int], max_reward: int, decay: float):\n",
    "    gx, gy = goal\n",
    "    for x in range(len(values)):\n",
    "        for y in range(len(values[0])):\n",
    "            distance = abs(gx - x) + abs(gy - y)\n",
    "            values[x][y] = max_reward / (1 + decay * distance)"
   ]
  },
  {
   "cell_type": "code",
   "execution_count": 6,
   "metadata": {},
   "outputs": [],
   "source": [
    "world = [['.','.'],['.','.']]\n",
    "rows, cols = len(world), len(world[0])\n",
    "values = [[0 for _ in range(cols)] for _ in range(rows)]\n",
    "\n",
    "initialize_reward_gradient(values, (1,1), 0, 0) \n",
    "assert values == [[0.0, 0.0], [0.0, 0.0]] #As there is no reward or decay should be 0's\n",
    "\n",
    "initialize_reward_gradient(values, (1,1), 40, 0)  \n",
    "assert values == [[40.0, 40.0], [40.0, 40.0]] # No decay means all should be 40\n",
    "\n",
    "initialize_reward_gradient(values, (1,1), 40, 10)  \n",
    "assert values[0][0] < 40 and values[0][1] < 40 and values[1][0] < 40 and values[1][1] == 40 # Decay means everything but the goal should be less than 40"
   ]
  },
  {
   "cell_type": "markdown",
   "metadata": {},
   "source": [
    "## `calculate_expected_value` <a id=\"calculate_expected_value\"></a>\n",
    "\n",
    "**Description:**  \n",
    "This function calculates the expected reward for taking a specific ation at a given state. This is done by accounting for the planned and surprise probabilities based on moving the direction inteded and the directions unintended. This is essential for value iteration as it evaluates the potential outcomes of each state allowing it to actually converge to the correct position given the correct information.\n",
    "\n",
    "**Parameters:**  \n",
    "- `x` (`int`): X of the location were attempting an action\n",
    "- `y` (`int`): Y of the location were attempting an action\n",
    "- `action` (`Tuple[int, int]`): The action being attempted\n",
    "- `values` (`List[List[float]`): The value of every spot in the world\n",
    "- `costs` (`Dict[str, int]`): Terrain costs\n",
    "- `world` (`List[List[str]]`): The representation of the world\n",
    "\n",
    "**Returns:**  \n",
    "- `value_sum` (`float`): The expcected value of taking the specific action"
   ]
  },
  {
   "cell_type": "code",
   "execution_count": 7,
   "metadata": {},
   "outputs": [],
   "source": [
    "def calculate_expected_value(x: int, y: int, action: Tuple[int, int], values: List[List[float]], \n",
    "                             costs: Dict[str, int], world: List[List[str]]) -> float:\n",
    "    rows, cols = len(world), len(world[0])\n",
    "    actions = [(0, -1), (1, 0), (0, 1), (-1, 0)] \n",
    "    value_sum = 0\n",
    "    suprise = 0.1\n",
    "    planned = 0.7\n",
    "\n",
    "    for i, (alt_dx, alt_dy) in enumerate(actions):\n",
    "        prob = planned if (action == (alt_dx, alt_dy)) else suprise\n",
    "        nx, ny = x + alt_dx, y + alt_dy\n",
    "\n",
    "        if 0 <= nx < rows and 0 <= ny < cols:\n",
    "            value_sum += prob * (values[nx][ny] - costs.get(world[x][y], 0)) \n",
    "        else:\n",
    "            value_sum += prob * (values[x][y] - costs.get(world[x][y], 0))\n",
    "    return value_sum"
   ]
  },
  {
   "cell_type": "code",
   "execution_count": 8,
   "metadata": {},
   "outputs": [],
   "source": [
    "world = [['.','.'],['.','.']]\n",
    "rows, cols = len(world), len(world[0])\n",
    "values = [[0 for _ in range(cols)] for _ in range(rows)]\n",
    "\n",
    "assert type(calculate_expected_value(0, 0, (0,0), values, costs, world)) == float #Make sure its a float\n",
    "\n",
    "values1 = [[0 for _ in range(cols)] for _ in range(rows)]\n",
    "initialize_reward_gradient(values, (1,1), 40, 10) \n",
    "\n",
    "assert calculate_expected_value(0, 0, (0,0), values, costs, world) != calculate_expected_value(0, 0, (0,0), values1, costs, world) # Different values should make different outcomes\n",
    "\n",
    "costs1 = {'.': -10}\n",
    "assert calculate_expected_value(0, 0, (0,0), values, costs, world) != calculate_expected_value(0, 0, (0,0), values, costs1, world) # Different costs should make different outcomes"
   ]
  },
  {
   "cell_type": "markdown",
   "metadata": {},
   "source": [
    "## `calculate_policy` <a id=\"calculate_policy\"></a>\n",
    "\n",
    "**Description:**  \n",
    "This function calculates the optimal policy that value iteration will follow for each state based on the expected values. For each state and each action within that state it determines the best move. The policy provides the agent which actions to take in order to maximize long term rewards. Without this the agent would have no policy to follow.\n",
    "\n",
    "**Parameters:**  \n",
    "- `rows` (`int`): Length of rows in world\n",
    "- `cols` (`int`): Length of cols in world\n",
    "- `rewards` (`int`): Reward for hitting the end goal \n",
    "- `world` (`List[List[str]]`): The representation of the world\n",
    "- `policy` (`dict`): Empty Dictionary to be filled with policy for each state\n",
    "- `actions` (`List[Tuple[int, int]]`): The list of possible actions\n",
    "- `values` (`List[List[float]`): The value of every spot in the world\n",
    "- `gamma` (`float`): The discount rate\n",
    "\n",
    "**Returns:**  \n",
    "- `new_values` (`List[List[int]]`): New values to base off of for the next iteration"
   ]
  },
  {
   "cell_type": "code",
   "execution_count": 9,
   "metadata": {},
   "outputs": [],
   "source": [
    "def calculate_policy(rows: int, cols: int, goal: Tuple[int, int], rewards: int, world: List[List[str]], policy: dict, actions: List[Tuple[int, int]], values: List[List[int]], gamma: float):\n",
    "    new_values = [[0 for _ in range(cols)] for _ in range(rows)]\n",
    "\n",
    "    for x in range(rows):\n",
    "        for y in range(cols):\n",
    "            if (x, y) == (goal[1], goal[0]):\n",
    "                new_values[x][y] = rewards\n",
    "            elif world[x][y] == 'x': \n",
    "                policy[(y, x)] = None\n",
    "            else:\n",
    "                R = costs.get(world[x][y], 0) # Initial Terrain Cost\n",
    "                q_values = {}\n",
    "                \n",
    "                for action in actions:\n",
    "                    q_values[action] = calculate_expected_value(x, y, action, values, costs, world)\n",
    "                \n",
    "                best_action = max(q_values, key=q_values.get)\n",
    "                best_value = q_values[best_action]\n",
    "                new_values[x][y] = R + gamma * best_value\n",
    "                policy[(y, x)] = best_action\n",
    "    return new_values"
   ]
  },
  {
   "cell_type": "code",
   "execution_count": 10,
   "metadata": {},
   "outputs": [],
   "source": [
    "goal = (1, 1)\n",
    "rewards = 100 \n",
    "actions = [(0, -1), (1, 0), (0, 1), (-1, 0)]  \n",
    "world = [['.','.'],['x','.']]\n",
    "rows, cols = len(world), len(world[0])\n",
    "values = [[0 for _ in range(cols)] for _ in range(rows)]\n",
    "policy = {}\n",
    "gamma = 0.8\n",
    "\n",
    "new_values = calculate_policy(rows, cols, goal, rewards, world, policy, actions, values, gamma)\n",
    "assert (new_values[goal[1]][goal[0]] == rewards) # Goal local should be the exact same number as reward\n",
    "assert (new_values[1][0] == 0) # X should be a 0 for value as its impassable\n",
    "assert (policy != {}) # Creates a policy"
   ]
  },
  {
   "cell_type": "markdown",
   "metadata": {},
   "source": [
    "## `value_iteration` <a id=\"value_iteration\"></a>\n",
    "\n",
    "**Description:**  \n",
    "This is the function that actually perform value iteration. It starts by initializing reward gradiant, then it loops through 1000 iterations to calculate the policy. Finally it returns the policy. \n",
    "\n",
    "**Parameters:**  \n",
    "- `world` (`List[List[str]]`): The representation of the world\n",
    "- `costs` (`Dict[str, int]`): Terrain costs\n",
    "- `goal` (`Tuple[int, int]`): Goal location in world\n",
    "- `rewards` (`int`): Reward for hitting the end goal \n",
    "- `actions` (`List[Tuple[int, int]]`): The list of possible actions\n",
    "- `gamma` (`float`): The discount rate\n",
    "\n",
    "**Returns:**  \n",
    "- `policy` (`dict`): Policy for an agent to follow"
   ]
  },
  {
   "cell_type": "code",
   "execution_count": 11,
   "metadata": {},
   "outputs": [],
   "source": [
    "def value_iteration(world: List[List[str]], costs: Dict[str, int], goal: Tuple[int, int], rewards: int, actions: List[Tuple[int, int]], gamma: float) -> List[List[float]]:\n",
    "    rows, cols = len(world), len(world[0])\n",
    "    values = [[0 for _ in range(cols)] for _ in range(rows)]\n",
    "    policy = {}\n",
    "\n",
    "    initialize_reward_gradient(values, goal, max_reward=rewards, decay=10) \n",
    "\n",
    "    for iteration in range(1000):\n",
    "        new_values = calculate_policy(rows, cols, goal, rewards, world, policy, actions, values, gamma)\n",
    "        values = new_values\n",
    "        \n",
    "    return policy\n",
    "    "
   ]
  },
  {
   "cell_type": "code",
   "execution_count": 12,
   "metadata": {},
   "outputs": [],
   "source": [
    "world = [['.','.'],['x','.']]\n",
    "goal = (1, 1)\n",
    "gamma = 0.8\n",
    "reward = 100\n",
    "\n",
    "policy = value_iteration(world, costs, goal, reward, cardinal_moves, gamma)\n",
    "assert (policy == {(0, 0): (0, 1), (1, 0): (1, 0), (0, 1): None}) # Should converge to goal and avoid the x\n",
    "\n",
    "world1 = [['.','x'],['x','.']]\n",
    "policy1 = value_iteration(world1, costs, goal, reward, cardinal_moves, gamma)\n",
    "assert (policy1 == {(0, 0): (1, 0), (1, 0): None, (0, 1): None}) # Cant pass 1, 0 or 0, 1 so it can never get to the goal thus cant have a dict local for it\n",
    "\n",
    "world2 = [['.','.'],['~','.']]\n",
    "policy2 = value_iteration(world2, costs, goal, reward, cardinal_moves, gamma)\n",
    "assert (policy2 == {(0, 0): (0, 1), (1, 0): (1, 0), (0, 1): (0, 1)}) # All paths lead to goal, swap even has a way to go incase its landed on"
   ]
  },
  {
   "cell_type": "markdown",
   "metadata": {},
   "source": [
    "## `pretty_print_policy` <a id=\"pretty_print_policy\"></a>\n",
    "\n",
    "**Description:**  \n",
    "This function prints out the policy that an agent would follow for the world specified. This is not necessary for anything except visualization of the policy.\n",
    "\n",
    "**Parameters:**  \n",
    "- `cols` (`int`): Number of columns\n",
    "- `rows` (`int`): Number of rows\n",
    "- `policy` (`dict`): Policy for an it to print\n",
    "- `goal` (`Tuple[int, int]`): Goal location in world"
   ]
  },
  {
   "cell_type": "code",
   "execution_count": 13,
   "metadata": {},
   "outputs": [],
   "source": [
    "def pretty_print_policy(cols: int, rows: int, policy: List[List[Tuple[int, int]]], goal: Tuple[int, int]):\n",
    "    action_symbols = {\n",
    "        (0, -1): '<',   \n",
    "        (1, 0): 'v',    \n",
    "        (0, 1): '>',    \n",
    "        (-1, 0): '^',\n",
    "    }\n",
    "    \n",
    "    goal_x, goal_y = goal[1], goal[0] if goal else (None, None) # Goal setup inverse in examples had to do this\n",
    "    \n",
    "    for x in range(rows):\n",
    "        row_symbols = []\n",
    "        for y in range(cols):\n",
    "            if goal and (x, y) == (goal_x, goal_y):\n",
    "                row_symbols.append(\"G\")  # Goal state\n",
    "            elif policy.get((y, x)) is None:\n",
    "                row_symbols.append(\"x\")  # Impassable terrain\n",
    "            else:\n",
    "                action = policy.get((y, x), (0, 0))\n",
    "                row_symbols.append(action_symbols.get(action, '?')) # Set action or ?, ? should only happen if things went wrong\n",
    "        print(\"\".join(row_symbols))"
   ]
  },
  {
   "cell_type": "code",
   "execution_count": 14,
   "metadata": {},
   "outputs": [
    {
     "name": "stdout",
     "output_type": "stream",
     "text": [
      ">v\n",
      "xG\n",
      "\n",
      "\n",
      "vx\n",
      "xG\n",
      "\n",
      "\n",
      ">v\n",
      ">G\n",
      "\n",
      "\n"
     ]
    }
   ],
   "source": [
    "# Dont know how to assert for these so I am just visually asserting\n",
    "world = [['.','.'],['x','.']]\n",
    "goal = (1, 1)\n",
    "gamma = 0.8\n",
    "reward = 100\n",
    "rows, cols = len(world), len(world[0])\n",
    "\n",
    "policy = value_iteration(world, costs, goal, reward, cardinal_moves, gamma)\n",
    "pretty_print_policy(cols, rows, policy, goal) # Should have way to Goal, goal, and an x\n",
    "print('\\n')\n",
    "\n",
    "world1 = [['.','x'],['x','.']]\n",
    "policy1 = value_iteration(world1, costs, goal, reward, cardinal_moves, gamma)\n",
    "pretty_print_policy(cols, rows, policy1, goal) # Should have No path to goal and 2 x's\n",
    "print('\\n')\n",
    "\n",
    "world2 = [['.','.'],['~','.']]\n",
    "policy2 = value_iteration(world2, costs, goal, reward, cardinal_moves, gamma)\n",
    "pretty_print_policy(cols, rows, policy2, goal) # ALl paths lead to goal despite swamp\n",
    "print('\\n')"
   ]
  },
  {
   "cell_type": "markdown",
   "metadata": {},
   "source": [
    "## Value Iteration\n",
    "\n",
    "### Small World"
   ]
  },
  {
   "cell_type": "code",
   "execution_count": 15,
   "metadata": {},
   "outputs": [],
   "source": [
    "small_world = read_world( \"small.txt\")"
   ]
  },
  {
   "cell_type": "code",
   "execution_count": 16,
   "metadata": {},
   "outputs": [],
   "source": [
    "goal = (len(small_world[0])-1, len(small_world)-1)\n",
    "gamma = 0.8\n",
    "reward = 100\n",
    "\n",
    "small_policy = value_iteration(small_world, costs, goal, reward, cardinal_moves, gamma)"
   ]
  },
  {
   "cell_type": "code",
   "execution_count": 17,
   "metadata": {},
   "outputs": [
    {
     "name": "stdout",
     "output_type": "stream",
     "text": [
      "v>>>>v\n",
      "vv>>vv\n",
      "vvv>vv\n",
      "vvvxvv\n",
      "vvvvvv\n",
      ">>>>vv\n",
      ">>>>>G\n"
     ]
    }
   ],
   "source": [
    "cols = len(small_world[0])\n",
    "rows = len(small_world)\n",
    "\n",
    "pretty_print_policy(cols, rows, small_policy, goal)"
   ]
  },
  {
   "cell_type": "markdown",
   "metadata": {},
   "source": [
    "### Large World"
   ]
  },
  {
   "cell_type": "code",
   "execution_count": 18,
   "metadata": {},
   "outputs": [],
   "source": [
    "large_world = read_world( \"large.txt\")"
   ]
  },
  {
   "cell_type": "code",
   "execution_count": 19,
   "metadata": {},
   "outputs": [],
   "source": [
    "goal = (len(large_world[0])-1, len(large_world)-1) # Lower Right Corner FILL ME IN\n",
    "gamma = 0.99\n",
    "reward = 10000\n",
    "\n",
    "large_policy = value_iteration(large_world, costs, goal, reward, cardinal_moves, gamma)"
   ]
  },
  {
   "cell_type": "code",
   "execution_count": 20,
   "metadata": {},
   "outputs": [
    {
     "name": "stdout",
     "output_type": "stream",
     "text": [
      ">>>>>>>>>>>>>vvv<<<<<>>>>>v\n",
      "^^^^^^>>>>>>>vvv<<xxxxxxx>v\n",
      "^^^^xx^>>>>>>>vvvxxxvv<xx>v\n",
      "vv^<<xxx>>>>>>>vvvvvv<<xx>v\n",
      "vv<<<xx>>>>>>>>>>vvvvvxxx>v\n",
      "vv<<xx>>>>^^^^>>>>>vvvvxvvv\n",
      "vvvxxv>>>^^^xxx^>>>>vvvvvvv\n",
      "vvvvvvvv^^^<<<xxx>>>>>>>vvv\n",
      "vvvvvvvv<^^<<<xx>>>>>>>>>vv\n",
      "vvvvvvvv<<^xxxx>>>^^^^>>>vv\n",
      ">>>>>vvv<<xxxv>>>^^^xxx>>vv\n",
      ">>>>>>vv<xx>>>>>>^^<<xx>>vv\n",
      ">>>>>>vvvxx>>>>>^^^<<x>>>vv\n",
      "^^^^>>>vvvvv>^>^^^^<>>>>>vv\n",
      "^^^^x>>>vvv<<^^^^^^^^^x>>vv\n",
      "^^^xxx>>vvvvxxx^^^^^^xx>>vv\n",
      "^^xx>>>>>vvvvvxxx^^xxxv>vvv\n",
      "^<<xx>>>>>>vvvvvxxxxvvvvvvv\n",
      "^<<xxx>>>>>>>>>vvvvvvvvvvvv\n",
      "^<<<xxx>^>^^^^>>>vvvvvvvvvv\n",
      "^<<<<vxx^^^^^^x>>>>>>>>>vvv\n",
      "^^<<<<<xxx^^xx>>>>>>>>>>vvv\n",
      "^^^<<<<<vxxxx>>>^^^>>>>>>vv\n",
      "^^^^^<<<<<>>>>^^^xx^>>>>>vv\n",
      "^x^^^^<<<<<xxx^^xxvxx^>>>vv\n",
      "^xxx^^^<<<<<xxxxvvvvxxx>>>v\n",
      "^<>>>^^<<<<>>>>>>>>>>>>>>>G\n"
     ]
    }
   ],
   "source": [
    "cols = len(large_world[0])\n",
    "rows = len(large_world)\n",
    "\n",
    "pretty_print_policy( cols, rows, large_policy, goal)"
   ]
  },
  {
   "cell_type": "markdown",
   "metadata": {},
   "source": [
    "## Before You Submit...\n",
    "\n",
    "1. Did you provide output exactly as requested?\n",
    "2. Did you re-execute the entire notebook? (\"Restart Kernel and Rull All Cells...\")\n",
    "3. If you did not complete the assignment or had difficulty please explain what gave you the most difficulty in the Markdown cell below.\n",
    "4. Did you change the name of the file to `jhed_id.ipynb`?\n",
    "\n",
    "Do not submit any other files."
   ]
  },
  {
   "cell_type": "markdown",
   "metadata": {},
   "source": []
  }
 ],
 "metadata": {
  "kernelspec": {
   "display_name": "en605645",
   "language": "python",
   "name": "python3"
  },
  "language_info": {
   "codemirror_mode": {
    "name": "ipython",
    "version": 3
   },
   "file_extension": ".py",
   "mimetype": "text/x-python",
   "name": "python",
   "nbconvert_exporter": "python",
   "pygments_lexer": "ipython3",
   "version": "3.11.9"
  },
  "toc": {
   "colors": {
    "hover_highlight": "#DAA520",
    "navigate_num": "#000000",
    "navigate_text": "#333333",
    "running_highlight": "#FF0000",
    "selected_highlight": "#FFD700",
    "sidebar_border": "#EEEEEE",
    "wrapper_background": "#FFFFFF"
   },
   "moveMenuLeft": true,
   "nav_menu": {
    "height": "171px",
    "width": "252px"
   },
   "navigate_menu": true,
   "number_sections": true,
   "sideBar": true,
   "threshold": 4,
   "toc_cell": false,
   "toc_section_display": "block",
   "toc_window_display": false,
   "widenNotebook": false
  }
 },
 "nbformat": 4,
 "nbformat_minor": 4
}
