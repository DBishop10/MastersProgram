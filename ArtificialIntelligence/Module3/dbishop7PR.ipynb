{
 "cells": [
  {
   "cell_type": "markdown",
   "metadata": {},
   "source": [
    "# Module 3 - Programming Assignment\n",
    "\n",
    "## General Directions\n",
    "\n",
    "1. You must follow the Programming Requirements outlined on Canvas.\n",
    "2. The Notebook should be cleanly and fully executed before submission.\n",
    "3. You should change the name of this file to be your JHED id. For example, `jsmith299.ipynb` although Canvas will change it to something else...\n",
    "4. You must follow the Programming Requirments for this course.\n",
    "\n",
    "<div style=\"background: lemonchiffon; margin:20px; padding: 20px;\">\n",
    "    <strong>Important</strong>\n",
    "    <p>\n",
    "        You should always read the entire assignment before beginning your work, so that you know in advance what the requested output will be and can plan your implementation accordingly.\n",
    "    </p>\n",
    "</div>\n",
    "\n",
    "<div style=\"color: white; background: #C83F49; margin:20px; padding: 20px;\">\n",
    "    <strong>Academic Integrity and Copyright</strong>\n",
    "    <p>You are not permitted to consult outside sources (Stackoverflow, YouTube, ChatGPT, etc.) or use \"code assistance\" (Co-Pilot, etc) to complete this assignment. By submitting this assignment for grading, you certify that the submission is 100% your own work, based on course materials, group interactions, instructor guidance. You agree to comply by the requirements set forth in the Syllabus, including, by reference, the JHU KSAS/WSE Graduate Academic Misconduct Policy.</p>\n",
    "    <p>Sharing this assignment either directly (e.g., email, github, homework site) or indirectly (e.g., ChatGPT, machine learning platform) is a violation of the copyright. Additionally, all such sharing is a violation the Graduate Academic Misconduct Policy (facilitating academic dishonesty is itself academic dishonesty), even after you graduate.</p>\n",
    "    <p>If you have questions or if you're unsure about the policy, ask via Canvas Inbox. In this case, being forgiven is <strong>not</strong> easier than getting permission and ignorance is not an excuse.</p>\n",
    "    <p>This assignment is copyright (&copy Johns Hopkins University &amp; Stephyn G. W. Butcher). All rights reserved.</p>\n",
    "</div>"
   ]
  },
  {
   "cell_type": "code",
   "execution_count": 1,
   "metadata": {},
   "outputs": [],
   "source": [
    "from pprint import pprint"
   ]
  },
  {
   "cell_type": "markdown",
   "metadata": {},
   "source": [
    "## Local Search - Genetic Algorithm\n",
    "\n",
    "There are some key ideas in the Genetic Algorithm.\n",
    "\n",
    "First, there is a problem of some kind that either *is* an optimization problem or the solution can be expressed in terms of an optimization problem.\n",
    "For example, if we wanted to minimize the function\n",
    "\n",
    "$$f(x) = \\sum (x_i - 0.5)^2$$\n",
    "\n",
    "where $n = 10$.\n",
    "This *is* an optimization problem. Normally, optimization problems are much, much harder.\n",
    "\n",
    "![Eggholder](http://www.sfu.ca/~ssurjano/egg.png)!\n",
    "\n",
    "The function we wish to optimize is often called the **objective function**.\n",
    "The objective function is closely related to the **fitness** function in the GA.\n",
    "If we have a **maximization** problem, then we can use the objective function directly as a fitness function.\n",
    "If we have a **minimization** problem, then we need to convert the objective function into a suitable fitness function, since fitness functions must always mean \"more is better\".\n",
    "\n",
    "Second, we need to *encode* candidate solutions using an \"alphabet\" analogous to G, A, T, C in DNA.\n",
    "This encoding can be quite abstract.\n",
    "You saw this in the Self Check.\n",
    "There a floating point number was encoded as bits, just as in a computer and a sophisticated decoding scheme was then required.\n",
    "\n",
    "Sometimes, the encoding need not be very complicated at all.\n",
    "For example, in the real-valued GA, discussed in the Lectures, we could represent 2.73 as....2.73.\n",
    "This is similarly true for a string matching problem.\n",
    "We *could* encode \"a\" as \"a\", 97, or '01100001'.\n",
    "And then \"hello\" would be:\n",
    "\n",
    "```\n",
    "[\"h\", \"e\", \"l\", \"l\", \"o\"]\n",
    "```\n",
    "\n",
    "or\n",
    "\n",
    "```\n",
    "[104, 101, 108, 108, 111]\n",
    "```\n",
    "\n",
    "or\n",
    "\n",
    "```\n",
    "0, 1, 1, 0, 1, 0, 0, 0, 0, 1, 1, 0, 0, 1, 0, 1, 0, 1, 1, 0, 1, 1, 0, 0, 0, 1, 1, 0, 1, 1, 0, 0, 0, 1, 1, 0, 1, 1, 1, 1\n",
    "```\n",
    "\n",
    "In Genetics terminology, this is the **chromosome** of the individual. And if this individual had the **phenotype** \"h\" for the first character then they would have the **genotype** for \"h\" (either as \"h\", 104, or 01101000).\n",
    "\n",
    "To keep it straight, think **geno**type is **genes** and **pheno**type is **phenomenon**, the actual thing that the genes express.\n",
    "So while we might encode a number as 10110110 (genotype), the number itself, 182, is what goes into the fitness function.\n",
    "The environment operates on zebras, not the genes for stripes."
   ]
  },
  {
   "cell_type": "markdown",
   "metadata": {},
   "source": [
    "## String Matching\n",
    "\n",
    "You are going to write a Genetic Algorithm that will solve the problem of matching a target string (at least at the start).\n",
    "Now, this is kind of silly because in order for this to work, you need to know the target string and if you know the target string, why are you trying to do it?\n",
    "Well, the problem is *pedagogical*.\n",
    "It's a fun way of visualizing the GA at work, because as the GA finds better and better candidates, they make more and more sense.\n",
    "\n",
    "Now, string matching is not *directly* an optimization problem so this falls under the general category of \"if we convert the problem into an optimization problem we can solve it with an optimization algorithm\" approach to problem solving.\n",
    "This happens all the time.\n",
    "We have a problem.\n",
    "We can't solve it.\n",
    "We convert it to a problem we *can* solve.\n",
    "In this case, we're using the GA to solve the optimization part.\n",
    "\n",
    "And all we need is some sort of measure of the difference between two strings.\n",
    "The only constraint for our objective function is that it must calculate the score based on element to element (character to character) comparisons with no global transformations of the candidate or target strings.\n",
    "That measure becomes our **objective function** and we can use it with the Genetic Algorithm.\n",
    "\n",
    "Since it is probably easier to come up with a score that measures how far apart the two strings are, we will end up with an objective function that represents a **minimization problem**.\n",
    "Because a fitness function must always be \"more is better\", we'll need to convert our objective function to a proper fitness function as well.\n",
    "\n",
    "And since this is a GA, we need a **genotype**.\n",
    "The genotype for this problem is a list of \"characters\" (individual letters aren't special in Python like they are in some other languages):\n",
    "\n",
    "```\n",
    "[\"h\", \"e\", \"l\", \"l\", \"o\"]\n",
    "```\n",
    "\n",
    "and the **phenotype** is the resulting string:\n",
    "\n",
    "```\n",
    "\"hello\"\n",
    "```\n",
    "\n",
    "In addition to the generic code and problem specific loss function, you'll need to pick parameters for the run.\n",
    "These parameters include:\n",
    "\n",
    "1. population size\n",
    "2. number of generations\n",
    "3. probability of crossover\n",
    "4. probability of mutation\n",
    "\n",
    "You will also need to pick a selection algorithm, either roulette wheel or tournament selection.\n",
    "In the later case, you will need a tournament size.\n",
    "This is all part of the problem.\n",
    "\n",
    "Every **ten** (10) generations, you should print out the fitness, genotype, and phenotype of the best individual in the population for the specific generation.\n",
    "The function should return the best individual *of the entire run*, using the same format."
   ]
  },
  {
   "cell_type": "code",
   "execution_count": 2,
   "metadata": {},
   "outputs": [],
   "source": [
    "ALPHABET = \"abcdefghijklmnopqrstuvwxyz \""
   ]
  },
  {
   "cell_type": "code",
   "execution_count": 3,
   "metadata": {},
   "outputs": [],
   "source": [
    "#importing these again incase I need them\n",
    "from typing import List, Tuple, Dict, Callable "
   ]
  },
  {
   "cell_type": "markdown",
   "metadata": {},
   "source": [
    "<a id=\"rotate_char\"></a>\n",
    "## `rotate_char`\n",
    "\n",
    "This function simply \"rotates\" a letter by an amount. This is solely used for ROT13 problem 3. It's useful as we could not have the string come out to the appropriate decoded version without this function.\n",
    "\n",
    "### Parameters:\n",
    "- `c` (str): The char that we want to shift\n",
    "- `rotation` (int): How many letters we want to move the char to.\n",
    "\n",
    "### Returns:\n",
    "- `c` (str): New char based on rotation."
   ]
  },
  {
   "cell_type": "code",
   "execution_count": 4,
   "metadata": {},
   "outputs": [],
   "source": [
    "def rotate_char(c: str, rotation: int):\n",
    "    if 'a' <= c <= 'z':\n",
    "        return chr(((ord(c) - ord('a') + rotation) % 26) + ord('a'))\n",
    "    else:\n",
    "        return c"
   ]
  },
  {
   "cell_type": "code",
   "execution_count": 5,
   "metadata": {},
   "outputs": [],
   "source": [
    "# assertions/unit tests\n",
    "assert rotate_char('a', 10) == 'k' #Rotate from a by 10\n",
    "assert rotate_char('z', 1) == 'a' # Enure rotation wraps back to a\n",
    "assert rotate_char('e', 5) == 'j' # random char rotation"
   ]
  },
  {
   "cell_type": "markdown",
   "metadata": {},
   "source": [
    "<a id=\"evaluate_fitness\"></a>\n",
    "## `evaluate_fitness`\n",
    "\n",
    "This is a key function for the genetic algorithm. it takes in the candidate, target, mode, and rotation to properly determine the fitness of the current candidate compared to the target. Without this function we could not determine how a candidate is performing thus not allowing us to get to the target.\n",
    "\n",
    "### Parameters:\n",
    "- `candidate` (str): The candidate we are evaluating\n",
    "- `target` (str): The target we evaluate the candiate against\n",
    "- `reversed` (bool): Whether we want the string to match forward or reverse, \n",
    "- `rotation` (int): How many letters we want to move the char to.\n",
    "\n",
    "### Returns:\n",
    "- (int) A sum comparing the candiate to the target, better the sum closer it is"
   ]
  },
  {
   "cell_type": "code",
   "execution_count": 6,
   "metadata": {},
   "outputs": [],
   "source": [
    "def evaluate_fitness(candidate: str, target: str, reversed: bool=False, rotation: int=0) -> int:\n",
    "    if not reversed:\n",
    "        # Compare the candidate to the target directly\n",
    "        return sum(1 for i, c in enumerate(candidate) if c == rotate_char(target[i], rotation))\n",
    "    else:\n",
    "        # Compare the candidate to the reversed target\n",
    "        n = len(target)\n",
    "        return sum(1 for i, c in enumerate(candidate) if c == rotate_char(target[n - i - 1], rotation))"
   ]
  },
  {
   "cell_type": "code",
   "execution_count": 7,
   "metadata": {},
   "outputs": [],
   "source": [
    "# assertions/unit tests\n",
    "candidate=\"abcd\"\n",
    "target=\"abcd\"\n",
    "rev_target=\"dcba\"\n",
    "rotated_target=\"zabc\"\n",
    "\n",
    "assert evaluate_fitness(candidate, target) == 4 # Perfect match\n",
    "assert evaluate_fitness(candidate, rev_target, reversed=True) == 4 # Perfect Match for reversed string\n",
    "assert evaluate_fitness(candidate, rotated_target, rotation=1) == 4 # Perfect Match for rotated target"
   ]
  },
  {
   "cell_type": "markdown",
   "metadata": {},
   "source": [
    "<a id=\"mutate\"></a>\n",
    "## `mutate`\n",
    "\n",
    "This function will \"mutate\" a random char withing the string passed to it. It does so based on a mutation rate, if a random number is not greater than that rate it will not change anything. This is very necessary for the genetic algorithm so we can try new strings compared to the target, without this function we would be stuck with starting strings.\n",
    "\n",
    "\n",
    "### Parameters:\n",
    "- `string` str: String that may get mutated\n",
    "- `mutation_rate` float: Value to see if a mutation happens\n",
    "- `alphabet` str: String representation of the choices that the mutate function has to try to mutate\n",
    "\n",
    "### Returns:\n",
    "- `mutated_str` (str): The mutated string"
   ]
  },
  {
   "cell_type": "code",
   "execution_count": 8,
   "metadata": {},
   "outputs": [],
   "source": [
    "import random\n",
    "def mutate(string: str, mutation_rate: float, alphabet: str) -> str:\n",
    "    mutated_str = ''.join(\n",
    "        c if random.random() > mutation_rate else random.choice(alphabet) \n",
    "        for c in string\n",
    "    )\n",
    "    return mutated_str\n"
   ]
  },
  {
   "cell_type": "code",
   "execution_count": 9,
   "metadata": {},
   "outputs": [],
   "source": [
    "candidate = \"abcd\"\n",
    "assert mutate(candidate, 0, \"f\") == \"abcd\" #No mutation should happen\n",
    "assert mutate(candidate, 1, \"f\") == \"ffff\" #Mutate Everything\n",
    "assert mutate(candidate, .5, \"f\") != \"abcd\" #Around half should me mutated, cant ensure a specific way but can ensure that it is not where it started\n"
   ]
  },
  {
   "cell_type": "markdown",
   "metadata": {},
   "source": [
    "<a id=\"crossover\"></a>\n",
    "## `crossover`\n",
    "\n",
    "This function will \"crossover\" two parent strings. It will choose a random point to crossover the parents and generate children. This allows the genetic algorithm to combine some strings to get new strings to determine fitness to target with.\n",
    "\n",
    "### Parameters:\n",
    "- `parent1` str: String of parent one that we want to crossover\n",
    "- `parent2` str: String of second parent one that we want to crossover\n",
    "- `non_random` int: Used for testing function, sets the point we want to split at if it is set\n",
    "\n",
    "### Returns:\n",
    "- `child1, child2` (tuple[str, str]): The crossed over children strings"
   ]
  },
  {
   "cell_type": "code",
   "execution_count": 10,
   "metadata": {},
   "outputs": [],
   "source": [
    "def crossover(parent1: str, parent2: str, non_random: int=-1) -> tuple[str, str]:\n",
    "    if non_random != -1:\n",
    "        point = non_random\n",
    "    else:\n",
    "        point = random.randint(0, len(parent1) - 1)\n",
    "    child1, child2 = parent1[:point] + parent2[point:], parent2[:point] + parent1[point:]\n",
    "    return child1, child2"
   ]
  },
  {
   "cell_type": "code",
   "execution_count": 11,
   "metadata": {},
   "outputs": [],
   "source": [
    "p1 = \"abcd\"\n",
    "p2 = \"wxyz\"\n",
    "\n",
    "assert crossover(p1, p2, 2) == ('abyz', 'wxcd') # Check a crossover in the middle\n",
    "assert crossover(p1, p2, 0) == ('wxyz', 'abcd') # Check a crossover if at index 0, should just swap them\n",
    "assert crossover(p1, p2, 3) == ('abcz', 'wxyd') # Check a crossover towards the end"
   ]
  },
  {
   "cell_type": "markdown",
   "metadata": {},
   "source": [
    "<a id=\"initialize_population\"></a>\n",
    "## `initialize_population`\n",
    "\n",
    "This function initializes the population of strings to test on. This allows the genetic algorithm to have a group of strings to evaluate against and mutate.\n",
    "\n",
    "### Parameters:\n",
    "- `target_length` int: Length of the target string so we make all population strings same length\n",
    "- `population_size` int: How many strings we want to generate \n",
    "- `alphabet` str: The alphabet that the function will generate the strings with\n",
    "\n",
    "### Returns:\n",
    "- `population` (list[str]): The list of population strings"
   ]
  },
  {
   "cell_type": "code",
   "execution_count": 12,
   "metadata": {},
   "outputs": [],
   "source": [
    "def initialize_population( target_length: int, population_size: int=100, alphabet: str=\"abcdefghijklmnopqrstuvwxyz \") -> list[str]:\n",
    "    population = [''.join(random.choice(alphabet) for _ in range(target_length)) for _ in range(population_size)]\n",
    "    return population"
   ]
  },
  {
   "cell_type": "code",
   "execution_count": 13,
   "metadata": {},
   "outputs": [],
   "source": [
    "target_str = \"abcd\"\n",
    "\n",
    "assert len(initialize_population(len(target_str))[0]) == 4 #Check that the population string length matches target string length\n",
    "assert len(initialize_population(len(target_str))) == 100 #Make sure it generates the correct amount of strings\n",
    "assert initialize_population(len(target_str), alphabet=\"a\")[0] == \"aaaa\" #Check to ensure it generates strings with the correct alphabet"
   ]
  },
  {
   "cell_type": "markdown",
   "metadata": {},
   "source": [
    "<a id=\"genetic_algorithm\"></a>\n",
    "## `genetic_algorithm`\n",
    "\n",
    "This is the main function of our assignment. This does a loop for as many generations as needed (up to 10000 unless changed) to try and genetically mutate and crossover population strings into the target string. \n",
    "\n",
    "### Parameters:\n",
    "- `target` str: Target string we are trying to match\n",
    "- `population` int: List of strings to mutate and crossover and evaluate compared to target string \n",
    "- `generations` int: max amount of generations we are going to, will end if it finds the string early \n",
    "- `mutation_rate` float: Determines how likely a mutation is to happen on a string\n",
    "- `alphabet` str: The alphabet that the algorithm will be utilizing\n",
    "- `reversed` bool: Whether or not we need the string to be reversed or not when \"evolving\"\n",
    "- `rotation` int: How many letters we are supposed to \"rotate\" a letter\n",
    "\n",
    "\n",
    "### Returns:\n",
    "- `best_individual` str: The best_individual string of the algorithm, normally the target string that has been evolved to"
   ]
  },
  {
   "cell_type": "code",
   "execution_count": 14,
   "metadata": {},
   "outputs": [],
   "source": [
    "def genetic_algorithm(target: str, population: List, generations: int=10000, mutation_rate: float=0.01, alphabet: str=\"abcdefghijklmnopqrstuvwxyz \", reversed: bool=False, rotation: int=0) -> str:\n",
    "    best_individual, best_fitness = None, -1\n",
    "\n",
    "    for generation in range(generations):\n",
    "        fitness_scores = [evaluate_fitness(individual, target, reversed, rotation) for individual in population]\n",
    "        max_fitness = max(fitness_scores)\n",
    "        best_in_generation = population[fitness_scores.index(max_fitness)]\n",
    "        \n",
    "        if max_fitness > best_fitness:\n",
    "            best_fitness, best_individual = max_fitness, best_in_generation\n",
    "\n",
    "        if generation % 10 == 0:\n",
    "            print(f\"Generation {generation}: Fitness: {max_fitness}, Genotype: {list(best_in_generation)}, Phenotype: {(best_in_generation)}\")\n",
    "        \n",
    "        if max_fitness == len(target):\n",
    "            print(f\"Solution found in generation {generation}\")\n",
    "            return best_in_generation\n",
    "\n",
    "        next_population = [mutate(crossover(*random.choices(population, weights=fitness_scores, k=2))[i], mutation_rate, alphabet) for i in range(2) for _ in range(len(population) // 2)]\n",
    "        population = next_population\n",
    "\n",
    "    print(f\"Best individual after {generations} generations: Fitness: {best_fitness}, Genotype: {best_individual}, Phenotype: {''.join(best_individual)}\")\n",
    "    return best_individual"
   ]
  },
  {
   "cell_type": "code",
   "execution_count": 15,
   "metadata": {},
   "outputs": [
    {
     "name": "stdout",
     "output_type": "stream",
     "text": [
      "Generation 0: Fitness: 4, Genotype: ['a', 'b', 'c', 'd'], Phenotype: abcd\n",
      "Solution found in generation 0\n",
      "Generation 0: Fitness: 1, Genotype: ['c', 'c', 'w', 'd'], Phenotype: ccwd\n",
      "Generation 10: Fitness: 1, Genotype: ['c', 'c', 'b', 'd'], Phenotype: ccbd\n",
      "Generation 20: Fitness: 1, Genotype: ['c', 'c', 'd', 'd'], Phenotype: ccdd\n",
      "Generation 30: Fitness: 2, Genotype: ['c', 'b', 'w', 'd'], Phenotype: cbwd\n",
      "Generation 40: Fitness: 3, Genotype: ['a', 'b', 'w', 'd'], Phenotype: abwd\n",
      "Generation 50: Fitness: 3, Genotype: ['a', 'b', 'w', 'd'], Phenotype: abwd\n",
      "Solution found in generation 55\n",
      "Generation 0: Fitness: 1, Genotype: ['c', 'c', 'w', 'd'], Phenotype: ccwd\n",
      "Best individual after 5 generations: Fitness: 1, Genotype: ccwd, Phenotype: ccwd\n"
     ]
    }
   ],
   "source": [
    "tgt = \"abcd\"\n",
    "population = initialize_population(len(tgt), 10)\n",
    "\n",
    "assert genetic_algorithm(tgt, [\"abcd\"], 100) == \"abcd\" #Ensure that it breaks out early since it already \"mutated\" the string to the target\n",
    "assert genetic_algorithm(tgt, population, alphabet=\"abcd\") == \"abcd\" #Ensure it can mutate to the correct string\n",
    "assert genetic_algorithm(tgt, population, 5) #ensure it still returns something even if it didnt reach target within correct amount of generation"
   ]
  },
  {
   "cell_type": "markdown",
   "metadata": {},
   "source": [
    "## Problem 1\n",
    "\n",
    "The target is the string \"this is so much fun\".\n",
    "The challenge, aside from implementing the basic algorithm, is deriving a fitness function based on \"b\" - \"p\" (for example).\n",
    "The fitness function should come up with a fitness score based on element to element comparisons between target v. phenotype."
   ]
  },
  {
   "cell_type": "code",
   "execution_count": 16,
   "metadata": {},
   "outputs": [],
   "source": [
    "target1 = \"this is so much fun\""
   ]
  },
  {
   "cell_type": "code",
   "execution_count": 17,
   "metadata": {},
   "outputs": [],
   "source": [
    "# set up if you need it.\n",
    "population = initialize_population(len(target1), 100, ALPHABET)"
   ]
  },
  {
   "cell_type": "code",
   "execution_count": 18,
   "metadata": {},
   "outputs": [
    {
     "name": "stdout",
     "output_type": "stream",
     "text": [
      "Generation 0: Fitness: 4, Genotype: ['t', 'h', 'i', 'h', 'l', 'a', 'n', 'q', 'j', 'm', 'v', 'c', 'q', 'c', 'k', 'c', 'l', 'e', 'g'], Phenotype: thihlanqjmvcqckcleg\n",
      "Generation 10: Fitness: 9, Genotype: ['t', 'h', 'i', 'd', ' ', 'i', 'v', 'p', 'a', 'f', ' ', 'b', 'w', 'c', 'd', 'o', 'f', 'u', 'f'], Phenotype: thid ivpaf bwcdofuf\n",
      "Generation 20: Fitness: 11, Genotype: ['t', 'h', 'i', 'h', ' ', 'i', 'n', ' ', 'j', 'o', 'v', 'g', 'u', 'm', 'h', 'o', 'm', 'u', 'n'], Phenotype: thih in jovgumhomun\n",
      "Generation 30: Fitness: 13, Genotype: ['t', 'h', 'i', 'd', ' ', 'i', 'n', 'q', 'n', 'q', ' ', 'm', 'u', 'c', 'h', 'f', 'f', 'u', 'n'], Phenotype: thid inqnq muchffun\n",
      "Generation 40: Fitness: 13, Genotype: ['t', 'h', 'i', 'h', ' ', 'i', 'x', ' ', 'n', 'a', ' ', 'm', 'u', 'c', 'h', 'o', 'f', 'u', 'f'], Phenotype: thih ix na muchofuf\n",
      "Generation 50: Fitness: 13, Genotype: ['t', 'h', 'i', 'h', ' ', 'i', 'x', ' ', 'j', 'o', 'n', 'm', 'b', 'c', 'h', 't', 'f', 'u', 'n'], Phenotype: thih ix jonmbchtfun\n",
      "Generation 60: Fitness: 14, Genotype: ['t', 'h', 'i', 't', ' ', 'i', 'x', ' ', 'n', 'k', ' ', 'm', 'u', 'c', 'h', 'z', 'f', 'u', 'n'], Phenotype: thit ix nk muchzfun\n",
      "Generation 70: Fitness: 14, Genotype: ['t', 'h', 'i', 'h', ' ', 'i', 'x', ' ', 'j', 'b', ' ', 'm', 'u', 'c', 'h', 't', 'f', 'u', 'n'], Phenotype: thih ix jb muchtfun\n",
      "Generation 80: Fitness: 15, Genotype: ['t', 'h', 'i', 'h', ' ', 'i', 's', ' ', 'n', 'k', ' ', 'm', 'u', 'c', 'h', 'f', 'f', 'u', 'n'], Phenotype: thih is nk muchffun\n",
      "Generation 90: Fitness: 15, Genotype: ['t', 'h', 'i', 'h', ' ', 'i', 's', ' ', 'n', 'v', 'q', 'm', 'u', 'c', 'h', ' ', 'f', 'u', 'n'], Phenotype: thih is nvqmuch fun\n",
      "Generation 100: Fitness: 15, Genotype: ['t', 'h', 'i', 'h', ' ', 'i', 's', ' ', 'f', 'n', ' ', 'm', 'u', 'c', 'h', 'q', 'f', 'u', 'n'], Phenotype: thih is fn muchqfun\n",
      "Generation 110: Fitness: 15, Genotype: ['t', 'h', 'i', 'h', ' ', 'i', 's', ' ', 'n', 'j', ' ', 'm', 'u', 'c', 'h', 'x', 'f', 'u', 'n'], Phenotype: thih is nj muchxfun\n",
      "Generation 120: Fitness: 14, Genotype: ['t', 'h', 'i', 'h', ' ', 'd', 's', ' ', 's', 'j', ' ', 'm', 'u', 'c', 'h', 'f', 'f', 'd', 'n'], Phenotype: thih ds sj muchffdn\n",
      "Generation 130: Fitness: 15, Genotype: ['t', 'h', 'i', 'h', ' ', 'i', 's', ' ', 'n', 'n', ' ', 'm', 'u', 'c', 'h', 'q', 'f', 'u', 'n'], Phenotype: thih is nn muchqfun\n",
      "Generation 140: Fitness: 15, Genotype: ['t', 'h', 'i', 'h', ' ', 'i', 's', ' ', 'n', 'n', ' ', 'm', 'u', 'c', 'h', 'f', 'f', 'u', 'n'], Phenotype: thih is nn muchffun\n",
      "Generation 150: Fitness: 16, Genotype: ['t', 'h', 'i', 'h', ' ', 'i', 's', ' ', 's', 'x', ' ', 'm', 'u', 'c', 'h', 'f', 'f', 'u', 'n'], Phenotype: thih is sx muchffun\n",
      "Generation 160: Fitness: 15, Genotype: ['t', 'h', 'i', 'h', ' ', 'i', 's', ' ', 'm', 'y', ' ', 'm', 'u', 'c', 'h', 'q', 'f', 'u', 'n'], Phenotype: thih is my muchqfun\n",
      "Generation 170: Fitness: 15, Genotype: ['t', 'h', 'i', 'h', ' ', 'i', 's', ' ', 'n', 'x', ' ', 'm', 'u', 'c', 'h', 'q', 'f', 'u', 'n'], Phenotype: thih is nx muchqfun\n",
      "Generation 180: Fitness: 15, Genotype: ['t', 'h', 'i', 'h', ' ', 'i', 's', ' ', 'n', 'n', ' ', 'm', 'u', 'c', 'h', 'q', 'f', 'u', 'n'], Phenotype: thih is nn muchqfun\n",
      "Generation 190: Fitness: 15, Genotype: ['t', 'h', 'i', 'h', ' ', 'i', 's', ' ', 'd', 't', ' ', 'm', 'u', 'c', 'h', 'q', 'f', 'u', 'n'], Phenotype: thih is dt muchqfun\n",
      "Generation 200: Fitness: 15, Genotype: ['t', 'h', 'i', 'o', ' ', 'i', 's', ' ', 'm', 'x', ' ', 'm', 'u', 'c', 'h', 'q', 'f', 'u', 'n'], Phenotype: thio is mx muchqfun\n",
      "Generation 210: Fitness: 15, Genotype: ['t', 'h', 'i', 'q', ' ', 'i', 's', ' ', 'n', 't', ' ', 'm', 'u', 'c', 'h', 'q', 'f', 'u', 'n'], Phenotype: thiq is nt muchqfun\n",
      "Generation 220: Fitness: 16, Genotype: ['t', 'h', 'i', 'q', ' ', 'i', 's', ' ', 'y', 'g', ' ', 'm', 'u', 'c', 'h', ' ', 'f', 'u', 'n'], Phenotype: thiq is yg much fun\n",
      "Generation 230: Fitness: 15, Genotype: ['t', 'h', 'i', 'q', ' ', 'i', 's', ' ', 'm', 't', ' ', 'm', 'u', 'c', 'h', 'q', 'f', 'u', 'n'], Phenotype: thiq is mt muchqfun\n",
      "Generation 240: Fitness: 15, Genotype: ['t', 'h', 'i', 'q', ' ', 'i', 's', ' ', 'm', 'g', ' ', 'm', 'u', 'c', 'h', 'q', 'f', 'u', 'n'], Phenotype: thiq is mg muchqfun\n",
      "Generation 250: Fitness: 15, Genotype: ['t', 'h', 'i', 'q', ' ', 'i', 'r', ' ', 'e', 'u', ' ', 'm', 'u', 'c', 'h', ' ', 'f', 'u', 'n'], Phenotype: thiq ir eu much fun\n",
      "Generation 260: Fitness: 15, Genotype: ['t', 'h', 'i', 'q', ' ', 'i', 's', ' ', 'n', 'g', ' ', 'm', 'u', 'c', 'h', 'q', 'f', 'u', 'n'], Phenotype: thiq is ng muchqfun\n",
      "Generation 270: Fitness: 15, Genotype: ['t', 'h', 'i', 'q', ' ', 'i', 's', ' ', 'e', 'r', ' ', 'm', 'u', 'c', 'h', 'o', 'f', 'u', 'n'], Phenotype: thiq is er muchofun\n",
      "Generation 280: Fitness: 15, Genotype: ['t', 'h', 'i', 'q', ' ', 'i', 's', ' ', 'e', 'v', ' ', 'm', 'u', 'c', 'h', 'q', 'f', 'u', 'n'], Phenotype: thiq is ev muchqfun\n",
      "Generation 290: Fitness: 15, Genotype: ['t', 'h', 'i', 'w', ' ', 'i', 's', ' ', 'e', 'n', ' ', 'm', 'u', 'c', 'h', 'q', 'f', 'u', 'n'], Phenotype: thiw is en muchqfun\n",
      "Generation 300: Fitness: 15, Genotype: ['t', 'h', 'i', 'y', ' ', 'i', 's', ' ', 'e', 'g', ' ', 'm', 'u', 'c', 'h', 'q', 'f', 'u', 'n'], Phenotype: thiy is eg muchqfun\n",
      "Generation 310: Fitness: 15, Genotype: ['t', 'h', 'i', 'w', ' ', 'i', 's', ' ', 'd', 't', ' ', 'm', 'u', 'c', 'h', 'o', 'f', 'u', 'n'], Phenotype: thiw is dt muchofun\n",
      "Generation 320: Fitness: 15, Genotype: ['t', 'h', 'i', 'w', ' ', 'i', 's', ' ', 'e', 'j', ' ', 'm', 'u', 'c', 'h', 'q', 'f', 'u', 'n'], Phenotype: thiw is ej muchqfun\n",
      "Generation 330: Fitness: 15, Genotype: ['t', 'h', 'i', 'l', ' ', 'i', 's', ' ', 'd', 't', ' ', 'm', 'u', 'c', 'h', 'q', 'f', 'u', 'n'], Phenotype: thil is dt muchqfun\n",
      "Generation 340: Fitness: 15, Genotype: ['t', 'h', 'i', 'e', ' ', 'i', 's', ' ', 'e', 'a', ' ', 'm', 'u', 'c', 'h', 'q', 'f', 'u', 'n'], Phenotype: thie is ea muchqfun\n",
      "Generation 350: Fitness: 15, Genotype: ['t', 'h', 'i', 'e', ' ', 'i', 's', ' ', 'c', 'h', ' ', 'm', 'u', 'c', 'h', ' ', 'f', 'i', 'n'], Phenotype: thie is ch much fin\n",
      "Generation 360: Fitness: 16, Genotype: ['t', 'h', 'i', 'j', ' ', 'i', 's', ' ', 's', 'e', ' ', 'm', 'u', 'c', 'h', 'k', 'f', 'u', 'n'], Phenotype: thij is se muchkfun\n",
      "Generation 370: Fitness: 16, Genotype: ['t', 'h', 'i', 'j', ' ', 'i', 's', ' ', 's', 'a', ' ', 'm', 'u', 'c', 'h', 'c', 'f', 'u', 'n'], Phenotype: thij is sa muchcfun\n",
      "Generation 380: Fitness: 16, Genotype: ['t', 'h', 'i', 'e', ' ', 'i', 's', ' ', 's', 'd', ' ', 'm', 'u', 'c', 'e', ' ', 'f', 'u', 'n'], Phenotype: thie is sd muce fun\n",
      "Generation 390: Fitness: 16, Genotype: ['t', 'h', 'i', 'j', ' ', 'i', 's', ' ', 's', 'd', ' ', 'm', 'u', 'c', 'h', 'w', 'f', 'u', 'n'], Phenotype: thij is sd muchwfun\n",
      "Generation 400: Fitness: 16, Genotype: ['t', 'h', 'i', 'j', ' ', 'i', 's', ' ', 's', 'b', ' ', 'm', 'u', 'c', 'h', 'w', 'f', 'u', 'n'], Phenotype: thij is sb muchwfun\n",
      "Generation 410: Fitness: 16, Genotype: ['t', 'h', 'i', 'j', ' ', 'i', 's', ' ', 's', 'f', ' ', 'm', 'u', 'c', 'h', 'w', 'f', 'u', 'n'], Phenotype: thij is sf muchwfun\n",
      "Generation 420: Fitness: 16, Genotype: ['t', 'h', 'i', 'j', ' ', 'i', 's', ' ', 's', 'f', ' ', 'm', 'u', 'c', 'h', 'c', 'f', 'u', 'n'], Phenotype: thij is sf muchcfun\n",
      "Generation 430: Fitness: 16, Genotype: ['t', 'h', 'i', 'w', ' ', 'i', 's', ' ', 's', 'f', ' ', 'm', 'u', 'c', 'h', 'w', 'f', 'u', 'n'], Phenotype: thiw is sf muchwfun\n",
      "Generation 440: Fitness: 16, Genotype: ['t', 'h', 'i', 'w', ' ', 'i', 's', ' ', 's', 'f', ' ', 'm', 'u', 'c', 'h', 'w', 'f', 'u', 'n'], Phenotype: thiw is sf muchwfun\n",
      "Generation 450: Fitness: 16, Genotype: ['t', 'h', 'i', 'b', ' ', 'i', 's', ' ', 's', 'd', ' ', 'm', 'u', 'c', 'h', 'c', 'f', 'u', 'n'], Phenotype: thib is sd muchcfun\n",
      "Generation 460: Fitness: 16, Genotype: ['t', 'h', 'i', 'n', ' ', 'i', 's', ' ', 's', 'x', ' ', 'm', 'u', 'c', 'h', 'w', 'f', 'u', 'n'], Phenotype: thin is sx muchwfun\n",
      "Generation 470: Fitness: 16, Genotype: ['t', 'h', 'i', 'b', ' ', 'i', 's', ' ', 's', 'f', ' ', 'm', 'u', 'c', 'h', 'c', 'f', 'u', 'n'], Phenotype: thib is sf muchcfun\n",
      "Generation 480: Fitness: 16, Genotype: ['t', 'h', 'i', 'n', ' ', 'i', 's', ' ', 's', 'f', ' ', 'm', 'u', 'c', 'h', 'g', 'f', 'u', 'n'], Phenotype: thin is sf muchgfun\n",
      "Generation 490: Fitness: 16, Genotype: ['t', 'h', 'i', 'n', ' ', 'i', 's', ' ', 's', 'n', ' ', 'm', 'u', 'c', 'h', 'c', 'f', 'u', 'n'], Phenotype: thin is sn muchcfun\n",
      "Generation 500: Fitness: 17, Genotype: ['t', 'h', 'i', 'b', ' ', 'i', 's', ' ', 's', 'o', ' ', 'm', 'u', 'c', 'h', 'c', 'f', 'u', 'n'], Phenotype: thib is so muchcfun\n",
      "Generation 510: Fitness: 17, Genotype: ['t', 'h', 'i', 'n', ' ', 'i', 's', ' ', 's', 'o', ' ', 'm', 'u', 'c', 'h', 'b', 'f', 'u', 'n'], Phenotype: thin is so muchbfun\n",
      "Generation 520: Fitness: 16, Genotype: ['t', 'h', 'i', 's', ' ', 'i', 's', ' ', 's', 'n', ' ', 'm', 'u', 'c', 'i', 'c', 'f', 'u', 'n'], Phenotype: this is sn mucicfun\n",
      "Generation 530: Fitness: 16, Genotype: ['t', 'h', 'i', 'v', ' ', 'i', 's', ' ', 's', 'n', ' ', 'm', 'u', 'c', 'h', 'r', 'f', 'u', 'n'], Phenotype: thiv is sn muchrfun\n",
      "Generation 540: Fitness: 16, Genotype: ['t', 'h', 'i', 'n', ' ', 'i', 's', ' ', 's', 'n', ' ', 'm', 'u', 'c', 'h', 'c', 'f', 'u', 'n'], Phenotype: thin is sn muchcfun\n",
      "Generation 550: Fitness: 16, Genotype: ['t', 'h', 'i', 'n', ' ', 'i', 's', ' ', 's', 'n', ' ', 'm', 'u', 'c', 'h', 'v', 'f', 'u', 'n'], Phenotype: thin is sn muchvfun\n",
      "Generation 560: Fitness: 17, Genotype: ['t', 'h', 'i', 's', ' ', 'i', 's', ' ', 's', 'n', ' ', 'm', 'u', 'c', 'h', 'l', 'f', 'u', 'n'], Phenotype: this is sn muchlfun\n",
      "Generation 570: Fitness: 17, Genotype: ['t', 'h', 'i', 's', ' ', 'i', 's', ' ', 's', 'n', ' ', 'm', 'u', 'c', 'h', 'b', 'f', 'u', 'n'], Phenotype: this is sn muchbfun\n",
      "Generation 580: Fitness: 17, Genotype: ['t', 'h', 'i', 's', ' ', 'i', 's', ' ', 's', 'n', ' ', 'm', 'u', 'c', 'h', 'l', 'f', 'u', 'n'], Phenotype: this is sn muchlfun\n",
      "Generation 590: Fitness: 17, Genotype: ['t', 'h', 'i', 's', ' ', 'i', 's', ' ', 's', 'n', ' ', 'm', 'u', 'c', 'h', 'b', 'f', 'u', 'n'], Phenotype: this is sn muchbfun\n",
      "Generation 600: Fitness: 17, Genotype: ['t', 'h', 'i', 's', ' ', 'i', 's', ' ', 's', 'n', ' ', 'm', 'u', 'c', 'h', 'l', 'f', 'u', 'n'], Phenotype: this is sn muchlfun\n",
      "Generation 610: Fitness: 16, Genotype: ['t', 'h', 'i', 's', ' ', 'i', 's', ' ', 's', 'n', ' ', 'm', 'u', 'c', 'h', 'l', 'a', 'u', 'n'], Phenotype: this is sn muchlaun\n",
      "Generation 620: Fitness: 17, Genotype: ['t', 'h', 'i', 's', ' ', 'i', 's', ' ', 's', 'n', ' ', 'm', 'u', 'c', 'h', 'b', 'f', 'u', 'n'], Phenotype: this is sn muchbfun\n",
      "Generation 630: Fitness: 17, Genotype: ['t', 'h', 'i', 's', ' ', 'i', 's', ' ', 's', 'n', ' ', 'm', 'u', 'c', 'h', 'b', 'f', 'u', 'n'], Phenotype: this is sn muchbfun\n",
      "Generation 640: Fitness: 17, Genotype: ['t', 'h', 'i', 's', ' ', 'i', 's', ' ', 's', 'n', ' ', 'm', 'u', 'c', 'h', 'b', 'f', 'u', 'n'], Phenotype: this is sn muchbfun\n",
      "Generation 650: Fitness: 17, Genotype: ['t', 'h', 'i', 's', ' ', 'i', 's', ' ', 's', 'n', ' ', 'm', 'u', 'c', 'h', 'b', 'f', 'u', 'n'], Phenotype: this is sn muchbfun\n",
      "Generation 660: Fitness: 16, Genotype: ['t', 'h', 'i', 's', ' ', 't', 's', ' ', 's', 'n', ' ', 'm', 'u', 'c', 'h', 'b', 'f', 'u', 'n'], Phenotype: this ts sn muchbfun\n",
      "Generation 670: Fitness: 16, Genotype: ['v', 'h', 'i', 's', ' ', 'i', 's', ' ', 's', 'x', ' ', 'm', 'u', 'c', 'h', 'b', 'f', 'u', 'n'], Phenotype: vhis is sx muchbfun\n",
      "Generation 680: Fitness: 16, Genotype: ['t', 'h', 'i', 's', ' ', 't', 's', ' ', 's', 'n', ' ', 'm', 'u', 'c', 'h', 'b', 'f', 'u', 'n'], Phenotype: this ts sn muchbfun\n",
      "Generation 690: Fitness: 17, Genotype: ['t', 'h', 'i', 's', ' ', 'i', 's', ' ', 's', 'n', ' ', 'm', 'u', 'c', 'h', 'b', 'f', 'u', 'n'], Phenotype: this is sn muchbfun\n",
      "Generation 700: Fitness: 16, Genotype: ['t', 'h', 'i', 's', ' ', 'i', 's', ' ', 's', 'm', 'k', 'm', 'u', 'c', 'h', 'b', 'f', 'u', 'n'], Phenotype: this is smkmuchbfun\n",
      "Generation 710: Fitness: 17, Genotype: ['t', 'h', 'i', 's', ' ', 'i', 's', ' ', 's', 'z', ' ', 'm', 'u', 'c', 'h', 'u', 'f', 'u', 'n'], Phenotype: this is sz muchufun\n",
      "Generation 720: Fitness: 17, Genotype: ['t', 'h', 'i', 's', ' ', 'i', 's', ' ', 's', 'x', ' ', 'm', 'u', 'c', 'h', 'b', 'f', 'u', 'n'], Phenotype: this is sx muchbfun\n",
      "Generation 730: Fitness: 17, Genotype: ['t', 'h', 'i', 's', ' ', 'i', 's', ' ', 's', 'b', ' ', 'm', 'u', 'c', 'h', 'b', 'f', 'u', 'n'], Phenotype: this is sb muchbfun\n",
      "Generation 740: Fitness: 18, Genotype: ['t', 'h', 'i', 's', ' ', 'i', 's', ' ', 's', 'b', ' ', 'm', 'u', 'c', 'h', ' ', 'f', 'u', 'n'], Phenotype: this is sb much fun\n",
      "Generation 750: Fitness: 18, Genotype: ['t', 'h', 'i', 's', ' ', 'i', 's', ' ', 's', 'm', ' ', 'm', 'u', 'c', 'h', ' ', 'f', 'u', 'n'], Phenotype: this is sm much fun\n",
      "Generation 760: Fitness: 18, Genotype: ['t', 'h', 'i', 's', ' ', 'i', 's', ' ', 's', 'b', ' ', 'm', 'u', 'c', 'h', ' ', 'f', 'u', 'n'], Phenotype: this is sb much fun\n",
      "Generation 770: Fitness: 18, Genotype: ['t', 'h', 'i', 's', ' ', 'i', 's', ' ', 's', 'b', ' ', 'm', 'u', 'c', 'h', ' ', 'f', 'u', 'n'], Phenotype: this is sb much fun\n",
      "Generation 780: Fitness: 18, Genotype: ['t', 'h', 'i', 's', ' ', 'i', 's', ' ', 's', 'b', ' ', 'm', 'u', 'c', 'h', ' ', 'f', 'u', 'n'], Phenotype: this is sb much fun\n",
      "Generation 790: Fitness: 18, Genotype: ['t', 'h', 'i', 's', ' ', 'i', 's', ' ', 's', 'b', ' ', 'm', 'u', 'c', 'h', ' ', 'f', 'u', 'n'], Phenotype: this is sb much fun\n",
      "Generation 800: Fitness: 18, Genotype: ['t', 'h', 'i', 's', ' ', 'i', 's', ' ', 's', 'b', ' ', 'm', 'u', 'c', 'h', ' ', 'f', 'u', 'n'], Phenotype: this is sb much fun\n",
      "Generation 810: Fitness: 18, Genotype: ['t', 'h', 'i', 's', ' ', 'i', 's', ' ', 's', 'b', ' ', 'm', 'u', 'c', 'h', ' ', 'f', 'u', 'n'], Phenotype: this is sb much fun\n",
      "Generation 820: Fitness: 18, Genotype: ['t', 'h', 'i', 's', ' ', 'i', 's', ' ', 's', 't', ' ', 'm', 'u', 'c', 'h', ' ', 'f', 'u', 'n'], Phenotype: this is st much fun\n",
      "Generation 830: Fitness: 18, Genotype: ['t', 'h', 'i', 's', ' ', 'i', 's', ' ', 's', 'b', ' ', 'm', 'u', 'c', 'h', ' ', 'f', 'u', 'n'], Phenotype: this is sb much fun\n",
      "Generation 840: Fitness: 18, Genotype: ['t', 'h', 'i', 's', ' ', 'i', 's', ' ', 's', 'a', ' ', 'm', 'u', 'c', 'h', ' ', 'f', 'u', 'n'], Phenotype: this is sa much fun\n",
      "Generation 850: Fitness: 18, Genotype: ['t', 'h', 'i', 's', ' ', 'i', 's', ' ', 's', 'b', ' ', 'm', 'u', 'c', 'h', ' ', 'f', 'u', 'n'], Phenotype: this is sb much fun\n",
      "Generation 860: Fitness: 17, Genotype: ['t', 'h', 'i', 's', ' ', 'i', 's', ' ', 's', 'b', ' ', 'm', 'u', 'g', 'h', ' ', 'f', 'u', 'n'], Phenotype: this is sb mugh fun\n",
      "Generation 870: Fitness: 18, Genotype: ['t', 'h', 'i', 's', ' ', 'i', 's', ' ', 's', 'l', ' ', 'm', 'u', 'c', 'h', ' ', 'f', 'u', 'n'], Phenotype: this is sl much fun\n",
      "Generation 880: Fitness: 18, Genotype: ['t', 'h', 'i', 's', ' ', 'i', 's', ' ', 's', 'b', ' ', 'm', 'u', 'c', 'h', ' ', 'f', 'u', 'n'], Phenotype: this is sb much fun\n",
      "Generation 890: Fitness: 18, Genotype: ['t', 'h', 'i', 's', ' ', 'i', 's', ' ', 's', 'j', ' ', 'm', 'u', 'c', 'h', ' ', 'f', 'u', 'n'], Phenotype: this is sj much fun\n",
      "Generation 900: Fitness: 18, Genotype: ['t', 'h', 'i', 's', ' ', 'i', 's', ' ', 's', 'l', ' ', 'm', 'u', 'c', 'h', ' ', 'f', 'u', 'n'], Phenotype: this is sl much fun\n",
      "Generation 910: Fitness: 18, Genotype: ['t', 'h', 'i', 's', ' ', 'i', 's', ' ', 's', 'b', ' ', 'm', 'u', 'c', 'h', ' ', 'f', 'u', 'n'], Phenotype: this is sb much fun\n",
      "Generation 920: Fitness: 18, Genotype: ['t', 'h', 'i', 's', ' ', 'i', 's', ' ', 's', 'j', ' ', 'm', 'u', 'c', 'h', ' ', 'f', 'u', 'n'], Phenotype: this is sj much fun\n",
      "Generation 930: Fitness: 18, Genotype: ['t', 'h', 'i', 's', ' ', 'i', 's', ' ', 's', 'j', ' ', 'm', 'u', 'c', 'h', ' ', 'f', 'u', 'n'], Phenotype: this is sj much fun\n",
      "Generation 940: Fitness: 18, Genotype: ['t', 'h', 'i', 's', ' ', 'i', 's', ' ', 's', 'b', ' ', 'm', 'u', 'c', 'h', ' ', 'f', 'u', 'n'], Phenotype: this is sb much fun\n",
      "Generation 950: Fitness: 17, Genotype: ['t', 'h', 'i', 's', ' ', 'i', 's', ' ', 's', 'j', ' ', 'm', 't', 'c', 'h', ' ', 'f', 'u', 'n'], Phenotype: this is sj mtch fun\n",
      "Generation 960: Fitness: 18, Genotype: ['t', 'h', 'i', 's', ' ', 'i', 's', ' ', 's', 'w', ' ', 'm', 'u', 'c', 'h', ' ', 'f', 'u', 'n'], Phenotype: this is sw much fun\n",
      "Generation 970: Fitness: 17, Genotype: ['t', 'h', 'i', 's', ' ', 'i', 's', ' ', 's', 'q', ' ', 'm', 'u', 'c', 'h', ' ', 'f', 'u', 'v'], Phenotype: this is sq much fuv\n",
      "Generation 980: Fitness: 18, Genotype: ['t', 'h', 'i', 's', ' ', 'i', 's', ' ', 's', 'm', ' ', 'm', 'u', 'c', 'h', ' ', 'f', 'u', 'n'], Phenotype: this is sm much fun\n",
      "Generation 990: Fitness: 18, Genotype: ['t', 'h', 'i', 's', ' ', 'i', 's', ' ', 's', 'j', ' ', 'm', 'u', 'c', 'h', ' ', 'f', 'u', 'n'], Phenotype: this is sj much fun\n",
      "Generation 1000: Fitness: 17, Genotype: ['t', 'h', 'i', 's', ' ', 'i', 's', ' ', 's', 'v', ' ', 'm', 't', 'c', 'h', ' ', 'f', 'u', 'n'], Phenotype: this is sv mtch fun\n",
      "Generation 1010: Fitness: 18, Genotype: ['t', 'h', 'i', 's', ' ', 'i', 's', ' ', 's', 'j', ' ', 'm', 'u', 'c', 'h', ' ', 'f', 'u', 'n'], Phenotype: this is sj much fun\n",
      "Generation 1020: Fitness: 18, Genotype: ['t', 'h', 'i', 's', ' ', 'i', 's', ' ', 's', 'j', ' ', 'm', 'u', 'c', 'h', ' ', 'f', 'u', 'n'], Phenotype: this is sj much fun\n",
      "Generation 1030: Fitness: 17, Genotype: ['t', 'h', 'i', 's', ' ', 'i', 's', ' ', 'u', 'j', ' ', 'm', 'u', 'c', 'h', ' ', 'f', 'u', 'n'], Phenotype: this is uj much fun\n",
      "Generation 1040: Fitness: 17, Genotype: ['t', 'h', 'i', 's', ' ', 'i', 's', 'r', 's', 'j', ' ', 'm', 'u', 'c', 'h', ' ', 'f', 'u', 'n'], Phenotype: this isrsj much fun\n",
      "Generation 1050: Fitness: 17, Genotype: ['t', 'h', 'i', 's', ' ', 'i', 's', ' ', 's', 'j', ' ', 'm', 'u', 'c', 'h', ' ', 'r', 'u', 'n'], Phenotype: this is sj much run\n",
      "Generation 1060: Fitness: 18, Genotype: ['t', 'h', 'i', 's', ' ', 'i', 's', ' ', 's', 'j', ' ', 'm', 'u', 'c', 'h', ' ', 'f', 'u', 'n'], Phenotype: this is sj much fun\n",
      "Generation 1070: Fitness: 17, Genotype: ['t', 'h', 'i', 's', ' ', 'i', 's', ' ', 's', 'j', ' ', 'm', 'd', 'c', 'h', ' ', 'f', 'u', 'n'], Phenotype: this is sj mdch fun\n",
      "Generation 1080: Fitness: 17, Genotype: ['t', 'h', 'i', 's', ' ', 'i', 's', 'g', 's', 'j', ' ', 'm', 'u', 'c', 'h', ' ', 'f', 'u', 'n'], Phenotype: this isgsj much fun\n",
      "Generation 1090: Fitness: 18, Genotype: ['t', 'h', 'i', 's', ' ', 'i', 's', ' ', 's', 'j', ' ', 'm', 'u', 'c', 'h', ' ', 'f', 'u', 'n'], Phenotype: this is sj much fun\n",
      "Generation 1100: Fitness: 18, Genotype: ['t', 'h', 'i', 's', ' ', 'i', 's', ' ', 's', 'j', ' ', 'm', 'u', 'c', 'h', ' ', 'f', 'u', 'n'], Phenotype: this is sj much fun\n",
      "Generation 1110: Fitness: 17, Genotype: ['t', 'h', 'g', 's', ' ', 'i', 's', ' ', 's', 'j', ' ', 'm', 'u', 'c', 'h', ' ', 'f', 'u', 'n'], Phenotype: thgs is sj much fun\n",
      "Generation 1120: Fitness: 18, Genotype: ['t', 'h', 'i', 's', ' ', 'i', 's', ' ', 's', 'j', ' ', 'm', 'u', 'c', 'h', ' ', 'f', 'u', 'n'], Phenotype: this is sj much fun\n",
      "Generation 1130: Fitness: 18, Genotype: ['t', 'h', 'i', 's', ' ', 'i', 's', ' ', 's', 'j', ' ', 'm', 'u', 'c', 'h', ' ', 'f', 'u', 'n'], Phenotype: this is sj much fun\n",
      "Generation 1140: Fitness: 18, Genotype: ['t', 'h', 'i', 's', ' ', 'i', 's', ' ', 's', 'j', ' ', 'm', 'u', 'c', 'h', ' ', 'f', 'u', 'n'], Phenotype: this is sj much fun\n",
      "Generation 1150: Fitness: 18, Genotype: ['t', 'h', 'i', 's', ' ', 'i', 's', ' ', 's', 'q', ' ', 'm', 'u', 'c', 'h', ' ', 'f', 'u', 'n'], Phenotype: this is sq much fun\n",
      "Generation 1160: Fitness: 17, Genotype: ['t', 'h', 'i', 's', ' ', 'i', 's', ' ', 's', 'q', ' ', 'j', 'u', 'c', 'h', ' ', 'f', 'u', 'n'], Phenotype: this is sq juch fun\n",
      "Generation 1170: Fitness: 18, Genotype: ['t', 'h', 'i', 's', ' ', 'i', 's', ' ', 's', 'j', ' ', 'm', 'u', 'c', 'h', ' ', 'f', 'u', 'n'], Phenotype: this is sj much fun\n",
      "Generation 1180: Fitness: 18, Genotype: ['t', 'h', 'i', 's', ' ', 'i', 's', ' ', 's', 'q', ' ', 'm', 'u', 'c', 'h', ' ', 'f', 'u', 'n'], Phenotype: this is sq much fun\n",
      "Generation 1190: Fitness: 18, Genotype: ['t', 'h', 'i', 's', ' ', 'i', 's', ' ', 's', 'q', ' ', 'm', 'u', 'c', 'h', ' ', 'f', 'u', 'n'], Phenotype: this is sq much fun\n",
      "Generation 1200: Fitness: 18, Genotype: ['t', 'h', 'i', 's', ' ', 'i', 's', ' ', 's', 'q', ' ', 'm', 'u', 'c', 'h', ' ', 'f', 'u', 'n'], Phenotype: this is sq much fun\n",
      "Generation 1210: Fitness: 18, Genotype: ['t', 'h', 'i', 's', ' ', 'i', 's', ' ', 's', 'a', ' ', 'm', 'u', 'c', 'h', ' ', 'f', 'u', 'n'], Phenotype: this is sa much fun\n",
      "Generation 1220: Fitness: 18, Genotype: ['t', 'h', 'i', 's', ' ', 'i', 's', ' ', 's', 'q', ' ', 'm', 'u', 'c', 'h', ' ', 'f', 'u', 'n'], Phenotype: this is sq much fun\n",
      "Generation 1230: Fitness: 18, Genotype: ['t', 'h', 'i', 's', ' ', 'i', 's', ' ', 's', 'q', ' ', 'm', 'u', 'c', 'h', ' ', 'f', 'u', 'n'], Phenotype: this is sq much fun\n",
      "Generation 1240: Fitness: 18, Genotype: ['t', 'h', 'i', 's', ' ', 'i', 's', ' ', 's', 'q', ' ', 'm', 'u', 'c', 'h', ' ', 'f', 'u', 'n'], Phenotype: this is sq much fun\n",
      "Generation 1250: Fitness: 18, Genotype: ['t', 'h', 'i', 's', ' ', 'i', 's', ' ', 's', 'q', ' ', 'm', 'u', 'c', 'h', ' ', 'f', 'u', 'n'], Phenotype: this is sq much fun\n",
      "Generation 1260: Fitness: 18, Genotype: ['t', 'h', 'i', 's', ' ', 'i', 's', ' ', 's', 's', ' ', 'm', 'u', 'c', 'h', ' ', 'f', 'u', 'n'], Phenotype: this is ss much fun\n",
      "Generation 1270: Fitness: 17, Genotype: ['t', 'h', 'i', 's', ' ', 'i', 's', ' ', 'g', 'q', ' ', 'm', 'u', 'c', 'h', ' ', 'f', 'u', 'n'], Phenotype: this is gq much fun\n",
      "Generation 1280: Fitness: 18, Genotype: ['t', 'h', 'i', 's', ' ', 'i', 's', ' ', 's', 'r', ' ', 'm', 'u', 'c', 'h', ' ', 'f', 'u', 'n'], Phenotype: this is sr much fun\n",
      "Generation 1290: Fitness: 17, Genotype: ['y', 'h', 'i', 's', ' ', 'i', 's', ' ', 's', 'k', ' ', 'm', 'u', 'c', 'h', ' ', 'f', 'u', 'n'], Phenotype: yhis is sk much fun\n",
      "Generation 1300: Fitness: 17, Genotype: ['t', 'h', 'i', 's', ' ', 'i', 's', 'j', 's', 's', ' ', 'm', 'u', 'c', 'h', ' ', 'f', 'u', 'n'], Phenotype: this isjss much fun\n",
      "Generation 1310: Fitness: 17, Genotype: ['t', 'h', 'i', 's', ' ', 'i', 's', ' ', 's', 'q', ' ', 'm', 'u', 'a', 'h', ' ', 'f', 'u', 'n'], Phenotype: this is sq muah fun\n",
      "Generation 1320: Fitness: 17, Genotype: ['t', 'h', 'i', 's', ' ', 'i', 's', ' ', 's', 's', 'f', 'm', 'u', 'c', 'h', ' ', 'f', 'u', 'n'], Phenotype: this is ssfmuch fun\n",
      "Generation 1330: Fitness: 18, Genotype: ['t', 'h', 'i', 's', ' ', 'i', 's', ' ', 's', 's', ' ', 'm', 'u', 'c', 'h', ' ', 'f', 'u', 'n'], Phenotype: this is ss much fun\n",
      "Generation 1340: Fitness: 18, Genotype: ['t', 'h', 'i', 's', ' ', 'i', 's', ' ', 's', 's', ' ', 'm', 'u', 'c', 'h', ' ', 'f', 'u', 'n'], Phenotype: this is ss much fun\n",
      "Generation 1350: Fitness: 18, Genotype: ['t', 'h', 'i', 's', ' ', 'i', 's', ' ', 's', 'q', ' ', 'm', 'u', 'c', 'h', ' ', 'f', 'u', 'n'], Phenotype: this is sq much fun\n",
      "Generation 1360: Fitness: 18, Genotype: ['t', 'h', 'i', 's', ' ', 'i', 's', ' ', 's', 's', ' ', 'm', 'u', 'c', 'h', ' ', 'f', 'u', 'n'], Phenotype: this is ss much fun\n",
      "Solution found in generation 1365\n"
     ]
    }
   ],
   "source": [
    "result1 = genetic_algorithm(target1, population, alphabet=ALPHABET) # do what you need to do for your implementation but don't change the lines above or below."
   ]
  },
  {
   "cell_type": "code",
   "execution_count": 19,
   "metadata": {},
   "outputs": [
    {
     "name": "stdout",
     "output_type": "stream",
     "text": [
      "'this is so much fun'\n"
     ]
    }
   ],
   "source": [
    "pprint(result1, compact=True)"
   ]
  },
  {
   "cell_type": "markdown",
   "metadata": {},
   "source": [
    "## Problem 2\n",
    "\n",
    "You should have working code now.\n",
    "The goal here is to think a bit more about fitness functions.\n",
    "The target string is now, 'nuf hcum os si siht'.\n",
    "This is obviously target #1 but reversed.\n",
    "If we just wanted to match the string, this would be trivial.\n",
    "Instead, this problem, we want to \"decode\" the string so that the best individual displays the target forwards.\n",
    "In order to do this, you'll need to come up with a fitness function that measures how successful candidates are towards this goal.\n",
    "The constraint is that you may not perform any global operations on the target or individuals.\n",
    "Your fitness function must still compare a single gene against a single gene.\n",
    "Your solution will likely not be Pythonic but use indexing.\n",
    "That's ok.\n",
    "<div style=\"background: lemonchiffon; margin:20px; padding: 20px;\">\n",
    "    <strong>Important</strong>\n",
    "    <p>\n",
    "        You may not reverse an entire string (either target or candidate) at any time.\n",
    "        Everything must be a computation of one gene against one gene (one letter against one letter).\n",
    "        Failure to follow these directions will result in 0 points for the problem.\n",
    "    </p>\n",
    "</div>\n",
    "\n",
    "The best individual in the population is the one who expresses this string *forwards*.\n",
    "\n",
    "\"this is so much fun\""
   ]
  },
  {
   "cell_type": "code",
   "execution_count": 20,
   "metadata": {},
   "outputs": [],
   "source": [
    "target2 = \"nuf hcum os si siht\""
   ]
  },
  {
   "cell_type": "code",
   "execution_count": 21,
   "metadata": {},
   "outputs": [],
   "source": [
    "# set up if you need it.\n",
    "population = initialize_population(len(target2), 100, ALPHABET)"
   ]
  },
  {
   "cell_type": "code",
   "execution_count": 22,
   "metadata": {},
   "outputs": [
    {
     "name": "stdout",
     "output_type": "stream",
     "text": [
      "Generation 0: Fitness: 2, Genotype: ['a', 'r', 't', 'j', 'k', 'h', 'd', 'n', 'd', 'c', 'w', 'm', 'd', 'q', ' ', 'h', 'h', 'y', 'n'], Phenotype: artjkhdndcwmdq hhyn\n",
      "Generation 10: Fitness: 8, Genotype: ['t', 'h', 'z', 'm', 'x', 'd', 's', ' ', 'f', 'o', 'k', 'q', 'u', 'e', 'y', 'k', 'f', 'v', 'n'], Phenotype: thzmxds fokqueykfvn\n",
      "Generation 20: Fitness: 10, Genotype: ['t', 'f', 'i', 'h', ' ', 'n', 's', 'e', 'f', 'o', 'l', 'm', 'u', 't', 'h', 'l', 'f', 'v', 'n'], Phenotype: tfih nsefolmuthlfvn\n",
      "Generation 30: Fitness: 11, Genotype: ['t', 'h', 'i', 'h', 'l', 'e', 's', 'x', 's', 'o', 'w', 'm', 'u', 't', 'h', 'k', 'f', 'v', 'n'], Phenotype: thihlesxsowmuthkfvn\n",
      "Generation 40: Fitness: 11, Genotype: ['t', 'h', 'i', 'm', 'l', 'n', 's', 'c', 's', 'o', 'w', 'm', 'u', 'j', 'h', 'g', 'f', 'o', 'n'], Phenotype: thimlnscsowmujhgfon\n",
      "Generation 50: Fitness: 12, Genotype: ['t', 'h', 'i', 's', 'l', 'w', 's', 'e', 's', 'o', 'l', 'm', 'u', 't', 'h', 'l', 'f', 'v', 'n'], Phenotype: thislwsesolmuthlfvn\n",
      "Generation 60: Fitness: 13, Genotype: ['t', 'h', 'i', 's', 'l', 'f', 's', 'e', 's', 'o', 'l', 'm', 'u', 't', 'h', 'l', 'f', 'u', 'n'], Phenotype: thislfsesolmuthlfun\n",
      "Generation 70: Fitness: 13, Genotype: ['t', 'h', 'i', 's', 'l', 'w', 's', 'e', 's', 'o', ' ', 'm', 'u', 't', 'h', 'k', 'f', 'v', 'n'], Phenotype: thislwseso muthkfvn\n",
      "Generation 80: Fitness: 14, Genotype: ['t', 'h', 'i', 's', 'l', 'w', 's', 'e', 's', 'o', ' ', 'm', 'u', 't', 'h', ' ', 'f', 'v', 'n'], Phenotype: thislwseso muth fvn\n",
      "Generation 90: Fitness: 14, Genotype: ['t', 'h', 'i', 's', ' ', 'g', 's', 'e', 's', 'o', ' ', 'm', 'u', 's', 'h', 'f', 'f', 's', 'n'], Phenotype: this gseso mushffsn\n",
      "Generation 100: Fitness: 14, Genotype: ['t', 'h', 'i', 's', 'l', 'h', 's', ' ', 's', 'o', ' ', 'm', 'u', 'z', 'h', 'l', 'f', 'v', 'n'], Phenotype: thislhs so muzhlfvn\n",
      "Generation 110: Fitness: 14, Genotype: ['t', 'h', 'i', 's', 'l', 'g', 's', ' ', 's', 'o', ' ', 'm', 'u', 'w', 'h', 'j', 'f', 'v', 'n'], Phenotype: thislgs so muwhjfvn\n",
      "Generation 120: Fitness: 14, Genotype: ['t', 'h', 'i', 's', 'd', 'v', 's', 'z', 's', 'o', ' ', 'm', 'u', 't', 'h', ' ', 'f', ' ', 'n'], Phenotype: thisdvszso muth f n\n",
      "Generation 130: Fitness: 15, Genotype: ['t', 'h', 'i', 's', 'l', 'h', 's', ' ', 's', 'o', ' ', 'm', 'u', 'r', 'h', ' ', 'f', ' ', 'n'], Phenotype: thislhs so murh f n\n",
      "Generation 140: Fitness: 16, Genotype: ['t', 'h', 'i', 's', ' ', 'o', 's', 'v', 's', 'o', ' ', 'm', 'u', 't', 'h', ' ', 'f', 'u', 'n'], Phenotype: this osvso muth fun\n",
      "Generation 150: Fitness: 16, Genotype: ['t', 'h', 'i', 's', ' ', 'o', 's', 'g', 's', 'o', ' ', 'm', 'u', 't', 'h', ' ', 'f', 'u', 'n'], Phenotype: this osgso muth fun\n",
      "Generation 160: Fitness: 16, Genotype: ['t', 'h', 'i', 's', ' ', 'g', 'm', ' ', 's', 'o', ' ', 'm', 'u', 'w', 'h', ' ', 'f', 'u', 'n'], Phenotype: this gm so muwh fun\n",
      "Generation 170: Fitness: 16, Genotype: ['t', 'h', 'i', 's', ' ', 'o', 'm', ' ', 's', 'o', ' ', 'm', 'u', 'w', 'h', ' ', 'f', 'u', 'n'], Phenotype: this om so muwh fun\n",
      "Generation 180: Fitness: 17, Genotype: ['b', 'h', 'i', 's', ' ', 'i', 's', ' ', 's', 'o', ' ', 'm', 'u', 'v', 'h', ' ', 'f', 'u', 'n'], Phenotype: bhis is so muvh fun\n",
      "Generation 190: Fitness: 17, Genotype: ['t', 'h', 'i', 's', ' ', 'g', 's', ' ', 's', 'o', ' ', 'm', 'u', 'v', 'h', ' ', 'f', 'u', 'n'], Phenotype: this gs so muvh fun\n",
      "Generation 200: Fitness: 17, Genotype: ['t', 'q', 'i', 's', ' ', 'i', 's', ' ', 's', 'o', ' ', 'm', 'u', 'w', 'h', ' ', 'f', 'u', 'n'], Phenotype: tqis is so muwh fun\n",
      "Generation 210: Fitness: 17, Genotype: ['t', 'h', 'i', 's', ' ', 'i', 'd', ' ', 's', 'o', ' ', 'm', 'u', 'v', 'h', ' ', 'f', 'u', 'n'], Phenotype: this id so muvh fun\n",
      "Generation 220: Fitness: 18, Genotype: ['t', 'h', 'i', 's', ' ', 'i', 's', ' ', 's', 'o', ' ', 'm', 'u', 'v', 'h', ' ', 'f', 'u', 'n'], Phenotype: this is so muvh fun\n",
      "Generation 230: Fitness: 17, Genotype: ['t', 'h', 'i', 's', ' ', 'p', 's', ' ', 's', 'o', ' ', 'm', 'u', 'v', 'h', ' ', 'f', 'u', 'n'], Phenotype: this ps so muvh fun\n",
      "Generation 240: Fitness: 18, Genotype: ['t', 'h', 'i', 's', ' ', 'p', 's', ' ', 's', 'o', ' ', 'm', 'u', 'c', 'h', ' ', 'f', 'u', 'n'], Phenotype: this ps so much fun\n",
      "Solution found in generation 241\n"
     ]
    }
   ],
   "source": [
    "result2 = genetic_algorithm(target2, population, alphabet=ALPHABET, reversed=True) # do what you need to do for your implementation but don't change the lines above or below."
   ]
  },
  {
   "cell_type": "code",
   "execution_count": 23,
   "metadata": {},
   "outputs": [
    {
     "name": "stdout",
     "output_type": "stream",
     "text": [
      "'this is so much fun'\n"
     ]
    }
   ],
   "source": [
    "pprint(result2, compact=True)"
   ]
  },
  {
   "cell_type": "markdown",
   "metadata": {},
   "source": [
    "## Problem 3\n",
    "\n",
    "This is a variation on the theme of Problem 2.\n",
    "The Caeser Cypher replaces each letter of a string with the letter 13 characters down alphabet (rotating from \"z\" back to \"a\" as needed).\n",
    "This is also known as ROT13 (for \"rotate 13\").\n",
    "Latin did not have spaces (and the space is not continguous with the letters a-z) so we'll remove them from our alphabet.\n",
    "Again, the goal is to derive a fitness function that compares a single gene against a single gene, without global transformations.\n",
    "This fitness function assigns higher scores to individuals that correctly decode the target.\n",
    "\n",
    "<div style=\"background: lemonchiffon; margin:20px; padding: 20px;\">\n",
    "    <strong>Important</strong>\n",
    "    <p>\n",
    "        You may not apply ROT13 to an entire string (either target or candidate) at any time.\n",
    "        Everything must be a computation of one gene against one gene.\n",
    "        Failure to follow these directions will result in 0 points for the problem.\n",
    "    </p>\n",
    "</div>\n",
    "\n",
    "The best individual will express the target *decoded*.\n",
    "\n",
    "\"thisissomuchfun\""
   ]
  },
  {
   "cell_type": "code",
   "execution_count": 24,
   "metadata": {},
   "outputs": [],
   "source": [
    "ALPHABET3 = \"abcdefghijklmnopqrstuvwxyz\""
   ]
  },
  {
   "cell_type": "code",
   "execution_count": 25,
   "metadata": {},
   "outputs": [],
   "source": [
    "target3 = \"guvfvffbzhpusha\""
   ]
  },
  {
   "cell_type": "code",
   "execution_count": 26,
   "metadata": {},
   "outputs": [],
   "source": [
    "# set up if you need it\n",
    "population = initialize_population(len(target3), 100, ALPHABET3)"
   ]
  },
  {
   "cell_type": "code",
   "execution_count": 27,
   "metadata": {},
   "outputs": [
    {
     "name": "stdout",
     "output_type": "stream",
     "text": [
      "Generation 0: Fitness: 3, Genotype: ['p', 'j', 'i', 'r', 'w', 'q', 'l', 'i', 's', 'u', 'f', 'h', 't', 't', 'x'], Phenotype: pjirwqlisufhttx\n",
      "Generation 10: Fitness: 8, Genotype: ['t', 'e', 'i', 'r', 's', 's', 's', 'w', 'm', 'f', 'c', 't', 'f', 'u', 'm'], Phenotype: teirssswmfctfum\n",
      "Generation 20: Fitness: 10, Genotype: ['t', 'h', 'i', 'r', 'd', 's', 's', 'o', 'o', 'f', 'c', 'h', 'f', 'x', 'n'], Phenotype: thirdssoofchfxn\n",
      "Generation 30: Fitness: 13, Genotype: ['t', 'h', 'i', 'u', 'i', 's', 's', 'o', 'm', 'u', 'c', 'h', 'f', 's', 'n'], Phenotype: thiuissomuchfsn\n",
      "Generation 40: Fitness: 13, Genotype: ['t', 'h', 'i', 'b', 'i', 's', 's', 'o', 'm', 'u', 'c', 'h', 'f', 'x', 'n'], Phenotype: thibissomuchfxn\n",
      "Generation 50: Fitness: 13, Genotype: ['t', 'h', 'i', 'b', 'i', 's', 's', 'o', 'm', 'u', 'c', 'h', 'f', 'p', 'n'], Phenotype: thibissomuchfpn\n",
      "Generation 60: Fitness: 13, Genotype: ['t', 'h', 'i', 'd', 'i', 's', 's', 'o', 'm', 'u', 'c', 'h', 'f', 'h', 'n'], Phenotype: thidissomuchfhn\n",
      "Generation 70: Fitness: 13, Genotype: ['t', 'h', 'i', 'u', 'i', 's', 's', 'o', 'm', 'u', 'c', 'h', 'f', 'p', 'n'], Phenotype: thiuissomuchfpn\n",
      "Generation 80: Fitness: 13, Genotype: ['t', 'h', 'i', 'y', 'i', 's', 's', 'o', 'm', 'u', 'c', 'h', 'f', 'g', 'n'], Phenotype: thiyissomuchfgn\n",
      "Generation 90: Fitness: 14, Genotype: ['t', 'h', 'i', 's', 'i', 's', 's', 'o', 'm', 'u', 'c', 'h', 'f', 'p', 'n'], Phenotype: thisissomuchfpn\n",
      "Generation 100: Fitness: 13, Genotype: ['t', 'h', 'i', 'y', 'i', 's', 's', 'o', 'm', 'u', 'c', 'h', 'f', 'p', 'n'], Phenotype: thiyissomuchfpn\n",
      "Generation 110: Fitness: 13, Genotype: ['t', 'h', 'i', 'y', 'i', 's', 's', 'o', 'm', 'u', 'c', 'h', 'f', 'i', 'n'], Phenotype: thiyissomuchfin\n",
      "Generation 120: Fitness: 14, Genotype: ['t', 'h', 'i', 'y', 'i', 's', 's', 'o', 'm', 'u', 'c', 'h', 'f', 'u', 'n'], Phenotype: thiyissomuchfun\n",
      "Generation 130: Fitness: 14, Genotype: ['t', 'h', 'i', 'y', 'i', 's', 's', 'o', 'm', 'u', 'c', 'h', 'f', 'u', 'n'], Phenotype: thiyissomuchfun\n",
      "Generation 140: Fitness: 14, Genotype: ['t', 'h', 'i', 'p', 'i', 's', 's', 'o', 'm', 'u', 'c', 'h', 'f', 'u', 'n'], Phenotype: thipissomuchfun\n",
      "Generation 150: Fitness: 14, Genotype: ['t', 'h', 'i', 'p', 'i', 's', 's', 'o', 'm', 'u', 'c', 'h', 'f', 'u', 'n'], Phenotype: thipissomuchfun\n",
      "Generation 160: Fitness: 14, Genotype: ['t', 'h', 'i', 'o', 'i', 's', 's', 'o', 'm', 'u', 'c', 'h', 'f', 'u', 'n'], Phenotype: thioissomuchfun\n",
      "Generation 170: Fitness: 14, Genotype: ['t', 'h', 'i', 'o', 'i', 's', 's', 'o', 'm', 'u', 'c', 'h', 'f', 'u', 'n'], Phenotype: thioissomuchfun\n",
      "Generation 180: Fitness: 14, Genotype: ['t', 'h', 'i', 'p', 'i', 's', 's', 'o', 'm', 'u', 'c', 'h', 'f', 'u', 'n'], Phenotype: thipissomuchfun\n",
      "Generation 190: Fitness: 14, Genotype: ['t', 'h', 'i', 'l', 'i', 's', 's', 'o', 'm', 'u', 'c', 'h', 'f', 'u', 'n'], Phenotype: thilissomuchfun\n",
      "Solution found in generation 191\n"
     ]
    }
   ],
   "source": [
    "result3 = genetic_algorithm(target3, population, alphabet=ALPHABET3, rotation=13) # do what you need to do for your implementation but don't change the lines above or below."
   ]
  },
  {
   "cell_type": "code",
   "execution_count": 28,
   "metadata": {},
   "outputs": [
    {
     "name": "stdout",
     "output_type": "stream",
     "text": [
      "'thisissomuchfun'\n"
     ]
    }
   ],
   "source": [
    "pprint(result3, compact=True)"
   ]
  },
  {
   "cell_type": "markdown",
   "metadata": {},
   "source": [
    "## Problem 4\n",
    "\n",
    "There is no code for this problem.\n",
    "\n",
    "In Problem 3, we assumed we knew what the shift was in ROT-13.\n",
    "What if we didn't?\n",
    "Describe how you might solve that problem including a description of the solution encoding (chromosome and interpretation) and fitness function. Assume we can add spaces into the message."
   ]
  },
  {
   "cell_type": "markdown",
   "metadata": {},
   "source": [
    "Here is the way I would attempt to handle this. Assuming that it is still just a shift instead of an actual cipher of some sort, here are the steps I would take.\n",
    "\n",
    "1. Create Popultation like normal\n",
    "2. Create a list of all possible rotation, in our case 0-25\n",
    "3. Attempt to \"decode\" in a similar way to problem 3, however do it for each possible rotation\n",
    "4. After attempting to decode the message with specified rotation, evaluate the fitness of the decoded string by checking how many vald english words it contains\n",
    "5. whichever rotation has the most english words within it should be the true decoded string (can't say that it is whatever string has english words as words can sometimes appear even though they are unintentional)\n",
    "\n",
    "The fitness function will evaluate how closely the decoded message resembles valid English by comparing it to a dictionary of English words. This is different than the normal fitness function as it is checking for words instead of closeness to original string. Similar to what we had to do for Problem 3 but we don't know the answer.\n",
    "\n",
    "Chromosome is the same as it has been, represented by a letter that is hopefully moved towards a decoded string."
   ]
  },
  {
   "cell_type": "markdown",
   "metadata": {},
   "source": [
    "## Challenge\n",
    "\n",
    "**You do not need to do this problem and it won't be graded if you do. It's just here if you want to push your understanding.**\n",
    "\n",
    "The original GA used binary encodings for everything.\n",
    "We're basically using a Base 27 encoding.\n",
    "You could, however, write a version of the algorithm that uses an 8 bit encoding for each letter (ignore spaces as they're a bit of a bother).\n",
    "That is, a 4 letter candidate looks like this:\n",
    "\n",
    "```\n",
    "0, 1, 1, 0, 1, 0, 0, 0, 0, 1, 1, 0, 0, 1, 0, 1, 0, 1, 1, 0, 1, 1, 0, 0, 0, 1, 1, 0, 1, 1, 0, 0, 0, 1, 1, 0, 1, 1, 1, 1\n",
    "```\n",
    "\n",
    "If you wrote your `genetic_algorithm` code general enough, with higher order functions, you should be able to implement it using bit strings instead of latin strings."
   ]
  },
  {
   "cell_type": "markdown",
   "metadata": {},
   "source": [
    "## Before You Submit...\n",
    "\n",
    "1. Did you provide output exactly as requested?\n",
    "2. Did you re-execute the entire notebook? (\"Restart Kernel and Rull All Cells...\")\n",
    "3. If you did not complete the assignment or had difficulty please explain what gave you the most difficulty in the Markdown cell below.\n",
    "4. Did you change the name of the file to `jhed_id.ipynb`?\n",
    "\n",
    "Do not submit any other files."
   ]
  },
  {
   "cell_type": "code",
   "execution_count": 29,
   "metadata": {},
   "outputs": [
    {
     "data": {
      "text/plain": [
       "'001'"
      ]
     },
     "execution_count": 29,
     "metadata": {},
     "output_type": "execute_result"
    }
   ],
   "source": [
    "bin(1)[2:].rjust(3, '0')"
   ]
  },
  {
   "cell_type": "code",
   "execution_count": 30,
   "metadata": {},
   "outputs": [
    {
     "ename": "SyntaxError",
     "evalue": "cannot assign to literal (1797879610.py, line 1)",
     "output_type": "error",
     "traceback": [
      "\u001b[1;36m  Cell \u001b[1;32mIn[30], line 1\u001b[1;36m\u001b[0m\n\u001b[1;33m    [0, 0, 1, 0, 1, 0, 1, 1, 1] => [1, 2, 7]\u001b[0m\n\u001b[1;37m     ^\u001b[0m\n\u001b[1;31mSyntaxError\u001b[0m\u001b[1;31m:\u001b[0m cannot assign to literal\n"
     ]
    }
   ],
   "source": [
    "[0, 0, 1, 0, 1, 0, 1, 1, 1] => [1, 2, 7]"
   ]
  },
  {
   "cell_type": "code",
   "execution_count": 21,
   "metadata": {},
   "outputs": [
    {
     "data": {
      "text/plain": [
       "[1, 0, 0, 0, 1, 0, 1, 0, 1]"
      ]
     },
     "execution_count": 21,
     "metadata": {},
     "output_type": "execute_result"
    }
   ],
   "source": [
    "[4, 2, 5] => [1, 0, 0, 0, 1, 0, 1, 0, 1]"
   ]
  },
  {
   "cell_type": "code",
   "execution_count": 22,
   "metadata": {},
   "outputs": [],
   "source": [
    "population = [\n",
    "    [1, 0, 0, 0, 1, 0, 1, 0, 1],\n",
    "    [0, 0, 1, 0, 1, 0, 1, 1, 1],\n",
    "    [0, 1, 1, 0, 1, 1, 1, 0, 1]\n",
    "]"
   ]
  },
  {
   "cell_type": "code",
   "execution_count": 23,
   "metadata": {},
   "outputs": [],
   "source": [
    "population = [\n",
    "    [1, 0, 0],\n",
    "    [0, 0, 1],\n",
    "    [0, 1, 1],\n",
    "    [0, 1, 0]\n",
    "]"
   ]
  },
  {
   "cell_type": "markdown",
   "metadata": {},
   "source": [
    "0. do we crossover? rand() < 0.9\n",
    "1. pick a locus/index at random...\n",
    "2. cross\n",
    "\n",
    "```\n",
    "mom    010111   011001000\n",
    "dad    101001   011110110\n",
    "\n",
    "chil1  010111   011110110\n",
    "chil2  101001   011001000\n",
    "```\n",
    "0. do we mutate? rand() < 0.05 if TRUE\n",
    "1. pick a locus/index at random... \n",
    "2. pick a symbol from the alphabet at random.. [0, 1]\n",
    "\n",
    "```\n",
    "chil1  010111010110110\n",
    "chil2  101001011001000\n",
    "```\n"
   ]
  },
  {
   "cell_type": "code",
   "execution_count": 26,
   "metadata": {},
   "outputs": [
    {
     "data": {
      "text/plain": [
       "97"
      ]
     },
     "execution_count": 26,
     "metadata": {},
     "output_type": "execute_result"
    }
   ],
   "source": [
    "ord(\"a\")"
   ]
  },
  {
   "cell_type": "code",
   "execution_count": 27,
   "metadata": {},
   "outputs": [
    {
     "data": {
      "text/plain": [
       "'a'"
      ]
     },
     "execution_count": 27,
     "metadata": {},
     "output_type": "execute_result"
    }
   ],
   "source": [
    "chr(97)"
   ]
  },
  {
   "cell_type": "code",
   "execution_count": null,
   "metadata": {},
   "outputs": [],
   "source": [
    "[\"h\", \"e\", \"l\", \"l\", \"o\"] -> genotype\n",
    "\"hello\" -> phenotype"
   ]
  },
  {
   "cell_type": "code",
   "execution_count": null,
   "metadata": {},
   "outputs": [],
   "source": [
    "[\"b\", \"r\", \"e\", \"a\", \"d\"] ---> target\n",
    "\n",
    "F(target) -> f(genotype) -> score\n",
    "\n",
    "\n",
    "[\"r\", \"l\", \"e\", \"k\", \"m\"] ---> genotype\n",
    "\n",
    "f(genotype) -> score "
   ]
  },
  {
   "cell_type": "code",
   "execution_count": null,
   "metadata": {},
   "outputs": [],
   "source": []
  }
 ],
 "metadata": {
  "kernelspec": {
   "display_name": "Python (en605645)",
   "language": "python",
   "name": "en605645"
  },
  "language_info": {
   "codemirror_mode": {
    "name": "ipython",
    "version": 3
   },
   "file_extension": ".py",
   "mimetype": "text/x-python",
   "name": "python",
   "nbconvert_exporter": "python",
   "pygments_lexer": "ipython3",
   "version": "3.11.9"
  },
  "toc": {
   "colors": {
    "hover_highlight": "#DAA520",
    "navigate_num": "#000000",
    "navigate_text": "#333333",
    "running_highlight": "#FF0000",
    "selected_highlight": "#FFD700",
    "sidebar_border": "#EEEEEE",
    "wrapper_background": "#FFFFFF"
   },
   "moveMenuLeft": true,
   "nav_menu": {
    "height": "120px",
    "width": "252px"
   },
   "navigate_menu": true,
   "number_sections": true,
   "sideBar": true,
   "threshold": 4,
   "toc_cell": false,
   "toc_section_display": "block",
   "toc_window_display": false,
   "widenNotebook": false
  }
 },
 "nbformat": 4,
 "nbformat_minor": 4
}
