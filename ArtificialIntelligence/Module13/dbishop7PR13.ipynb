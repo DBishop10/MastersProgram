{
 "cells": [
  {
   "cell_type": "code",
   "execution_count": 1,
   "metadata": {},
   "outputs": [],
   "source": [
    "%matplotlib inline"
   ]
  },
  {
   "cell_type": "markdown",
   "metadata": {},
   "source": [
    "# Module 13 - Programming Assignment\n",
    "\n",
    "## Directions\n",
    "\n",
    "1. Change the name of this file to be your JHED id as in `jsmith299.ipynb`. Because sure you use your JHED ID (it's made out of your name and not your student id which is just letters and numbers).\n",
    "2. Make sure the notebook you submit is cleanly and fully executed. I do not grade unexecuted notebooks.\n",
    "3. Submit your notebook back in Blackboard where you downloaded this file.\n",
    "\n",
    "*Provide the output **exactly** as requested*"
   ]
  },
  {
   "cell_type": "markdown",
   "metadata": {},
   "source": [
    "# The Problem\n",
    "\n",
    "When we last left our agent in Module 4, it was wandering around a world filled with plains, forests, swamps, hills and mountains. This presupposes a map with known terrain:\n",
    "\n",
    "```\n",
    "......\n",
    "...**.\n",
    "...***\n",
    "..^...\n",
    "..~^..\n",
    "```\n",
    "\n",
    "but what if all we know is that we have some area of interest, that we've reduced to a GPS grid:\n",
    "\n",
    "```\n",
    "??????\n",
    "??????\n",
    "??????\n",
    "??????\n",
    "??????\n",
    "```\n",
    "\n",
    "and the agent has to determine what kind of terrain is to the left, front and right of it?\n",
    "\n",
    "Assuming the agent has a very simple visual sensor that constructs a 4x4 grayscale image for each of the three directions, it might it could see something like this:"
   ]
  },
  {
   "cell_type": "code",
   "execution_count": 2,
   "metadata": {},
   "outputs": [
    {
     "data": {
      "image/png": "[encoded data removed]",
      "text/plain": [
       "<Figure size 2000x600 with 4 Axes>"
      ]
     },
     "metadata": {},
     "output_type": "display_data"
    }
   ],
   "source": [
    "import numpy as np\n",
    "import matplotlib.pyplot as plt\n",
    "import random\n",
    "\n",
    "plain =  [0.0, 0.0, 0.0, 0.0,0.0, 0.0, 0.0, 0.0,0.0, 0.0, 0.0, 0.0,1.0, 1.0, 1.0, 1.0]\n",
    "forest = [0.0, 1.0, 0.0, 0.0,1.0, 1.0, 1.0, 0.0,1.0, 1.0, 1.0, 1.0,0.0, 1.0, 0.0, 0.0]\n",
    "hills =  [0.0, 0.0, 0.0, 0.0,0.0, 0.0, 1.0, 0.0,0.0, 1.0, 1.0, 1.0,1.0, 1.0, 1.0, 1.0]\n",
    "swamp =  [0.0, 0.0, 0.0, 0.0,0.0, 0.0, 0.0, 0.0,1.0, 0.0, 1.0, 0.0,1.0, 1.0, 1.0, 1.0]\n",
    "\n",
    "figure = plt.figure(figsize=(20,6))\n",
    "\n",
    "axes = figure.add_subplot(1, 4, 1)\n",
    "pixels = np.array([255 - p * 255 for p in plain], dtype='uint8')\n",
    "pixels = pixels.reshape((4, 4))\n",
    "axes.set_title( \"Left Camera\")\n",
    "axes.imshow(pixels, cmap='gray')\n",
    "\n",
    "axes = figure.add_subplot(1, 4, 2)\n",
    "pixels = np.array([255 - p * 255 for p in forest], dtype='uint8')\n",
    "pixels = pixels.reshape((4, 4))\n",
    "axes.set_title( \"Front Camera\")\n",
    "axes.imshow(pixels, cmap='gray')\n",
    "\n",
    "axes = figure.add_subplot(1, 4, 3)\n",
    "pixels = np.array([255 - p * 255 for p in hills], dtype='uint8')\n",
    "pixels = pixels.reshape((4, 4))\n",
    "axes.set_title( \"Right Camera\")\n",
    "axes.imshow(pixels, cmap='gray')\n",
    "\n",
    "\n",
    "axes = figure.add_subplot(1, 4, 4)\n",
    "pixels = np.array([255 - p * 255 for p in swamp], dtype='uint8')\n",
    "pixels = pixels.reshape((4, 4))\n",
    "axes.set_title( \"Right Camera\")\n",
    "axes.imshow(pixels, cmap='gray')\n",
    "\n",
    "plt.show()\n",
    "plt.close()"
   ]
  },
  {
   "cell_type": "markdown",
   "metadata": {},
   "source": [
    "which would be plains, forest and hills respectively.\n"
   ]
  },
  {
   "cell_type": "markdown",
   "metadata": {},
   "source": [
    "## The Assignment\n",
    "\n",
    "In Assignment 12, we applied a logistic regression to determine if something was \"hills\" or \"not hills\". For this programming assignment your task is to write an artificial neural network that determines what kind of terrain it is. This is a multi-class problem.\n",
    "\n",
    "For a starting point, you can refer to Pseudocode and the Self-Check."
   ]
  },
  {
   "cell_type": "markdown",
   "metadata": {},
   "source": [
    "## Data\n",
    "\n",
    "As before, we have clean examples of the different types of terrain but based on the location, the registration can be a bit off for some of the types and the visual sensor is often blurry.\n",
    "\n",
    "Here are the clean examples with different registrations: "
   ]
  },
  {
   "cell_type": "code",
   "execution_count": 3,
   "metadata": {},
   "outputs": [],
   "source": [
    "clean_data = {\n",
    "    \"plains\": [\n",
    "        [0.0, 0.0, 0.0, 0.0, 0.0, 0.0, 0.0, 0.0, 0.0, 0.0, 0.0, 0.0, 1.0, 1.0, 1.0, 1.0, \"plains\"]\n",
    "    ],\n",
    "    \"forest\": [\n",
    "        [0.0, 1.0, 0.0, 0.0, 1.0, 1.0, 1.0, 0.0, 1.0, 1.0, 1.0, 1.0, 0.0, 1.0, 0.0, 0.0, \"forest\"],\n",
    "        [0.0, 0.0, 1.0, 0.0, 0.0, 1.0, 1.0, 1.0, 1.0, 1.0, 1.0, 1.0, 0.0, 0.0, 1.0, 0.0, \"forest\"],\n",
    "        [1.0, 0.0, 0.0, 0.0, 1.0, 1.0, 0.0, 0.0, 1.0, 1.0, 1.0, 0.0, 1.0, 0.0, 0.0, 0.0, \"forest\"],\n",
    "        [0.0, 0.0, 0.0, 1.0, 0.0, 0.0, 1.0, 1.0, 0.0, 1.0, 1.0, 1.0, 0.0, 0.0, 0.0, 1.0, \"forest\"]\n",
    "    ],\n",
    "    \"hills\": [\n",
    "        [0.0, 0.0, 0.0, 0.0, 0.0, 0.0, 1.0, 0.0, 0.0, 1.0, 1.0, 1.0, 1.0, 1.0, 1.0, 1.0, \"hills\"],\n",
    "        [0.0, 0.0, 0.0, 0.0, 0.0, 1.0, 0.0, 0.0, 1.0, 1.0, 1.0, 0.0, 1.0, 1.0, 1.0, 1.0, \"hills\"],\n",
    "        [0.0, 0.0, 0.0, 0.0, 1.0, 0.0, 0.0, 0.0, 1.0, 1.0, 0.0, 0.0, 1.0, 1.0, 1.0, 0.0, \"hills\"],\n",
    "        [0.0, 0.0, 0.0, 0.0, 0.0, 0.0, 0.0, 1.0, 0.0, 0.0, 1.0, 1.0, 0.0, 1.0, 1.0, 1.0, \"hills\"]\n",
    "    ],\n",
    "    \"swamp\": [\n",
    "        [0.0, 0.0, 0.0, 0.0, 0.0, 0.0, 0.0, 0.0, 1.0, 0.0, 1.0, 0.0, 1.0, 1.0, 1.0, 1.0, \"swamp\"],\n",
    "        [0.0, 0.0, 0.0, 0.0, 0.0, 0.0, 0.0, 0.0, 0.0, 1.0, 0.0, 1.0, 1.0, 1.0, 1.0, 1.0, \"swamp\"]        \n",
    "    ]\n",
    "}"
   ]
  },
  {
   "cell_type": "markdown",
   "metadata": {},
   "source": [
    "Let's create a function that allows us to view any of these:"
   ]
  },
  {
   "cell_type": "code",
   "execution_count": 4,
   "metadata": {},
   "outputs": [],
   "source": [
    "def view_sensor_image( data):\n",
    "    figure = plt.figure(figsize=(4,4))\n",
    "    axes = figure.add_subplot(1, 1, 1)\n",
    "    pixels = np.array([255 - p * 255 for p in data[:-1]], dtype='uint8')\n",
    "    pixels = pixels.reshape((4, 4))\n",
    "    axes.set_title( \"Left Camera:\" + data[-1])\n",
    "    axes.imshow(pixels, cmap='gray')\n",
    "    plt.show()\n",
    "    plt.close()"
   ]
  },
  {
   "cell_type": "markdown",
   "metadata": {},
   "source": [
    "\"I think that I shall never see a thing so lovely as a tree.\""
   ]
  },
  {
   "cell_type": "code",
   "execution_count": 5,
   "metadata": {},
   "outputs": [
    {
     "data": {
      "image/png": "[encoded data removed]",
      "text/plain": [
       "<Figure size 400x400 with 1 Axes>"
      ]
     },
     "metadata": {},
     "output_type": "display_data"
    }
   ],
   "source": [
    "view_sensor_image( clean_data[ \"forest\"][0])"
   ]
  },
  {
   "cell_type": "code",
   "execution_count": 6,
   "metadata": {},
   "outputs": [
    {
     "data": {
      "image/png": "[encoded data removed]",
      "text/plain": [
       "<Figure size 400x400 with 1 Axes>"
      ]
     },
     "metadata": {},
     "output_type": "display_data"
    }
   ],
   "source": [
    "view_sensor_image( clean_data[\"swamp\"][0])"
   ]
  },
  {
   "cell_type": "code",
   "execution_count": 7,
   "metadata": {},
   "outputs": [
    {
     "data": {
      "image/png": "[encoded data removed]",
      "text/plain": [
       "<Figure size 400x400 with 1 Axes>"
      ]
     },
     "metadata": {},
     "output_type": "display_data"
    }
   ],
   "source": [
    "view_sensor_image( clean_data[\"hills\"][0])"
   ]
  },
  {
   "cell_type": "code",
   "execution_count": 8,
   "metadata": {},
   "outputs": [
    {
     "data": {
      "image/png": "[encoded data removed]",
      "text/plain": [
       "<Figure size 400x400 with 1 Axes>"
      ]
     },
     "metadata": {},
     "output_type": "display_data"
    }
   ],
   "source": [
    "view_sensor_image( clean_data[\"plains\"][0])"
   ]
  },
  {
   "cell_type": "markdown",
   "metadata": {},
   "source": [
    "The data that comes in, however, is noisy. The values are never exactly 0 and 1. In order to mimic this we need a `blur` function.\n",
    "\n",
    "We will assume that noise is normally distributed. For values that should be 0, the noisy values are distributed $N(0.10, 0.05)$. For values should be 1, the noisy values are distributed $N(0.9, 0.10)$."
   ]
  },
  {
   "cell_type": "code",
   "execution_count": 9,
   "metadata": {},
   "outputs": [],
   "source": [
    "def blur( data):\n",
    "    def apply_noise( value):\n",
    "        if value < 0.5:\n",
    "            v = random.gauss( 0.10, 0.05)\n",
    "            if v < 0.0:\n",
    "                return 0.0\n",
    "            if v > 0.75:\n",
    "                return 0.75\n",
    "            return v\n",
    "        else:\n",
    "            v = random.gauss( 0.90, 0.10)\n",
    "            if v < 0.25:\n",
    "                return 0.25\n",
    "            if v > 1.00:\n",
    "                return 1.00\n",
    "            return v\n",
    "    noisy_readings = [apply_noise( v) for v in data[0:-1]]\n",
    "    return noisy_readings + [data[-1]]"
   ]
  },
  {
   "cell_type": "markdown",
   "metadata": {},
   "source": [
    "We can see how this affects what the agent *actually* sees."
   ]
  },
  {
   "cell_type": "code",
   "execution_count": 10,
   "metadata": {},
   "outputs": [
    {
     "data": {
      "image/png": "[encoded data removed]",
      "text/plain": [
       "<Figure size 400x400 with 1 Axes>"
      ]
     },
     "metadata": {},
     "output_type": "display_data"
    }
   ],
   "source": [
    "view_sensor_image( blur( clean_data[\"swamp\"][0]))"
   ]
  },
  {
   "cell_type": "markdown",
   "metadata": {},
   "source": [
    "You are going to want to write four (4) functions:\n",
    "\n",
    "1. `generate_data`\n",
    "2. `learn_model`\n",
    "3. `apply_model`\n",
    "\n",
    "### `generate_data`\n",
    "\n",
    "With the clean examples and the `blur` function, we have an unlimited amount of data for training and testing our classifier, an ANN that determines if a sensor image is hills, swamp, forest or plains.\n",
    "\n",
    "In classification, there is a general problem called the \"unbalanced class problem\". In general, we want our training data to have the same number of classes for each class. This means you should probably generate training data with, say, 100 of each type.\n",
    "\n",
    "But what do we do about the class label with the neural network?\n",
    "\n",
    "In this case, we can do \"one hot\". Instead of `generate_data` outputing a single 0 or 1, it should output a vector of 0's and 1's so that $y$ is now a vector as well as $x$. We can use the first position for hill, the second for swamp, the third for forest and the fourth for plains:\n",
    "\n",
    "```\n",
    "[0, 1, 0, 0]\n",
    "```\n",
    "\n",
    "what am I? swamp.\n",
    "\n",
    "Unlike logistic regression, you should set the *biases* inside the neural network (the implict $x_0$ = 1) because there are going to be lot of them (one for every hidden and output node).\n",
    "\n",
    "`generate_data` now only needs to take how many you want of each class:\n",
    "\n",
    "`generate_data( clean_data, 100)`\n",
    "\n",
    "generates 100 hills, 100 swamp, 100 forest, 100 plains and transforms $y$ into the respective \"one hot\" encoding. You can use the code from Module 12 as a starting point.\n",
    "\n",
    "### `learn_model`\n",
    "\n",
    "`learn_model` is the function that takes in training data and actually learns the ANN. If you're up to it, you can implement a vectorized version using Numpy but you might start with the loopy version first.\n",
    "\n",
    "*In the lecture, I mentioned that you usually should mean normalize your data but you don't need to do that in this case because the data is already on the range 0-1.*\n",
    "\n",
    "You should add a parameter to indicate how many nodes the hidden layer should have.\n",
    "\n",
    "When verbose is True, you should print out the error so you can see that it is getting smaller.\n",
    "\n",
    "When developing your algorithm, you need to watch the error so you'll set verbose=True to start. You should print it out every iteration and make sure it is declining. You'll have to experiment with both epsilon and alpha; and it doesn't hurt to make alpha adaptive (if the error increases, make alpha = alpha / 10).\n",
    "\n",
    "When you know that your algorithm is working, change your code so that the error is printed out only every 1,000 iterations (it takes a lot of iterations for this problem to converge, depending on your parameter values--start early).\n",
    "\n",
    "`learn_model` returns the neural network. The hidden layer will be one vector of thetas for each hidden node. And the output layer will have its own thetas, one for each output (4 in this case). Return it as a Tuple: (List of List, List of List).\n",
    "\n",
    "### `apply_model`\n",
    "\n",
    "`apply_model` takes the ANN (the model) and either labeled or unlabeled data. If the data is unlabeled, it will return predictions for each observation as a List of Tuples of the inferred value (0 or 1) and the actual probability (so something like (1, 0.73) or (0, 0.19) so you have [(0, 0.30), (1, 0.98), (0, 0.87), (0, 0.12)]. Note that unlike the logistic regression, the threshold for 1 is not 0.5 but which value is largest (0.98 in this case).\n",
    "\n",
    "If the data is labeled, you will return a List of List of Tuples of the actual value (0 or 1) and the predicted value (0 or 1). For a single data point, you'll have the pairs of actual values [(0, 1), (0, 0), (0, 0), (1, 0)] is a misclassification and [(0, 0), (0, 0), (1, 1), (0, 0)] will be a correct classification. Then you have a List of *those*, one for each observation.\n",
    "\n",
    "###  simple evaluation\n",
    "\n",
    "We have an \"unlimited\" supply of data so we'll just generate a training set and then a test set and see how well our neural network does. Use the error rate (incorrect classifications/total examples) for your evaluation metric. We'll learn about more sophisticated \n",
    "\n",
    "1. generate training set (how many do you think you need?)\n",
    "2. generate test set (how many is a good \"test\" of the network you built?)\n",
    "3. loop over [2, 4, 8] hidden nodes:\n",
    "    1. train model and apply to train data, calculate error rate.\n",
    "    2. apply to test data and calculate error rate.\n",
    "    3. print error rate\n",
    "    \n",
    "Which number of hidden nodes did best?\n",
    "\n",
    "**As always when working with Lists or Lists of Lists, be very careful when you are modifying these items in place that this is what you intend (you may want to make a copy first)**"
   ]
  },
  {
   "cell_type": "markdown",
   "metadata": {},
   "source": [
    "---\n",
    "\n",
    "Put your helper functions above here.\n",
    "\n",
    "## Main Functions"
   ]
  },
  {
   "cell_type": "markdown",
   "metadata": {},
   "source": [
    "## `generate_data` <a id=\"generate_data\"></a>\n",
    "\n",
    "Generates an endless supply of blurred data from a collection of terrain prototypes.\n",
    "\n",
    "* `data`: Dict[Str, List[Any]] - a Dictionary of \"clean\" prototypes for each landscape type.\n",
    "* `n`: Int - the number of blurred examples of each terrain type to return.\n",
    "\n",
    "returns\n",
    "\n",
    "* List[List[Any]] - a List of Lists. Each individual List is a blurred example of a terrain type, generated from the prototype."
   ]
  },
  {
   "cell_type": "code",
   "execution_count": 11,
   "metadata": {
    "tags": []
   },
   "outputs": [],
   "source": [
    "def generate_data(data, n):\n",
    "    terrain_types = list(data.keys())\n",
    "    generated = []\n",
    "    \n",
    "    for i, terrain in enumerate(terrain_types):\n",
    "        one_hot_label = [1 if j == i else 0 for j in range(len(terrain_types))]\n",
    "        for _ in range(n):\n",
    "            clean_sample = random.choice(data[terrain])\n",
    "            blurred_sample = blur(clean_sample)\n",
    "            generated.append((blurred_sample[:-1], one_hot_label))\n",
    "    random.shuffle(generated)\n",
    "    return generated\n"
   ]
  },
  {
   "cell_type": "code",
   "execution_count": 12,
   "metadata": {},
   "outputs": [],
   "source": [
    "\n",
    "generated_data = generate_data(clean_data, 10)\n",
    "assert(len(generated_data) == 40) # Should be 4 times the amount as 10 datapoints for each type of area\n",
    "assert(generated_data[0][1] == [1, 0, 0, 0] or generated_data[0][1] == [0, 1, 0, 0] or generated_data[0][1] == [0, 0, 1, 0] or generated_data[0][1] == [0, 0, 0, 1]) # Should be a one hot encoded list of 4\n",
    "assert(type(generated_data[0][0][0]) == float) #First one should almost always be blurred to a float instead of an int"
   ]
  },
  {
   "cell_type": "markdown",
   "metadata": {},
   "source": [
    "## `sigmoid` <a id=\"sigmoid\"></a>\n",
    "\n",
    "Performs the sigmoid activation function. This is required to do feedforward for the ANN.\n",
    "\n",
    "**Parameters:**  \n",
    "* `x`: (`int`) - Number to be sigmoided\n",
    "\n",
    "**Returns:**\n",
    "* `float` - Value that has been sigmoided"
   ]
  },
  {
   "cell_type": "code",
   "execution_count": 13,
   "metadata": {},
   "outputs": [],
   "source": [
    "import math\n",
    "\n",
    "def sigmoid(x):\n",
    "    return 1 / (1 + math.exp(-x))"
   ]
  },
  {
   "cell_type": "code",
   "execution_count": 14,
   "metadata": {},
   "outputs": [],
   "source": [
    "assert(round(sigmoid(1), 3) == 0.731) # Simple sigmoid on 1, easily calculated\n",
    "assert(0 <= sigmoid(2) <= 1) # Should always be between 0  and 1, replace with any value\n",
    "assert(type(sigmoid(1) == float)) # Should be returning a float no matter what"
   ]
  },
  {
   "cell_type": "markdown",
   "metadata": {},
   "source": [
    "## `sigmoid_derivative` <a id=\"sigmoid_derivative\"></a>\n",
    "\n",
    "Performs the derivative of the sigmoid activation function. This is required to do backpropogation for the ANN.\n",
    "\n",
    "**Parameters:**  \n",
    "* `output`: (`float`) - Number to be computed on\n",
    "\n",
    "**Returns:**\n",
    "* `float` - Value that has been computed"
   ]
  },
  {
   "cell_type": "code",
   "execution_count": 15,
   "metadata": {},
   "outputs": [],
   "source": [
    "def sigmoid_derivative(output):\n",
    "    return output * (1 - output)"
   ]
  },
  {
   "cell_type": "code",
   "execution_count": 16,
   "metadata": {},
   "outputs": [],
   "source": [
    "assert(sigmoid_derivative(0.5) == 0.25) #Should be .25\n",
    "assert(abs(sigmoid_derivative(0.01) - 0.0099)) == 0 # This should be the outcome\n",
    "assert(abs(round(sigmoid_derivative(0.99), 4) - 0.0099)) == 0 # This should be the outcome, was adding a .0000000001 for some reason"
   ]
  },
  {
   "cell_type": "markdown",
   "metadata": {},
   "source": [
    "## `feedforward` <a id=\"feedforward\"></a>\n",
    "\n",
    "Does the feedforward proces for the ANN. It computes the activations of the hidden and output layers based on the input values and the current weights. Necessary to train the ANN\n",
    "\n",
    "**Parameters:**  \n",
    "* `inputs`: (`List[float]`) - List of input features to be trained on including Bias \n",
    "* `hidden_weights`: (`List[List[float]]`) - Hidden weights for the feed forward network to utilize\n",
    "* `output_weights`: (`List[List[float]]`) - Output weights for the feed forward network to utilize\n",
    "\n",
    "**Returns:**\n",
    "* `hidden_activations`: (`List[float]`) - Computed activations for the hidden layer neurons\n",
    "* `output_activations`: (`List[float]`) - Computed activations for the output layer neurons"
   ]
  },
  {
   "cell_type": "code",
   "execution_count": 17,
   "metadata": {},
   "outputs": [],
   "source": [
    "def feedforward(inputs, hidden_weights, output_weights):\n",
    "    \"\"\"Perform feedforward propagation.\"\"\"\n",
    "    hidden_activations = [sigmoid(sum(w * inp for w, inp in zip(weights, inputs))) for weights in hidden_weights]\n",
    "    hidden_activations.append(1)  # Bias for next layer\n",
    "    output_activations = [sigmoid(sum(w * h for w, h in zip(weights, hidden_activations))) for weights in output_weights]\n",
    "    return hidden_activations, output_activations"
   ]
  },
  {
   "cell_type": "code",
   "execution_count": 18,
   "metadata": {},
   "outputs": [],
   "source": [
    "inputs = [0.5, 0.8, 1] \n",
    "hidden_weights = [[0.2, -0.5, 0.1], [0.7, 0.3, -0.2]] \n",
    "output_weights = [[0.4, -0.1, 0.6]] \n",
    "\n",
    "tuple_of_activations = feedforward(inputs, hidden_weights, output_weights)\n",
    "hidden_activations, output_activations = tuple_of_activations\n",
    "\n",
    "assert(type(tuple_of_activations) == tuple) # Should return a tuple\n",
    "assert(1 in hidden_activations) # 1 sould still be in here for bias\n",
    "assert(not output_activations == []) # No matter what should have something in the lsit for output_activations"
   ]
  },
  {
   "cell_type": "markdown",
   "metadata": {},
   "source": [
    "## `backpropagate` <a id=\"backpropagate\"></a>\n",
    "\n",
    "Does the backpropagate proces for the ANN. It propagates errors backward through the network to update the weights during training. Necessary to train the ANN\n",
    "\n",
    "**Parameters:**  \n",
    "* `inputs`: (`List[float]`) - List of input features to be trained on including Bias \n",
    "* `hidden_activations`: (`List[float]`) - Computed activations for the hidden layer neurons\n",
    "* `output_activations`: (`List[float]`) - Computed activations for the output layer neurons\n",
    "* `y`: (`List[float]`) - Target output values for given input\n",
    "* `hidden_weights`: (`List[List[float]]`) - Hidden weights for the feed forward network to utilize\n",
    "* `output_weights`: (`List[List[float]]`) - Output weights for the feed forward network to utilize\n",
    "\n",
    "**Returns:**\n",
    "* `output_deltas`: (`List[float]`) - Error gradients for the output layer neurons\n",
    "* `hidden_deltas`: (`List[float]`) - Error gradients for the output layer neurons"
   ]
  },
  {
   "cell_type": "code",
   "execution_count": 19,
   "metadata": {},
   "outputs": [],
   "source": [
    "def backpropagate(inputs, hidden_activations, output_activations, y, hidden_weights, output_weights):\n",
    "    \"\"\"Compute deltas for backpropagation.\"\"\"\n",
    "    output_deltas = [(t - o) * sigmoid_derivative(o) for t, o in zip(y, output_activations)]\n",
    "    hidden_deltas = [\n",
    "        sum(output_deltas[o] * output_weights[o][h] for o in range(len(output_deltas))) * sigmoid_derivative(hidden_activations[h])\n",
    "        for h in range(len(hidden_weights))\n",
    "    ]\n",
    "    return output_deltas, hidden_deltas"
   ]
  },
  {
   "cell_type": "code",
   "execution_count": 20,
   "metadata": {},
   "outputs": [],
   "source": [
    "inputs = [0.5, 0.8, 1]  \n",
    "hidden_activations = [0.6, 0.7, 1]  \n",
    "output_activations = [0.4]  \n",
    "y = [1] \n",
    "\n",
    "hidden_weights = [[0.2, -0.5, 0.1], [0.7, 0.3, -0.2]]  \n",
    "output_weights = [[0.4, -0.1, 0.6]] \n",
    "\n",
    "tuple_of_deltas = backpropagate(inputs, hidden_activations, output_activations, y, hidden_weights, output_weights)\n",
    "output_deltas, hidden_deltas = tuple_of_deltas\n",
    "\n",
    "assert(type(tuple_of_deltas) == tuple) # Should return a tuple\n",
    "assert(1 not in hidden_deltas) # 1 sould not be in here from bias\n",
    "assert(not output_deltas == []) # No matter what should have something in the lsit for output_activations"
   ]
  },
  {
   "cell_type": "markdown",
   "metadata": {},
   "source": [
    "## `update_weights` <a id=\"update_weights\"></a>\n",
    "\n",
    "Adjusts the weights of the ANN during training by applying the deltas calculated in the backpropagation process.\n",
    "\n",
    "**Parameters:**  \n",
    "* `hidden_weights`: (`List[List[float]]`) - Hidden weights for the feed forward network to utilize\n",
    "* `output_weights`: (`List[List[float]]`) - Output weights for the feed forward network to utilize\n",
    "* `inputs`: (`List[float]`) - List of input features to be trained on including Bias \n",
    "* `hidden_activations`: (`List[float]`) - Computed activations for the hidden layer neurons\n",
    "* `output_deltas`: (`List[float]`) - Error gradients for the output layer neurons\n",
    "* `hidden_deltas`: (`List[float]`) - Error gradients for the output layer neurons\n",
    "* `alpha`: (`float`) - Learning rate that determines size of weight adjustments"
   ]
  },
  {
   "cell_type": "code",
   "execution_count": 21,
   "metadata": {},
   "outputs": [],
   "source": [
    "def update_weights(hidden_weights, output_weights, inputs, hidden_activations, output_deltas, hidden_deltas, alpha):\n",
    "    \"\"\"Update weights using deltas.\"\"\"\n",
    "    for i, weights in enumerate(output_weights):\n",
    "        for j in range(len(weights)):\n",
    "            weights[j] += alpha * output_deltas[i] * hidden_activations[j]\n",
    "    for i, weights in enumerate(hidden_weights):\n",
    "        for j in range(len(inputs)):\n",
    "            weights[j] += alpha * hidden_deltas[i] * inputs[j]"
   ]
  },
  {
   "cell_type": "code",
   "execution_count": 22,
   "metadata": {},
   "outputs": [],
   "source": [
    "inputs = [0.5, 0.8, 1]  \n",
    "hidden_activations = [0.6, 0.7, 1]  \n",
    "output_deltas = [0.2]\n",
    "hidden_deltas = [0.1, -0.05] \n",
    "alpha = 0.01  \n",
    "\n",
    "hidden_weights = [[0.2, -0.5, 0.1], [0.7, 0.3, -0.2]]  \n",
    "output_weights = [[0.4, -0.1, 0.6]]  \n",
    "\n",
    "update_weights(hidden_weights, output_weights, inputs, hidden_activations, output_deltas, hidden_deltas, alpha)\n",
    "should_be_none = update_weights(hidden_weights, output_weights, inputs, hidden_activations, output_deltas, hidden_deltas, alpha)\n",
    "hidden_weights_before = [[0.2, -0.5, 0.1], [0.7, 0.3, -0.2]] \n",
    "output_weights_before = [[0.4, -0.1, 0.6]] \n",
    "\n",
    "assert(should_be_none == None) # Function shouldnt be returning anything\n",
    "assert(not hidden_weights == hidden_weights_before) # Hidden weights updated\n",
    "assert(not output_weights == output_weights_before) # Output weights updated"
   ]
  },
  {
   "cell_type": "markdown",
   "metadata": {},
   "source": [
    "## `learn_model` <a id=\"learn_model\"></a>\n",
    "\n",
    "Trains a neural network using stochastic gradient descent.\n",
    "\n",
    "**Parameters:**\n",
    "* `data`: (`List[List[float]]`) - Training data where each row contains features followed by a label\n",
    "* `hidden_nodes`: (`int`) - Number of nodes in the hidden layer\n",
    "* `verbose`: (`bool`) - If True, print training progress\n",
    "\n",
    "Returns:\n",
    "* `hidden_weights`: (`List[List[float]]`) - Hidden weights of the model\n",
    "* `output_weights`: (`List[List[float]]`) - Output weights of the model"
   ]
  },
  {
   "cell_type": "code",
   "execution_count": 23,
   "metadata": {
    "tags": []
   },
   "outputs": [],
   "source": [
    "def learn_model(data, hidden_nodes, verbose=False):\n",
    "    input_size = len(data[0][0])  \n",
    "    output_size = len(data[0][1])  \n",
    "\n",
    "    hidden_weights = [[random.uniform(-1, 1) for _ in range(input_size + 1)] for _ in range(hidden_nodes)]\n",
    "    output_weights = [[random.uniform(-1, 1) for _ in range(hidden_nodes + 1)] for _ in range(output_size)]\n",
    "    alpha = 0.01\n",
    "    prev_error = float('inf')\n",
    "\n",
    "    for epoch in range(50000):\n",
    "        total_error = 0\n",
    "        for x, y in data:\n",
    "            inputs = x + [1]  # Add bias\n",
    "            hidden_activations, output_activations = feedforward(inputs, hidden_weights, output_weights)\n",
    "            output_deltas, hidden_deltas = backpropagate(inputs, hidden_activations, output_activations, y, hidden_weights, output_weights)\n",
    "            update_weights(hidden_weights, output_weights, inputs, hidden_activations, output_deltas, hidden_deltas, alpha)\n",
    "            total_error += sum((t - o) ** 2 for t, o in zip(y, output_activations))\n",
    "        \n",
    "        if verbose and epoch % 1000 == 0:\n",
    "            print(f\"Epoch {epoch}, Error: {total_error:.6f}\")\n",
    "\n",
    "        if abs(prev_error - total_error) < 0.01:\n",
    "            break\n",
    "\n",
    "        prev_error = total_error\n",
    "\n",
    "    return hidden_weights, output_weights"
   ]
  },
  {
   "cell_type": "code",
   "execution_count": 24,
   "metadata": {},
   "outputs": [],
   "source": [
    "data = [\n",
    "    ([[0.5, 0.8], [1, 0]]),\n",
    "    ([[0.2, 0.3], [0, 1]])   \n",
    "]\n",
    "\n",
    "hidden_nodes = 2\n",
    "\n",
    "hidden_weights, output_weights = learn_model(data, hidden_nodes)\n",
    "\n",
    "assert(all(-1 <= w <= 1 for layer in hidden_weights for w in layer)) # All should be within -1 to 1\n",
    "assert(all(-1 <= w <= 1 for layer in output_weights for w in layer)) # All should be within -1 to 1\n",
    "assert(len(hidden_weights) == hidden_nodes) # Weights should have same length as hidden nodes"
   ]
  },
  {
   "cell_type": "markdown",
   "metadata": {},
   "source": [
    "## `apply_model` <a id=\"apply_model\"></a>\n",
    "\n",
    "Apply the trained model to test data and predict class labels.\n",
    "\n",
    "**Parameters:**\n",
    "* `model`: (`Tuple[List[List[float]], List[List[float]]]`) - Trained weights for hidden and output layers.\n",
    "* `test_data`: (`List[List[float]]`) - Test examples, each row being a feature vector.\n",
    "* `labeled`: `bool` - If True, test_data includes labels as the last element of each row.\n",
    "\n",
    "Returns:\n",
    "* `predictions`: (`List[List[tuple]]`) - predictions made by the model"
   ]
  },
  {
   "cell_type": "code",
   "execution_count": 25,
   "metadata": {},
   "outputs": [],
   "source": [
    "def apply_model(model, test_data, labeled=False):\n",
    "    hidden_weights, output_weights = model\n",
    "    predictions = []\n",
    "\n",
    "    for example in test_data:\n",
    "        x, true_label = example\n",
    "        if not labeled:\n",
    "            true_label = None\n",
    "\n",
    "        inputs = list(x) + [1]\n",
    "\n",
    "        hidden_activations = [sigmoid(sum(w * inp for w, inp in zip(weights, inputs))) for weights in hidden_weights]\n",
    "        hidden_activations.append(1)  \n",
    "        output_activations = [sigmoid(sum(w * h for w, h in zip(weights, hidden_activations))) for weights in output_weights]\n",
    "\n",
    "        predicted_label = output_activations.index(max(output_activations))\n",
    "\n",
    "        if not labeled:\n",
    "            prediction = [(1 if i == output_activations.index(max(output_activations)) else 0, prob) for i, prob in enumerate(output_activations)]\n",
    "            predictions.append(prediction)\n",
    "        else:\n",
    "            actual_predicted_pairs = [(actual, 1 if idx == predicted_label else 0) for idx, actual in enumerate(true_label)]\n",
    "            predictions.append(actual_predicted_pairs)\n",
    "\n",
    "    return predictions"
   ]
  },
  {
   "cell_type": "code",
   "execution_count": 26,
   "metadata": {},
   "outputs": [],
   "source": [
    "hidden_weights = [[0.5, -0.3, 0.1], [0.8, 0.2, -0.4]]  \n",
    "output_weights = [[0.7, -0.1, 0.6], [0.2, 0.5, -0.3]]  \n",
    "model = (hidden_weights, output_weights)\n",
    "\n",
    "test_data_labeled = [\n",
    "    ([0.6, 0.4], [1, 0]),  \n",
    "    ([0.1, 0.9], [0, 1])  \n",
    "]\n",
    "\n",
    "test_data_unlabeled = [\n",
    "    ([0.6, 0.4], None),  \n",
    "    ([0.1, 0.9], None)\n",
    "]\n",
    "predictions_labeled = apply_model(model, test_data_labeled, labeled=True)\n",
    "predictions_unlabeled = apply_model(model, test_data_unlabeled, labeled=False)\n",
    "\n",
    "assert(len(predictions_labeled) == len(test_data_labeled) and len(predictions_unlabeled) == len(test_data_labeled)) # Predictions should be len of test data\n",
    "assert(predictions_labeled[0] == [(1, 1), (0, 0)]) # This should be correct each time, more checking that its adding the tuples correctly\n",
    "assert(type(predictions_unlabeled[0][0][1]) == float) # Should be a percentage that it thinks it is correct so it should always be a float"
   ]
  },
  {
   "cell_type": "markdown",
   "metadata": {},
   "source": [
    "Test out generate_data:"
   ]
  },
  {
   "cell_type": "code",
   "execution_count": 27,
   "metadata": {},
   "outputs": [
    {
     "name": "stdout",
     "output_type": "stream",
     "text": [
      "([0.17493746402465654, 0.06834771678409876, 0.23192639866183348, 0.07299694918714073, 0.061396601863972035, 0.14708623826073552, 0.07342957356255883, 0.07092299002931315, 0.07674426023479972, 0.0653635984202593, 0.1433844892072112, 0.05306886860797888, 0.8850532530444122, 0.9505628742337586, 0.6505611335968213, 0.7274926613274486], [1, 0, 0, 0])\n",
      "([0.2348640269743383, 0.0, 0.9345440269181559, 0.18581396002176856, 0.051297489810928715, 0.9920740588564287, 1.0, 0.8158443977088461, 0.8809778081835941, 0.860468547859338, 1.0, 0.8480988778837354, 0.10132870672850776, 0.02685057485330071, 0.909431077294666, 0.13653861471435105], [0, 1, 0, 0])\n",
      "([0.08282614625662205, 1.0, 0.09536220412101519, 0.022538150036783097, 0.8577183263395575, 0.7824841501419636, 0.9305252816482567, 0.13601295586908438, 0.9224369278961017, 0.8799602283413498, 0.8703178034018497, 1.0, 0.03182529241271813, 0.987053649331213, 0.099387378079334, 0.0895048365855707], [0, 1, 0, 0])\n",
      "([0.1571457811692708, 0.20562645828844092, 0.04263225440585994, 0.07675570298958449, 0.13563818972036618, 0.15069855258741624, 0.7882822535890752, 0.059758685887487166, 0.10925609899373695, 0.9238206639260655, 0.8030081079936757, 0.6923499953597507, 0.8526777022628473, 0.8837987434021973, 0.7186491269949227, 0.900418243919265], [0, 0, 1, 0])\n",
      "([0.0390508992270252, 0.08250973222553089, 0.09196969847760945, 0.07572846309353926, 0.09187879176380503, 0.1464789558982011, 0.06775427796083525, 0.09929249886984137, 0.1551652994627525, 0.06500678379196667, 0.15232262232274313, 0.0961773173073459, 0.9400718764190796, 1.0, 0.8433952681065827, 0.9146279238381682], [1, 0, 0, 0])\n",
      "([0.05496882431699025, 0.1008142698384832, 0.10823200351319104, 0.09702186730423489, 0.01945933063537146, 0.12490534553784337, 0.0, 0.7769050997921013, 0.10247791948176656, 0.1558174104463401, 0.8234492398868354, 0.8309116129482859, 0.1279688072808885, 0.8075502591234585, 0.8148797340724592, 0.8852886481546253], [0, 0, 1, 0])\n",
      "([0.0978385866027994, 0.11514628585748585, 0.14177157559492623, 0.06552652774343354, 0.9341931454811262, 0.10652627541144939, 0.09536188040537152, 0.018628145481206698, 0.8185840621257024, 0.8224337501221942, 0.16779755870749014, 0.15791968043503732, 0.9266333805073056, 1.0, 0.6673480372866123, 0.13657854506911873], [0, 0, 1, 0])\n",
      "([0.09489288066033641, 0.05529008321290527, 0.08234991090175175, 0.06893487871344631, 0.14297869275722092, 0.7145639185693213, 0.10663048452104049, 0.07293136916325198, 0.8626002801928428, 0.8533106250823964, 0.9229028366809274, 0.10190068513100206, 1.0, 0.9657988571561305, 0.9477773288915532, 0.9062122192901244], [0, 0, 1, 0])\n",
      "([0.14700415896037894, 0.04388679528691339, 0.11632410663984494, 0.17155792950255608, 0.1799572004366259, 0.8313747530999746, 0.012989812104067508, 0.11968665623980605, 0.8243468145607571, 0.8911639244667573, 0.8810074884302304, 0.04482539434442534, 0.9672124569896166, 0.8607467216995565, 0.9877544973798754, 0.9447075653227167], [0, 0, 1, 0])\n",
      "([1.0, 0.08715115085515882, 0.1174653492472728, 0.08698628104782984, 0.8331342778623497, 0.8489126046340058, 0.0852294511923989, 0.10787164850191448, 0.7068483240134474, 0.9268546548661276, 0.8058970940828388, 0.11513073090565022, 0.9699775332070495, 0.16348485820517078, 0.15229374979199847, 0.11424329645798097], [0, 1, 0, 0])\n",
      "([0.09489168381635057, 0.09039757791751156, 0.0909355225361805, 0.17576092547919397, 0.04187885101877145, 0.08289125569397891, 0.12133312881535266, 0.16697150888837936, 0.9179149758895315, 0.04484400222139972, 0.825067629619108, 0.10738829350114448, 1.0, 0.9487215121324037, 0.8339418651001086, 0.845136463140597], [0, 0, 0, 1])\n",
      "([0.11794880389804133, 0.1450254780485094, 0.18177234342471513, 0.16097361314704156, 0.03168512397803473, 0.05191071661293624, 0.05830003728876442, 0.17143776714140735, 0.07549144658957002, 0.038332838710364636, 0.08620231958528056, 0.13399568786478278, 0.9517011750107025, 0.7705266479303436, 1.0, 1.0], [1, 0, 0, 0])\n",
      "([0.06787152497988022, 0.1612435258266357, 0.08627612888707673, 0.16346000442510733, 0.1684804260187828, 0.11214750162713433, 0.1456800614803249, 0.1112231508287659, 0.7694133053816619, 0.1899330117964235, 0.8820679634591673, 0.1916591473162424, 0.7679212669328224, 0.9402571467377216, 0.9180063116347374, 0.7870561023364715], [0, 0, 0, 1])\n",
      "([0.03452706496187331, 0.17645324603555024, 0.02560684152488954, 0.1435394577788628, 0.14777842985752687, 0.06355877821922837, 0.17064382045643578, 0.06213141760253714, 0.1271985043943365, 0.04011831526485219, 0.11217042457966667, 0.07163628962148091, 0.9424181642359707, 0.9103449634915093, 0.8198526912124917, 0.714149029236693], [1, 0, 0, 0])\n",
      "([0.03268988811198591, 0.1356110740554403, 1.0, 0.16952772330728166, 0.10949859282599685, 0.7890017453656964, 0.8909235126910454, 1.0, 0.7464775709783951, 0.9094591818852588, 0.9013144149342294, 0.981046834959945, 0.02205850530337744, 0.15650739008678058, 0.7462288466670777, 0.17918684053614256], [0, 1, 0, 0])\n",
      "([0.08788223677494522, 0.04044992447878956, 0.13260158975374653, 0.06983682464701904, 0.17155159050190155, 0.10592628587996525, 0.0, 0.10862831273584314, 0.057116004184631794, 0.17196887623602258, 0.10360300385476882, 0.14397544648796545, 0.8669200877709372, 0.9696264623473531, 0.8503014316512729, 0.735775487662495], [1, 0, 0, 0])\n",
      "([0.10337040772115917, 0.1436285975050288, 0.13581090610577223, 0.04912170811563613, 0.12028671818472364, 0.9438247517348785, 0.0879755177646637, 0.04220889406726794, 0.6717022455068578, 0.8230088344439936, 0.9042185621585727, 0.08408148497535024, 0.833717808880547, 0.917646809934573, 0.9578226929742204, 0.9600202315559394], [0, 0, 1, 0])\n",
      "([0.042598391578293975, 0.09350456482261289, 0.14012973110024363, 0.09695284443878975, 0.09633302625762044, 0.09415481660730325, 0.07851256036718507, 0.13901358382275109, 0.061792833267056806, 0.14017944071337202, 0.13842178637379027, 0.08946435455340093, 0.9607273566736697, 0.923198528919438, 0.7810032228887515, 1.0], [1, 0, 0, 0])\n",
      "([0.17202424409536288, 0.1738809893465783, 0.21405956041996246, 0.7945286760988559, 0.11613844461641186, 0.15512293207138986, 0.8646204024677956, 0.8010728803889139, 0.16062457154498727, 0.8361421703471239, 0.8248580118353497, 0.9155772181101878, 0.09461946443130388, 0.06255594496666457, 0.1456738513611074, 0.8896023957172728], [0, 1, 0, 0])\n",
      "([0.21605329369241616, 0.10792828540147911, 0.09967704745467862, 0.11389072261669117, 0.1725973903208309, 0.08187142552894727, 0.1749107273072174, 0.11393249174909072, 0.8971481263884624, 0.0, 0.9342190629673558, 0.07390577486072782, 0.851811842722734, 1.0, 0.8537756377352946, 1.0], [0, 0, 0, 1])\n",
      "([0.1347627857824059, 0.1309564024216355, 0.1008321068872361, 0.003694472798164289, 0.10226779322434162, 0.10415826798637488, 0.09814800590490474, 0.15672067679408858, 0.06842580035962612, 0.06350436368960757, 0.1606806170290523, 0.07023365506763424, 0.9534293124729429, 0.8662035374379402, 0.8128096806421033, 0.9553767373604647], [1, 0, 0, 0])\n",
      "([0.12197023126696509, 0.10733264673977756, 0.15615648224534695, 0.07200353247381111, 0.13662345231987588, 0.12617386636071348, 0.9117912056015576, 0.15394641272348245, 0.22995680459988682, 0.8905492440049927, 0.9484354515399145, 0.842294929608777, 0.9774087752699945, 0.8555105199259057, 0.7155028370583105, 1.0], [0, 0, 1, 0])\n",
      "([0.0704660129638893, 0.19541186294991003, 0.05770482520236443, 0.14306375508445757, 0.12188129762566913, 1.0, 0.14398535845393595, 0.13585805704990098, 0.7986607634429812, 1.0, 0.9688939287696521, 0.1377583421962294, 1.0, 0.9010134080613661, 0.9650552003456389, 0.8248168429227967], [0, 0, 1, 0])\n",
      "([0.14214265127052797, 0.13468054485751063, 0.05075949095126333, 0.034663825878779295, 0.2288030228975084, 0.1293654678131962, 0.010753403913482923, 0.11422354985439352, 0.0, 0.0, 0.06850079882136369, 0.17700601537398403, 1.0, 1.0, 0.9735661036396858, 1.0], [1, 0, 0, 0])\n",
      "([0.06367550646770703, 0.09650942949168827, 0.06491439408624156, 0.15640331550990866, 0.03210344410218008, 0.1053339696961468, 0.11382222495531771, 0.0, 0.09563153323152715, 0.11976095801420605, 0.10267267488843539, 0.11132516492823248, 0.9582661745866836, 0.8386988690832072, 0.8498665055458964, 1.0], [1, 0, 0, 0])\n",
      "([0.13261513595594215, 0.008880682396364886, 0.06696635710435686, 0.017259614464592635, 0.06990766139612206, 0.03291889724563163, 0.04514263499754159, 0.10778936221805192, 0.7741125791989119, 0.08662256291766558, 0.9724485126023478, 0.0947486735709968, 0.7410384894313953, 0.6149675102285915, 0.708911662781472, 0.872901464780078], [0, 0, 0, 1])\n",
      "([0.10505293271544862, 0.03801558992304376, 0.07652777169596107, 0.03364171132561644, 0.15294230325568353, 0.10652320915679298, 0.057092665218790556, 0.09155818747346461, 0.8206903602127087, 0.06726979572008854, 0.9454987003108577, 0.11669901609240567, 1.0, 0.8285966732967792, 0.9627336113992353, 0.7569007076335326], [0, 0, 0, 1])\n",
      "([0.09884541773549163, 0.1271880145593276, 0.10753605773963036, 0.12403606604102976, 0.12430499362132978, 0.06186576755088736, 0.15792527415088345, 0.1861801575685967, 0.8657931737500824, 0.16515787503361962, 0.9017011761437873, 0.0, 0.8813723345391835, 0.7972635761481519, 0.8884863093808983, 0.801048504190237], [0, 0, 0, 1])\n",
      "([0.1627461408247159, 0.18288443158955103, 0.8296309896392972, 0.06811428133777284, 0.0, 0.8239954687844888, 0.9661210093543795, 1.0, 0.9366911793305224, 0.8663906523963377, 0.8010752606700782, 1.0, 0.10435282743465689, 0.06393831788695631, 1.0, 0.18479247563058274], [0, 1, 0, 0])\n",
      "([0.08567853098816446, 0.1749604386303123, 0.9154250191098189, 0.12423779752456235, 0.05008371435703057, 0.6742745496395721, 0.9003739450672902, 1.0, 0.8653749722110754, 0.9621747658340281, 0.8056579374818711, 0.8734777747277169, 0.11020459370625921, 0.11160928594918716, 0.7984772501950937, 0.050068572307235854], [0, 1, 0, 0])\n",
      "([0.0, 0.09855121415845919, 0.12281098718028148, 0.14500497510139512, 0.0982463023837722, 0.17458155068868028, 0.11725536960039196, 0.07754344419389964, 0.8718200094741494, 0.1872980152681456, 0.6288403594306552, 0.03274486859460683, 0.9323771625831644, 0.8115710274181966, 0.8924782066138193, 1.0], [0, 0, 0, 1])\n",
      "([0.05909861251767041, 0.08747600287567334, 0.142465928178773, 0.12500008836293872, 0.19302092578464772, 0.0729840557629357, 0.053358116309360645, 0.10856345506297667, 0.05807971752138684, 0.8832222445336885, 0.15723794192886928, 0.8321941834623526, 0.7691280049164686, 0.7781302206266741, 0.8793019002159979, 1.0], [0, 0, 0, 1])\n",
      "([0.7022911352230228, 0.007136118765525765, 0.05196660465019168, 0.07628639017910602, 0.8465353146318717, 0.9251878000268404, 0.08119036846952875, 0.07844517700455207, 0.9062231358556332, 1.0, 1.0, 0.04093057277332205, 0.9869193095426094, 0.13872349180124657, 0.1337611040501473, 0.2052829575885003], [0, 1, 0, 0])\n",
      "([1.0, 0.15546874454971293, 0.11297557509630393, 0.13186891859072478, 1.0, 0.9046547706739494, 0.07190247981355344, 0.08964000438380623, 1.0, 1.0, 0.755485261264591, 0.13626011192380788, 0.9238130262083506, 0.0286064633322788, 0.045804322812033796, 0.012303814281605013], [0, 1, 0, 0])\n",
      "([0.8993754615880222, 0.07226979403151867, 0.018211573374461512, 0.13936350096963337, 0.9293373025467778, 0.8081192518972056, 0.06551131479757771, 0.13535605364834358, 0.9793648980078278, 0.8640316486674409, 0.8800698192820398, 0.06932761593718814, 0.7831201884055868, 0.1277773650147771, 0.08810910292876581, 0.07668682958733783], [0, 1, 0, 0])\n",
      "([0.16014718609657833, 0.13325926489119738, 0.07892591360494515, 0.13452020055838737, 0.0707907296811959, 0.01562773847867177, 0.2078465708719318, 0.8883222232486285, 0.10833853868466393, 0.1498335549189568, 1.0, 0.92295891154464, 0.024366741018032212, 1.0, 0.8218144926283423, 1.0], [0, 0, 1, 0])\n",
      "([0.1298369653249, 0.14842203692826514, 0.114367388559556, 0.11580966036823742, 0.10581293462969299, 0.07117481264884505, 0.0805834569608095, 0.18162413185933451, 0.7330851196147764, 0.14098323331864931, 0.8281358610832062, 0.11026883628471547, 0.8173820309618195, 0.8442360433258101, 0.8023195270908048, 0.8818771460873444], [0, 0, 0, 1])\n",
      "([0.1175382469924564, 0.07189131819782968, 0.16519138066608502, 0.0710677657336773, 0.11677479976107547, 0.8040379818608687, 0.16871059591969711, 0.0407603161313424, 0.9931247686540342, 0.9358695358589451, 0.8838695971125026, 0.12296643517938537, 0.8525016036393339, 1.0, 0.9509612870545286, 1.0], [0, 0, 1, 0])\n",
      "([0.1594560128340019, 0.1427102917472297, 0.10305321077043236, 0.10014189262144389, 0.15456146851778926, 0.0948746715593384, 0.09638491157545323, 0.09049816793211861, 0.8890118759959981, 0.07680037914205902, 0.9922996341891122, 0.12957401921447942, 0.9526289648470202, 0.8299763671833053, 0.9265905409472696, 0.8850463158841072], [0, 0, 0, 1])\n",
      "([0.18392992337303724, 0.10697050495665665, 0.09208369192033362, 0.06880355852699958, 0.19065760799092898, 0.11622242936113276, 0.15958104198664108, 0.0500241120545962, 0.04880442562565075, 0.17810997091346203, 0.149556820081754, 0.13174538043164974, 0.7335174475504916, 0.7116884085815617, 0.8807340469562432, 0.8267765549380034], [1, 0, 0, 0])\n"
     ]
    }
   ],
   "source": [
    "results = generate_data( clean_data, 10)\n",
    "for result in results:\n",
    "    print( result)"
   ]
  },
  {
   "cell_type": "markdown",
   "metadata": {},
   "source": [
    "Use `generate_data` to generate 100 blurred examples of each type (all four terrains)."
   ]
  },
  {
   "cell_type": "code",
   "execution_count": 28,
   "metadata": {},
   "outputs": [],
   "source": [
    "train_data = generate_data( clean_data, 100)"
   ]
  },
  {
   "cell_type": "markdown",
   "metadata": {},
   "source": [
    "Use `learn_model` to learn a ANN model for classifying sensor images as hills, swamps, plains or forest. **Set Verbose to True**"
   ]
  },
  {
   "cell_type": "code",
   "execution_count": 29,
   "metadata": {},
   "outputs": [
    {
     "name": "stdout",
     "output_type": "stream",
     "text": [
      "Epoch 0, Error: 429.036751\n",
      "Epoch 1000, Error: 51.116940\n",
      "Epoch 2000, Error: 8.628031\n"
     ]
    }
   ],
   "source": [
    "model = learn_model( train_data, 2, True)"
   ]
  },
  {
   "cell_type": "markdown",
   "metadata": {},
   "source": [
    "Use `generate_data` to generate 100 blurred examples of each terrain and use this as your test data."
   ]
  },
  {
   "cell_type": "code",
   "execution_count": 30,
   "metadata": {
    "tags": []
   },
   "outputs": [],
   "source": [
    "test_data = generate_data( clean_data, 100)"
   ]
  },
  {
   "cell_type": "markdown",
   "metadata": {},
   "source": [
    "Apply the model and evaluate the results."
   ]
  },
  {
   "cell_type": "code",
   "execution_count": 31,
   "metadata": {},
   "outputs": [
    {
     "name": "stdout",
     "output_type": "stream",
     "text": [
      "[[(0, 0), (0, 0), (1, 1), (0, 0)], [(1, 1), (0, 0), (0, 0), (0, 0)], [(0, 0), (0, 0), (1, 1), (0, 0)], [(0, 0), (1, 1), (0, 0), (0, 0)], [(1, 1), (0, 0), (0, 0), (0, 0)], [(1, 1), (0, 0), (0, 0), (0, 0)], [(0, 0), (1, 1), (0, 0), (0, 0)], [(0, 0), (0, 0), (0, 0), (1, 1)], [(1, 1), (0, 0), (0, 0), (0, 0)], [(0, 0), (0, 0), (0, 0), (1, 1)], [(1, 1), (0, 0), (0, 0), (0, 0)], [(0, 0), (0, 0), (1, 1), (0, 0)], [(1, 1), (0, 0), (0, 0), (0, 0)], [(0, 0), (1, 1), (0, 0), (0, 0)], [(1, 1), (0, 0), (0, 0), (0, 0)], [(1, 1), (0, 0), (0, 0), (0, 0)], [(0, 0), (1, 1), (0, 0), (0, 0)], [(1, 1), (0, 0), (0, 0), (0, 0)], [(0, 0), (0, 0), (0, 0), (1, 1)], [(0, 0), (0, 0), (0, 0), (1, 1)], [(0, 0), (0, 0), (0, 0), (1, 1)], [(0, 0), (0, 0), (1, 1), (0, 0)], [(0, 0), (0, 0), (0, 0), (1, 1)], [(1, 1), (0, 0), (0, 0), (0, 0)], [(0, 0), (1, 1), (0, 0), (0, 0)], [(1, 1), (0, 0), (0, 0), (0, 0)], [(0, 0), (0, 0), (0, 0), (1, 1)], [(1, 1), (0, 0), (0, 0), (0, 0)], [(1, 1), (0, 0), (0, 0), (0, 0)], [(0, 0), (0, 0), (0, 0), (1, 1)], [(0, 0), (0, 0), (1, 1), (0, 0)], [(1, 1), (0, 0), (0, 0), (0, 0)], [(1, 1), (0, 0), (0, 0), (0, 0)], [(0, 0), (1, 1), (0, 0), (0, 0)], [(0, 0), (0, 0), (0, 0), (1, 1)], [(0, 0), (1, 1), (0, 0), (0, 0)], [(0, 0), (0, 0), (0, 0), (1, 1)], [(1, 1), (0, 0), (0, 0), (0, 0)], [(0, 0), (0, 0), (0, 0), (1, 1)], [(0, 0), (0, 0), (0, 0), (1, 1)], [(0, 0), (1, 1), (0, 0), (0, 0)], [(0, 0), (0, 0), (0, 0), (1, 1)], [(0, 0), (0, 0), (1, 1), (0, 0)], [(0, 0), (1, 1), (0, 0), (0, 0)], [(0, 0), (0, 0), (1, 1), (0, 0)], [(0, 0), (0, 0), (1, 1), (0, 0)], [(0, 0), (0, 0), (1, 1), (0, 0)], [(0, 0), (1, 1), (0, 0), (0, 0)], [(0, 0), (0, 0), (1, 1), (0, 0)], [(1, 1), (0, 0), (0, 0), (0, 0)], [(0, 0), (0, 0), (1, 1), (0, 0)], [(0, 0), (0, 0), (0, 0), (1, 1)], [(1, 1), (0, 0), (0, 0), (0, 0)], [(1, 1), (0, 0), (0, 0), (0, 0)], [(0, 0), (1, 1), (0, 0), (0, 0)], [(0, 0), (1, 1), (0, 0), (0, 0)], [(1, 1), (0, 0), (0, 0), (0, 0)], [(0, 0), (0, 0), (1, 1), (0, 0)], [(0, 0), (0, 0), (1, 1), (0, 0)], [(0, 0), (1, 1), (0, 0), (0, 0)], [(0, 0), (1, 1), (0, 0), (0, 0)], [(0, 0), (1, 1), (0, 0), (0, 0)], [(0, 0), (0, 0), (0, 0), (1, 1)], [(1, 1), (0, 0), (0, 0), (0, 0)], [(0, 0), (1, 1), (0, 0), (0, 0)], [(0, 0), (0, 0), (0, 0), (1, 1)], [(0, 0), (0, 0), (1, 1), (0, 0)], [(0, 0), (0, 0), (0, 0), (1, 1)], [(0, 0), (0, 0), (1, 1), (0, 0)], [(0, 0), (1, 1), (0, 0), (0, 0)], [(0, 0), (0, 0), (0, 0), (1, 1)], [(0, 0), (0, 0), (1, 1), (0, 0)], [(0, 0), (1, 1), (0, 0), (0, 0)], [(0, 0), (1, 1), (0, 0), (0, 0)], [(0, 0), (0, 0), (0, 0), (1, 1)], [(0, 0), (1, 1), (0, 0), (0, 0)], [(0, 0), (0, 0), (0, 0), (1, 1)], [(1, 1), (0, 0), (0, 0), (0, 0)], [(0, 0), (1, 1), (0, 0), (0, 0)], [(0, 0), (0, 0), (1, 1), (0, 0)], [(0, 0), (0, 0), (0, 0), (1, 1)], [(0, 0), (0, 0), (1, 1), (0, 0)], [(1, 1), (0, 0), (0, 0), (0, 0)], [(0, 0), (1, 1), (0, 0), (0, 0)], [(0, 0), (1, 1), (0, 0), (0, 0)], [(1, 1), (0, 0), (0, 0), (0, 0)], [(1, 1), (0, 0), (0, 0), (0, 0)], [(0, 0), (0, 0), (1, 1), (0, 0)], [(0, 0), (0, 0), (0, 0), (1, 1)], [(0, 0), (0, 0), (1, 1), (0, 0)], [(0, 0), (0, 0), (0, 0), (1, 1)], [(0, 0), (0, 0), (1, 1), (0, 0)], [(0, 0), (0, 0), (1, 1), (0, 0)], [(0, 0), (0, 0), (0, 0), (1, 1)], [(0, 0), (0, 0), (1, 1), (0, 0)], [(0, 0), (1, 1), (0, 0), (0, 0)], [(0, 0), (0, 0), (0, 0), (1, 1)], [(0, 0), (1, 1), (0, 0), (0, 0)], [(0, 0), (0, 0), (0, 0), (1, 1)], [(0, 0), (1, 1), (0, 0), (0, 0)], [(0, 0), (1, 1), (0, 0), (0, 0)], [(0, 0), (0, 0), (0, 0), (1, 1)], [(0, 0), (1, 1), (0, 0), (0, 0)], [(1, 1), (0, 0), (0, 0), (0, 0)], [(0, 0), (0, 0), (1, 1), (0, 0)], [(0, 0), (0, 0), (0, 0), (1, 1)], [(1, 1), (0, 0), (0, 0), (0, 0)], [(0, 0), (0, 0), (0, 0), (1, 1)], [(1, 1), (0, 0), (0, 0), (0, 0)], [(1, 1), (0, 0), (0, 0), (0, 0)], [(0, 0), (0, 0), (1, 1), (0, 0)], [(1, 1), (0, 0), (0, 0), (0, 0)], [(1, 1), (0, 0), (0, 0), (0, 0)], [(0, 0), (1, 1), (0, 0), (0, 0)], [(0, 0), (0, 0), (1, 1), (0, 0)], [(0, 0), (1, 1), (0, 0), (0, 0)], [(1, 1), (0, 0), (0, 0), (0, 0)], [(0, 0), (0, 0), (1, 1), (0, 0)], [(0, 0), (0, 0), (0, 0), (1, 1)], [(0, 0), (1, 1), (0, 0), (0, 0)], [(1, 1), (0, 0), (0, 0), (0, 0)], [(0, 0), (0, 0), (1, 1), (0, 0)], [(0, 0), (0, 0), (0, 0), (1, 1)], [(0, 0), (0, 0), (0, 0), (1, 1)], [(0, 0), (0, 0), (0, 0), (1, 1)], [(0, 0), (1, 1), (0, 0), (0, 0)], [(0, 0), (0, 0), (0, 0), (1, 1)], [(0, 0), (0, 0), (1, 1), (0, 0)], [(1, 1), (0, 0), (0, 0), (0, 0)], [(1, 1), (0, 0), (0, 0), (0, 0)], [(0, 0), (1, 1), (0, 0), (0, 0)], [(0, 0), (1, 1), (0, 0), (0, 0)], [(0, 0), (0, 0), (1, 1), (0, 0)], [(1, 1), (0, 0), (0, 0), (0, 0)], [(1, 1), (0, 0), (0, 0), (0, 0)], [(0, 0), (0, 0), (1, 1), (0, 0)], [(0, 0), (1, 1), (0, 0), (0, 0)], [(0, 0), (1, 1), (0, 0), (0, 0)], [(0, 0), (0, 0), (1, 1), (0, 0)], [(0, 0), (1, 1), (0, 0), (0, 0)], [(0, 0), (0, 0), (0, 0), (1, 1)], [(0, 0), (1, 1), (0, 0), (0, 0)], [(0, 0), (0, 0), (1, 1), (0, 0)], [(0, 0), (0, 0), (1, 1), (0, 0)], [(0, 0), (0, 0), (1, 1), (0, 0)], [(1, 1), (0, 0), (0, 0), (0, 0)], [(0, 0), (1, 1), (0, 0), (0, 0)], [(0, 0), (0, 0), (0, 0), (1, 1)], [(0, 0), (1, 1), (0, 0), (0, 0)], [(0, 0), (0, 0), (1, 1), (0, 0)], [(0, 0), (1, 1), (0, 0), (0, 0)], [(1, 1), (0, 0), (0, 0), (0, 0)], [(0, 0), (0, 0), (1, 1), (0, 0)], [(0, 0), (0, 0), (0, 0), (1, 1)], [(0, 0), (0, 0), (1, 1), (0, 0)], [(0, 0), (1, 1), (0, 0), (0, 0)], [(0, 0), (0, 0), (0, 0), (1, 1)], [(0, 0), (1, 1), (0, 0), (0, 0)], [(0, 0), (0, 0), (0, 0), (1, 1)], [(0, 0), (0, 0), (0, 0), (1, 1)], [(0, 0), (0, 0), (0, 0), (1, 1)], [(0, 0), (1, 1), (0, 0), (0, 0)], [(0, 0), (1, 1), (0, 0), (0, 0)], [(1, 1), (0, 0), (0, 0), (0, 0)], [(0, 0), (1, 1), (0, 0), (0, 0)], [(0, 0), (0, 0), (0, 0), (1, 1)], [(0, 0), (0, 0), (1, 1), (0, 0)], [(0, 0), (0, 0), (0, 0), (1, 1)], [(0, 0), (0, 0), (0, 0), (1, 1)], [(1, 1), (0, 0), (0, 0), (0, 0)], [(0, 0), (0, 0), (1, 1), (0, 0)], [(1, 1), (0, 0), (0, 0), (0, 0)], [(1, 1), (0, 0), (0, 0), (0, 0)], [(0, 0), (0, 0), (0, 0), (1, 1)], [(0, 0), (0, 0), (0, 0), (1, 1)], [(0, 0), (0, 0), (0, 0), (1, 1)], [(1, 1), (0, 0), (0, 0), (0, 0)], [(0, 0), (0, 0), (1, 1), (0, 0)], [(1, 1), (0, 0), (0, 0), (0, 0)], [(0, 0), (0, 0), (1, 1), (0, 0)], [(0, 0), (1, 1), (0, 0), (0, 0)], [(1, 1), (0, 0), (0, 0), (0, 0)], [(1, 1), (0, 0), (0, 0), (0, 0)], [(0, 0), (1, 1), (0, 0), (0, 0)], [(0, 0), (1, 1), (0, 0), (0, 0)], [(1, 1), (0, 0), (0, 0), (0, 0)], [(0, 0), (0, 0), (1, 1), (0, 0)], [(0, 0), (1, 1), (0, 0), (0, 0)], [(0, 0), (0, 0), (0, 0), (1, 1)], [(0, 0), (0, 0), (0, 0), (1, 1)], [(0, 0), (1, 1), (0, 0), (0, 0)], [(0, 0), (0, 0), (1, 1), (0, 0)], [(0, 0), (0, 0), (0, 0), (1, 1)], [(1, 1), (0, 0), (0, 0), (0, 0)], [(0, 0), (1, 1), (0, 0), (0, 0)], [(0, 0), (0, 0), (1, 1), (0, 0)], [(0, 0), (0, 0), (1, 1), (0, 0)], [(1, 1), (0, 0), (0, 0), (0, 0)], [(0, 0), (0, 0), (0, 0), (1, 1)], [(1, 1), (0, 0), (0, 0), (0, 0)], [(0, 0), (0, 0), (1, 1), (0, 0)], [(0, 0), (0, 0), (0, 0), (1, 1)], [(0, 0), (0, 0), (0, 0), (1, 1)], [(0, 0), (1, 1), (0, 0), (0, 0)], [(1, 1), (0, 0), (0, 0), (0, 0)], [(0, 0), (0, 0), (0, 0), (1, 1)], [(1, 1), (0, 0), (0, 0), (0, 0)], [(0, 0), (0, 0), (0, 0), (1, 1)], [(1, 1), (0, 0), (0, 0), (0, 0)], [(1, 1), (0, 0), (0, 0), (0, 0)], [(0, 0), (0, 0), (1, 1), (0, 0)], [(1, 1), (0, 0), (0, 0), (0, 0)], [(0, 0), (1, 1), (0, 0), (0, 0)], [(0, 0), (1, 1), (0, 0), (0, 0)], [(1, 1), (0, 0), (0, 0), (0, 0)], [(0, 0), (1, 1), (0, 0), (0, 0)], [(0, 0), (0, 0), (0, 0), (1, 1)], [(0, 0), (0, 0), (1, 1), (0, 0)], [(1, 1), (0, 0), (0, 0), (0, 0)], [(0, 0), (0, 0), (0, 0), (1, 1)], [(0, 0), (1, 1), (0, 0), (0, 0)], [(0, 0), (1, 1), (0, 0), (0, 0)], [(0, 0), (0, 0), (1, 1), (0, 0)], [(0, 0), (1, 1), (0, 0), (0, 0)], [(1, 1), (0, 0), (0, 0), (0, 0)], [(0, 0), (0, 0), (1, 1), (0, 0)], [(0, 0), (1, 1), (0, 0), (0, 0)], [(0, 0), (0, 0), (0, 0), (1, 1)], [(1, 1), (0, 0), (0, 0), (0, 0)], [(0, 0), (0, 0), (1, 1), (0, 0)], [(0, 0), (0, 0), (1, 1), (0, 0)], [(0, 0), (1, 1), (0, 0), (0, 0)], [(0, 0), (0, 0), (0, 0), (1, 1)], [(0, 0), (1, 1), (0, 0), (0, 0)], [(0, 0), (0, 0), (1, 1), (0, 0)], [(1, 1), (0, 0), (0, 0), (0, 0)], [(0, 0), (1, 1), (0, 0), (0, 0)], [(0, 0), (0, 0), (0, 0), (1, 1)], [(0, 0), (0, 0), (0, 0), (1, 1)], [(0, 0), (0, 0), (1, 1), (0, 0)], [(0, 0), (0, 0), (0, 0), (1, 1)], [(0, 0), (1, 1), (0, 0), (0, 0)], [(0, 0), (0, 0), (0, 0), (1, 1)], [(0, 0), (0, 0), (0, 0), (1, 1)], [(1, 1), (0, 0), (0, 0), (0, 0)], [(0, 0), (1, 1), (0, 0), (0, 0)], [(0, 0), (0, 0), (1, 1), (0, 0)], [(0, 0), (0, 0), (0, 0), (1, 1)], [(1, 1), (0, 0), (0, 0), (0, 0)], [(0, 0), (0, 0), (1, 1), (0, 0)], [(0, 0), (1, 1), (0, 0), (0, 0)], [(0, 0), (0, 0), (0, 0), (1, 1)], [(1, 1), (0, 0), (0, 0), (0, 0)], [(0, 0), (0, 0), (1, 1), (0, 0)], [(0, 0), (0, 0), (0, 0), (1, 1)], [(0, 0), (0, 0), (0, 0), (1, 1)], [(1, 1), (0, 0), (0, 0), (0, 0)], [(0, 0), (0, 0), (1, 1), (0, 0)], [(0, 0), (0, 0), (0, 0), (1, 1)], [(0, 0), (0, 0), (1, 1), (0, 0)], [(0, 0), (1, 1), (0, 0), (0, 0)], [(0, 0), (0, 0), (1, 1), (0, 0)], [(0, 0), (0, 0), (1, 1), (0, 0)], [(0, 0), (0, 0), (1, 1), (0, 0)], [(0, 0), (1, 1), (0, 0), (0, 0)], [(0, 0), (0, 0), (1, 1), (0, 0)], [(1, 1), (0, 0), (0, 0), (0, 0)], [(1, 1), (0, 0), (0, 0), (0, 0)], [(0, 0), (0, 0), (0, 0), (1, 1)], [(0, 0), (0, 0), (0, 0), (1, 1)], [(0, 0), (0, 0), (1, 1), (0, 0)], [(0, 0), (0, 0), (0, 0), (1, 1)], [(0, 0), (1, 1), (0, 0), (0, 0)], [(1, 1), (0, 0), (0, 0), (0, 0)], [(0, 0), (0, 0), (0, 0), (1, 1)], [(0, 0), (0, 0), (0, 0), (1, 1)], [(0, 0), (0, 0), (1, 1), (0, 0)], [(0, 0), (1, 1), (0, 0), (0, 0)], [(0, 0), (1, 1), (0, 0), (0, 0)], [(0, 0), (1, 1), (0, 0), (0, 0)], [(1, 1), (0, 0), (0, 0), (0, 0)], [(0, 0), (0, 0), (0, 0), (1, 1)], [(1, 1), (0, 0), (0, 0), (0, 0)], [(0, 0), (1, 1), (0, 0), (0, 0)], [(0, 0), (1, 1), (0, 0), (0, 0)], [(1, 1), (0, 0), (0, 0), (0, 0)], [(0, 0), (0, 0), (1, 1), (0, 0)], [(1, 1), (0, 0), (0, 0), (0, 0)], [(0, 0), (0, 0), (1, 1), (0, 0)], [(0, 0), (0, 0), (0, 0), (1, 1)], [(0, 0), (0, 0), (1, 1), (0, 0)], [(0, 0), (0, 0), (1, 1), (0, 0)], [(0, 0), (1, 1), (0, 0), (0, 0)], [(0, 0), (0, 0), (0, 0), (1, 1)], [(1, 1), (0, 0), (0, 0), (0, 0)], [(1, 1), (0, 0), (0, 0), (0, 0)], [(0, 0), (0, 0), (1, 1), (0, 0)], [(1, 1), (0, 0), (0, 0), (0, 0)], [(0, 0), (1, 1), (0, 0), (0, 0)], [(1, 1), (0, 0), (0, 0), (0, 0)], [(1, 1), (0, 0), (0, 0), (0, 0)], [(0, 0), (0, 0), (0, 0), (1, 1)], [(0, 0), (0, 0), (1, 1), (0, 0)], [(0, 0), (0, 0), (1, 1), (0, 0)], [(0, 0), (0, 0), (1, 1), (0, 0)], [(0, 0), (1, 1), (0, 0), (0, 0)], [(0, 0), (1, 1), (0, 0), (0, 0)], [(0, 0), (1, 1), (0, 0), (0, 0)], [(0, 0), (0, 0), (0, 0), (1, 1)], [(1, 1), (0, 0), (0, 0), (0, 0)], [(0, 0), (0, 0), (0, 0), (1, 1)], [(0, 0), (1, 1), (0, 0), (0, 0)], [(0, 0), (1, 1), (0, 0), (0, 0)], [(0, 0), (1, 1), (0, 0), (0, 0)], [(0, 0), (0, 0), (0, 0), (1, 1)], [(0, 0), (0, 0), (1, 1), (0, 0)], [(0, 0), (0, 0), (1, 1), (0, 0)], [(0, 0), (0, 0), (1, 1), (0, 0)], [(0, 0), (1, 1), (0, 0), (0, 0)], [(0, 0), (0, 0), (0, 0), (1, 1)], [(0, 0), (0, 0), (1, 1), (0, 0)], [(0, 0), (0, 0), (1, 1), (0, 0)], [(1, 1), (0, 0), (0, 0), (0, 0)], [(0, 0), (0, 0), (0, 0), (1, 1)], [(0, 0), (0, 0), (0, 0), (1, 1)], [(0, 0), (1, 1), (0, 0), (0, 0)], [(1, 1), (0, 0), (0, 0), (0, 0)], [(1, 1), (0, 0), (0, 0), (0, 0)], [(0, 0), (1, 1), (0, 0), (0, 0)], [(0, 0), (0, 0), (1, 1), (0, 0)], [(1, 1), (0, 0), (0, 0), (0, 0)], [(0, 0), (0, 0), (1, 1), (0, 0)], [(0, 0), (0, 0), (1, 1), (0, 0)], [(0, 0), (0, 0), (0, 0), (1, 1)], [(1, 1), (0, 0), (0, 0), (0, 0)], [(0, 0), (0, 0), (1, 1), (0, 0)], [(1, 1), (0, 0), (0, 0), (0, 0)], [(1, 1), (0, 0), (0, 0), (0, 0)], [(0, 0), (0, 0), (1, 1), (0, 0)], [(0, 0), (0, 0), (1, 1), (0, 0)], [(0, 0), (0, 0), (1, 1), (0, 0)], [(0, 0), (0, 0), (0, 0), (1, 1)], [(0, 0), (0, 0), (0, 0), (1, 1)], [(0, 0), (0, 0), (1, 1), (0, 0)], [(0, 0), (1, 1), (0, 0), (0, 0)], [(0, 0), (1, 1), (0, 0), (0, 0)], [(0, 0), (1, 1), (0, 0), (0, 0)], [(0, 0), (0, 0), (1, 1), (0, 0)], [(0, 0), (0, 0), (0, 0), (1, 1)], [(0, 0), (0, 0), (1, 1), (0, 0)], [(1, 1), (0, 0), (0, 0), (0, 0)], [(0, 0), (0, 0), (0, 0), (1, 1)], [(0, 0), (0, 0), (1, 1), (0, 0)], [(0, 0), (0, 0), (0, 0), (1, 1)], [(0, 0), (0, 0), (0, 0), (1, 1)], [(0, 0), (0, 0), (0, 0), (1, 1)], [(0, 0), (0, 0), (0, 0), (1, 1)], [(0, 0), (1, 1), (0, 0), (0, 0)], [(1, 1), (0, 0), (0, 0), (0, 0)], [(0, 0), (0, 0), (1, 1), (0, 0)], [(0, 0), (0, 0), (1, 1), (0, 0)], [(0, 0), (0, 0), (0, 0), (1, 1)], [(0, 0), (1, 1), (0, 0), (0, 0)], [(0, 0), (0, 0), (1, 1), (0, 0)], [(0, 0), (1, 1), (0, 0), (0, 0)], [(1, 1), (0, 0), (0, 0), (0, 0)], [(0, 0), (0, 0), (0, 0), (1, 1)], [(1, 1), (0, 0), (0, 0), (0, 0)], [(0, 0), (0, 0), (1, 1), (0, 0)], [(0, 0), (1, 1), (0, 0), (0, 0)], [(0, 0), (0, 0), (0, 0), (1, 1)], [(1, 1), (0, 0), (0, 0), (0, 0)], [(0, 0), (0, 0), (0, 0), (1, 1)], [(0, 0), (0, 0), (0, 0), (1, 1)], [(0, 0), (1, 1), (0, 0), (0, 0)], [(0, 0), (0, 0), (1, 1), (0, 0)], [(0, 0), (0, 0), (1, 1), (0, 0)], [(0, 0), (1, 1), (0, 0), (0, 0)], [(0, 0), (0, 0), (0, 0), (1, 1)], [(0, 0), (0, 0), (0, 0), (1, 1)], [(0, 0), (1, 1), (0, 0), (0, 0)], [(1, 1), (0, 0), (0, 0), (0, 0)], [(0, 0), (0, 0), (1, 1), (0, 0)], [(0, 0), (1, 1), (0, 0), (0, 0)], [(0, 0), (1, 1), (0, 0), (0, 0)], [(1, 1), (0, 0), (0, 0), (0, 0)], [(1, 1), (0, 0), (0, 0), (0, 0)], [(0, 0), (0, 0), (1, 1), (0, 0)], [(0, 0), (0, 0), (1, 1), (0, 0)], [(0, 0), (1, 1), (0, 0), (0, 0)], [(1, 1), (0, 0), (0, 0), (0, 0)], [(0, 0), (1, 1), (0, 0), (0, 0)], [(1, 1), (0, 0), (0, 0), (0, 0)], [(0, 0), (0, 0), (1, 1), (0, 0)], [(1, 1), (0, 0), (0, 0), (0, 0)], [(1, 1), (0, 0), (0, 0), (0, 0)], [(1, 1), (0, 0), (0, 0), (0, 0)], [(1, 1), (0, 0), (0, 0), (0, 0)], [(0, 0), (1, 1), (0, 0), (0, 0)], [(1, 1), (0, 0), (0, 0), (0, 0)]]\n"
     ]
    }
   ],
   "source": [
    "results = apply_model( model, test_data, True)\n",
    "print( results) # Error rate calculated below"
   ]
  },
  {
   "cell_type": "markdown",
   "metadata": {},
   "source": [
    "## `calculate_error_rate` <a id=\"calculate_error_rate\"></a>\n",
    "\n",
    "Calculate error rate based on predictions and true labels. Helps determine model performance\n",
    "\n",
    "**Parameters:**\n",
    "* `predictions`: (`List[List[tuple]]`) - Predictions made by the model\n",
    "* `true_data`: (`List[List[tuple]]`) - True data values to check agains\n",
    "\n",
    "Returns:\n",
    "* `float` - Error rate of the model"
   ]
  },
  {
   "cell_type": "code",
   "execution_count": 32,
   "metadata": {},
   "outputs": [],
   "source": [
    "def calculate_error_rate(predictions):\n",
    "    incorrect_count = 0\n",
    "    total = len(predictions)\n",
    "\n",
    "    for pred in predictions:\n",
    "        true_label_idx = [p[0] for p in pred].index(1)\n",
    "        predicted_label_idx = max(enumerate(pred), key=lambda x: x[1][1])[0]\n",
    "        if predicted_label_idx != true_label_idx:\n",
    "                incorrect_count += 1\n",
    "\n",
    "    return incorrect_count / total\n"
   ]
  },
  {
   "cell_type": "code",
   "execution_count": 33,
   "metadata": {},
   "outputs": [],
   "source": [
    "predictions_labeled = [\n",
    "    [(1, 1), (0, 0), (0, 0)], \n",
    "    [(0, 0), (1, 1), (0, 0)],  \n",
    "    [(0, 0), (1, 0), (0, 0)] \n",
    "]\n",
    "\n",
    "predictions_unlabeled = [\n",
    "    [(1, 0.8), (0, 0.1), (0, 0.1)], \n",
    "    [(0, 0.1), (1, 0.7), (0, 0.2)], \n",
    "    [(0, 0.4), (1, 0.5), (0, 0.1)]   \n",
    "]\n",
    "\n",
    "labeled_error_rate = calculate_error_rate(predictions_labeled)\n",
    "unlabeled_error_rate = calculate_error_rate(predictions_unlabeled)\n",
    "assert(round(labeled_error_rate, 2) == 0.33) # Should be right 1/3 of the time\n",
    "assert(round(unlabeled_error_rate, 2) == 0.0) # Should be perfect\n",
    "\n",
    "bad_predictions_unlabeled = [\n",
    "    [(1, 0.1), (0, 0.8), (0, 0.1)], \n",
    "    [(0, 0.8), (1, 0.1), (0, 0.2)], \n",
    "    [(0, 0.6), (1, 0.5), (0, 0.1)]   \n",
    "]\n",
    "\n",
    "assert(calculate_error_rate(bad_predictions_unlabeled) == 1.0) # Should not be right at all"
   ]
  },
  {
   "cell_type": "code",
   "execution_count": 35,
   "metadata": {},
   "outputs": [
    {
     "name": "stdout",
     "output_type": "stream",
     "text": [
      "0.0\n"
     ]
    }
   ],
   "source": [
    "test_data_true = []\n",
    "for example in test_data:\n",
    "    x, train_true_point = example\n",
    "    test_data_true.append(train_true_point)\n",
    "error_rate = calculate_error_rate(results)\n",
    "print(error_rate)"
   ]
  },
  {
   "cell_type": "markdown",
   "metadata": {},
   "source": [
    "Now that you're pretty sure your algorithm works (the error rate during training is going down, and you can evaluate `apply_model` results for its error rate), you need to determine what the best number of hidden nodes is.\n",
    "\n",
    "Try 2, 4, or 8 hidden nodes and indicate the best one. Follow the outline above under \"Simple Evaluation\".\n",
    "In the \"real world\", you could 10 fold cross validation and validation curves to determine the number of hidden nodes and possibly if you needed one or two hidden layers."
   ]
  },
  {
   "cell_type": "code",
   "execution_count": 36,
   "metadata": {},
   "outputs": [
    {
     "name": "stdout",
     "output_type": "stream",
     "text": [
      "Testing with 2 hidden nodes...\n",
      "Epoch 0, Error: 444.540254\n",
      "Epoch 1000, Error: 40.173220\n",
      "Epoch 2000, Error: 19.046307\n",
      "Model has finished learning.\n",
      "Train Error Rate: 0.0\n",
      "Test Error Rate: 0.0\n",
      "Testing with 4 hidden nodes...\n",
      "Epoch 0, Error: 465.949385\n",
      "Model has finished learning.\n",
      "Train Error Rate: 0.0\n",
      "Test Error Rate: 0.0\n",
      "Testing with 8 hidden nodes...\n",
      "Epoch 0, Error: 412.426388\n",
      "Model has finished learning.\n",
      "Train Error Rate: 0.0\n",
      "Test Error Rate: 0.0\n"
     ]
    }
   ],
   "source": [
    "train_data = generate_data(clean_data, 100) \n",
    "test_data = generate_data(clean_data, 10000)\n",
    "\n",
    "hidden_nodes_options = [2,4,8]\n",
    "results = {}\n",
    "\n",
    "for nodes in hidden_nodes_options:\n",
    "    print(f\"Testing with {nodes} hidden nodes...\")\n",
    "    \n",
    "    model = learn_model(train_data, nodes, True)\n",
    "    print(f\"Model has finished learning.\")\n",
    "    train_results = apply_model(model, train_data, labeled=True)\n",
    "    train_error_rate = calculate_error_rate(train_results)\n",
    "    print(f\"Train Error Rate: {train_error_rate}\")\n",
    "\n",
    "    test_results = apply_model(model, test_data, labeled=False)\n",
    "    test_error_rate = calculate_error_rate(test_results)\n",
    "    print(f\"Test Error Rate: {test_error_rate}\")\n",
    "\n",
    "    # Store results\n",
    "    results[nodes] = (train_error_rate, test_error_rate)"
   ]
  },
  {
   "cell_type": "code",
   "execution_count": 37,
   "metadata": {},
   "outputs": [
    {
     "name": "stdout",
     "output_type": "stream",
     "text": [
      "{2: (0.0, 0.0), 4: (0.0, 0.0), 8: (0.0, 0.0)}\n"
     ]
    }
   ],
   "source": [
    "print(results)"
   ]
  },
  {
   "cell_type": "markdown",
   "metadata": {},
   "source": [
    "which number of hidden nodes is best? __8__\n",
    "\n",
    "Based on my calculations any of these would have worked, while messing with values 8 seemed to be most likely to have a 0.0 for both most often."
   ]
  },
  {
   "cell_type": "markdown",
   "metadata": {},
   "source": [
    "## Before You Submit...\n",
    "\n",
    "1. Did you provide output exactly as requested?\n",
    "2. Did you re-execute the entire notebook? (\"Restart Kernel and Rull All Cells...\")\n",
    "3. If you did not complete the assignment or had difficulty please explain what gave you the most difficulty in the Markdown cell below.\n",
    "4. Did you change the name of the file to `jhed_id.ipynb`?\n",
    "\n",
    "Do not submit any other files."
   ]
  },
  {
   "cell_type": "markdown",
   "metadata": {},
   "source": [
    "Honestly the biggest issue for me is I kept getting 0.0 for error rate. I dug into all of the values and I seemed to be getting correct responses back from the model so it seemed to be functioning correctly overall. I attempted to find if there was a data leak but I couldn't determine that. My best guess is that the patterns are fairly obvious so the model was able to accurately predict it a large majority of the time? However, it still seems too high to be correct, let me know if I completely missed something that was causing this."
   ]
  }
 ],
 "metadata": {
  "kernelspec": {
   "display_name": "en605645",
   "language": "python",
   "name": "python3"
  },
  "language_info": {
   "codemirror_mode": {
    "name": "ipython",
    "version": 3
   },
   "file_extension": ".py",
   "mimetype": "text/x-python",
   "name": "python",
   "nbconvert_exporter": "python",
   "pygments_lexer": "ipython3",
   "version": "3.11.9"
  },
  "toc": {
   "colors": {
    "hover_highlight": "#DAA520",
    "navigate_num": "#000000",
    "navigate_text": "#333333",
    "running_highlight": "#FF0000",
    "selected_highlight": "#FFD700",
    "sidebar_border": "#EEEEEE",
    "wrapper_background": "#FFFFFF"
   },
   "moveMenuLeft": true,
   "nav_menu": {
    "height": "207px",
    "width": "252px"
   },
   "navigate_menu": true,
   "number_sections": true,
   "sideBar": true,
   "threshold": 4,
   "toc_cell": false,
   "toc_section_display": "block",
   "toc_window_display": false,
   "widenNotebook": false
  }
 },
 "nbformat": 4,
 "nbformat_minor": 4
}
