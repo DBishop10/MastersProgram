{
 "cells": [
  {
   "cell_type": "markdown",
   "metadata": {
    "toc": true
   },
   "source": [
    "<h1>Table of Contents<span class=\"tocSkip\"></span></h1>\n",
    "<div class=\"toc\"><ul class=\"toc-item\"><li><span><a href=\"#Introduction\" data-toc-modified-id=\"Introduction-1\"><span class=\"toc-item-num\">1&nbsp;&nbsp;</span>Introduction</a></span><ul class=\"toc-item\"><li><span><a href=\"#Licence\" data-toc-modified-id=\"Licence-1.1\"><span class=\"toc-item-num\">1.1&nbsp;&nbsp;</span>Licence</a></span></li><li><span><a href=\"#Purpose\" data-toc-modified-id=\"Purpose-1.2\"><span class=\"toc-item-num\">1.2&nbsp;&nbsp;</span>Purpose</a></span></li><li><span><a href=\"#Input\" data-toc-modified-id=\"Input-1.3\"><span class=\"toc-item-num\">1.3&nbsp;&nbsp;</span>Input</a></span></li><li><span><a href=\"#Output\" data-toc-modified-id=\"Output-1.4\"><span class=\"toc-item-num\">1.4&nbsp;&nbsp;</span>Output</a></span></li></ul></li><li><span><a href=\"#Setup\" data-toc-modified-id=\"Setup-2\"><span class=\"toc-item-num\">2&nbsp;&nbsp;</span>Setup</a></span><ul class=\"toc-item\"><li><span><a href=\"#Imports\" data-toc-modified-id=\"Imports-2.1\"><span class=\"toc-item-num\">2.1&nbsp;&nbsp;</span>Imports</a></span></li><li><span><a href=\"#Parameters\" data-toc-modified-id=\"Parameters-2.2\"><span class=\"toc-item-num\">2.2&nbsp;&nbsp;</span>Parameters</a></span></li><li><span><a href=\"#Functions-and-Classes\" data-toc-modified-id=\"Functions-and-Classes-2.3\"><span class=\"toc-item-num\">2.3&nbsp;&nbsp;</span>Functions and Classes</a></span></li><li><span><a href=\"#System-dependent-Configuration\" data-toc-modified-id=\"System-dependent-Configuration-2.4\"><span class=\"toc-item-num\">2.4&nbsp;&nbsp;</span>System-dependent Configuration</a></span></li></ul></li><li><span><a href=\"#Collect-Data\" data-toc-modified-id=\"Collect-Data-3\"><span class=\"toc-item-num\">3&nbsp;&nbsp;</span>Collect Data</a></span><ul class=\"toc-item\"><li><span><a href=\"#Collect-Reddit-Submissions-and-Comments\" data-toc-modified-id=\"Collect-Reddit-Submissions-and-Comments-3.1\"><span class=\"toc-item-num\">3.1&nbsp;&nbsp;</span>Collect Reddit Submissions and Comments</a></span></li></ul></li><li><span><a href=\"#Conclusion\" data-toc-modified-id=\"Conclusion-4\"><span class=\"toc-item-num\">4&nbsp;&nbsp;</span>Conclusion</a></span></li></ul></div>"
   ]
  },
  {
   "cell_type": "markdown",
   "metadata": {},
   "source": [
    "# Introduction"
   ]
  },
  {
   "cell_type": "markdown",
   "metadata": {},
   "source": [
    "Licence\n",
    "-------------\n",
    "Developed by the Discovery Lab, Applied Intelligence Group, Accenture Federal Systems.\n",
    "\n",
    "```\n",
    "Copyright (c) 2020 Accenture Federal Systems.\n",
    "\n",
    "Permission is hereby granted, free of charge, to any person obtaining a copy\n",
    "of this software and associated documentation files (the \"Software\"), to deal\n",
    "in the Software without restriction, including without limitation the rights\n",
    "to use, copy, modify, merge, publish, distribute, sublicense, and/or sell\n",
    "copies of the Software, and to permit persons to whom the Software is\n",
    "furnished to do so, subject to the following conditions:\n",
    "\n",
    "The above copyright notice and this permission notice shall be included in all\n",
    "copies or substantial portions of the Software.\n",
    "\n",
    "THE SOFTWARE IS PROVIDED \"AS IS\", WITHOUT WARRANTY OF ANY KIND, EXPRESS OR\n",
    "IMPLIED, INCLUDING BUT NOT LIMITED TO THE WARRANTIES OF MERCHANTABILITY,\n",
    "FITNESS FOR A PARTICULAR PURPOSE AND NONINFRINGEMENT. IN NO EVENT SHALL THE\n",
    "AUTHORS OR COPYRIGHT HOLDERS BE LIABLE FOR ANY CLAIM, DAMAGES OR OTHER\n",
    "LIABILITY, WHETHER IN AN ACTION OF CONTRACT, TORT OR OTHERWISE, ARISING FROM,\n",
    "OUT OF OR IN CONNECTION WITH THE SOFTWARE OR THE USE OR OTHER DEALINGS IN THE\n",
    "SOFTWARE.\n",
    "```\n",
    "\n",
    "\n",
    "Purpose\n",
    "-------------\n",
    "This notebook collects posts and comments, and associated metadata from the [Reddit](https://www.reddit.com/) social media platform. It uses Reddit API through [PRAW](https://praw.readthedocs.io/en/latest/) and requires credentials.\n",
    "\n",
    "\n",
    "Input\n",
    "-------------\n",
    "**Required Parameters**\n",
    "\n",
    "- _**client\\_id**_ (string) - A unique client id provided by Reddit.\n",
    "\n",
    "- _**client\\_secret**_ (string) - Secret associated with client id provided by Reddit.\n",
    "\n",
    "- _**user\\_agent**_ (string) - A unique user agent provided by Reddit.\n",
    "\n",
    "- _**search\\_terms**_ (array of strings) - Search terms.\n",
    "\n",
    "- _**subreddits**_ (array of strings) - Names of subreddits to search from.\n",
    "\n",
    "\n",
    "**Optional Parameters**\n",
    "\n",
    "- _**post\\_limit**_ (integer, default: 100, maximum: 1000) - Maximum number of posts to download.\n",
    "\n",
    "\n",
    "Output\n",
    "-------------\n",
    "The outputs are two `CSV` files named `REDDIT_POSTS_{{DATETIME}}.csv` and `REDDIT_COMMENTS_{{DATETIME}}.csv`, where `{{DATETIME}}` is the approximate date/time of the data collection. These `CSV` files are saved in the `{{HOME}}/data/raw/Reddit` folder, where `{{HOME}}` is the project installation folder.\n",
    "\n",
    "The columns of the output file `REDDIT_POSTS_{{DATETIME}}.csv` is as follows.\n",
    "\n",
    "- _**author**_ (string) -  Provides an instance of `Redditor`.\n",
    "\n",
    "- _**clicked**_ (binary) -  Whether or not the submission has been clicked by the client. \n",
    "\n",
    "- _**comments**_ (array of strings) -  Provides an instance of `CommentForest`. \n",
    "\n",
    "- _**created_utc**_ (datetime) - Time the submission was created, represented in Unix Time. \n",
    "\n",
    "- _**distinguished**_ (binary) - Whether or not the submission is distinguished. \n",
    "\n",
    "- _**edited**_ (binary) - Whether or not the submission has been edited. \n",
    "\n",
    "- _**id**_ (string) - ID of the submission. \n",
    "\n",
    "- _**is\\_original_content**_ (binary) - Whether or not the submission has been set as original content. \n",
    "\n",
    "- _**is\\_self**_ (binary) - Whether or not the submission is a selfpost (text-only). \n",
    "\n",
    "- _**link\\_flair_template\\_id**_ (string) - The link flair’s ID, or None if not flaired. \n",
    "\n",
    "- _**link\\_flair\\_text**_ (text) - The link flair’s text content, or None if not flaired. \n",
    "\n",
    "- _**locked**_ (binary) - Whether or not the submission has been locked. \n",
    "\n",
    "- _**name**_ (string) - Fullname of the submission. \n",
    "\n",
    "- _**num\\_comments**_ (integer) - The number of comments on the submission. \n",
    "\n",
    "- _**over\\_18**_ (binary) - Whether or not the submission has been marked as NSFW. \n",
    "\n",
    "- _**permalink**_ (string) - A permalink for the submission. \n",
    "\n",
    "- _**poll\\_data**_ (object) - A PollData object representing the data of this submission, if it is a poll submission. \n",
    "\n",
    "- _**score**_ (integer) - The number of upvotes for the submission. \n",
    "\n",
    "- _**selftext**_ (text) - The submissions’ selftext - an empty string if a link post. \n",
    "\n",
    "- _**spoiler**_ (binary) - Whether or not the submission has been marked as a spoiler. \n",
    "\n",
    "- _**stickied**_ (binary) - Whether or not the submission is stickied. \n",
    "\n",
    "- _**subreddit**_ (string) - Provides an instance of Subreddit. \n",
    "\n",
    "- _**title**_ (text) - The title of the submission. \n",
    "\n",
    "- _**upvote\\_ratio**_ (double) - The percentage of upvotes from all votes on the submission. \n",
    "\n",
    "- _**url**_ (string) - The URL the submission links to, or the permalink if a selfpost. \n",
    "\n",
    "\n",
    "The columns of the output file `REDDIT_COMMENTS_{{DATETIME}}.csv` is as follows.\n",
    "\n",
    "- _**author**_ (string) - Provides an instance of Redditor. \n",
    "\n",
    "- _**body**_ (text) -  The body of the comment, as Markdown.\n",
    "\n",
    "- _**body\\_html**_ (text) - The body of the comment, as HTML.\n",
    "\n",
    "- _**created\\_utc**_ (datetime) - Time the comment was created, represented in Unix Time. \n",
    "\n",
    "- _**distinguished**_ (binary) - Whether or not the comment is distinguished. \n",
    "\n",
    "- _**edited**_ (binary) - Whether or not the comment has been edited. \n",
    "\n",
    "- _**id**_ (string) - ID of the comment. \n",
    "\n",
    "- _**is\\_submitter**_ (binary) - Whether or not the comment author is also the author of the submission. \n",
    "\n",
    "- _**link\\_id**_ (string) - The submission ID that the comment belongs to. \n",
    "\n",
    "- _**parent\\_id**_ (string) - The ID of the parent comment (prefixed with t1\\_). If it is a top-level comment, this returns the submission ID instead (prefixed with t3\\_). \n",
    "\n",
    "- _**permalink**_ (string) - A permalink for the comment. Comment objects from the inbox have a context attribute instead. \n",
    "\n",
    "- _**replies**_ (integer) - Provides an instance of CommentForest. \n",
    "\n",
    "- _**score**_ (integer) - The number of upvotes for the comment. \n",
    "\n",
    "- _**stickied**_ (binary) - Whether or not the comment is stickied. \n",
    " \n",
    "- _**submission**_ (string) - Provides an instance of the submission that the comment belongs to. \n",
    "\n",
    "- _**subreddit**_ (string) - Provides an instance of the subreddit that the comment belongs to. \n",
    "\n",
    "- _**subreddit\\_id**_ (string) - The subreddit ID that the comment belongs to. \n"
   ]
  },
  {
   "cell_type": "markdown",
   "metadata": {},
   "source": [
    "# Setup"
   ]
  },
  {
   "cell_type": "markdown",
   "metadata": {},
   "source": [
    "<p> The imports, function and class defintions, global variables, and system-dependent configuration are in this section. </p>\n",
    "\n",
    "<p> The system dependent configuration should be carefully reviewed and configured for each system (e.g., Linux vs. Windows, or the path of an external program) since the playbook will most likely fail without proper configuration. </p>"
   ]
  },
  {
   "cell_type": "markdown",
   "metadata": {},
   "source": [
    "## Imports"
   ]
  },
  {
   "cell_type": "code",
   "execution_count": 113,
   "metadata": {},
   "outputs": [
    {
     "name": "stdout",
     "output_type": "stream",
     "text": [
      "Collecting scipy\n",
      "  Downloading scipy-1.14.1-cp312-cp312-win_amd64.whl.metadata (60 kB)\n",
      "Requirement already satisfied: numpy<2.3,>=1.23.5 in e:\\anaconda\\lib\\site-packages (from scipy) (2.1.1)\n",
      "Downloading scipy-1.14.1-cp312-cp312-win_amd64.whl (44.5 MB)\n",
      "   ---------------------------------------- 0.0/44.5 MB ? eta -:--:--\n",
      "   -------- ------------------------------- 10.0/44.5 MB 51.9 MB/s eta 0:00:01\n",
      "   --------------------- ------------------ 23.6/44.5 MB 59.8 MB/s eta 0:00:01\n",
      "   ---------------------------------- ----- 38.0/44.5 MB 63.7 MB/s eta 0:00:01\n",
      "   ---------------------------------------  44.3/44.5 MB 57.6 MB/s eta 0:00:01\n",
      "   ---------------------------------------- 44.5/44.5 MB 53.5 MB/s eta 0:00:00\n",
      "Installing collected packages: scipy\n",
      "Successfully installed scipy-1.14.1\n"
     ]
    }
   ],
   "source": [
    "!pip install pandas\n",
    "!pip install matplotlib\n",
    "!pip install plotly\n",
    "!pip install selenium\n",
    "!pip install bs4\n",
    "!pip install praw\n",
    "!pip install textblob\n",
    "!pip install nltk\n",
    "!pip install networkx\n",
    "!pip install scipy"
   ]
  },
  {
   "cell_type": "code",
   "execution_count": 1,
   "metadata": {},
   "outputs": [
    {
     "name": "stderr",
     "output_type": "stream",
     "text": [
      "C:\\Users\\dunca\\AppData\\Local\\Temp\\ipykernel_9788\\4234844595.py:14: DeprecationWarning: `set_matplotlib_formats` is deprecated since IPython 7.23, directly use `matplotlib_inline.backend_inline.set_matplotlib_formats()`\n",
      "  set_matplotlib_formats('retina')\n"
     ]
    },
    {
     "data": {
      "text/html": [
       "        <script type=\"text/javascript\">\n",
       "        window.PlotlyConfig = {MathJaxConfig: 'local'};\n",
       "        if (window.MathJax && window.MathJax.Hub && window.MathJax.Hub.Config) {window.MathJax.Hub.Config({SVG: {font: \"STIX-Web\"}});}\n",
       "        if (typeof require !== 'undefined') {\n",
       "        require.undef(\"plotly\");\n",
       "        requirejs.config({\n",
       "            paths: {\n",
       "                'plotly': ['https://cdn.plot.ly/plotly-2.35.2.min']\n",
       "            }\n",
       "        });\n",
       "        require(['plotly'], function(Plotly) {\n",
       "            window._Plotly = Plotly;\n",
       "        });\n",
       "        }\n",
       "        </script>\n",
       "        "
      ]
     },
     "metadata": {},
     "output_type": "display_data"
    }
   ],
   "source": [
    "\"\"\"This cell imports necessary Python modules and performs initial configuration\n",
    "\"\"\"\n",
    "\n",
    "# Data manipulation libraries\n",
    "import json\n",
    "import pandas as pd \n",
    "import csv\n",
    "\n",
    "\n",
    "# Visualization and Interaction\n",
    "# import matplotlib.pyplot as plt\n",
    "# plt.style.use('ggplot')\n",
    "from IPython.display import set_matplotlib_formats, display, clear_output, HTML\n",
    "set_matplotlib_formats('retina')\n",
    "import plotly.graph_objs as go\n",
    "from plotly.offline import download_plotlyjs, init_notebook_mode, plot, iplot \n",
    "init_notebook_mode(connected=True)\n",
    "import ipywidgets as widgets\n",
    "from ipywidgets import interact, interactive, fixed, interact_manual\n",
    "from ipywidgets import VBox, HBox, Button, HTML, Label\n",
    "\n",
    "\n",
    "# Computation libraries \n",
    "import numpy as np\n",
    "import re\n",
    "import random\n",
    "\n",
    "\n",
    "# Graph analysis\n",
    "# import networkx as nx\n",
    "# import community\n",
    "\n",
    "\n",
    "# System related\n",
    "# import sys\n",
    "# import warnings;\n",
    "# warnings.filterwarnings('ignore')\n",
    "import io\n",
    "import platform\n",
    "from pathlib import Path\n",
    "import os\n",
    "from getpass import getpass\n",
    "# from joblib import Parallel, delayed\n",
    "\n",
    "\n",
    "# Datetime libraries\n",
    "from datetime import datetime\n",
    "import time\n",
    "from pytz import timezone\n",
    "\n",
    "\n",
    "# NLP dependencies\n",
    "# import spacy\n",
    "# from spacy.tokenizer import Tokenizer\n",
    "# nlp = spacy.load('en')\n",
    "# tokenizer = Tokenizer(nlp.vocab)\n",
    "# from langdetect import detect\n",
    "\n",
    "\n",
    "# Scraping libraries\n",
    "from selenium import webdriver\n",
    "from selenium.common.exceptions import StaleElementReferenceException\n",
    "from selenium.webdriver.common.keys import Keys\n",
    "from selenium.webdriver.chrome.options import Options\n",
    "from selenium.webdriver.support.ui import WebDriverWait\n",
    "from bs4 import BeautifulSoup\n",
    "\n",
    "\n",
    "# Machine learning libraries\n",
    "# from sklearn import datasets\n",
    "# from sklearn import linear_model\n",
    "# from sklearn.feature_selection import f_regression, mutual_info_regression\n",
    "# from sklearn.model_selection import train_test_split\n",
    "# from sklearn.metrics import classification_report\n",
    "\n",
    "\n",
    "# Logging\n",
    "import logging \n",
    "logging.basicConfig(level=logging.INFO)\n",
    "\n",
    "\n",
    "# For Reddit\n",
    "import praw\n",
    "from praw.models import MoreComments"
   ]
  },
  {
   "cell_type": "markdown",
   "metadata": {},
   "source": [
    "## Parameters"
   ]
  },
  {
   "cell_type": "code",
   "execution_count": 2,
   "metadata": {},
   "outputs": [],
   "source": [
    "\"\"\"This cell defines global variables and parameters used throughout the playbook\n",
    "\"\"\"\n",
    "\n",
    "# Set this to True if you want to watch Selenium scrape pages\n",
    "# WATCH_SCRAPING = True\n",
    "\n",
    "# Set this to True if you want to use incognito mode\n",
    "# USE_INCOGNITO = True\n",
    "\n",
    "# Number of posts \n",
    "post_limit = 100\n",
    "\n",
    "# The data is written \n",
    "RAW_DATA_DIRECTORY = Path(\"./data/\")\n",
    "\n",
    "# Setup logging level\n",
    "LOGGING_LEVEL = logging.INFO \n",
    "logging.basicConfig(level=LOGGING_LEVEL)"
   ]
  },
  {
   "cell_type": "markdown",
   "metadata": {},
   "source": [
    "## Functions and Classes"
   ]
  },
  {
   "cell_type": "code",
   "execution_count": 4,
   "metadata": {},
   "outputs": [],
   "source": [
    "\"\"\"This cell defines functions and classes used throughout the playbook\n",
    "\"\"\"\n",
    "\n",
    "def __init__(self, client_id, client_secret, user_agent, password):\n",
    "    self.client_id = client_id\n",
    "    self.client_secret = client_secret\n",
    "    self.user_agent = user_agent\n",
    "    self.password = password\n",
    "\n",
    "\n",
    "def token(client_id, client_secret, user_agent):\n",
    "    reddit = praw.Reddit(client_id=client_id,\n",
    "                         client_secret=client_secret,\n",
    "                         user_agent=user_agent)\n",
    "    if (reddit != False):\n",
    "        print(\"Successful token\")\n",
    "    else:\n",
    "        print(\"Failed token\")\n",
    "    return reddit\n",
    "\n",
    "\n",
    "def search_reddit(reddit, search_term, sort_type, time_limit, post_limit):\n",
    "    \"\"\"\n",
    "    GRAB REDDIT POSTS BY SEARCH TERM\n",
    "    search_term = any boolean search #https://www.reddit.com/dev/api/\n",
    "    sort_type = 'relevance', 'hot', 'top', 'new', 'comments'\n",
    "    time_limit = 'all', 'hour', 'day', 'week', 'month', 'year'\n",
    "    post_limit = 1000 maximum\n",
    "    \"\"\"\n",
    "\n",
    "    posts = []\n",
    "    subreddit = reddit.subreddit(\"all\")\n",
    "    for post in subreddit.search(search_term, sort=sort_type, time_filter=time_limit, limit=post_limit):\n",
    "        posts.append([post.subreddit, post.id, post.title, post.selftext, post.author, post.url, post.permalink,\n",
    "                      post.num_comments, post.created, post.score, post.distinguished, post.is_original_content,\n",
    "                      post.upvote_ratio, post.link_flair_text])\n",
    "    posts = pd.DataFrame(posts,\n",
    "                         columns=['subreddit', 'post_id', 'title', 'post_body', 'post_author', 'url', 'post_permalink',\n",
    "                                  'num_comments', 'post_created', 'post_score', 'post_distinguished',\n",
    "                                  'original_content', 'upvote_ratio', 'flair_text'])\n",
    "    posts['post_created'] = pd.to_datetime(posts['post_created'], unit='s')\n",
    "    posts['scrape_time'] = datetime.now()\n",
    "    posts[['subreddit', 'post_id', 'title', 'post_author',\n",
    "           'post_body', 'url', 'post_permalink', 'flair_text']] = posts[['subreddit', 'post_id', 'title', 'post_author',\n",
    "                                                                         'post_body', 'url', 'post_permalink',\n",
    "                                                                         'flair_text']].astype(str)\n",
    "    return posts\n",
    "\n",
    "\n",
    "def get_subreddit(reddit, sub, sort_type, time_limit, post_limit):\n",
    "    '''\n",
    "    GRAB REDDIT POSTS BY SUBREDDIT\n",
    "    sub = subreddits\n",
    "    sort_type = 'hot', 'top', 'new', 'gilded', 'rising', 'controversial'\n",
    "    time_limit = 'all', 'hour', 'day', 'week', 'month', 'year'\n",
    "    post_limit = 1000 maximum\n",
    "    '''\n",
    "    subreddit = reddit.subreddit(sub)\n",
    "    posts = []\n",
    "    if (sort_type == \"top\") or (sort_type == \"hot\") or (sort_type == \"controversial\"):\n",
    "        for post in subreddit.top(time_filter=time_limit, limit=post_limit):\n",
    "            posts.append([post.subreddit, post.id, post.title, post.selftext, post.author, post.url, post.permalink,\n",
    "                          post.num_comments, post.created, post.score, post.distinguished, post.is_original_content,\n",
    "                          post.upvote_ratio, post.link_flair_text])\n",
    "\n",
    "    if (sort_type == \"new\") or (sort_type == \"rising\"):\n",
    "        for post in subreddit.new(limit=post_limit):\n",
    "            posts.append([post.subreddit, post.id, post.title, post.selftext, post.author, post.url, post.permalink,\n",
    "                          post.num_comments, post.created, post.score, post.distinguished, post.is_original_content,\n",
    "                          post.upvote_ratio, post.link_flair_text])\n",
    "\n",
    "    posts = pd.DataFrame(posts,\n",
    "                         columns=['subreddit', 'post_id', 'title', 'post_body', 'post_author', 'url', 'post_permalink',\n",
    "                                  'num_comments', 'post_created', 'post_score', 'post_distinguished',\n",
    "                                  'original_content', 'upvote_ratio', 'flair_text'])\n",
    "    posts['post_created'] = pd.to_datetime(posts['post_created'], unit='s')\n",
    "    posts['scrape_time'] = datetime.now()\n",
    "    posts[['subreddit', 'post_id', 'title', 'post_author',\n",
    "           'post_body', 'url', 'post_permalink', 'flair_text', ]] = posts[\n",
    "        ['subreddit', 'post_id', 'title', 'post_author',\n",
    "         'post_body', 'url', 'post_permalink', 'flair_text']].astype(str)\n",
    "    return posts\n",
    "\n",
    "\n",
    "def get_reddit_comments(reddit, post_id):\n",
    "    submission = reddit.submission(id=post_id)\n",
    "    comment = []\n",
    "    for top_level in submission.comments:\n",
    "        if isinstance(top_level, MoreComments):\n",
    "            continue\n",
    "        comment.append([top_level.subreddit, top_level.submission, top_level.id, top_level.parent_id, top_level.author,\n",
    "                        top_level.permalink, top_level.body, top_level.created, top_level.score,\n",
    "                        top_level.distinguished])\n",
    "    comments = pd.DataFrame(comment, columns=['subreddit', 'post_id', 'comment_id', 'parent_id', 'comment_author',\n",
    "                                              'comment_permalink', 'comment_body', 'comment_created', 'comment_score',\n",
    "                                              'comment_distinguished'])\n",
    "    comments['comment_created'] = pd.to_datetime(comments['comment_created'], unit='s')\n",
    "    comments['scrape_time'] = datetime.now()\n",
    "    comments[['subreddit', 'post_id', 'comment_id', 'parent_id',\n",
    "              'comment_author', 'comment_permalink', 'comment_body']] = comments[\n",
    "        ['subreddit', 'post_id', 'comment_id', 'parent_id',\n",
    "         'comment_author', 'comment_permalink', 'comment_body']].astype(str)\n",
    "    return comments"
   ]
  },
  {
   "cell_type": "markdown",
   "metadata": {},
   "source": [
    "## System-dependent Configuration"
   ]
  },
  {
   "cell_type": "code",
   "execution_count": 5,
   "metadata": {},
   "outputs": [],
   "source": [
    "\"\"\"This cell defines system-dependent configuration such as those different in Linux vs. Windows\n",
    "\"\"\"\n",
    "\n",
    "# Get the system information from the OS\n",
    "PLATFORM_SYSTEM = platform.system()\n",
    "\n",
    "# Darwin is macOS\n",
    "if PLATFORM_SYSTEM == \"Darwin\":\n",
    "    EXECUTABLE_PATH = Path(\"../dependencies/chromedriver\")\n",
    "elif PLATFORM_SYSTEM == \"Windows\":\n",
    "    EXECUTABLE_PATH = Path(\"../dependencies/chromedriver.exe\")\n",
    "else:\n",
    "    logging.critical(\"Chromedriver not found or Chromedriver is outdated...\")\n",
    "    exit()\n",
    "    \n",
    "tz = timezone('US/Eastern')    "
   ]
  },
  {
   "cell_type": "markdown",
   "metadata": {},
   "source": [
    "# Collect Data"
   ]
  },
  {
   "cell_type": "markdown",
   "metadata": {},
   "source": [
    "## Collect Reddit Submissions and Comments"
   ]
  },
  {
   "cell_type": "code",
   "execution_count": 76,
   "metadata": {},
   "outputs": [
    {
     "name": "stdout",
     "output_type": "stream",
     "text": [
      "Successful token\n",
      "Grabbed 100 posts with search term: debate\n",
      "Grabbed 100 posts with search term: election\n",
      "Grabbed 100 posts with search term: candidate\n",
      "Grabbed 100 posts with search term: Trump\n",
      "Grabbed 100 posts with search term: Harris\n",
      "Grabbed 100 posts with search term: Donald\n",
      "Grabbed 100 posts with search term: Kamala\n",
      "Grabbed 100 posts with search term: president\n",
      "Grabbed 100 posts with search term: vote\n",
      "Grabbed 100 posts from subreddit: politics\n",
      "Grabbed 100 posts from subreddit: inthenews\n",
      "Grabbed 100 posts from subreddit: AnythingGoesNews\n",
      "Grabbed 100 posts from subreddit: sanepolitics\n",
      "Grabbed 100 posts from subreddit: imaginaryelections\n",
      "Grabbed 100 posts from subreddit: USNewsHub\n",
      "Grabbed 100 posts from subreddit: NewsOfTheStupid\n",
      "Grabbed 100 posts from subreddit: Law_and_Politics\n",
      "Grabbed 100 posts from subreddit: worldnews\n",
      "Grabbed 100 posts from subreddit: azpolitics\n",
      "Grabbed 100 posts from subreddit: moderatepolitics\n",
      "Grabbed 100 posts from subreddit: WomenInNews\n",
      "Grabbed 100 posts from subreddit: politics2\n",
      "Grabbed 100 posts from subreddit: uspolitics\n",
      "Grabbed 100 posts from subreddit: PresidentialElection\n",
      "Grabbed 7 posts from subreddit: newsmax\n",
      "Grabbed 100 posts from subreddit: NewsAndPolitics\n",
      "Grabbed 100 posts from subreddit: Global_News_Hub\n",
      "Grabbed 100 posts from subreddit: usanews\n",
      "Grabbed 100 posts from subreddit: WorldNewsHeadlines\n",
      "Grabbed 100 posts from subreddit: InternationalNews\n",
      "Grabbed 100 posts from subreddit: newsradio\n",
      "Grabbed 100 posts from subreddit: AmericanPolitics\n",
      "Grabbed 100 posts from subreddit: NewsHub\n",
      "Grabbed 100 posts from subreddit: mediumnews101\n",
      "Grabbed 100 posts from subreddit: electionsnews\n",
      "Grabbed 100 posts from subreddit: AmericanPolitics2024\n",
      "Grabbed 100 posts from subreddit: BreakingNews24hr\n",
      "Grabbed 100 posts from subreddit: mopolitics\n",
      "Grabbed 100 posts from subreddit: Equivocal_News\n",
      "Grabbed 100 posts from subreddit: Askpolitics\n",
      "Grabbed 100 posts from subreddit: theworldnews\n",
      "Grabbed 100 posts from subreddit: news\n",
      "Number of posts:  4107\n",
      "Exported posts to CSV\n"
     ]
    }
   ],
   "source": [
    "\"\"\"This cell retrieves page posts and comments, for a given page.\n",
    "\"\"\"\n",
    "\n",
    "def main():\n",
    "    # Credentials (create client_id, client_secret, user_agent by following https://praw.readthedocs.io/en/latest/getting_started/quick_start.html)\n",
    "    client_id = getpass(\"Enter client_id: \")\n",
    "    client_secret = getpass(\"Enter client secret: \")\n",
    "    user_agent = input(\"Enter user agent: \")\n",
    "\n",
    "    ''' Designate input parameters for functions\n",
    "    search terms = key terms to search ALL of reddit\n",
    "    subreddits = subreddits to collect\n",
    "    search_sort_type = 'relevance', 'hot', 'top', 'new', 'comments'\n",
    "    sub_sort_type = 'hot', 'top', 'new', 'gilded', 'rising', 'controversial'\n",
    "    time_limit = 'all', 'hour', 'day', 'week', 'month', 'year'\n",
    "    post_limit = 10\n",
    "    '''\n",
    "\n",
    "    sub_sort_type = 'new'  # , 'top', 'new', 'gilded', 'rising', 'controversial'\n",
    "    search_sort_type = 'new'  # , 'hot', 'top', 'new', 'comments', 'relevance'\n",
    "    time_limit = 'year'  # , 'hour', 'day', 'week', 'month', 'year'\n",
    "    \n",
    "    # search_terms = [\"covid19\", \"coronavirus\"]\n",
    "    # subreddits = [\"CoronavirusMemes\", \"Coronavirus\", \"CoronavirusUS\"]\n",
    "\n",
    "    input_search_terms = input(\"Enter search terms (seperated by spaces): \")\n",
    "    search_terms = input_search_terms.split()\n",
    "    \n",
    "    input_subreddits = input(\"Enter subreddits (separated by spaces): \")\n",
    "    subreddits = input_subreddits.split()\n",
    "    \n",
    "    ''' Collect posts & corresponding comments\n",
    "    '''\n",
    "    # Create client\n",
    "    r = token(client_id, client_secret, user_agent)\n",
    "    list_posts_df = []\n",
    "    try:\n",
    "        for query in search_terms:\n",
    "            post_df = search_reddit(r, query, search_sort_type, time_limit, post_limit)\n",
    "            print(\"Grabbed\", len(post_df), \"posts with search term:\", query)\n",
    "            list_posts_df.append(post_df)\n",
    "    except:\n",
    "        pass\n",
    "\n",
    "    try:\n",
    "        for sub in subreddits:\n",
    "            post_df = get_subreddit(r, sub, sub_sort_type, time_limit, post_limit)\n",
    "            print(\"Grabbed\", len(post_df), \"posts from subreddit:\", sub)\n",
    "            list_posts_df.append(post_df)\n",
    "    except:\n",
    "        pass\n",
    "\n",
    "    new_posts = pd.concat(list_posts_df)\n",
    "    print(\"Number of posts: \", new_posts.shape[0])\n",
    "\n",
    "    # File output for posts\n",
    "    filename_csv = \"REDDIT_POSTS_BYNEW\" + datetime.now(tz=tz).strftime(\"%Y-%m-%dT%H-%M-%S%z\") + \".csv\"\n",
    "    new_posts.to_csv(str(RAW_DATA_DIRECTORY / filename_csv), index=False)\n",
    "    print(\"Exported posts to CSV\")\n",
    "\n",
    "\n",
    "    # Computer was struggling to get these due to amount of posts I was getting, felt I wanted mostly posts anyways so I commented this out\n",
    "\n",
    "    # # Get comments\n",
    "    # post_ids = new_posts['post_id'].to_list()\n",
    "    # list_comment_dfs = []\n",
    "    # i = 0\n",
    "    # for post in post_ids:\n",
    "    #     try:\n",
    "    #         comment_df = get_reddit_comments(r, post)\n",
    "    #         list_comment_dfs.append(comment_df)\n",
    "    #         # print(i, \"Grabbed\", len(comment_df), \"comments from post id:\", post)\n",
    "    #     except:\n",
    "    #         pass\n",
    "    #     i += 1\n",
    "    # post_comments = pd.concat(list_comment_dfs)\n",
    "    # print(\"Number of total comments: \", post_comments.shape[0])\n",
    "\n",
    "    # # File output for comment\n",
    "    # com_filename_csv = \"REDDIT_COMMENTS_BYTOP\" + datetime.now(tz=tz).strftime(\"%Y-%m-%dT%H-%M-%S%z\") + \".csv\"\n",
    "    # post_comments.to_csv(str(RAW_DATA_DIRECTORY / com_filename_csv), index=False)\n",
    "    # print(\"Exported comments to CSV\")\n",
    "\n",
    "\n",
    "if __name__ == \"__main__\":\n",
    "    main()\n",
    "    \n",
    "    client_id = 'Mo7nM-yhqz1cww'\n",
    "client_secret = '-4O8dN-Emr5PdkQfy8ifCSVlihE'\n",
    "user_agent = 'collectPosts'"
   ]
  },
  {
   "cell_type": "markdown",
   "metadata": {},
   "source": [
    "# Conclusion"
   ]
  },
  {
   "cell_type": "code",
   "execution_count": 1,
   "metadata": {},
   "outputs": [],
   "source": [
    "\"\"\"Add post-processing steps here\n",
    "\"\"\"\n",
    "import pandas as pd\n",
    "\n",
    "# Load the CSV files into DataFrames\n",
    "df1 = pd.read_csv('./data/REDDIT_POSTS_BYHOT2024-09-14T12-18-21-0400.csv')\n",
    "df2 = pd.read_csv('./data/REDDIT_POSTS_BYNEW2024-09-14T12-19-45-0400.csv')\n",
    "df3 = pd.read_csv('./data/REDDIT_POSTS_BYTOP2024-09-14T12-17-06-0400.csv')\n",
    "\n",
    "# Combine the DataFrames\n",
    "df_combined = pd.concat([df1, df2, df3], ignore_index=True).drop_duplicates()"
   ]
  },
  {
   "cell_type": "code",
   "execution_count": 2,
   "metadata": {},
   "outputs": [
    {
     "name": "stdout",
     "output_type": "stream",
     "text": [
      "<class 'pandas.core.frame.DataFrame'>\n",
      "RangeIndex: 12107 entries, 0 to 12106\n",
      "Data columns (total 15 columns):\n",
      " #   Column              Non-Null Count  Dtype  \n",
      "---  ------              --------------  -----  \n",
      " 0   subreddit           12107 non-null  object \n",
      " 1   post_id             12107 non-null  object \n",
      " 2   title               12107 non-null  object \n",
      " 3   post_body           1698 non-null   object \n",
      " 4   post_author         11726 non-null  object \n",
      " 5   url                 12107 non-null  object \n",
      " 6   post_permalink      12107 non-null  object \n",
      " 7   num_comments        12107 non-null  int64  \n",
      " 8   post_created        12107 non-null  object \n",
      " 9   post_score          12107 non-null  int64  \n",
      " 10  post_distinguished  27 non-null     object \n",
      " 11  original_content    12107 non-null  bool   \n",
      " 12  upvote_ratio        12107 non-null  float64\n",
      " 13  flair_text          4034 non-null   object \n",
      " 14  scrape_time         12107 non-null  object \n",
      "dtypes: bool(1), float64(1), int64(2), object(11)\n",
      "memory usage: 1.3+ MB\n",
      "<class 'pandas.core.frame.DataFrame'>\n",
      "RangeIndex: 12107 entries, 0 to 12106\n",
      "Data columns (total 9 columns):\n",
      " #   Column            Non-Null Count  Dtype  \n",
      "---  ------            --------------  -----  \n",
      " 0   subreddit         12107 non-null  object \n",
      " 1   title             12107 non-null  object \n",
      " 2   post_body         1698 non-null   object \n",
      " 3   post_author       11726 non-null  object \n",
      " 4   num_comments      12107 non-null  int64  \n",
      " 5   post_created      12107 non-null  object \n",
      " 6   post_score        12107 non-null  int64  \n",
      " 7   original_content  12107 non-null  bool   \n",
      " 8   upvote_ratio      12107 non-null  float64\n",
      "dtypes: bool(1), float64(1), int64(2), object(5)\n",
      "memory usage: 768.6+ KB\n"
     ]
    }
   ],
   "source": [
    "#Drop columns that I don't think are important\n",
    "df_combined.info(verbose=True)\n",
    "df_combined = df_combined.drop(columns=[\"scrape_time\", \"post_id\", \"url\", \"post_permalink\", \"post_distinguished\", \"flair_text\"], axis=1)\n",
    "df_combined.info(verbose=True)\n"
   ]
  },
  {
   "cell_type": "code",
   "execution_count": 3,
   "metadata": {},
   "outputs": [
    {
     "data": {
      "text/html": [
       "<div>\n",
       "<style scoped>\n",
       "    .dataframe tbody tr th:only-of-type {\n",
       "        vertical-align: middle;\n",
       "    }\n",
       "\n",
       "    .dataframe tbody tr th {\n",
       "        vertical-align: top;\n",
       "    }\n",
       "\n",
       "    .dataframe thead th {\n",
       "        text-align: right;\n",
       "    }\n",
       "</style>\n",
       "<table border=\"1\" class=\"dataframe\">\n",
       "  <thead>\n",
       "    <tr style=\"text-align: right;\">\n",
       "      <th></th>\n",
       "      <th>subreddit</th>\n",
       "      <th>title</th>\n",
       "      <th>post_body</th>\n",
       "      <th>post_author</th>\n",
       "      <th>num_comments</th>\n",
       "      <th>post_created</th>\n",
       "      <th>post_score</th>\n",
       "      <th>original_content</th>\n",
       "      <th>upvote_ratio</th>\n",
       "    </tr>\n",
       "  </thead>\n",
       "  <tbody>\n",
       "    <tr>\n",
       "      <th>0</th>\n",
       "      <td>politics</td>\n",
       "      <td>Trump Is Losing The Post-Debate Debate, Too</td>\n",
       "      <td>NaN</td>\n",
       "      <td>IntelligentYinzer</td>\n",
       "      <td>123</td>\n",
       "      <td>2024-09-13 14:00:51</td>\n",
       "      <td>2795</td>\n",
       "      <td>False</td>\n",
       "      <td>0.98</td>\n",
       "    </tr>\n",
       "    <tr>\n",
       "      <th>1</th>\n",
       "      <td>Jordan_Peterson_Memes</td>\n",
       "      <td>Debate Again??</td>\n",
       "      <td>NaN</td>\n",
       "      <td>novafreak69</td>\n",
       "      <td>991</td>\n",
       "      <td>2024-09-14 03:41:18</td>\n",
       "      <td>1198</td>\n",
       "      <td>False</td>\n",
       "      <td>0.73</td>\n",
       "    </tr>\n",
       "    <tr>\n",
       "      <th>2</th>\n",
       "      <td>pinoybigbrother</td>\n",
       "      <td>DEBATE</td>\n",
       "      <td>finally out, okay so sino ngayon ang below the...</td>\n",
       "      <td>hellabellaloo</td>\n",
       "      <td>133</td>\n",
       "      <td>2024-09-14 12:45:35</td>\n",
       "      <td>61</td>\n",
       "      <td>False</td>\n",
       "      <td>0.89</td>\n",
       "    </tr>\n",
       "    <tr>\n",
       "      <th>3</th>\n",
       "      <td>DylanBurnsTV</td>\n",
       "      <td>DEBATE NIGHT: Debating Trump v Harris Debate (...</td>\n",
       "      <td>\\n[I predict Dylan's hair will win this one as...</td>\n",
       "      <td>DreadfulDave19</td>\n",
       "      <td>0</td>\n",
       "      <td>2024-09-14 02:47:36</td>\n",
       "      <td>3</td>\n",
       "      <td>False</td>\n",
       "      <td>1.00</td>\n",
       "    </tr>\n",
       "    <tr>\n",
       "      <th>4</th>\n",
       "      <td>nbacirclejerk</td>\n",
       "      <td>Debate over.</td>\n",
       "      <td>NaN</td>\n",
       "      <td>randus12</td>\n",
       "      <td>15</td>\n",
       "      <td>2024-09-13 17:57:42</td>\n",
       "      <td>3169</td>\n",
       "      <td>False</td>\n",
       "      <td>0.99</td>\n",
       "    </tr>\n",
       "  </tbody>\n",
       "</table>\n",
       "</div>"
      ],
      "text/plain": [
       "               subreddit                                              title  \\\n",
       "0               politics        Trump Is Losing The Post-Debate Debate, Too   \n",
       "1  Jordan_Peterson_Memes                                    Debate Again??    \n",
       "2        pinoybigbrother                                             DEBATE   \n",
       "3           DylanBurnsTV  DEBATE NIGHT: Debating Trump v Harris Debate (...   \n",
       "4          nbacirclejerk                                       Debate over.   \n",
       "\n",
       "                                           post_body        post_author  \\\n",
       "0                                                NaN  IntelligentYinzer   \n",
       "1                                                NaN        novafreak69   \n",
       "2  finally out, okay so sino ngayon ang below the...      hellabellaloo   \n",
       "3  \\n[I predict Dylan's hair will win this one as...     DreadfulDave19   \n",
       "4                                                NaN           randus12   \n",
       "\n",
       "   num_comments         post_created  post_score  original_content  \\\n",
       "0           123  2024-09-13 14:00:51        2795             False   \n",
       "1           991  2024-09-14 03:41:18        1198             False   \n",
       "2           133  2024-09-14 12:45:35          61             False   \n",
       "3             0  2024-09-14 02:47:36           3             False   \n",
       "4            15  2024-09-13 17:57:42        3169             False   \n",
       "\n",
       "   upvote_ratio  \n",
       "0          0.98  \n",
       "1          0.73  \n",
       "2          0.89  \n",
       "3          1.00  \n",
       "4          0.99  "
      ]
     },
     "execution_count": 3,
     "metadata": {},
     "output_type": "execute_result"
    }
   ],
   "source": [
    "#Look at data\n",
    "df_combined.head()"
   ]
  },
  {
   "cell_type": "code",
   "execution_count": 4,
   "metadata": {},
   "outputs": [],
   "source": [
    "# Replace the NaN with '' so we can do analysis\n",
    "df_combined[\"post_body\"] = df_combined[\"post_body\"].fillna('')"
   ]
  },
  {
   "cell_type": "code",
   "execution_count": 5,
   "metadata": {},
   "outputs": [
    {
     "name": "stderr",
     "output_type": "stream",
     "text": [
      "[nltk_data] Downloading package vader_lexicon to\n",
      "[nltk_data]     C:\\Users\\dunca\\AppData\\Roaming\\nltk_data...\n",
      "[nltk_data]   Package vader_lexicon is already up-to-date!\n"
     ]
    }
   ],
   "source": [
    "#Sentiment Scores!\n",
    "import nltk\n",
    "nltk.download('vader_lexicon')\n",
    "from nltk.sentiment.vader import SentimentIntensityAnalyzer\n",
    "sia = SentimentIntensityAnalyzer()\n",
    "\n",
    "# Function to get sentiment scores\n",
    "def get_sentiment(text):\n",
    "    if isinstance(text, str):\n",
    "        sentiment = sia.polarity_scores(text)\n",
    "        return sentiment['compound']  # Return the compound score\n",
    "    return 0  # Return neutral sentiment if text is not a string\n",
    "\n",
    "# apply sentiment analysis to combined dataframe\n",
    "df_combined['sentiment'] = df_combined['post_body'].apply(get_sentiment)"
   ]
  },
  {
   "cell_type": "code",
   "execution_count": 6,
   "metadata": {},
   "outputs": [],
   "source": [
    "# Make 3 DFs one for Kamala one for Trump and one for both, this of course may have discussions of one candidate within the others df but hopefully since I did it the same way for both that wont matter too much\n",
    "candidates = {\n",
    "    'Candidate1': 'Kamala Harris',\n",
    "    'Candidate2': 'Donald Trump'\n",
    "}\n",
    "\n",
    "dfs = {}\n",
    "\n",
    "# Filter DataFrames for each candidate\n",
    "for key, name in candidates.items():\n",
    "    mask = df_combined['post_body'].str.contains(name, case=False, na=False) | \\\n",
    "           df_combined['title'].str.contains(name, case=False, na=False)\n",
    "    dfs[key] = df_combined[mask]\n",
    "\n",
    "# Combine DataFrames for overall sentiment\n",
    "df_overall = pd.concat([dfs['Candidate1'], dfs['Candidate2']], ignore_index=True).drop_duplicates()"
   ]
  },
  {
   "cell_type": "code",
   "execution_count": 7,
   "metadata": {},
   "outputs": [
    {
     "name": "stdout",
     "output_type": "stream",
     "text": [
      "<class 'pandas.core.frame.DataFrame'>\n",
      "Index: 456 entries, 80 to 11536\n",
      "Data columns (total 10 columns):\n",
      " #   Column            Non-Null Count  Dtype  \n",
      "---  ------            --------------  -----  \n",
      " 0   subreddit         456 non-null    object \n",
      " 1   title             456 non-null    object \n",
      " 2   post_body         456 non-null    object \n",
      " 3   post_author       456 non-null    object \n",
      " 4   num_comments      456 non-null    int64  \n",
      " 5   post_created      456 non-null    object \n",
      " 6   post_score        456 non-null    int64  \n",
      " 7   original_content  456 non-null    bool   \n",
      " 8   upvote_ratio      456 non-null    float64\n",
      " 9   sentiment         456 non-null    float64\n",
      "dtypes: bool(1), float64(2), int64(2), object(5)\n",
      "memory usage: 36.1+ KB\n"
     ]
    }
   ],
   "source": [
    "dfs['Candidate1'].info(verbose=True)"
   ]
  },
  {
   "cell_type": "code",
   "execution_count": 8,
   "metadata": {},
   "outputs": [
    {
     "name": "stdout",
     "output_type": "stream",
     "text": [
      "<class 'pandas.core.frame.DataFrame'>\n",
      "Index: 636 entries, 135 to 12063\n",
      "Data columns (total 10 columns):\n",
      " #   Column            Non-Null Count  Dtype  \n",
      "---  ------            --------------  -----  \n",
      " 0   subreddit         636 non-null    object \n",
      " 1   title             636 non-null    object \n",
      " 2   post_body         636 non-null    object \n",
      " 3   post_author       624 non-null    object \n",
      " 4   num_comments      636 non-null    int64  \n",
      " 5   post_created      636 non-null    object \n",
      " 6   post_score        636 non-null    int64  \n",
      " 7   original_content  636 non-null    bool   \n",
      " 8   upvote_ratio      636 non-null    float64\n",
      " 9   sentiment         636 non-null    float64\n",
      "dtypes: bool(1), float64(2), int64(2), object(5)\n",
      "memory usage: 50.3+ KB\n"
     ]
    }
   ],
   "source": [
    "dfs['Candidate2'].info(verbose=True)"
   ]
  },
  {
   "cell_type": "code",
   "execution_count": 9,
   "metadata": {},
   "outputs": [
    {
     "name": "stdout",
     "output_type": "stream",
     "text": [
      "<class 'pandas.core.frame.DataFrame'>\n",
      "Index: 905 entries, 0 to 1091\n",
      "Data columns (total 10 columns):\n",
      " #   Column            Non-Null Count  Dtype  \n",
      "---  ------            --------------  -----  \n",
      " 0   subreddit         905 non-null    object \n",
      " 1   title             905 non-null    object \n",
      " 2   post_body         905 non-null    object \n",
      " 3   post_author       893 non-null    object \n",
      " 4   num_comments      905 non-null    int64  \n",
      " 5   post_created      905 non-null    object \n",
      " 6   post_score        905 non-null    int64  \n",
      " 7   original_content  905 non-null    bool   \n",
      " 8   upvote_ratio      905 non-null    float64\n",
      " 9   sentiment         905 non-null    float64\n",
      "dtypes: bool(1), float64(2), int64(2), object(5)\n",
      "memory usage: 71.6+ KB\n"
     ]
    }
   ],
   "source": [
    "df_overall.info(verbose=True)"
   ]
  },
  {
   "cell_type": "code",
   "execution_count": 10,
   "metadata": {},
   "outputs": [
    {
     "name": "stdout",
     "output_type": "stream",
     "text": [
      "Average sentiment for Candidate1: 0.07786754385964911\n",
      "Average sentiment for Candidate2: 0.005078301886792452\n",
      "Average sentiment overall: 0.021762762430939227\n"
     ]
    }
   ],
   "source": [
    "# Calculate average sentiment score for each candidate\n",
    "for key, df in dfs.items():\n",
    "    avg_sentiment = df['sentiment'].mean()\n",
    "    print(f\"Average sentiment for {key}: {avg_sentiment}\")\n",
    "\n",
    "# Calculate average sentiment score for overall posts\n",
    "avg_sentiment_overall = df_overall['sentiment'].mean()\n",
    "print(f\"Average sentiment overall: {avg_sentiment_overall}\")"
   ]
  },
  {
   "cell_type": "code",
   "execution_count": 11,
   "metadata": {},
   "outputs": [
    {
     "name": "stdout",
     "output_type": "stream",
     "text": [
      "Post with the highest sentiment score:\n",
      "subreddit                                        PresidentialElection\n",
      "title                  What to Take Away from the Harris-Trump Debate\n",
      "post_body           Here's a breakdown of how each candidate perfo...\n",
      "post_author                                             TheGFromTheNE\n",
      "num_comments                                                        3\n",
      "post_created                                      2024-09-12 21:54:20\n",
      "post_score                                                          6\n",
      "original_content                                                False\n",
      "upvote_ratio                                                      0.8\n",
      "sentiment                                                      0.9993\n",
      "Name: 6318, dtype: object\n",
      "\n",
      "Post with the lowest sentiment score:\n",
      "subreddit                                        PresidentialElection\n",
      "title                     Detailed Summary of the Harris-Trump Debate\n",
      "post_body           The opening of the debate sets a historic tone...\n",
      "post_author                                             TheGFromTheNE\n",
      "num_comments                                                        1\n",
      "post_created                                      2024-09-12 21:50:39\n",
      "post_score                                                          2\n",
      "original_content                                                False\n",
      "upvote_ratio                                                     0.75\n",
      "sentiment                                                     -0.9971\n",
      "Name: 6319, dtype: object\n"
     ]
    }
   ],
   "source": [
    "# Get the row with the highest sentiment score\n",
    "highest_sentiment_post = dfs['Candidate1'].loc[dfs['Candidate1']['sentiment'].idxmax()]\n",
    "\n",
    "# Get the row with the lowest sentiment score\n",
    "lowest_sentiment_post = dfs['Candidate1'].loc[dfs['Candidate1']['sentiment'].idxmin()]\n",
    "\n",
    "print(\"Post with the highest sentiment score:\")\n",
    "print(highest_sentiment_post)\n",
    "print(\"\\nPost with the lowest sentiment score:\")\n",
    "print(lowest_sentiment_post)"
   ]
  },
  {
   "cell_type": "code",
   "execution_count": 12,
   "metadata": {},
   "outputs": [
    {
     "name": "stdout",
     "output_type": "stream",
     "text": [
      "Post with the highest sentiment score:\n",
      "subreddit                                                    politics\n",
      "title               Megathread: US Supreme Court Finds in Trump v....\n",
      "post_body           On Monday, the US Supreme Court sent the case ...\n",
      "post_author                                      PoliticsModeratorBot\n",
      "num_comments                                                    22137\n",
      "post_created                                      2024-07-01 14:44:10\n",
      "post_score                                                      35358\n",
      "original_content                                                False\n",
      "upvote_ratio                                                     0.93\n",
      "sentiment                                                      0.9994\n",
      "Name: 8284, dtype: object\n",
      "\n",
      "Post with the lowest sentiment score:\n",
      "subreddit                                                    politics\n",
      "title               Megathread: Former US President Donald Trump C...\n",
      "post_body           Today, on its second day of deliberation, a ju...\n",
      "post_author                                      PoliticsModeratorBot\n",
      "num_comments                                                    42474\n",
      "post_created                                      2024-05-30 21:11:45\n",
      "post_score                                                      89491\n",
      "original_content                                                False\n",
      "upvote_ratio                                                     0.88\n",
      "sentiment                                                     -0.9999\n",
      "Name: 8208, dtype: object\n"
     ]
    }
   ],
   "source": [
    "# Get the row with the highest sentiment score\n",
    "highest_sentiment_post = dfs['Candidate2'].loc[dfs['Candidate2']['sentiment'].idxmax()]\n",
    "\n",
    "# Get the row with the lowest sentiment score\n",
    "lowest_sentiment_post = dfs['Candidate2'].loc[dfs['Candidate2']['sentiment'].idxmin()]\n",
    "\n",
    "print(\"Post with the highest sentiment score:\")\n",
    "print(highest_sentiment_post)\n",
    "print(\"\\nPost with the lowest sentiment score:\")\n",
    "print(lowest_sentiment_post)"
   ]
  },
  {
   "cell_type": "code",
   "execution_count": 13,
   "metadata": {},
   "outputs": [
    {
     "name": "stdout",
     "output_type": "stream",
     "text": [
      "Post with the highest sentiment score:\n",
      "subreddit                                                    politics\n",
      "title               Megathread: US Supreme Court Finds in Trump v....\n",
      "post_body           On Monday, the US Supreme Court sent the case ...\n",
      "post_author                                      PoliticsModeratorBot\n",
      "num_comments                                                    22137\n",
      "post_created                                      2024-07-01 14:44:10\n",
      "post_score                                                      35358\n",
      "original_content                                                False\n",
      "upvote_ratio                                                     0.93\n",
      "sentiment                                                      0.9994\n",
      "Name: 846, dtype: object\n",
      "\n",
      "Post with the lowest sentiment score:\n",
      "subreddit                                                    politics\n",
      "title               Megathread: Former US President Donald Trump C...\n",
      "post_body           Today, on its second day of deliberation, a ju...\n",
      "post_author                                      PoliticsModeratorBot\n",
      "num_comments                                                    42474\n",
      "post_created                                      2024-05-30 21:11:45\n",
      "post_score                                                      89491\n",
      "original_content                                                False\n",
      "upvote_ratio                                                     0.88\n",
      "sentiment                                                     -0.9999\n",
      "Name: 838, dtype: object\n"
     ]
    }
   ],
   "source": [
    "# Get the row with the highest sentiment score\n",
    "highest_sentiment_post = df_overall.loc[df_overall['sentiment'].idxmax()]\n",
    "\n",
    "# Get the row with the lowest sentiment score\n",
    "lowest_sentiment_post = df_overall.loc[df_overall['sentiment'].idxmin()]\n",
    "\n",
    "print(\"Post with the highest sentiment score:\")\n",
    "print(highest_sentiment_post)\n",
    "print(\"\\nPost with the lowest sentiment score:\")\n",
    "print(lowest_sentiment_post)"
   ]
  },
  {
   "cell_type": "code",
   "execution_count": 17,
   "metadata": {},
   "outputs": [
    {
     "data": {
      "image/png": "[encoded data removed]",
      "text/plain": [
       "<Figure size 1200x600 with 1 Axes>"
      ]
     },
     "metadata": {},
     "output_type": "display_data"
    }
   ],
   "source": [
    "import matplotlib.pyplot as plt\n",
    "\n",
    "# Convert post_created to datetime\n",
    "df_overall['post_created'] = pd.to_datetime(df_overall['post_created'])\n",
    "\n",
    "# Aggregate sentiment by day\n",
    "daily_sentiment = df_overall.groupby(df_overall['post_created'].dt.date)['sentiment'].mean()\n",
    "\n",
    "plt.figure(figsize=(12, 6))\n",
    "daily_sentiment.plot()\n",
    "plt.title('Average Sentiment Over Time Overall')\n",
    "plt.xlabel('Date')\n",
    "plt.ylabel('Average Sentiment')\n",
    "plt.grid(True)\n",
    "plt.show()"
   ]
  },
  {
   "cell_type": "code",
   "execution_count": 18,
   "metadata": {},
   "outputs": [
    {
     "name": "stderr",
     "output_type": "stream",
     "text": [
      "C:\\Users\\dunca\\AppData\\Local\\Temp\\ipykernel_88132\\3232417552.py:4: SettingWithCopyWarning: \n",
      "A value is trying to be set on a copy of a slice from a DataFrame.\n",
      "Try using .loc[row_indexer,col_indexer] = value instead\n",
      "\n",
      "See the caveats in the documentation: https://pandas.pydata.org/pandas-docs/stable/user_guide/indexing.html#returning-a-view-versus-a-copy\n",
      "  dfs['Candidate1']['post_created'] = pd.to_datetime(dfs['Candidate1']['post_created'])\n"
     ]
    },
    {
     "data": {
      "image/png": "[encoded data removed]",
      "text/plain": [
       "<Figure size 1200x600 with 1 Axes>"
      ]
     },
     "metadata": {},
     "output_type": "display_data"
    }
   ],
   "source": [
    "import matplotlib.pyplot as plt\n",
    "\n",
    "# Convert post_created to datetime\n",
    "dfs['Candidate1']['post_created'] = pd.to_datetime(dfs['Candidate1']['post_created'])\n",
    "\n",
    "# Aggregate sentiment by day\n",
    "daily_sentiment = dfs['Candidate1'].groupby(dfs['Candidate1']['post_created'].dt.date)['sentiment'].mean()\n",
    "\n",
    "plt.figure(figsize=(12, 6))\n",
    "daily_sentiment.plot()\n",
    "plt.title('Average Sentiment Over Time: Kamala Harris')\n",
    "plt.xlabel('Date')\n",
    "plt.ylabel('Average Sentiment')\n",
    "plt.grid(True)\n",
    "plt.show()"
   ]
  },
  {
   "cell_type": "code",
   "execution_count": 19,
   "metadata": {},
   "outputs": [
    {
     "name": "stderr",
     "output_type": "stream",
     "text": [
      "C:\\Users\\dunca\\AppData\\Local\\Temp\\ipykernel_88132\\270463323.py:4: SettingWithCopyWarning: \n",
      "A value is trying to be set on a copy of a slice from a DataFrame.\n",
      "Try using .loc[row_indexer,col_indexer] = value instead\n",
      "\n",
      "See the caveats in the documentation: https://pandas.pydata.org/pandas-docs/stable/user_guide/indexing.html#returning-a-view-versus-a-copy\n",
      "  dfs['Candidate2']['post_created'] = pd.to_datetime(dfs['Candidate2']['post_created'])\n"
     ]
    },
    {
     "data": {
      "image/png": "[encoded data removed]",
      "text/plain": [
       "<Figure size 1200x600 with 1 Axes>"
      ]
     },
     "metadata": {},
     "output_type": "display_data"
    }
   ],
   "source": [
    "import matplotlib.pyplot as plt\n",
    "\n",
    "# Convert post_created to datetime\n",
    "dfs['Candidate2']['post_created'] = pd.to_datetime(dfs['Candidate2']['post_created'])\n",
    "\n",
    "# Aggregate sentiment by day\n",
    "daily_sentiment = dfs['Candidate2'].groupby(dfs['Candidate2']['post_created'].dt.date)['sentiment'].mean()\n",
    "\n",
    "plt.figure(figsize=(12, 6))\n",
    "daily_sentiment.plot()\n",
    "plt.title('Average Sentiment Over Time: Donald Trump')\n",
    "plt.xlabel('Date')\n",
    "plt.ylabel('Average Sentiment')\n",
    "plt.grid(True)\n",
    "plt.show()"
   ]
  },
  {
   "cell_type": "code",
   "execution_count": 20,
   "metadata": {},
   "outputs": [
    {
     "name": "stdout",
     "output_type": "stream",
     "text": [
      "Average sentiment before 2024-09-10 00:00:00: 0.01266912016884316\n",
      "Average sentiment after 2024-09-10 00:00:00: 0.045161953159522754\n"
     ]
    }
   ],
   "source": [
    "import pandas as pd\n",
    "\n",
    "# Convert 'post_created' column to datetime\n",
    "df_combined['post_created'] = pd.to_datetime(df_combined['post_created'])\n",
    "\n",
    "specified_date = pd.Timestamp('2024-09-10')  # Candidate Debate\n",
    "\n",
    "# Filter the dataframe for posts before and after the specified date\n",
    "df_before = df_combined[df_combined['post_created'] < specified_date]\n",
    "df_after = df_combined[df_combined['post_created'] >= specified_date]\n",
    "\n",
    "# Calculate average sentiment before and after the specified date\n",
    "average_sentiment_before = df_before['sentiment'].mean()\n",
    "average_sentiment_after = df_after['sentiment'].mean()\n",
    "\n",
    "print(f\"Average sentiment before {specified_date}: {average_sentiment_before}\")\n",
    "print(f\"Average sentiment after {specified_date}: {average_sentiment_after}\")"
   ]
  },
  {
   "cell_type": "code",
   "execution_count": 21,
   "metadata": {},
   "outputs": [
    {
     "name": "stdout",
     "output_type": "stream",
     "text": [
      "Average sentiment before 2024-09-10 00:00:00: 0.09161202531645568\n",
      "Average sentiment after 2024-09-10 00:00:00: 0.07058020134228188\n"
     ]
    },
    {
     "name": "stderr",
     "output_type": "stream",
     "text": [
      "C:\\Users\\dunca\\AppData\\Local\\Temp\\ipykernel_88132\\1840461970.py:2: SettingWithCopyWarning: \n",
      "A value is trying to be set on a copy of a slice from a DataFrame.\n",
      "Try using .loc[row_indexer,col_indexer] = value instead\n",
      "\n",
      "See the caveats in the documentation: https://pandas.pydata.org/pandas-docs/stable/user_guide/indexing.html#returning-a-view-versus-a-copy\n",
      "  dfs['Candidate1']['post_created'] = pd.to_datetime(dfs['Candidate1']['post_created'])\n"
     ]
    }
   ],
   "source": [
    "# Convert 'post_created' column to datetime\n",
    "dfs['Candidate1']['post_created'] = pd.to_datetime(dfs['Candidate1']['post_created'])\n",
    "\n",
    "specified_date = pd.Timestamp('2024-09-10')  # Candidate Debate\n",
    "\n",
    "# Filter the dataframe for posts before and after the specified date\n",
    "df_before = dfs['Candidate1'][dfs['Candidate1']['post_created'] < specified_date]\n",
    "df_after = dfs['Candidate1'][dfs['Candidate1']['post_created'] >= specified_date]\n",
    "\n",
    "# Calculate average sentiment before and after the specified date\n",
    "average_sentiment_before = df_before['sentiment'].mean()\n",
    "average_sentiment_after = df_after['sentiment'].mean()\n",
    "\n",
    "print(f\"Average sentiment before {specified_date}: {average_sentiment_before}\")\n",
    "print(f\"Average sentiment after {specified_date}: {average_sentiment_after}\")"
   ]
  },
  {
   "cell_type": "code",
   "execution_count": 22,
   "metadata": {},
   "outputs": [
    {
     "name": "stdout",
     "output_type": "stream",
     "text": [
      "Average sentiment before 2024-09-10 00:00:00: -0.017902051282051284\n",
      "Average sentiment after 2024-09-10 00:00:00: 0.04151056910569106\n"
     ]
    },
    {
     "name": "stderr",
     "output_type": "stream",
     "text": [
      "C:\\Users\\dunca\\AppData\\Local\\Temp\\ipykernel_88132\\1496660853.py:2: SettingWithCopyWarning: \n",
      "A value is trying to be set on a copy of a slice from a DataFrame.\n",
      "Try using .loc[row_indexer,col_indexer] = value instead\n",
      "\n",
      "See the caveats in the documentation: https://pandas.pydata.org/pandas-docs/stable/user_guide/indexing.html#returning-a-view-versus-a-copy\n",
      "  dfs['Candidate2']['post_created'] = pd.to_datetime(dfs['Candidate2']['post_created'])\n"
     ]
    }
   ],
   "source": [
    "# Convert 'post_created' column to datetime\n",
    "dfs['Candidate2']['post_created'] = pd.to_datetime(dfs['Candidate2']['post_created'])\n",
    "\n",
    "specified_date = pd.Timestamp('2024-09-10')  # Candidate Debate\n",
    "\n",
    "# Filter the dataframe for posts before and after the specified date\n",
    "df_before = dfs['Candidate2'][dfs['Candidate2']['post_created'] < specified_date]\n",
    "df_after = dfs['Candidate2'][dfs['Candidate2']['post_created'] >= specified_date]\n",
    "\n",
    "# Calculate average sentiment before and after the specified date\n",
    "average_sentiment_before = df_before['sentiment'].mean()\n",
    "average_sentiment_after = df_after['sentiment'].mean()\n",
    "\n",
    "print(f\"Average sentiment before {specified_date}: {average_sentiment_before}\")\n",
    "print(f\"Average sentiment after {specified_date}: {average_sentiment_after}\")"
   ]
  }
 ],
 "metadata": {
  "kernelspec": {
   "display_name": "base",
   "language": "python",
   "name": "python3"
  },
  "language_info": {
   "codemirror_mode": {
    "name": "ipython",
    "version": 3
   },
   "file_extension": ".py",
   "mimetype": "text/x-python",
   "name": "python",
   "nbconvert_exporter": "python",
   "pygments_lexer": "ipython3",
   "version": "3.12.3"
  },
  "toc": {
   "base_numbering": 1,
   "nav_menu": {},
   "number_sections": true,
   "sideBar": true,
   "skip_h1_title": false,
   "title_cell": "Table of Contents",
   "title_sidebar": "Contents",
   "toc_cell": true,
   "toc_position": {},
   "toc_section_display": true,
   "toc_window_display": true
  }
 },
 "nbformat": 4,
 "nbformat_minor": 4
}
