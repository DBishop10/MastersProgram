{
 "cells": [
  {
   "cell_type": "code",
   "execution_count": null,
   "metadata": {},
   "outputs": [],
   "source": [
    "import csv\n",
    "\n",
    "def extract_visitor_paragraph(input_file_path, file_name):\n",
    "    with open(input_file_path, 'r', encoding='utf-8') as file:\n",
    "        lines = file.readlines()\n",
    "    # Flag to start capturing once we hit the Visitor's first message\n",
    "    capture = False\n",
    "    transcript = []\n",
    "\n",
    "    for line in lines:\n",
    "        line = line.strip().replace(\":\", '')\n",
    "        if line == \"Chat Transcript\":\n",
    "            capture = True\n",
    "            continue\n",
    "        if capture:\n",
    "            if line.strip() == \"Get in touch\" or line.strip()[:3] == \"---\":  # Stop at the end of the first paragraph\n",
    "                break\n",
    "            line = line.replace('=', '')\n",
    "            transcript.append(line.strip())\n",
    "\n",
    "\n",
    "    transcript = (\" \").join(filter(None, transcript))\n",
    "    first_visitor_comment = transcript.find(\"Visitor\")\n",
    "    second_visitor_comment = transcript.find(\"Visitor\", first_visitor_comment+7)\n",
    "    visitor_log = transcript[first_visitor_comment:second_visitor_comment]\n",
    "    search_terms = [\"I'm happy\", \"Hi there\", \" *\", \"gr \"]\n",
    "    non_visitor = 0\n",
    "    for term in search_terms:\n",
    "        person = visitor_log.find(term, 8)\n",
    "        if person != -1:\n",
    "            if non_visitor != 0 and person <= non_visitor and person > 10:\n",
    "                non_visitor = person\n",
    "            elif non_visitor == 0:\n",
    "                non_visitor = person\n",
    "    \n",
    "    if( not non_visitor < 10):\n",
    "        visitor_log = visitor_log[:non_visitor].replace('*', '')\n",
    "\n",
    "    word_list = visitor_log.split()\n",
    "    if \"Visitor\" in word_list[0]:\n",
    "        word_list.pop(0)\n",
    "    visitor = (\" \").join(filter(None, word_list))\n",
    "\n",
    "    with open('Data/VisitorText.csv', 'a', encoding='utf-8', newline='') as csv_file:\n",
    "        writer = csv.writer(csv_file)\n",
    "        writer.writerow([input_file_path, visitor.strip()])"
   ]
  },
  {
   "cell_type": "code",
   "execution_count": 288,
   "metadata": {},
   "outputs": [],
   "source": [
    "import os\n",
    "\n",
    "filenames = next(os.walk('Data/attachments13'), (None, None, []))[2]\n",
    "filenames = filenames[1:] # Removing random extra \"file\"\n",
    "\n",
    "for file in filenames:\n",
    "    extract_visitor_paragraph(f'Data/attachments13/{file}', file)\n",
    "\n",
    "filenames = next(os.walk('Data/attachments23'), (None, None, []))[2]\n",
    "filenames = filenames[1:] # Removing random extra \"file\"\n",
    "\n",
    "for file in filenames:\n",
    "    extract_visitor_paragraph(f'Data/attachments23/{file}', file)\n",
    "\n",
    "filenames = next(os.walk('Data/attachements33'), (None, None, []))[2]\n",
    "filenames = filenames[1:] # Removing random extra \"file\"\n",
    "\n",
    "for file in filenames:\n",
    "    extract_visitor_paragraph(f'Data/attachements33/{file}', file)\n"
   ]
  }
 ],
 "metadata": {
  "kernelspec": {
   "display_name": "base",
   "language": "python",
   "name": "python3"
  },
  "language_info": {
   "codemirror_mode": {
    "name": "ipython",
    "version": 3
   },
   "file_extension": ".py",
   "mimetype": "text/x-python",
   "name": "python",
   "nbconvert_exporter": "python",
   "pygments_lexer": "ipython3",
   "version": "3.12.3"
  }
 },
 "nbformat": 4,
 "nbformat_minor": 2
}
