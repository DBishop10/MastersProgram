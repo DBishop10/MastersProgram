{
 "cells": [
  {
   "cell_type": "code",
   "execution_count": 4,
   "metadata": {},
   "outputs": [
    {
     "name": "stdout",
     "output_type": "stream",
     "text": [
      "Annotation Guide: 1=Positive, 2=Negative, 3=Neutral, 4=N/A\n"
     ]
    }
   ],
   "source": [
    "import pandas as pd\n",
    "\n",
    "def annotate_posts(df):\n",
    "    sentiments = {1: 'Positive', 2: 'Negative', 3: 'Neutral', 4: 'N/A'}\n",
    "    annotations = []  \n",
    "\n",
    "    print(\"Annotation Guide: 1=Positive, 2=Negative, 3=Neutral, 4=N/A\")\n",
    "    \n",
    "    for idx, row in df.iterrows():\n",
    "                \n",
    "        while True:\n",
    "            try:\n",
    "                sentiment = int(input(f\"Enter sentiment (1-4) for \\n {row['team']} \\n {row['post']}: \"))\n",
    "                if sentiment in sentiments:\n",
    "                    annotations.append(sentiment)\n",
    "                    break\n",
    "                else:\n",
    "                    print(\"Invalid input. Please enter a number between 1 and 4.\")\n",
    "            except ValueError:\n",
    "                print(\"Invalid input. Please enter a valid number.\")\n",
    "    \n",
    "    df['sentiment'] = annotations\n",
    "    return df\n",
    "\n",
    "df = pd.read_csv(\"cs_posts_timecutoff_reddit.csv\")\n",
    "df_annotated = annotate_posts(df)\n",
    "\n",
    "df_annotated.to_csv('cs_annotated_posts_reddit.csv', index=False)\n"
   ]
  }
 ],
 "metadata": {
  "kernelspec": {
   "display_name": "base",
   "language": "python",
   "name": "python3"
  },
  "language_info": {
   "codemirror_mode": {
    "name": "ipython",
    "version": 3
   },
   "file_extension": ".py",
   "mimetype": "text/x-python",
   "name": "python",
   "nbconvert_exporter": "python",
   "pygments_lexer": "ipython3",
   "version": "3.12.3"
  }
 },
 "nbformat": 4,
 "nbformat_minor": 2
}
